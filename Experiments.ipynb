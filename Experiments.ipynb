{
 "cells": [
  {
   "cell_type": "markdown",
   "metadata": {},
   "source": [
    "#### Experiments with Article Headlines ONLY"
   ]
  },
  {
   "cell_type": "markdown",
   "metadata": {},
   "source": [
    "- In this notebook we will repeat all the preprocessing steps for ONLY the labelled data. Later on we will use the data to build our classification model.\n",
    "- We will use the headlines ONLY as input to out model in this notebook. "
   ]
  },
  {
   "cell_type": "markdown",
   "metadata": {},
   "source": [
    "### Libraries"
   ]
  },
  {
   "cell_type": "code",
   "execution_count": 1,
   "metadata": {
    "ExecuteTime": {
     "end_time": "2019-02-03T14:32:18.490959Z",
     "start_time": "2019-02-03T14:30:58.641241Z"
    }
   },
   "outputs": [
    {
     "name": "stderr",
     "output_type": "stream",
     "text": [
      "C:\\Users\\tooba\\Anaconda3\\lib\\site-packages\\gensim\\utils.py:1212: UserWarning: detected Windows; aliasing chunkize to chunkize_serial\n",
      "  warnings.warn(\"detected Windows; aliasing chunkize to chunkize_serial\")\n"
     ]
    }
   ],
   "source": [
    "import pandas as pd\n",
    "import numpy as np\n",
    "import matplotlib.pyplot as plt\n",
    "import re\n",
    "import seaborn as sb\n",
    "from collections import Counter\n",
    "import tqdm\n",
    "from nltk import word_tokenize, sent_tokenize\n",
    "from nltk.corpus import stopwords\n",
    "import unicodedata\n",
    "from sklearn.feature_extraction.text import TfidfVectorizer\n",
    "import nltk\n",
    "from wordcloud import WordCloud, STOPWORDS\n",
    "import gensim\n",
    "from sklearn.metrics import confusion_matrix as cm\n",
    "from sklearn.metrics import precision_recall_fscore_support\n",
    "import plotly.plotly as py\n",
    "import plotly.graph_objs as go\n",
    "from plotly import tools\n",
    "%matplotlib inline\n",
    "%config InlineBackend.figure_format = 'retina'\n",
    "from sklearn.linear_model import SGDClassifier\n",
    "from sklearn.pipeline import Pipeline\n",
    "from sklearn.model_selection import GridSearchCV\n",
    "from sklearn import metrics\n",
    "from sklearn.feature_extraction.text import TfidfTransformer\n",
    "from sklearn.utils import shuffle\n",
    "from sklearn.linear_model import LogisticRegression\n",
    "from sklearn.model_selection import cross_val_score\n",
    "from sklearn.model_selection import train_test_split\n",
    "from sklearn.feature_extraction.stop_words import ENGLISH_STOP_WORDS\n",
    "from sklearn.metrics import f1_score, accuracy_score , recall_score , precision_score\n",
    "from sklearn.model_selection import learning_curve\n",
    "from sklearn.metrics import mean_squared_error\n",
    "from sklearn.model_selection import ShuffleSplit\n",
    "from sklearn.model_selection import cross_validate\n",
    "from sklearn.model_selection import cross_val_score"
   ]
  },
  {
   "cell_type": "code",
   "execution_count": 2,
   "metadata": {
    "ExecuteTime": {
     "end_time": "2019-02-03T14:32:18.901339Z",
     "start_time": "2019-02-03T14:32:18.496832Z"
    }
   },
   "outputs": [
    {
     "data": {
      "text/html": [
       "<div>\n",
       "<style scoped>\n",
       "    .dataframe tbody tr th:only-of-type {\n",
       "        vertical-align: middle;\n",
       "    }\n",
       "\n",
       "    .dataframe tbody tr th {\n",
       "        vertical-align: top;\n",
       "    }\n",
       "\n",
       "    .dataframe thead th {\n",
       "        text-align: right;\n",
       "    }\n",
       "</style>\n",
       "<table border=\"1\" class=\"dataframe\">\n",
       "  <thead>\n",
       "    <tr style=\"text-align: right;\">\n",
       "      <th></th>\n",
       "      <th>News ID</th>\n",
       "      <th>URL</th>\n",
       "      <th>Headline</th>\n",
       "      <th>Date</th>\n",
       "      <th>Content</th>\n",
       "      <th>Author</th>\n",
       "      <th>Publisher</th>\n",
       "      <th>News Category</th>\n",
       "      <th>Keywords</th>\n",
       "      <th>Label</th>\n",
       "      <th>tokenized_Content</th>\n",
       "      <th>tokenized_Headline</th>\n",
       "    </tr>\n",
       "  </thead>\n",
       "  <tbody>\n",
       "    <tr>\n",
       "      <th>0</th>\n",
       "      <td>0</td>\n",
       "      <td>https://www.dawn.com/news/1458127/mbbs-student...</td>\n",
       "      <td>MBBS student found dead in hostel room at Jams...</td>\n",
       "      <td>2019-01-17</td>\n",
       "      <td>A third-year MBBS student was found shot dead ...</td>\n",
       "      <td>Mohammad Hussain Khan</td>\n",
       "      <td>Dawn</td>\n",
       "      <td>Mental health</td>\n",
       "      <td>Jamshoro, youth, suicide, mental health</td>\n",
       "      <td>1</td>\n",
       "      <td>['thirdyear', 'mbbs', 'student', 'found', 'sho...</td>\n",
       "      <td>['mbbs', 'student', 'found', 'dead', 'hostel',...</td>\n",
       "    </tr>\n",
       "    <tr>\n",
       "      <th>1</th>\n",
       "      <td>1</td>\n",
       "      <td>https://www.dawn.com/news/1458129/govt-decides...</td>\n",
       "      <td>Govt decides to remove names of Bilawal, Murad...</td>\n",
       "      <td>2019-01-17</td>\n",
       "      <td>The federal cabinet has decided to remove the ...</td>\n",
       "      <td>Sanaullah Khan | Javed Hussain</td>\n",
       "      <td>Dawn</td>\n",
       "      <td>Politics</td>\n",
       "      <td>Islamabad, Sindh, PPP, ECL</td>\n",
       "      <td>1</td>\n",
       "      <td>['federal', 'cabinet', 'decided', 'remove', 'n...</td>\n",
       "      <td>['govt', 'decides', 'remove', 'names', 'bilawa...</td>\n",
       "    </tr>\n",
       "    <tr>\n",
       "      <th>2</th>\n",
       "      <td>2</td>\n",
       "      <td>https://www.dawn.com/news/1458125/afghan-presi...</td>\n",
       "      <td>Afghan president thanks PM Khan for Pakistan's...</td>\n",
       "      <td>2019-01-17</td>\n",
       "      <td>Afghan President Ashraf Ghani on Thursday tele...</td>\n",
       "      <td>Sanaullah Khan</td>\n",
       "      <td>Dawn</td>\n",
       "      <td>Foreign Affairs</td>\n",
       "      <td>Afghanistan, foreign affairs, Imran Khan, Ashr...</td>\n",
       "      <td>1</td>\n",
       "      <td>['afghan', 'president', 'ashraf', 'ghani', 'th...</td>\n",
       "      <td>['afghan', 'president', 'thanks', 'pm', 'khan'...</td>\n",
       "    </tr>\n",
       "    <tr>\n",
       "      <th>3</th>\n",
       "      <td>3</td>\n",
       "      <td>https://www.dawn.com/news/1458123/mehwish-haya...</td>\n",
       "      <td>Mehwish Hayat acts out her musical dreams in n...</td>\n",
       "      <td>2019-01-17</td>\n",
       "      <td>Director and script writer Wajahat Rauf unveil...</td>\n",
       "      <td>dawn</td>\n",
       "      <td>Dawn</td>\n",
       "      <td>Entertainment</td>\n",
       "      <td>Mehwish Hayat, Enaaya, Azfar Rehman, Wajahat Rauf</td>\n",
       "      <td>-1</td>\n",
       "      <td>['director', 'script', 'writer', 'wajahat', 'r...</td>\n",
       "      <td>['mehwish', 'hayat', 'acts', 'musical', 'dream...</td>\n",
       "    </tr>\n",
       "    <tr>\n",
       "      <th>4</th>\n",
       "      <td>4</td>\n",
       "      <td>https://www.dawn.com/news/1458118/complete-tex...</td>\n",
       "      <td>Complete text of address by Justice Asif Saeed...</td>\n",
       "      <td>2019-01-17</td>\n",
       "      <td>Complete address by Justice Asif Saeed Khosa o...</td>\n",
       "      <td>dawn</td>\n",
       "      <td>Dawn</td>\n",
       "      <td>Judiciary</td>\n",
       "      <td>Islamabad, Asif Khosa, Supreme Court, Saqib Nisar</td>\n",
       "      <td>1</td>\n",
       "      <td>['complete', 'address', 'justice', 'asif', 'sa...</td>\n",
       "      <td>['complete', 'text', 'address', 'justice', 'as...</td>\n",
       "    </tr>\n",
       "  </tbody>\n",
       "</table>\n",
       "</div>"
      ],
      "text/plain": [
       "   News ID                                                URL  \\\n",
       "0        0  https://www.dawn.com/news/1458127/mbbs-student...   \n",
       "1        1  https://www.dawn.com/news/1458129/govt-decides...   \n",
       "2        2  https://www.dawn.com/news/1458125/afghan-presi...   \n",
       "3        3  https://www.dawn.com/news/1458123/mehwish-haya...   \n",
       "4        4  https://www.dawn.com/news/1458118/complete-tex...   \n",
       "\n",
       "                                            Headline        Date  \\\n",
       "0  MBBS student found dead in hostel room at Jams...  2019-01-17   \n",
       "1  Govt decides to remove names of Bilawal, Murad...  2019-01-17   \n",
       "2  Afghan president thanks PM Khan for Pakistan's...  2019-01-17   \n",
       "3  Mehwish Hayat acts out her musical dreams in n...  2019-01-17   \n",
       "4  Complete text of address by Justice Asif Saeed...  2019-01-17   \n",
       "\n",
       "                                             Content  \\\n",
       "0  A third-year MBBS student was found shot dead ...   \n",
       "1  The federal cabinet has decided to remove the ...   \n",
       "2  Afghan President Ashraf Ghani on Thursday tele...   \n",
       "3  Director and script writer Wajahat Rauf unveil...   \n",
       "4  Complete address by Justice Asif Saeed Khosa o...   \n",
       "\n",
       "                           Author Publisher    News Category  \\\n",
       "0           Mohammad Hussain Khan      Dawn    Mental health   \n",
       "1  Sanaullah Khan | Javed Hussain      Dawn         Politics   \n",
       "2                  Sanaullah Khan      Dawn  Foreign Affairs   \n",
       "3                            dawn      Dawn    Entertainment   \n",
       "4                            dawn      Dawn        Judiciary   \n",
       "\n",
       "                                            Keywords  Label  \\\n",
       "0            Jamshoro, youth, suicide, mental health      1   \n",
       "1                         Islamabad, Sindh, PPP, ECL      1   \n",
       "2  Afghanistan, foreign affairs, Imran Khan, Ashr...      1   \n",
       "3  Mehwish Hayat, Enaaya, Azfar Rehman, Wajahat Rauf     -1   \n",
       "4  Islamabad, Asif Khosa, Supreme Court, Saqib Nisar      1   \n",
       "\n",
       "                                   tokenized_Content  \\\n",
       "0  ['thirdyear', 'mbbs', 'student', 'found', 'sho...   \n",
       "1  ['federal', 'cabinet', 'decided', 'remove', 'n...   \n",
       "2  ['afghan', 'president', 'ashraf', 'ghani', 'th...   \n",
       "3  ['director', 'script', 'writer', 'wajahat', 'r...   \n",
       "4  ['complete', 'address', 'justice', 'asif', 'sa...   \n",
       "\n",
       "                                  tokenized_Headline  \n",
       "0  ['mbbs', 'student', 'found', 'dead', 'hostel',...  \n",
       "1  ['govt', 'decides', 'remove', 'names', 'bilawa...  \n",
       "2  ['afghan', 'president', 'thanks', 'pm', 'khan'...  \n",
       "3  ['mehwish', 'hayat', 'acts', 'musical', 'dream...  \n",
       "4  ['complete', 'text', 'address', 'justice', 'as...  "
      ]
     },
     "execution_count": 2,
     "metadata": {},
     "output_type": "execute_result"
    }
   ],
   "source": [
    "data = pd.read_csv('preprocessed.csv')\n",
    "data.head()"
   ]
  },
  {
   "cell_type": "markdown",
   "metadata": {},
   "source": [
    "- From now onwards we will try to find the best model and features according to our data using exhaustive research."
   ]
  },
  {
   "cell_type": "markdown",
   "metadata": {},
   "source": [
    "### Grid Search \n",
    "- We perform grid search for all the models and features to find the best combination of model, features and hyperparameters."
   ]
  },
  {
   "cell_type": "markdown",
   "metadata": {},
   "source": [
    "#### Logistic Regression with TFIDF"
   ]
  },
  {
   "cell_type": "code",
   "execution_count": 29,
   "metadata": {
    "ExecuteTime": {
     "end_time": "2019-02-03T14:59:51.302587Z",
     "start_time": "2019-02-03T14:59:51.271648Z"
    }
   },
   "outputs": [
    {
     "name": "stdout",
     "output_type": "stream",
     "text": [
      "X_train (129,)\n",
      "X_test (33,)\n",
      "y_train (129,)\n",
      "y_test (33,)\n"
     ]
    }
   ],
   "source": [
    "X = data.tokenized_Headline\n",
    "y = data['Label']\n",
    "X_train, X_test, y_train, y_test = train_test_split(X,y, test_size = 0.2, random_state=1234)\n",
    "print('X_train',X_train.shape)\n",
    "print('X_test',X_test.shape)\n",
    "print('y_train',y_train.shape)\n",
    "print('y_test',y_test.shape)"
   ]
  },
  {
   "cell_type": "code",
   "execution_count": 30,
   "metadata": {
    "ExecuteTime": {
     "end_time": "2019-02-03T14:59:52.026116Z",
     "start_time": "2019-02-03T14:59:52.019128Z"
    }
   },
   "outputs": [],
   "source": [
    "# max_df is used for removing terms that appear too frequently\n",
    "# max_df = 0.50 means \"ignore terms that appear in more than 50% of the documents\"\n",
    "# min_df is used for removing terms that appear too infrequently\n",
    "# min_df = 0.01 means \"ignore terms that appear in less than 1% of the documents\"\n",
    "parameters = {'lr__penalty': ('l1','l2'),'tfidf__ngram_range': [(1,1),(1,2),(1,3)],'tfidf__max_df': [0.65,0.75,0.85,0.90],\n",
    "             'tfidf__min_df': [0.001,0.01],'tfidf__stop_words': [ENGLISH_STOP_WORDS]}"
   ]
  },
  {
   "cell_type": "code",
   "execution_count": 31,
   "metadata": {
    "ExecuteTime": {
     "end_time": "2019-02-03T14:59:52.838098Z",
     "start_time": "2019-02-03T14:59:52.832108Z"
    }
   },
   "outputs": [],
   "source": [
    "text_clf = Pipeline([('tfidf', TfidfVectorizer()),('lr', LogisticRegression())])"
   ]
  },
  {
   "cell_type": "code",
   "execution_count": 32,
   "metadata": {
    "ExecuteTime": {
     "end_time": "2019-02-03T14:59:53.217414Z",
     "start_time": "2019-02-03T14:59:53.207931Z"
    }
   },
   "outputs": [
    {
     "data": {
      "text/plain": [
       "dict_keys(['memory', 'steps', 'tfidf', 'lr', 'tfidf__analyzer', 'tfidf__binary', 'tfidf__decode_error', 'tfidf__dtype', 'tfidf__encoding', 'tfidf__input', 'tfidf__lowercase', 'tfidf__max_df', 'tfidf__max_features', 'tfidf__min_df', 'tfidf__ngram_range', 'tfidf__norm', 'tfidf__preprocessor', 'tfidf__smooth_idf', 'tfidf__stop_words', 'tfidf__strip_accents', 'tfidf__sublinear_tf', 'tfidf__token_pattern', 'tfidf__tokenizer', 'tfidf__use_idf', 'tfidf__vocabulary', 'lr__C', 'lr__class_weight', 'lr__dual', 'lr__fit_intercept', 'lr__intercept_scaling', 'lr__max_iter', 'lr__multi_class', 'lr__n_jobs', 'lr__penalty', 'lr__random_state', 'lr__solver', 'lr__tol', 'lr__verbose', 'lr__warm_start'])"
      ]
     },
     "execution_count": 32,
     "metadata": {},
     "output_type": "execute_result"
    }
   ],
   "source": [
    "# These are the parameters we can put in the list for the model and features.\n",
    "text_clf.get_params().keys()"
   ]
  },
  {
   "cell_type": "code",
   "execution_count": 33,
   "metadata": {
    "ExecuteTime": {
     "end_time": "2019-02-03T15:00:03.676977Z",
     "start_time": "2019-02-03T14:59:54.654639Z"
    }
   },
   "outputs": [
    {
     "name": "stderr",
     "output_type": "stream",
     "text": [
      "C:\\Users\\tooba\\Anaconda3\\lib\\site-packages\\sklearn\\linear_model\\logistic.py:432: FutureWarning:\n",
      "\n",
      "Default solver will be changed to 'lbfgs' in 0.22. Specify a solver to silence this warning.\n",
      "\n",
      "C:\\Users\\tooba\\Anaconda3\\lib\\site-packages\\sklearn\\linear_model\\logistic.py:459: FutureWarning:\n",
      "\n",
      "Default multi_class will be changed to 'auto' in 0.22. Specify the multi_class option to silence this warning.\n",
      "\n"
     ]
    }
   ],
   "source": [
    "gs_lr = GridSearchCV(text_clf, parameters, cv=3, iid=False, n_jobs=-1)\n",
    "gs_lr = gs_lr.fit(X_train, y_train)\n",
    "predicted = gs_lr.predict(X_test)"
   ]
  },
  {
   "cell_type": "code",
   "execution_count": 34,
   "metadata": {
    "ExecuteTime": {
     "end_time": "2019-02-03T15:00:03.722391Z",
     "start_time": "2019-02-03T15:00:03.681968Z"
    }
   },
   "outputs": [
    {
     "name": "stdout",
     "output_type": "stream",
     "text": [
      "Logistig Regression: \n",
      "\n"
     ]
    },
    {
     "name": "stderr",
     "output_type": "stream",
     "text": [
      "C:\\Users\\tooba\\Anaconda3\\lib\\site-packages\\sklearn\\metrics\\classification.py:1143: UndefinedMetricWarning:\n",
      "\n",
      "F-score is ill-defined and being set to 0.0 in labels with no predicted samples.\n",
      "\n"
     ]
    },
    {
     "name": "stdout",
     "output_type": "stream",
     "text": [
      "F1 score 28.74%\n",
      "Accuracy score 75.76%\n",
      "\n",
      "\n",
      "MSE 0.3333333333333333\n"
     ]
    }
   ],
   "source": [
    "# Score only on the test set. NO CV\n",
    "print (\"Logistig Regression: \\n\")\n",
    "print ( \"F1 score {:.4}%\".format(f1_score(y_test, predicted, average='macro')*100 ) )\n",
    "print ( \"Accuracy score {:.4}%\\n\\n\".format(accuracy_score(y_test, predicted)*100) )\n",
    "error = mean_squared_error(y_test, predicted)\n",
    "print('MSE',error)"
   ]
  },
  {
   "cell_type": "code",
   "execution_count": 35,
   "metadata": {
    "ExecuteTime": {
     "end_time": "2019-02-03T15:00:22.862480Z",
     "start_time": "2019-02-03T15:00:22.838528Z"
    }
   },
   "outputs": [
    {
     "name": "stderr",
     "output_type": "stream",
     "text": [
      "C:\\Users\\tooba\\Anaconda3\\lib\\site-packages\\sklearn\\metrics\\classification.py:1143: UndefinedMetricWarning:\n",
      "\n",
      "Precision and F-score are ill-defined and being set to 0.0 in labels with no predicted samples.\n",
      "\n",
      "C:\\Users\\tooba\\Anaconda3\\lib\\site-packages\\sklearn\\metrics\\classification.py:1143: UndefinedMetricWarning:\n",
      "\n",
      "Precision and F-score are ill-defined and being set to 0.0 in labels with no predicted samples.\n",
      "\n",
      "C:\\Users\\tooba\\Anaconda3\\lib\\site-packages\\sklearn\\metrics\\classification.py:1143: UndefinedMetricWarning:\n",
      "\n",
      "Precision and F-score are ill-defined and being set to 0.0 in labels with no predicted samples.\n",
      "\n"
     ]
    },
    {
     "name": "stdout",
     "output_type": "stream",
     "text": [
      "              precision    recall  f1-score   support\n",
      "\n",
      "        Fake       0.00      0.00      0.00         1\n",
      "  Unverified       0.00      0.00      0.00         7\n",
      "        Real       0.76      1.00      0.86        25\n",
      "\n",
      "   micro avg       0.76      0.76      0.76        33\n",
      "   macro avg       0.25      0.33      0.29        33\n",
      "weighted avg       0.57      0.76      0.65        33\n",
      "\n"
     ]
    }
   ],
   "source": [
    "print(metrics.classification_report(y_test, predicted,target_names=['Fake','Unverified','Real']))"
   ]
  },
  {
   "cell_type": "code",
   "execution_count": 36,
   "metadata": {
    "ExecuteTime": {
     "end_time": "2019-02-03T15:00:37.762148Z",
     "start_time": "2019-02-03T15:00:37.736198Z"
    }
   },
   "outputs": [
    {
     "name": "stdout",
     "output_type": "stream",
     "text": [
      "Best score of LR on CV:  0.6899895969663411\n",
      "lr__penalty: 'l1'\n",
      "tfidf__max_df: 0.65\n",
      "tfidf__min_df: 0.001\n",
      "tfidf__ngram_range: (1, 1)\n",
      "tfidf__stop_words: frozenset({'please', 'never', 'else', 'thereupon', 'was', 'of', 'alone', 'couldnt', 'off', 'everywhere', 'before', 'thereby', 'afterwards', 'otherwise', 'further', 'put', 'have', 'part', 'herself', 'still', 'describe', 'therein', 'other', 'seems', 'move', 'amongst', 'here', 'moreover', 'cry', 'during', 'and', 'those', 'us', 'one', 'whence', 'hence', 'bottom', 'beside', 'four', 'some', 'whereas', 'their', 'already', 'anything', 'through', 'every', 'sixty', 'that', 'meanwhile', 'anyhow', 'at', 'without', 'twenty', 'which', 'ten', 'become', 'from', 'toward', 'much', 'seeming', 'three', 'serious', 'somehow', 'when', 'hereafter', 'go', 'itself', 'mostly', 'or', 'whenever', 'became', 'others', 'him', 'latterly', 'i', 'behind', 'everyone', 'ourselves', 'too', 'will', 'eg', 'onto', 'six', 'few', 'ltd', 'do', 'fire', 'done', 'show', 'empty', 'latter', 'your', 'anyone', 'somewhere', 'back', 'someone', 'beyond', 'per', 'amoungst', 're', 'yourself', 'thus', 'you', 'yourselves', 'throughout', 'but', 'whether', 'are', 'these', 'fill', 'interest', 'anywhere', 'enough', 'third', 'well', 'our', 'besides', 'such', 'has', 'sincere', 'indeed', 'below', 'same', 'very', 'due', 'sometime', 'might', 'under', 'perhaps', 'yet', 'un', 'although', 'anyway', 'how', 'least', 'nor', 'whereupon', 'myself', 'whose', 'whereafter', 'neither', 'an', 'next', 'hereby', 'hereupon', 'on', 'against', 'where', 'hundred', 'almost', 'front', 'up', 'this', 'find', 'her', 'nothing', 'found', 'a', 'had', 'into', 'made', 'therefore', 'whereby', 'he', 'formerly', 'not', 'since', 'would', 'ours', 'everything', 'former', 'becomes', 'thence', 'via', 'bill', 'now', 'namely', 'fifty', 'over', 'keep', 'take', 'many', 'none', 'must', 'together', 'any', 'becoming', 'again', 'first', 'whither', 'inc', 'whom', 'being', 'two', 'while', 'full', 'me', 'co', 'seem', 'within', 'also', 'several', 'for', 'around', 'as', 'them', 'by', 'across', 'all', 'along', 'we', 'noone', 'in', 'after', 'himself', 'wherein', 'system', 'thru', 'wherever', 'often', 'both', 'she', 'each', 'be', 'its', 'seemed', 'herein', 'my', 'get', 'always', 'about', 'five', 'nowhere', 'sometimes', 'whatever', 'even', 'may', 'name', 'why', 'mine', 'call', 'either', 'fifteen', 'is', 'thin', 'elsewhere', 'his', 'most', 'nevertheless', 'thereafter', 'down', 'could', 'than', 'nine', 'cannot', 'the', 'if', 'only', 'mill', 'were', 'top', 'twelve', 'between', 'though', 'ever', 'side', 'hers', 'less', 'above', 'to', 'whole', 'until', 'own', 'amount', 'last', 'whoever', 'eight', 'another', 'they', 'should', 'upon', 'then', 'been', 'can', 'thick', 'who', 'out', 'however', 'rather', 'hasnt', 'see', 'there', 'because', 'cant', 'no', 'so', 'with', 'give', 'what', 'am', 'beforehand', 'de', 'detail', 'something', 'except', 'etc', 'yours', 'among', 'eleven', 'nobody', 'towards', 'con', 'themselves', 'it', 'ie', 'more', 'once', 'forty'})\n"
     ]
    }
   ],
   "source": [
    "# print(gs_svm.score(X_test, y_test))\n",
    "# Mean score  on CV\n",
    "print('Best score of LR on CV: ',gs_lr.best_score_)\n",
    "for param_name in sorted(parameters.keys()):\n",
    "    print(\"%s: %r\" % (param_name, gs_lr.best_params_[param_name]))"
   ]
  },
  {
   "cell_type": "markdown",
   "metadata": {},
   "source": [
    "- The best accuracy score we can get using Logistic regression for the cross validated data set is 68.9%"
   ]
  },
  {
   "cell_type": "markdown",
   "metadata": {},
   "source": [
    "####  SVM with TFIDF"
   ]
  },
  {
   "cell_type": "code",
   "execution_count": 37,
   "metadata": {
    "ExecuteTime": {
     "end_time": "2019-02-03T15:01:10.848750Z",
     "start_time": "2019-02-03T15:01:10.817310Z"
    }
   },
   "outputs": [
    {
     "name": "stdout",
     "output_type": "stream",
     "text": [
      "X_train (129,)\n",
      "X_test (33,)\n",
      "y_train (129,)\n",
      "y_test (33,)\n"
     ]
    }
   ],
   "source": [
    "X = data.tokenized_Headline\n",
    "y = data['Label']\n",
    "X_train, X_test, y_train, y_test = train_test_split(X,y, test_size = 0.2, random_state=1234)\n",
    "print('X_train',X_train.shape)\n",
    "print('X_test',X_test.shape)\n",
    "print('y_train',y_train.shape)\n",
    "print('y_test',y_test.shape)"
   ]
  },
  {
   "cell_type": "code",
   "execution_count": 38,
   "metadata": {
    "ExecuteTime": {
     "end_time": "2019-02-03T15:01:11.512337Z",
     "start_time": "2019-02-03T15:01:11.505848Z"
    }
   },
   "outputs": [],
   "source": [
    "text_clf = Pipeline([('tfidf', TfidfVectorizer()),('svm', SGDClassifier())])"
   ]
  },
  {
   "cell_type": "code",
   "execution_count": 39,
   "metadata": {
    "ExecuteTime": {
     "end_time": "2019-02-03T15:01:12.128813Z",
     "start_time": "2019-02-03T15:01:12.118330Z"
    }
   },
   "outputs": [],
   "source": [
    "parameters = {'svm__penalty': ('l1','l2'),'svm__alpha': (1e-2, 1e-3),\n",
    "              'svm__loss': ('hinge','squared_hinge'),'tfidf__ngram_range': [(1,1),(1,2),(1,3)],\n",
    "             'tfidf__max_df': [0.65,0.75,0.85,0.90],'tfidf__min_df': [0.001,0.01],'tfidf__stop_words': [ENGLISH_STOP_WORDS]}"
   ]
  },
  {
   "cell_type": "code",
   "execution_count": 40,
   "metadata": {
    "ExecuteTime": {
     "end_time": "2019-02-03T15:01:39.703155Z",
     "start_time": "2019-02-03T15:01:16.294651Z"
    }
   },
   "outputs": [
    {
     "name": "stderr",
     "output_type": "stream",
     "text": [
      "C:\\Users\\tooba\\Anaconda3\\lib\\site-packages\\sklearn\\linear_model\\stochastic_gradient.py:144: FutureWarning:\n",
      "\n",
      "max_iter and tol parameters have been added in SGDClassifier in 0.19. If both are left unset, they default to max_iter=5 and tol=None. If tol is not None, max_iter defaults to max_iter=1000. From 0.21, default max_iter will be 1000, and default tol will be 1e-3.\n",
      "\n"
     ]
    }
   ],
   "source": [
    "# Using cross validation\n",
    "# refit = True, that takes the model with the best performance based on cross-validation and retrains it in the whole dataset\n",
    "gs_svm = GridSearchCV(text_clf, parameters, cv=3, iid=False, n_jobs=-1)\n",
    "gs_svm = gs_svm.fit(X_train, y_train)\n",
    "predicted = gs_svm.predict(X_test)"
   ]
  },
  {
   "cell_type": "code",
   "execution_count": 41,
   "metadata": {
    "ExecuteTime": {
     "end_time": "2019-02-03T15:01:39.738085Z",
     "start_time": "2019-02-03T15:01:39.709640Z"
    }
   },
   "outputs": [
    {
     "name": "stdout",
     "output_type": "stream",
     "text": [
      "LINEAR SVM: \n",
      "\n",
      "F1 score 37.25%\n",
      "Accuracy score 66.67%\n",
      "\n",
      "\n",
      "MSE 0.6060606060606061\n"
     ]
    }
   ],
   "source": [
    "# ONLY ON TEST SET\n",
    "print (\"LINEAR SVM: \\n\")\n",
    "print ( \"F1 score {:.4}%\".format(f1_score(y_test, predicted, average='macro')*100 ) )\n",
    "print ( \"Accuracy score {:.4}%\\n\\n\".format(accuracy_score(y_test, predicted)*100) )\n",
    "error = mean_squared_error(y_test, predicted)\n",
    "print('MSE',error)"
   ]
  },
  {
   "cell_type": "code",
   "execution_count": 42,
   "metadata": {
    "ExecuteTime": {
     "end_time": "2019-02-03T15:01:39.924429Z",
     "start_time": "2019-02-03T15:01:39.745074Z"
    }
   },
   "outputs": [
    {
     "name": "stdout",
     "output_type": "stream",
     "text": [
      "              precision    recall  f1-score   support\n",
      "\n",
      "        Fake       0.00      0.00      0.00         1\n",
      "  Unverified       0.40      0.29      0.33         7\n",
      "        Real       0.77      0.80      0.78        25\n",
      "\n",
      "   micro avg       0.67      0.67      0.67        33\n",
      "   macro avg       0.39      0.36      0.37        33\n",
      "weighted avg       0.67      0.67      0.66        33\n",
      "\n"
     ]
    }
   ],
   "source": [
    "print(metrics.classification_report(y_test, predicted,target_names=['Fake','Unverified','Real']))"
   ]
  },
  {
   "cell_type": "code",
   "execution_count": 43,
   "metadata": {
    "ExecuteTime": {
     "end_time": "2019-02-03T15:01:40.083626Z",
     "start_time": "2019-02-03T15:01:39.931415Z"
    }
   },
   "outputs": [
    {
     "name": "stdout",
     "output_type": "stream",
     "text": [
      "Best Accuracy score for Linear SVM for CV 0.7217272391690996\n",
      "svm__alpha: 0.001\n",
      "svm__loss: 'hinge'\n",
      "svm__penalty: 'l2'\n",
      "tfidf__max_df: 0.9\n",
      "tfidf__min_df: 0.01\n",
      "tfidf__ngram_range: (1, 3)\n",
      "tfidf__stop_words: frozenset({'please', 'never', 'else', 'thereupon', 'was', 'of', 'alone', 'couldnt', 'off', 'everywhere', 'before', 'thereby', 'afterwards', 'otherwise', 'further', 'put', 'have', 'part', 'herself', 'still', 'describe', 'therein', 'other', 'seems', 'move', 'amongst', 'here', 'moreover', 'cry', 'during', 'and', 'those', 'us', 'one', 'whence', 'hence', 'bottom', 'beside', 'four', 'some', 'whereas', 'their', 'already', 'anything', 'through', 'every', 'sixty', 'that', 'meanwhile', 'anyhow', 'at', 'without', 'twenty', 'which', 'ten', 'become', 'from', 'toward', 'much', 'seeming', 'three', 'serious', 'somehow', 'when', 'hereafter', 'go', 'itself', 'mostly', 'or', 'whenever', 'became', 'others', 'him', 'latterly', 'i', 'behind', 'everyone', 'ourselves', 'too', 'will', 'eg', 'onto', 'six', 'few', 'ltd', 'do', 'fire', 'done', 'show', 'empty', 'latter', 'your', 'anyone', 'somewhere', 'back', 'someone', 'beyond', 'per', 'amoungst', 're', 'yourself', 'thus', 'you', 'yourselves', 'throughout', 'but', 'whether', 'are', 'these', 'fill', 'interest', 'anywhere', 'enough', 'third', 'well', 'our', 'besides', 'such', 'has', 'sincere', 'indeed', 'below', 'same', 'very', 'due', 'sometime', 'might', 'under', 'perhaps', 'yet', 'un', 'although', 'anyway', 'how', 'least', 'nor', 'whereupon', 'myself', 'whose', 'whereafter', 'neither', 'an', 'next', 'hereby', 'hereupon', 'on', 'against', 'where', 'hundred', 'almost', 'front', 'up', 'this', 'find', 'her', 'nothing', 'found', 'a', 'had', 'into', 'made', 'therefore', 'whereby', 'he', 'formerly', 'not', 'since', 'would', 'ours', 'everything', 'former', 'becomes', 'thence', 'via', 'bill', 'now', 'namely', 'fifty', 'over', 'keep', 'take', 'many', 'none', 'must', 'together', 'any', 'becoming', 'again', 'first', 'whither', 'inc', 'whom', 'being', 'two', 'while', 'full', 'me', 'co', 'seem', 'within', 'also', 'several', 'for', 'around', 'as', 'them', 'by', 'across', 'all', 'along', 'we', 'noone', 'in', 'after', 'himself', 'wherein', 'system', 'thru', 'wherever', 'often', 'both', 'she', 'each', 'be', 'its', 'seemed', 'herein', 'my', 'get', 'always', 'about', 'five', 'nowhere', 'sometimes', 'whatever', 'even', 'may', 'name', 'why', 'mine', 'call', 'either', 'fifteen', 'is', 'thin', 'elsewhere', 'his', 'most', 'nevertheless', 'thereafter', 'down', 'could', 'than', 'nine', 'cannot', 'the', 'if', 'only', 'mill', 'were', 'top', 'twelve', 'between', 'though', 'ever', 'side', 'hers', 'less', 'above', 'to', 'whole', 'until', 'own', 'amount', 'last', 'whoever', 'eight', 'another', 'they', 'should', 'upon', 'then', 'been', 'can', 'thick', 'who', 'out', 'however', 'rather', 'hasnt', 'see', 'there', 'because', 'cant', 'no', 'so', 'with', 'give', 'what', 'am', 'beforehand', 'de', 'detail', 'something', 'except', 'etc', 'yours', 'among', 'eleven', 'nobody', 'towards', 'con', 'themselves', 'it', 'ie', 'more', 'once', 'forty'})\n"
     ]
    }
   ],
   "source": [
    "# Mean cross-validated score of the best_estimator\n",
    "#best mean score\n",
    "print('Best Accuracy score for Linear SVM for CV',gs_svm.best_score_)\n",
    "for param_name in sorted(parameters.keys()):\n",
    "    print(\"%s: %r\" % (param_name, gs_svm.best_params_[param_name]))"
   ]
  },
  {
   "cell_type": "markdown",
   "metadata": {},
   "source": [
    "- The best accuracy score we can get using Linear SVM for the cross validated data set is 72.1%"
   ]
  },
  {
   "cell_type": "markdown",
   "metadata": {},
   "source": [
    "#### Comparison between Logistic Regression and Linear SVM Grid Search\n",
    "- The best accuracy score for LR is 68.9% and 72.1% for Linear SVM on the cross validation data-sets.\n",
    "- The accuracy score on the test data set(20% data) is 75.76% for LR while it is 66.67% for SVM (fluctuates)\n",
    "- The f1 score for SVM(37.25) is much better than LR(28.7). However, since both false positives and false negatives have the same cost for our problem so we are looking only at the improvement of the accuracy score."
   ]
  },
  {
   "cell_type": "markdown",
   "metadata": {},
   "source": [
    "#### Experiment 1 : Best model for Logistic Regression with TFIDF\n",
    "- Text to Features: TFIDF using the article content (Try different n grams)\n",
    "- Classification Model: Logistic Regression (Different penalties)\n"
   ]
  },
  {
   "cell_type": "code",
   "execution_count": 44,
   "metadata": {
    "ExecuteTime": {
     "end_time": "2019-02-03T15:04:02.046558Z",
     "start_time": "2019-02-03T15:04:02.040569Z"
    }
   },
   "outputs": [],
   "source": [
    "X = data.tokenized_Content\n",
    "y = data['Label']"
   ]
  },
  {
   "cell_type": "code",
   "execution_count": 45,
   "metadata": {
    "ExecuteTime": {
     "end_time": "2019-02-03T15:04:11.826126Z",
     "start_time": "2019-02-03T15:04:11.519711Z"
    }
   },
   "outputs": [],
   "source": [
    "tdf = TfidfVectorizer(stop_words=ENGLISH_STOP_WORDS,ngram_range=(1,1),max_df =0.65,min_df=0.001)\n",
    "vectorizer = tdf.fit(X)\n",
    "transformed_text = vectorizer.transform(X)"
   ]
  },
  {
   "cell_type": "code",
   "execution_count": 46,
   "metadata": {
    "ExecuteTime": {
     "end_time": "2019-02-03T15:04:17.538494Z",
     "start_time": "2019-02-03T15:04:17.505061Z"
    }
   },
   "outputs": [
    {
     "name": "stdout",
     "output_type": "stream",
     "text": [
      "X_train (129, 9154)\n",
      "X_test (33, 9154)\n",
      "y_train (129,)\n",
      "y_test (33,)\n"
     ]
    }
   ],
   "source": [
    "X_train, X_test, y_train, y_test = train_test_split(transformed_text,y, test_size = 0.2, random_state=1234)\n",
    "print('X_train',X_train.shape)\n",
    "print('X_test',X_test.shape)\n",
    "print('y_train',y_train.shape)\n",
    "print('y_test',y_test.shape)"
   ]
  },
  {
   "cell_type": "code",
   "execution_count": 47,
   "metadata": {
    "ExecuteTime": {
     "end_time": "2019-02-03T15:04:22.652503Z",
     "start_time": "2019-02-03T15:04:22.647515Z"
    }
   },
   "outputs": [],
   "source": [
    "lr = LogisticRegression(penalty='l1')"
   ]
  },
  {
   "cell_type": "code",
   "execution_count": 48,
   "metadata": {
    "ExecuteTime": {
     "end_time": "2019-02-03T15:04:23.640627Z",
     "start_time": "2019-02-03T15:04:23.604692Z"
    }
   },
   "outputs": [
    {
     "name": "stderr",
     "output_type": "stream",
     "text": [
      "C:\\Users\\tooba\\Anaconda3\\lib\\site-packages\\sklearn\\linear_model\\logistic.py:432: FutureWarning:\n",
      "\n",
      "Default solver will be changed to 'lbfgs' in 0.22. Specify a solver to silence this warning.\n",
      "\n",
      "C:\\Users\\tooba\\Anaconda3\\lib\\site-packages\\sklearn\\linear_model\\logistic.py:459: FutureWarning:\n",
      "\n",
      "Default multi_class will be changed to 'auto' in 0.22. Specify the multi_class option to silence this warning.\n",
      "\n"
     ]
    }
   ],
   "source": [
    "lr.fit(X_train, y_train)\n",
    "prediction = lr.predict(X_test)"
   ]
  },
  {
   "cell_type": "code",
   "execution_count": 49,
   "metadata": {
    "ExecuteTime": {
     "end_time": "2019-02-03T15:04:25.189757Z",
     "start_time": "2019-02-03T15:04:25.107416Z"
    }
   },
   "outputs": [
    {
     "name": "stderr",
     "output_type": "stream",
     "text": [
      "C:\\Users\\tooba\\Anaconda3\\lib\\site-packages\\sklearn\\linear_model\\logistic.py:432: FutureWarning:\n",
      "\n",
      "Default solver will be changed to 'lbfgs' in 0.22. Specify a solver to silence this warning.\n",
      "\n",
      "C:\\Users\\tooba\\Anaconda3\\lib\\site-packages\\sklearn\\linear_model\\logistic.py:459: FutureWarning:\n",
      "\n",
      "Default multi_class will be changed to 'auto' in 0.22. Specify the multi_class option to silence this warning.\n",
      "\n"
     ]
    },
    {
     "name": "stdout",
     "output_type": "stream",
     "text": [
      "[0.69090909 0.7037037  0.71698113]\n"
     ]
    }
   ],
   "source": [
    "# 3 cross validation scores\n",
    "print(cross_val_score(lr, transformed_text, y, cv=3)) "
   ]
  },
  {
   "cell_type": "code",
   "execution_count": 50,
   "metadata": {
    "ExecuteTime": {
     "end_time": "2019-02-03T15:04:27.172392Z",
     "start_time": "2019-02-03T15:04:27.148437Z"
    }
   },
   "outputs": [
    {
     "name": "stdout",
     "output_type": "stream",
     "text": [
      "Logistig Regression F1 and Accuracy Scores : \n",
      "\n"
     ]
    },
    {
     "name": "stderr",
     "output_type": "stream",
     "text": [
      "C:\\Users\\tooba\\Anaconda3\\lib\\site-packages\\sklearn\\metrics\\classification.py:1143: UndefinedMetricWarning:\n",
      "\n",
      "F-score is ill-defined and being set to 0.0 in labels with no predicted samples.\n",
      "\n"
     ]
    },
    {
     "name": "stdout",
     "output_type": "stream",
     "text": [
      "F1 score 28.74%\n",
      "Accuracy score 75.76%\n"
     ]
    }
   ],
   "source": [
    "# print metrics\n",
    "print (\"Logistig Regression F1 and Accuracy Scores : \\n\")\n",
    "print ( \"F1 score {:.4}%\".format( f1_score(y_test, prediction , average='macro')*100 ) )\n",
    "print ( \"Accuracy score {:.4}%\".format(accuracy_score(y_test, prediction)*100) )"
   ]
  },
  {
   "cell_type": "code",
   "execution_count": 51,
   "metadata": {
    "ExecuteTime": {
     "end_time": "2019-02-03T15:04:33.704554Z",
     "start_time": "2019-02-03T15:04:33.120169Z"
    }
   },
   "outputs": [
    {
     "data": {
      "image/png": "[encoded data removed]",
      "text/plain": [
       "<Figure size 432x288 with 1 Axes>"
      ]
     },
     "metadata": {
      "image/png": {
       "height": 279,
       "width": 422
      },
      "needs_background": "light"
     },
     "output_type": "display_data"
    }
   ],
   "source": [
    "# TAKEN FROM SKLEARN\n",
    "# Create CV training and test scores for various training set sizes\n",
    "train_sizes, train_scores, test_scores = learning_curve(lr, \n",
    "                                                        transformed_text, \n",
    "                                                        y,\n",
    "                                                        # Number of folds in cross-validation\n",
    "                                                        cv=3,\n",
    "                                                        # Evaluation metric\n",
    "                                                        scoring='accuracy',\n",
    "                                                        # Use all computer cores\n",
    "                                                        n_jobs=-1, \n",
    "                                                        # 50 different sizes of the training set\n",
    "                                                        train_sizes=(50,70,100))\n",
    "\n",
    "# Create means and standard deviations of training set scores\n",
    "train_mean = np.mean(train_scores, axis=1)\n",
    "train_std = np.std(train_scores, axis=1)\n",
    "\n",
    "# Create means and standard deviations of test set scores\n",
    "test_mean = np.mean(test_scores, axis=1)\n",
    "test_std = np.std(test_scores, axis=1)\n",
    "\n",
    "# Draw lines\n",
    "plt.plot(train_sizes, train_mean, '--', color=\"#111111\",  label=\"Training score\")\n",
    "plt.plot(train_sizes, test_mean, color=\"#111111\", label=\"Cross-validation score\")\n",
    "\n",
    "# Draw bands\n",
    "plt.fill_between(train_sizes, train_mean - train_std, train_mean + train_std, color=\"#DDDDDD\")\n",
    "plt.fill_between(train_sizes, test_mean - test_std, test_mean + test_std, color=\"#DDDDDD\")\n",
    "\n",
    "# Create plot\n",
    "plt.title(\"Learning Curve for Logistic Regression\")\n",
    "plt.xlabel(\"Training Set Size\"), plt.ylabel(\"Accuracy Score\"), plt.legend(loc=\"best\")\n",
    "plt.tight_layout()\n",
    "plt.show()\n"
   ]
  },
  {
   "cell_type": "markdown",
   "metadata": {},
   "source": [
    "#### Experiment 1 : Best model for SVM with TFIDF\n",
    "- Text to Features: TFIDF using the article content\n",
    "- Classification Model: SVM "
   ]
  },
  {
   "cell_type": "markdown",
   "metadata": {},
   "source": [
    "- Precision talks about how precise/accurate your model is out of those predicted positive, how many of them are actual positive. Should be the metric when there os a high cost associated with False Positive.\n",
    "- Recall actually calculates how many of the Actual Positives our model capture through labeling it as Positive (True Positive). Recall shall be the model metric we use to select our best model when there is a high cost associated with False Negative.\n",
    "- For our model both of them are equally important.\n",
    "- F1 Score is the weighted average of Precision and Recall. Therefore, this score takes both false positives and false negatives into account. F1 is more useful than accuracy especially if you have an uneven class distribution. Accuracy works best if false positives and false negatives have similar cost. If the cost of false positives and false negatives are very different, it’s better to look at both Precision and Recall. \n",
    "- F1 Score = 2*(Recall * Precision) / (Recall + Precision)"
   ]
  },
  {
   "cell_type": "code",
   "execution_count": 52,
   "metadata": {
    "ExecuteTime": {
     "end_time": "2019-02-03T15:04:43.931634Z",
     "start_time": "2019-02-03T15:04:43.925647Z"
    }
   },
   "outputs": [],
   "source": [
    "X = data.tokenized_Headline\n",
    "y = data['Label']"
   ]
  },
  {
   "cell_type": "code",
   "execution_count": 53,
   "metadata": {
    "ExecuteTime": {
     "end_time": "2019-02-03T15:05:06.569019Z",
     "start_time": "2019-02-03T15:05:06.525106Z"
    }
   },
   "outputs": [],
   "source": [
    "tdf = TfidfVectorizer(stop_words=ENGLISH_STOP_WORDS,ngram_range=(1,3),max_df =0.9,min_df=0.01)\n",
    "vectorizer = tdf.fit(X)\n",
    "transformed_text = vectorizer.transform(X)"
   ]
  },
  {
   "cell_type": "code",
   "execution_count": 54,
   "metadata": {
    "ExecuteTime": {
     "end_time": "2019-02-03T15:05:11.136321Z",
     "start_time": "2019-02-03T15:05:11.105878Z"
    }
   },
   "outputs": [
    {
     "name": "stdout",
     "output_type": "stream",
     "text": [
      "X_train (129, 176)\n",
      "X_test (33, 176)\n",
      "y_train (129,)\n",
      "y_test (33,)\n"
     ]
    }
   ],
   "source": [
    "X_train, X_test, y_train, y_test = train_test_split(transformed_text,y, test_size = 0.2, random_state=1234)\n",
    "print('X_train',X_train.shape)\n",
    "print('X_test',X_test.shape)\n",
    "print('y_train',y_train.shape)\n",
    "print('y_test',y_test.shape)"
   ]
  },
  {
   "cell_type": "code",
   "execution_count": 55,
   "metadata": {
    "ExecuteTime": {
     "end_time": "2019-02-03T15:05:22.879032Z",
     "start_time": "2019-02-03T15:05:22.873541Z"
    }
   },
   "outputs": [],
   "source": [
    "svm = SGDClassifier(alpha= 0.001,loss ='hinge',penalty='l2')"
   ]
  },
  {
   "cell_type": "code",
   "execution_count": 56,
   "metadata": {
    "ExecuteTime": {
     "end_time": "2019-02-03T15:05:25.480824Z",
     "start_time": "2019-02-03T15:05:25.468849Z"
    }
   },
   "outputs": [
    {
     "name": "stderr",
     "output_type": "stream",
     "text": [
      "C:\\Users\\tooba\\Anaconda3\\lib\\site-packages\\sklearn\\linear_model\\stochastic_gradient.py:144: FutureWarning:\n",
      "\n",
      "max_iter and tol parameters have been added in SGDClassifier in 0.19. If both are left unset, they default to max_iter=5 and tol=None. If tol is not None, max_iter defaults to max_iter=1000. From 0.21, default max_iter will be 1000, and default tol will be 1e-3.\n",
      "\n"
     ]
    }
   ],
   "source": [
    "svm.fit(X_train, y_train)\n",
    "prediction = svm.predict(X_test)"
   ]
  },
  {
   "cell_type": "code",
   "execution_count": 57,
   "metadata": {
    "ExecuteTime": {
     "end_time": "2019-02-03T15:05:28.277643Z",
     "start_time": "2019-02-03T15:05:28.243212Z"
    }
   },
   "outputs": [
    {
     "name": "stderr",
     "output_type": "stream",
     "text": [
      "C:\\Users\\tooba\\Anaconda3\\lib\\site-packages\\sklearn\\linear_model\\stochastic_gradient.py:144: FutureWarning:\n",
      "\n",
      "max_iter and tol parameters have been added in SGDClassifier in 0.19. If both are left unset, they default to max_iter=5 and tol=None. If tol is not None, max_iter defaults to max_iter=1000. From 0.21, default max_iter will be 1000, and default tol will be 1e-3.\n",
      "\n"
     ]
    },
    {
     "name": "stdout",
     "output_type": "stream",
     "text": [
      "[0.54545455 0.74074074 0.56603774]\n"
     ]
    }
   ],
   "source": [
    "# 3 cross validation scores\n",
    "print(cross_val_score(svm, transformed_text, y, cv=3)) "
   ]
  },
  {
   "cell_type": "code",
   "execution_count": 58,
   "metadata": {
    "ExecuteTime": {
     "end_time": "2019-02-03T15:06:27.138010Z",
     "start_time": "2019-02-03T15:06:27.110065Z"
    }
   },
   "outputs": [
    {
     "name": "stdout",
     "output_type": "stream",
     "text": [
      "SVM F1 and Accuracy Scores : \n",
      "\n"
     ]
    },
    {
     "name": "stderr",
     "output_type": "stream",
     "text": [
      "C:\\Users\\tooba\\Anaconda3\\lib\\site-packages\\sklearn\\metrics\\classification.py:1143: UndefinedMetricWarning:\n",
      "\n",
      "F-score is ill-defined and being set to 0.0 in labels with no predicted samples.\n",
      "\n"
     ]
    },
    {
     "name": "stdout",
     "output_type": "stream",
     "text": [
      "F1 score 40.52%\n",
      "Accuracy score 75.76%\n",
      "MSE 0.3333333333333333\n"
     ]
    }
   ],
   "source": [
    "# print metrics\n",
    "print (\"SVM F1 and Accuracy Scores : \\n\")\n",
    "print ( \"F1 score {:.4}%\".format( f1_score(y_test, prediction , average='macro')*100 ) )\n",
    "print ( \"Accuracy score {:.4}%\".format(accuracy_score(y_test, prediction)*100) )\n",
    "error = mean_squared_error(y_test, prediction)\n",
    "print('MSE',error)"
   ]
  },
  {
   "cell_type": "markdown",
   "metadata": {},
   "source": [
    "- The value of the accuracy score and F1 score fluctuates alot for this even after Gridsearch. The maximum observed accuracy for the test data is around 72% and F1 score is around 31.97%. The best idea would be to go with the cross validated scores."
   ]
  },
  {
   "cell_type": "code",
   "execution_count": 59,
   "metadata": {
    "ExecuteTime": {
     "end_time": "2019-02-03T15:06:51.048633Z",
     "start_time": "2019-02-03T15:06:51.022682Z"
    }
   },
   "outputs": [
    {
     "name": "stderr",
     "output_type": "stream",
     "text": [
      "C:\\Users\\tooba\\Anaconda3\\lib\\site-packages\\sklearn\\metrics\\classification.py:1143: UndefinedMetricWarning:\n",
      "\n",
      "Precision and F-score are ill-defined and being set to 0.0 in labels with no predicted samples.\n",
      "\n",
      "C:\\Users\\tooba\\Anaconda3\\lib\\site-packages\\sklearn\\metrics\\classification.py:1143: UndefinedMetricWarning:\n",
      "\n",
      "Precision and F-score are ill-defined and being set to 0.0 in labels with no predicted samples.\n",
      "\n",
      "C:\\Users\\tooba\\Anaconda3\\lib\\site-packages\\sklearn\\metrics\\classification.py:1143: UndefinedMetricWarning:\n",
      "\n",
      "Precision and F-score are ill-defined and being set to 0.0 in labels with no predicted samples.\n",
      "\n"
     ]
    },
    {
     "name": "stdout",
     "output_type": "stream",
     "text": [
      "              precision    recall  f1-score   support\n",
      "\n",
      "        Fake       0.00      0.00      0.00         1\n",
      "  Unverified       0.50      0.29      0.36         7\n",
      "        Real       0.79      0.92      0.85        25\n",
      "\n",
      "   micro avg       0.76      0.76      0.76        33\n",
      "   macro avg       0.43      0.40      0.41        33\n",
      "weighted avg       0.71      0.76      0.72        33\n",
      "\n"
     ]
    }
   ],
   "source": [
    "print(metrics.classification_report(y_test, prediction,target_names=['Fake','Unverified','Real']))"
   ]
  },
  {
   "cell_type": "code",
   "execution_count": 60,
   "metadata": {
    "ExecuteTime": {
     "end_time": "2019-02-03T15:07:22.885621Z",
     "start_time": "2019-02-03T15:07:22.843701Z"
    }
   },
   "outputs": [],
   "source": [
    "X = data.Headline\n",
    "y = data['Label']\n",
    "tdf = TfidfVectorizer(stop_words=ENGLISH_STOP_WORDS,ngram_range=(1,3),max_df =0.9,min_df=0.01)\n",
    "vectorizer = tdf.fit(X)\n",
    "transformed_text = vectorizer.transform(X)"
   ]
  },
  {
   "cell_type": "markdown",
   "metadata": {},
   "source": [
    " - We plot a learning curve to show the relationship of the training score vs the cross validated test score for an estimator with a varying number of training samples."
   ]
  },
  {
   "cell_type": "code",
   "execution_count": 61,
   "metadata": {
    "ExecuteTime": {
     "end_time": "2019-02-03T15:07:25.222988Z",
     "start_time": "2019-02-03T15:07:24.337877Z"
    }
   },
   "outputs": [
    {
     "data": {
      "image/png": "[encoded data removed]",
      "text/plain": [
       "<Figure size 432x288 with 1 Axes>"
      ]
     },
     "metadata": {
      "image/png": {
       "height": 279,
       "width": 422
      },
      "needs_background": "light"
     },
     "output_type": "display_data"
    }
   ],
   "source": [
    "# TAKEN FROM SKLEARN\n",
    "# Create CV training and test scores for various training set sizes\n",
    "train_sizes, train_scores, test_scores = learning_curve(svm, \n",
    "                                                        transformed_text, \n",
    "                                                        y,\n",
    "                                                        # Number of folds in cross-validation\n",
    "                                                        cv=3,\n",
    "                                                        # Evaluation metric\n",
    "                                                        scoring='accuracy',\n",
    "                                                        # Use all computer cores\n",
    "                                                        n_jobs=-1, \n",
    "                                                        # 50 different sizes of the training set\n",
    "                                                        train_sizes=(50,70,100))\n",
    "\n",
    "# Create means and standard deviations of training set scores\n",
    "train_mean = np.mean(train_scores, axis=1)\n",
    "train_std = np.std(train_scores, axis=1)\n",
    "\n",
    "# Create means and standard deviations of test set scores\n",
    "test_mean = np.mean(test_scores, axis=1)\n",
    "test_std = np.std(test_scores, axis=1)\n",
    "\n",
    "# Draw lines\n",
    "plt.plot(train_sizes, train_mean, '--', color=\"#111111\",  label=\"Training score\")\n",
    "plt.plot(train_sizes, test_mean, color=\"#111111\", label=\"Cross-validation score\")\n",
    "\n",
    "# Draw bands\n",
    "plt.fill_between(train_sizes, train_mean - train_std, train_mean + train_std, color=\"#DDDDDD\")\n",
    "plt.fill_between(train_sizes, test_mean - test_std, test_mean + test_std, color=\"#DDDDDD\")\n",
    "\n",
    "# Create plot\n",
    "plt.title(\"Learning Curve for Linear SVM\")\n",
    "plt.xlabel(\"Training Set Size\"), plt.ylabel(\"Accuracy Score\"), plt.legend(loc=\"best\")\n",
    "plt.tight_layout()\n",
    "plt.show()\n"
   ]
  },
  {
   "cell_type": "markdown",
   "metadata": {},
   "source": [
    "#### Comparison between final LR and Linear SVM model\n",
    "- The range for the best accuracy score for both the models on the cross validation data-sets is as following:\n",
    "SVM (54-74%) LR(69-71%). The range for LR is very narrow as compared to SVM.\n",
    "- The range for cross validation of SVM fluctuates alot so it is possible that while training the model does not see the examples from the fake OR unverified class due to class imbalance. Hence, the model will classify these examples as real news. \n",
    "- The accuracy score on the test data set(20% data) for both the models is 75.76%.\n",
    "- The f1 score for SVM(40.52) is much better than LR(28.7). However, since both false positives and false negatives have the same cost for our problem so we are looking only at the improvement of the accuracy score.\n",
    "- Comparing thr scores for thr cross validation and LR, LR performs much better for our dataset."
   ]
  },
  {
   "cell_type": "markdown",
   "metadata": {},
   "source": [
    "#### Observations"
   ]
  },
  {
   "cell_type": "markdown",
   "metadata": {},
   "source": [
    "- The training score is much greater than the validation score which means that the model probably requires more training examples in order to generalize more effectively.\n",
    "- The curves are plotted with the mean scores, however variability during cross-validation is shown with the shaded areas that represent a standard deviation above and below the mean for all cross-validations. If the model suffers from error due to bias, then there will likely be more variability around the training score curve. If the model suffers from error due to variance, then there will be more variability around the cross validated score which is the case with our data (Not sure)"
   ]
  },
  {
   "cell_type": "code",
   "execution_count": 87,
   "metadata": {
    "ExecuteTime": {
     "end_time": "2019-02-02T17:54:14.264934Z",
     "start_time": "2019-02-02T17:54:14.227506Z"
    }
   },
   "outputs": [
    {
     "name": "stdout",
     "output_type": "stream",
     "text": [
      "percentage of unverified 27.160493827160494\n",
      "percentage of real 70.37037037037037\n",
      "percentage of fake 2.4691358024691357\n"
     ]
    }
   ],
   "source": [
    "unverified = len(data[data['Label']==0])\n",
    "real = len(data[data['Label']==1])\n",
    "fake = len(data[data['Label']==-1])\n",
    "pct_of_unverified = unverified /(unverified+real+fake)\n",
    "print(\"percentage of unverified\", pct_of_unverified*100)\n",
    "pct_of_real = real /(unverified+real+fake)\n",
    "print(\"percentage of real\", pct_of_real*100)\n",
    "pct_of_fake = fake /(unverified+real+fake)\n",
    "print(\"percentage of fake\", pct_of_fake*100)"
   ]
  },
  {
   "cell_type": "markdown",
   "metadata": {},
   "source": [
    "- (Observation from learning curve when CV=10. Now we reduced it to CV =3)As we increase the value of cv while performing gridsearch with our models and features, the accuracy score across the hold out dataset decreases. The possible reason for this could be the class imbalance. From the above calculation we can see that the amout of data with fake news is extremely small so it is possible that these examples doesn't come in the training set during cv and the model sees this unexpected class in the test set resulting in a false positive.\n",
    "- The best results for our data comes with CV = 3 "
   ]
  },
  {
   "cell_type": "code",
   "execution_count": null,
   "metadata": {},
   "outputs": [],
   "source": []
  }
 ],
 "metadata": {
  "kernelspec": {
   "display_name": "Python 3",
   "language": "python",
   "name": "python3"
  },
  "language_info": {
   "codemirror_mode": {
    "name": "ipython",
    "version": 3
   },
   "file_extension": ".py",
   "mimetype": "text/x-python",
   "name": "python",
   "nbconvert_exporter": "python",
   "pygments_lexer": "ipython3",
   "version": "3.6.6"
  }
 },
 "nbformat": 4,
 "nbformat_minor": 2
}
