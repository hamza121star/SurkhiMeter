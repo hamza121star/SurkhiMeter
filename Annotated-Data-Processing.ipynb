{
 "cells": [
  {
   "cell_type": "markdown",
   "metadata": {},
   "source": [
    "- In this notebook we will repeat all the preprocessing steps for ONLY the labelled data. Later on we will use the data to build our classification model."
   ]
  },
  {
   "cell_type": "markdown",
   "metadata": {},
   "source": [
    "### Data Cleaning"
   ]
  },
  {
   "cell_type": "code",
   "execution_count": 19,
   "metadata": {
    "ExecuteTime": {
     "end_time": "2019-02-02T13:07:21.317869Z",
     "start_time": "2019-02-02T13:07:21.260980Z"
    }
   },
   "outputs": [],
   "source": [
    "import pandas as pd\n",
    "import numpy as np\n",
    "import matplotlib.pyplot as plt\n",
    "import re\n",
    "import seaborn as sb\n",
    "from collections import Counter\n",
    "import tqdm\n",
    "from nltk import word_tokenize, sent_tokenize\n",
    "from nltk.corpus import stopwords\n",
    "import unicodedata\n",
    "from sklearn.feature_extraction.text import TfidfVectorizer\n",
    "from afinn import Afinn\n",
    "import nltk\n",
    "from wordcloud import WordCloud, STOPWORDS\n",
    "import gensim\n",
    "from sklearn.metrics import confusion_matrix as cm\n",
    "import plotly.plotly as py\n",
    "import plotly.graph_objs as go\n",
    "from plotly import tools\n",
    "%matplotlib inline\n",
    "%config InlineBackend.figure_format = 'retina'\n",
    "from sklearn.linear_model import SGDClassifier\n",
    "from sklearn.pipeline import Pipeline\n",
    "from sklearn.model_selection import GridSearchCV\n",
    "from sklearn import metrics\n",
    "from sklearn.feature_extraction.text import TfidfTransformer\n",
    "from sklearn.utils import shuffle\n",
    "from sklearn.linear_model import LogisticRegression\n",
    "from sklearn.model_selection import cross_val_score\n",
    "from sklearn.model_selection import train_test_split\n",
    "from sklearn.feature_extraction.stop_words import ENGLISH_STOP_WORDS\n",
    "from sklearn.metrics import f1_score, accuracy_score , recall_score , precision_score\n",
    "from sklearn.model_selection import learning_curve\n",
    "from sklearn.metrics import mean_squared_error\n",
    "from sklearn.model_selection import ShuffleSplit"
   ]
  },
  {
   "cell_type": "markdown",
   "metadata": {},
   "source": [
    "To do:\n",
    "- TFIDF for both fake and real news\n",
    "-"
   ]
  },
  {
   "cell_type": "code",
   "execution_count": 3,
   "metadata": {
    "ExecuteTime": {
     "end_time": "2019-02-01T18:41:45.720209Z",
     "start_time": "2019-02-01T18:41:45.263667Z"
    }
   },
   "outputs": [
    {
     "data": {
      "text/html": [
       "<div>\n",
       "<style scoped>\n",
       "    .dataframe tbody tr th:only-of-type {\n",
       "        vertical-align: middle;\n",
       "    }\n",
       "\n",
       "    .dataframe tbody tr th {\n",
       "        vertical-align: top;\n",
       "    }\n",
       "\n",
       "    .dataframe thead th {\n",
       "        text-align: right;\n",
       "    }\n",
       "</style>\n",
       "<table border=\"1\" class=\"dataframe\">\n",
       "  <thead>\n",
       "    <tr style=\"text-align: right;\">\n",
       "      <th></th>\n",
       "      <th>News ID</th>\n",
       "      <th>URL</th>\n",
       "      <th>Headline</th>\n",
       "      <th>Date</th>\n",
       "      <th>Content</th>\n",
       "      <th>Author</th>\n",
       "      <th>Publisher</th>\n",
       "      <th>News Category</th>\n",
       "      <th>Keywords</th>\n",
       "      <th>Label</th>\n",
       "    </tr>\n",
       "  </thead>\n",
       "  <tbody>\n",
       "    <tr>\n",
       "      <th>0</th>\n",
       "      <td>0</td>\n",
       "      <td>https://www.dawn.com/news/1458127/mbbs-student...</td>\n",
       "      <td>MBBS student found dead in hostel room at Jams...</td>\n",
       "      <td>1/17/2019</td>\n",
       "      <td>A third-year MBBS student was found shot dead ...</td>\n",
       "      <td>Mohammad Hussain Khan</td>\n",
       "      <td>Dawn</td>\n",
       "      <td>Mental health</td>\n",
       "      <td>Jamshoro, youth, suicide, mental health</td>\n",
       "      <td>1.0</td>\n",
       "    </tr>\n",
       "    <tr>\n",
       "      <th>1</th>\n",
       "      <td>1</td>\n",
       "      <td>https://www.dawn.com/news/1458129/govt-decides...</td>\n",
       "      <td>Govt decides to remove names of Bilawal, Murad...</td>\n",
       "      <td>1/17/2019</td>\n",
       "      <td>The federal cabinet has decided to remove the ...</td>\n",
       "      <td>Sanaullah Khan | Javed Hussain</td>\n",
       "      <td>Dawn</td>\n",
       "      <td>Politics</td>\n",
       "      <td>Islamabad, Sindh, PPP, ECL</td>\n",
       "      <td>1.0</td>\n",
       "    </tr>\n",
       "    <tr>\n",
       "      <th>2</th>\n",
       "      <td>2</td>\n",
       "      <td>https://www.dawn.com/news/1458125/afghan-presi...</td>\n",
       "      <td>Afghan president thanks PM Khan for Pakistan's...</td>\n",
       "      <td>1/17/2019</td>\n",
       "      <td>Afghan President Ashraf Ghani on Thursday tele...</td>\n",
       "      <td>Sanaullah Khan</td>\n",
       "      <td>Dawn</td>\n",
       "      <td>Foreign Affairs</td>\n",
       "      <td>Afghanistan, foreign affairs, Imran Khan, Ashr...</td>\n",
       "      <td>1.0</td>\n",
       "    </tr>\n",
       "    <tr>\n",
       "      <th>3</th>\n",
       "      <td>3</td>\n",
       "      <td>https://www.dawn.com/news/1458123/mehwish-haya...</td>\n",
       "      <td>Mehwish Hayat acts out her musical dreams in n...</td>\n",
       "      <td>1/17/2019</td>\n",
       "      <td>Director and script writer Wajahat Rauf unveil...</td>\n",
       "      <td>None</td>\n",
       "      <td>Dawn</td>\n",
       "      <td>Entertainment</td>\n",
       "      <td>Mehwish Hayat, Enaaya, Azfar Rehman, Wajahat Rauf</td>\n",
       "      <td>-1.0</td>\n",
       "    </tr>\n",
       "    <tr>\n",
       "      <th>4</th>\n",
       "      <td>4</td>\n",
       "      <td>https://www.dawn.com/news/1458118/complete-tex...</td>\n",
       "      <td>Complete text of address by Justice Asif Saeed...</td>\n",
       "      <td>1/17/2019</td>\n",
       "      <td>Complete address by Justice Asif Saeed Khosa o...</td>\n",
       "      <td>Dawn.com</td>\n",
       "      <td>Dawn</td>\n",
       "      <td>Judiciary</td>\n",
       "      <td>Islamabad, Asif Khosa, Supreme Court, Saqib Nisar</td>\n",
       "      <td>1.0</td>\n",
       "    </tr>\n",
       "  </tbody>\n",
       "</table>\n",
       "</div>"
      ],
      "text/plain": [
       "   News ID                                                URL  \\\n",
       "0        0  https://www.dawn.com/news/1458127/mbbs-student...   \n",
       "1        1  https://www.dawn.com/news/1458129/govt-decides...   \n",
       "2        2  https://www.dawn.com/news/1458125/afghan-presi...   \n",
       "3        3  https://www.dawn.com/news/1458123/mehwish-haya...   \n",
       "4        4  https://www.dawn.com/news/1458118/complete-tex...   \n",
       "\n",
       "                                            Headline       Date  \\\n",
       "0  MBBS student found dead in hostel room at Jams...  1/17/2019   \n",
       "1  Govt decides to remove names of Bilawal, Murad...  1/17/2019   \n",
       "2  Afghan president thanks PM Khan for Pakistan's...  1/17/2019   \n",
       "3  Mehwish Hayat acts out her musical dreams in n...  1/17/2019   \n",
       "4  Complete text of address by Justice Asif Saeed...  1/17/2019   \n",
       "\n",
       "                                             Content  \\\n",
       "0  A third-year MBBS student was found shot dead ...   \n",
       "1  The federal cabinet has decided to remove the ...   \n",
       "2  Afghan President Ashraf Ghani on Thursday tele...   \n",
       "3  Director and script writer Wajahat Rauf unveil...   \n",
       "4  Complete address by Justice Asif Saeed Khosa o...   \n",
       "\n",
       "                           Author Publisher    News Category  \\\n",
       "0           Mohammad Hussain Khan      Dawn    Mental health   \n",
       "1  Sanaullah Khan | Javed Hussain      Dawn         Politics   \n",
       "2                  Sanaullah Khan      Dawn  Foreign Affairs   \n",
       "3                            None      Dawn    Entertainment   \n",
       "4                        Dawn.com      Dawn        Judiciary   \n",
       "\n",
       "                                            Keywords  Label  \n",
       "0            Jamshoro, youth, suicide, mental health    1.0  \n",
       "1                         Islamabad, Sindh, PPP, ECL    1.0  \n",
       "2  Afghanistan, foreign affairs, Imran Khan, Ashr...    1.0  \n",
       "3  Mehwish Hayat, Enaaya, Azfar Rehman, Wajahat Rauf   -1.0  \n",
       "4  Islamabad, Asif Khosa, Supreme Court, Saqib Nisar    1.0  "
      ]
     },
     "execution_count": 3,
     "metadata": {},
     "output_type": "execute_result"
    }
   ],
   "source": [
    "dawn = pd.read_csv('dawn-annotated.csv')\n",
    "dawn.head()"
   ]
  },
  {
   "cell_type": "code",
   "execution_count": 4,
   "metadata": {
    "ExecuteTime": {
     "end_time": "2019-02-01T18:41:45.744165Z",
     "start_time": "2019-02-01T18:41:45.728694Z"
    }
   },
   "outputs": [],
   "source": [
    "# drop rows where no label given\n",
    "dawn = dawn.dropna()"
   ]
  },
  {
   "cell_type": "code",
   "execution_count": 5,
   "metadata": {
    "ExecuteTime": {
     "end_time": "2019-02-01T18:41:46.013464Z",
     "start_time": "2019-02-01T18:41:45.752650Z"
    }
   },
   "outputs": [],
   "source": [
    "# Convert dates to datetime object\n",
    "dawn['Date'] =  pd.to_datetime(dawn['Date'])"
   ]
  },
  {
   "cell_type": "code",
   "execution_count": 6,
   "metadata": {
    "ExecuteTime": {
     "end_time": "2019-02-01T18:41:46.026438Z",
     "start_time": "2019-02-01T18:41:46.016461Z"
    }
   },
   "outputs": [],
   "source": [
    "# Replacing None and dawn.com with dawn since no author.\n",
    "dawn['Author'] = dawn['Author'].replace(to_replace=r'None', value='dawn', regex=True)\n",
    "dawn['Author'] = dawn['Author'].replace(to_replace=r'Dawn.com', value='dawn', regex=True)"
   ]
  },
  {
   "cell_type": "markdown",
   "metadata": {},
   "source": [
    "We have the following 5 categories with no author names so we will replace them with the name of the newspaper so that it is later easier to identify a source for these articles.\n",
    "  -  The Newspaper's Staff Reporter\n",
    "  - A Correspondent\n",
    "  - The Newspaper's Correspondent\n",
    "  - The Newspaper's Staff Correspondent\n",
    "  - Editorial"
   ]
  },
  {
   "cell_type": "code",
   "execution_count": 7,
   "metadata": {
    "ExecuteTime": {
     "end_time": "2019-02-01T18:41:46.178445Z",
     "start_time": "2019-02-01T18:41:46.031928Z"
    }
   },
   "outputs": [
    {
     "name": "stdout",
     "output_type": "stream",
     "text": [
      "['Mohammad Hussain Khan' 'Sanaullah Khan | Javed Hussain' 'Sanaullah Khan'\n",
      " 'dawn' 'dawn | Haseeb Bhatti' 'Rimmel Mohydin' 'Jamil Nagri'\n",
      " 'Bureau Report' 'Kashif Abbasi' 'Ikram Junaidi'\n",
      " \"The Newspaper's Staff Reporter\" 'Naeem Sahoutara' 'Habib Khan Ghori'\n",
      " 'Hasan Mansoor' 'Behram Baloch' 'Mohammad Asghar' 'Imran Ayub'\n",
      " 'Syed Ali Shah' 'Haseeb Bhatti' 'Ali Akbar | AP' 'Rana Bilal'\n",
      " 'Sara Malkani' 'Editorial' 'Munawer Azeem' 'A Correspondent'\n",
      " \"The Newspaper's Correspondent\" 'Zulfiqar Ali' 'Intikhab Hanif'\n",
      " 'Tahir Siddiqui' 'Ishaq Tanoli' 'Faiza Ilyas' 'Tariq Naqash' 'Imtiaz Ali'\n",
      " 'Tahir Naseer' 'Wajiha Khanain' 'Abdul Ghaffar' 'AP'\n",
      " 'Amir Wasim | Javed Hussain | Nadir Guramani' 'Jawaid Bokhari'\n",
      " 'Dr Niaz Murtaza' 'Amjad Iqbal' 'Hamid Asghar' 'APP'\n",
      " \"The Newspaper's Staff Correspondent\" 'Zulqernain Tahir'\n",
      " 'Ghulam Hussain Khawaja' 'Dawn Report' 'Syed Irfan Raza'\n",
      " 'Monitoring Desk' 'Malik Asad' 'Syed Ali Shah | APP' 'dawn | Amir Wasim'\n",
      " 'Javed Hussain' 'Shakeel Qarar' 'Umair Javed' 'Nadir Cheema' 'AFP'\n",
      " 'Shafi Baloch' 'Abdul Moiz Jaferii' 'Khaleeq Kiani' 'Ashfaq Yusufzai'\n",
      " 'Aamir Yasin' 'Majeed Gill' 'Waseem Shamsi' 'Afshan Subohi' 'Shafiq Butt'\n",
      " 'Amir Wasim' 'Mansoor Malik' 'dawn | Qazi Hassan' 'dawn | Sirajuddin']\n",
      "Number of Categories 70\n"
     ]
    }
   ],
   "source": [
    "print(dawn['Author'].unique())\n",
    "print('Number of Categories',len(dawn['Author'].unique()))"
   ]
  },
  {
   "cell_type": "code",
   "execution_count": 8,
   "metadata": {
    "ExecuteTime": {
     "end_time": "2019-02-01T18:41:46.331478Z",
     "start_time": "2019-02-01T18:41:46.186429Z"
    }
   },
   "outputs": [],
   "source": [
    "dawn['Author'] = dawn['Author'].replace(to_replace=r'The Newspaper\\'s Staff Reporter', value='dawn', regex=True)\n",
    "dawn['Author'] = dawn['Author'].replace(to_replace=r'A Correspondent', value='dawn', regex=True)\n",
    "dawn['Author'] = dawn['Author'].replace(to_replace=r'The Newspaper\\'s Correspondent', value='dawn', regex=True)\n",
    "dawn['Author'] = dawn['Author'].replace(to_replace=r'Editorial', value='dawn', regex=True)\n",
    "dawn['Author'] = dawn['Author'].replace(to_replace=r'The Newspaper\\'s Staff Correspondent', value='dawn', regex=True)"
   ]
  },
  {
   "cell_type": "code",
   "execution_count": 9,
   "metadata": {
    "ExecuteTime": {
     "end_time": "2019-02-01T18:41:46.443249Z",
     "start_time": "2019-02-01T18:41:46.339959Z"
    }
   },
   "outputs": [
    {
     "name": "stdout",
     "output_type": "stream",
     "text": [
      "Number of Categories are: 65\n"
     ]
    }
   ],
   "source": [
    "print('Number of Categories are:',len(dawn['Author'].unique()))"
   ]
  },
  {
   "cell_type": "code",
   "execution_count": 10,
   "metadata": {
    "ExecuteTime": {
     "end_time": "2019-02-01T18:41:46.622221Z",
     "start_time": "2019-02-01T18:41:46.447741Z"
    }
   },
   "outputs": [
    {
     "data": {
      "text/html": [
       "<div>\n",
       "<style scoped>\n",
       "    .dataframe tbody tr th:only-of-type {\n",
       "        vertical-align: middle;\n",
       "    }\n",
       "\n",
       "    .dataframe tbody tr th {\n",
       "        vertical-align: top;\n",
       "    }\n",
       "\n",
       "    .dataframe thead th {\n",
       "        text-align: right;\n",
       "    }\n",
       "</style>\n",
       "<table border=\"1\" class=\"dataframe\">\n",
       "  <thead>\n",
       "    <tr style=\"text-align: right;\">\n",
       "      <th></th>\n",
       "      <th>News ID</th>\n",
       "      <th>URL</th>\n",
       "      <th>Headline</th>\n",
       "      <th>Date</th>\n",
       "      <th>Content</th>\n",
       "      <th>Author</th>\n",
       "      <th>Publisher</th>\n",
       "      <th>News Category</th>\n",
       "      <th>Keywords</th>\n",
       "      <th>Label</th>\n",
       "    </tr>\n",
       "  </thead>\n",
       "  <tbody>\n",
       "    <tr>\n",
       "      <th>0</th>\n",
       "      <td>0</td>\n",
       "      <td>https://www.dawn.com/news/1458127/mbbs-student...</td>\n",
       "      <td>MBBS student found dead in hostel room at Jams...</td>\n",
       "      <td>2019-01-17</td>\n",
       "      <td>A third-year MBBS student was found shot dead ...</td>\n",
       "      <td>Mohammad Hussain Khan</td>\n",
       "      <td>Dawn</td>\n",
       "      <td>Mental health</td>\n",
       "      <td>Jamshoro, youth, suicide, mental health</td>\n",
       "      <td>1.0</td>\n",
       "    </tr>\n",
       "    <tr>\n",
       "      <th>1</th>\n",
       "      <td>1</td>\n",
       "      <td>https://www.dawn.com/news/1458129/govt-decides...</td>\n",
       "      <td>Govt decides to remove names of Bilawal, Murad...</td>\n",
       "      <td>2019-01-17</td>\n",
       "      <td>The federal cabinet has decided to remove the ...</td>\n",
       "      <td>Sanaullah Khan | Javed Hussain</td>\n",
       "      <td>Dawn</td>\n",
       "      <td>Politics</td>\n",
       "      <td>Islamabad, Sindh, PPP, ECL</td>\n",
       "      <td>1.0</td>\n",
       "    </tr>\n",
       "    <tr>\n",
       "      <th>2</th>\n",
       "      <td>2</td>\n",
       "      <td>https://www.dawn.com/news/1458125/afghan-presi...</td>\n",
       "      <td>Afghan president thanks PM Khan for Pakistan's...</td>\n",
       "      <td>2019-01-17</td>\n",
       "      <td>Afghan President Ashraf Ghani on Thursday tele...</td>\n",
       "      <td>Sanaullah Khan</td>\n",
       "      <td>Dawn</td>\n",
       "      <td>Foreign Affairs</td>\n",
       "      <td>Afghanistan, foreign affairs, Imran Khan, Ashr...</td>\n",
       "      <td>1.0</td>\n",
       "    </tr>\n",
       "    <tr>\n",
       "      <th>3</th>\n",
       "      <td>3</td>\n",
       "      <td>https://www.dawn.com/news/1458123/mehwish-haya...</td>\n",
       "      <td>Mehwish Hayat acts out her musical dreams in n...</td>\n",
       "      <td>2019-01-17</td>\n",
       "      <td>Director and script writer Wajahat Rauf unveil...</td>\n",
       "      <td>dawn</td>\n",
       "      <td>Dawn</td>\n",
       "      <td>Entertainment</td>\n",
       "      <td>Mehwish Hayat, Enaaya, Azfar Rehman, Wajahat Rauf</td>\n",
       "      <td>-1.0</td>\n",
       "    </tr>\n",
       "    <tr>\n",
       "      <th>4</th>\n",
       "      <td>4</td>\n",
       "      <td>https://www.dawn.com/news/1458118/complete-tex...</td>\n",
       "      <td>Complete text of address by Justice Asif Saeed...</td>\n",
       "      <td>2019-01-17</td>\n",
       "      <td>Complete address by Justice Asif Saeed Khosa o...</td>\n",
       "      <td>dawn</td>\n",
       "      <td>Dawn</td>\n",
       "      <td>Judiciary</td>\n",
       "      <td>Islamabad, Asif Khosa, Supreme Court, Saqib Nisar</td>\n",
       "      <td>1.0</td>\n",
       "    </tr>\n",
       "  </tbody>\n",
       "</table>\n",
       "</div>"
      ],
      "text/plain": [
       "   News ID                                                URL  \\\n",
       "0        0  https://www.dawn.com/news/1458127/mbbs-student...   \n",
       "1        1  https://www.dawn.com/news/1458129/govt-decides...   \n",
       "2        2  https://www.dawn.com/news/1458125/afghan-presi...   \n",
       "3        3  https://www.dawn.com/news/1458123/mehwish-haya...   \n",
       "4        4  https://www.dawn.com/news/1458118/complete-tex...   \n",
       "\n",
       "                                            Headline       Date  \\\n",
       "0  MBBS student found dead in hostel room at Jams... 2019-01-17   \n",
       "1  Govt decides to remove names of Bilawal, Murad... 2019-01-17   \n",
       "2  Afghan president thanks PM Khan for Pakistan's... 2019-01-17   \n",
       "3  Mehwish Hayat acts out her musical dreams in n... 2019-01-17   \n",
       "4  Complete text of address by Justice Asif Saeed... 2019-01-17   \n",
       "\n",
       "                                             Content  \\\n",
       "0  A third-year MBBS student was found shot dead ...   \n",
       "1  The federal cabinet has decided to remove the ...   \n",
       "2  Afghan President Ashraf Ghani on Thursday tele...   \n",
       "3  Director and script writer Wajahat Rauf unveil...   \n",
       "4  Complete address by Justice Asif Saeed Khosa o...   \n",
       "\n",
       "                           Author Publisher    News Category  \\\n",
       "0           Mohammad Hussain Khan      Dawn    Mental health   \n",
       "1  Sanaullah Khan | Javed Hussain      Dawn         Politics   \n",
       "2                  Sanaullah Khan      Dawn  Foreign Affairs   \n",
       "3                            dawn      Dawn    Entertainment   \n",
       "4                            dawn      Dawn        Judiciary   \n",
       "\n",
       "                                            Keywords  Label  \n",
       "0            Jamshoro, youth, suicide, mental health    1.0  \n",
       "1                         Islamabad, Sindh, PPP, ECL    1.0  \n",
       "2  Afghanistan, foreign affairs, Imran Khan, Ashr...    1.0  \n",
       "3  Mehwish Hayat, Enaaya, Azfar Rehman, Wajahat Rauf   -1.0  \n",
       "4  Islamabad, Asif Khosa, Supreme Court, Saqib Nisar    1.0  "
      ]
     },
     "execution_count": 10,
     "metadata": {},
     "output_type": "execute_result"
    }
   ],
   "source": [
    "data = dawn.copy()\n",
    "data.head()"
   ]
  },
  {
   "cell_type": "code",
   "execution_count": 11,
   "metadata": {
    "ExecuteTime": {
     "end_time": "2019-02-01T18:41:46.732513Z",
     "start_time": "2019-02-01T18:41:46.629209Z"
    }
   },
   "outputs": [],
   "source": [
    "# Keeping only the date part of the datetime object for consistency.\n",
    "data['Date'] = data['Date'].dt.date"
   ]
  },
  {
   "cell_type": "code",
   "execution_count": 12,
   "metadata": {
    "ExecuteTime": {
     "end_time": "2019-02-01T18:41:46.852783Z",
     "start_time": "2019-02-01T18:41:46.737503Z"
    }
   },
   "outputs": [],
   "source": [
    "# Converting label from floats to int\n",
    "data['Label'] = data['Label'].astype(int)"
   ]
  },
  {
   "cell_type": "code",
   "execution_count": 13,
   "metadata": {
    "ExecuteTime": {
     "end_time": "2019-02-01T18:41:47.065559Z",
     "start_time": "2019-02-01T18:41:46.856279Z"
    }
   },
   "outputs": [],
   "source": [
    "# Saving cleaned data\n",
    "data.to_csv('dawn-annotated-cleaned.csv',index=False)"
   ]
  },
  {
   "cell_type": "code",
   "execution_count": 14,
   "metadata": {
    "ExecuteTime": {
     "end_time": "2019-02-01T18:41:47.137894Z",
     "start_time": "2019-02-01T18:41:47.068528Z"
    }
   },
   "outputs": [
    {
     "data": {
      "text/html": [
       "<div>\n",
       "<style scoped>\n",
       "    .dataframe tbody tr th:only-of-type {\n",
       "        vertical-align: middle;\n",
       "    }\n",
       "\n",
       "    .dataframe tbody tr th {\n",
       "        vertical-align: top;\n",
       "    }\n",
       "\n",
       "    .dataframe thead th {\n",
       "        text-align: right;\n",
       "    }\n",
       "</style>\n",
       "<table border=\"1\" class=\"dataframe\">\n",
       "  <thead>\n",
       "    <tr style=\"text-align: right;\">\n",
       "      <th></th>\n",
       "      <th>News ID</th>\n",
       "      <th>URL</th>\n",
       "      <th>Headline</th>\n",
       "      <th>Date</th>\n",
       "      <th>Content</th>\n",
       "      <th>Author</th>\n",
       "      <th>Publisher</th>\n",
       "      <th>News Category</th>\n",
       "      <th>Keywords</th>\n",
       "      <th>Label</th>\n",
       "    </tr>\n",
       "  </thead>\n",
       "  <tbody>\n",
       "    <tr>\n",
       "      <th>0</th>\n",
       "      <td>0</td>\n",
       "      <td>https://www.dawn.com/news/1458127/mbbs-student...</td>\n",
       "      <td>MBBS student found dead in hostel room at Jams...</td>\n",
       "      <td>2019-01-17</td>\n",
       "      <td>A third-year MBBS student was found shot dead ...</td>\n",
       "      <td>Mohammad Hussain Khan</td>\n",
       "      <td>Dawn</td>\n",
       "      <td>Mental health</td>\n",
       "      <td>Jamshoro, youth, suicide, mental health</td>\n",
       "      <td>1</td>\n",
       "    </tr>\n",
       "    <tr>\n",
       "      <th>1</th>\n",
       "      <td>1</td>\n",
       "      <td>https://www.dawn.com/news/1458129/govt-decides...</td>\n",
       "      <td>Govt decides to remove names of Bilawal, Murad...</td>\n",
       "      <td>2019-01-17</td>\n",
       "      <td>The federal cabinet has decided to remove the ...</td>\n",
       "      <td>Sanaullah Khan | Javed Hussain</td>\n",
       "      <td>Dawn</td>\n",
       "      <td>Politics</td>\n",
       "      <td>Islamabad, Sindh, PPP, ECL</td>\n",
       "      <td>1</td>\n",
       "    </tr>\n",
       "    <tr>\n",
       "      <th>2</th>\n",
       "      <td>2</td>\n",
       "      <td>https://www.dawn.com/news/1458125/afghan-presi...</td>\n",
       "      <td>Afghan president thanks PM Khan for Pakistan's...</td>\n",
       "      <td>2019-01-17</td>\n",
       "      <td>Afghan President Ashraf Ghani on Thursday tele...</td>\n",
       "      <td>Sanaullah Khan</td>\n",
       "      <td>Dawn</td>\n",
       "      <td>Foreign Affairs</td>\n",
       "      <td>Afghanistan, foreign affairs, Imran Khan, Ashr...</td>\n",
       "      <td>1</td>\n",
       "    </tr>\n",
       "    <tr>\n",
       "      <th>3</th>\n",
       "      <td>3</td>\n",
       "      <td>https://www.dawn.com/news/1458123/mehwish-haya...</td>\n",
       "      <td>Mehwish Hayat acts out her musical dreams in n...</td>\n",
       "      <td>2019-01-17</td>\n",
       "      <td>Director and script writer Wajahat Rauf unveil...</td>\n",
       "      <td>dawn</td>\n",
       "      <td>Dawn</td>\n",
       "      <td>Entertainment</td>\n",
       "      <td>Mehwish Hayat, Enaaya, Azfar Rehman, Wajahat Rauf</td>\n",
       "      <td>-1</td>\n",
       "    </tr>\n",
       "    <tr>\n",
       "      <th>4</th>\n",
       "      <td>4</td>\n",
       "      <td>https://www.dawn.com/news/1458118/complete-tex...</td>\n",
       "      <td>Complete text of address by Justice Asif Saeed...</td>\n",
       "      <td>2019-01-17</td>\n",
       "      <td>Complete address by Justice Asif Saeed Khosa o...</td>\n",
       "      <td>dawn</td>\n",
       "      <td>Dawn</td>\n",
       "      <td>Judiciary</td>\n",
       "      <td>Islamabad, Asif Khosa, Supreme Court, Saqib Nisar</td>\n",
       "      <td>1</td>\n",
       "    </tr>\n",
       "  </tbody>\n",
       "</table>\n",
       "</div>"
      ],
      "text/plain": [
       "   News ID                                                URL  \\\n",
       "0        0  https://www.dawn.com/news/1458127/mbbs-student...   \n",
       "1        1  https://www.dawn.com/news/1458129/govt-decides...   \n",
       "2        2  https://www.dawn.com/news/1458125/afghan-presi...   \n",
       "3        3  https://www.dawn.com/news/1458123/mehwish-haya...   \n",
       "4        4  https://www.dawn.com/news/1458118/complete-tex...   \n",
       "\n",
       "                                            Headline        Date  \\\n",
       "0  MBBS student found dead in hostel room at Jams...  2019-01-17   \n",
       "1  Govt decides to remove names of Bilawal, Murad...  2019-01-17   \n",
       "2  Afghan president thanks PM Khan for Pakistan's...  2019-01-17   \n",
       "3  Mehwish Hayat acts out her musical dreams in n...  2019-01-17   \n",
       "4  Complete text of address by Justice Asif Saeed...  2019-01-17   \n",
       "\n",
       "                                             Content  \\\n",
       "0  A third-year MBBS student was found shot dead ...   \n",
       "1  The federal cabinet has decided to remove the ...   \n",
       "2  Afghan President Ashraf Ghani on Thursday tele...   \n",
       "3  Director and script writer Wajahat Rauf unveil...   \n",
       "4  Complete address by Justice Asif Saeed Khosa o...   \n",
       "\n",
       "                           Author Publisher    News Category  \\\n",
       "0           Mohammad Hussain Khan      Dawn    Mental health   \n",
       "1  Sanaullah Khan | Javed Hussain      Dawn         Politics   \n",
       "2                  Sanaullah Khan      Dawn  Foreign Affairs   \n",
       "3                            dawn      Dawn    Entertainment   \n",
       "4                            dawn      Dawn        Judiciary   \n",
       "\n",
       "                                            Keywords  Label  \n",
       "0            Jamshoro, youth, suicide, mental health      1  \n",
       "1                         Islamabad, Sindh, PPP, ECL      1  \n",
       "2  Afghanistan, foreign affairs, Imran Khan, Ashr...      1  \n",
       "3  Mehwish Hayat, Enaaya, Azfar Rehman, Wajahat Rauf     -1  \n",
       "4  Islamabad, Asif Khosa, Supreme Court, Saqib Nisar      1  "
      ]
     },
     "execution_count": 14,
     "metadata": {},
     "output_type": "execute_result"
    }
   ],
   "source": [
    "data = pd.read_csv('dawn-annotated-cleaned.csv')\n",
    "data.head()"
   ]
  },
  {
   "cell_type": "code",
   "execution_count": 15,
   "metadata": {
    "ExecuteTime": {
     "end_time": "2019-02-01T18:41:47.227512Z",
     "start_time": "2019-02-01T18:41:47.143882Z"
    }
   },
   "outputs": [
    {
     "data": {
      "text/plain": [
       "Counter({'Mohammad Hussain Khan': 2,\n",
       "         'Sanaullah Khan | Javed Hussain': 1,\n",
       "         'Sanaullah Khan': 3,\n",
       "         'dawn': 67,\n",
       "         'dawn | Haseeb Bhatti': 1,\n",
       "         'Rimmel Mohydin': 1,\n",
       "         'Jamil Nagri': 1,\n",
       "         'Bureau Report': 4,\n",
       "         'Kashif Abbasi': 2,\n",
       "         'Ikram Junaidi': 3,\n",
       "         'Naeem Sahoutara': 3,\n",
       "         'Habib Khan Ghori': 1,\n",
       "         'Hasan Mansoor': 3,\n",
       "         'Behram Baloch': 1,\n",
       "         'Mohammad Asghar': 2,\n",
       "         'Imran Ayub': 2,\n",
       "         'Syed Ali Shah': 1,\n",
       "         'Haseeb Bhatti': 9,\n",
       "         'Ali Akbar | AP': 1,\n",
       "         'Rana Bilal': 4,\n",
       "         'Sara Malkani': 1,\n",
       "         'Munawer Azeem': 1,\n",
       "         'Zulfiqar Ali': 2,\n",
       "         'Intikhab Hanif': 1,\n",
       "         'Tahir Siddiqui': 2,\n",
       "         'Ishaq Tanoli': 1,\n",
       "         'Faiza Ilyas': 1,\n",
       "         'Tariq Naqash': 1,\n",
       "         'Imtiaz Ali': 2,\n",
       "         'Tahir Naseer': 1,\n",
       "         'Wajiha Khanain': 1,\n",
       "         'Abdul Ghaffar': 1,\n",
       "         'AP': 1,\n",
       "         'Amir Wasim | Javed Hussain | Nadir Guramani': 1,\n",
       "         'Jawaid Bokhari': 1,\n",
       "         'Dr Niaz Murtaza': 1,\n",
       "         'Amjad Iqbal': 1,\n",
       "         'Hamid Asghar': 1,\n",
       "         'APP': 2,\n",
       "         'Zulqernain Tahir': 1,\n",
       "         'Ghulam Hussain Khawaja': 1,\n",
       "         'Dawn Report': 1,\n",
       "         'Syed Irfan Raza': 1,\n",
       "         'Monitoring Desk': 1,\n",
       "         'Malik Asad': 1,\n",
       "         'Syed Ali Shah | APP': 1,\n",
       "         'dawn | Amir Wasim': 1,\n",
       "         'Javed Hussain': 1,\n",
       "         'Shakeel Qarar': 1,\n",
       "         'Umair Javed': 1,\n",
       "         'Nadir Cheema': 1,\n",
       "         'AFP': 2,\n",
       "         'Shafi Baloch': 1,\n",
       "         'Abdul Moiz Jaferii': 1,\n",
       "         'Khaleeq Kiani': 1,\n",
       "         'Ashfaq Yusufzai': 1,\n",
       "         'Aamir Yasin': 1,\n",
       "         'Majeed Gill': 1,\n",
       "         'Waseem Shamsi': 1,\n",
       "         'Afshan Subohi': 1,\n",
       "         'Shafiq Butt': 1,\n",
       "         'Amir Wasim': 1,\n",
       "         'Mansoor Malik': 1,\n",
       "         'dawn | Qazi Hassan': 1,\n",
       "         'dawn | Sirajuddin': 1})"
      ]
     },
     "execution_count": 15,
     "metadata": {},
     "output_type": "execute_result"
    }
   ],
   "source": [
    "# Number of articles for each author\n",
    "Counter(data.Author)"
   ]
  },
  {
   "cell_type": "code",
   "execution_count": 16,
   "metadata": {
    "ExecuteTime": {
     "end_time": "2019-02-01T18:41:47.376386Z",
     "start_time": "2019-02-01T18:41:47.231500Z"
    }
   },
   "outputs": [
    {
     "name": "stdout",
     "output_type": "stream",
     "text": [
      "Total size of dataset is : (162, 10)\n"
     ]
    }
   ],
   "source": [
    "print('Total size of dataset is :',data.shape)"
   ]
  },
  {
   "cell_type": "code",
   "execution_count": 17,
   "metadata": {
    "ExecuteTime": {
     "end_time": "2019-02-01T18:41:47.480924Z",
     "start_time": "2019-02-01T18:41:47.383870Z"
    }
   },
   "outputs": [
    {
     "name": "stdout",
     "output_type": "stream",
     "text": [
      "<class 'pandas.core.frame.DataFrame'>\n",
      "RangeIndex: 162 entries, 0 to 161\n",
      "Data columns (total 10 columns):\n",
      "News ID          162 non-null int64\n",
      "URL              162 non-null object\n",
      "Headline         162 non-null object\n",
      "Date             162 non-null object\n",
      "Content          162 non-null object\n",
      "Author           162 non-null object\n",
      "Publisher        162 non-null object\n",
      "News Category    162 non-null object\n",
      "Keywords         162 non-null object\n",
      "Label            162 non-null int64\n",
      "dtypes: int64(2), object(8)\n",
      "memory usage: 12.7+ KB\n"
     ]
    }
   ],
   "source": [
    "data.info()"
   ]
  },
  {
   "cell_type": "code",
   "execution_count": 18,
   "metadata": {
    "ExecuteTime": {
     "end_time": "2019-02-01T18:41:47.592434Z",
     "start_time": "2019-02-01T18:41:47.496172Z"
    }
   },
   "outputs": [
    {
     "name": "stdout",
     "output_type": "stream",
     "text": [
      "Range of the published articles is 2019-01-13 - 2019-01-17\n"
     ]
    }
   ],
   "source": [
    "print('Range of the published articles is',data.Date.min(),'-',data.Date.max())"
   ]
  },
  {
   "cell_type": "markdown",
   "metadata": {},
   "source": [
    " - Find importance of words using headlines and content seperately"
   ]
  },
  {
   "cell_type": "markdown",
   "metadata": {},
   "source": [
    "### Preprocessing"
   ]
  },
  {
   "cell_type": "code",
   "execution_count": 19,
   "metadata": {
    "ExecuteTime": {
     "end_time": "2019-02-01T18:41:47.695396Z",
     "start_time": "2019-02-01T18:41:47.598425Z"
    }
   },
   "outputs": [],
   "source": [
    "def remove_non_ascii(words):\n",
    "    words = [unicodedata.normalize('NFKD', word).encode('ascii', 'ignore').decode('utf-8', 'ignore') for word in words]\n",
    "    return words\n",
    "# The first pre-processing step which we will do is transform our tweets into lower case.\n",
    "# This avoids having multiple copies of the same words\n",
    "def to_lowercase(words):\n",
    "    words = [word.lower() for word in words]\n",
    "    return words\n",
    "# Removing punctuation to reduce the amount of the training data\n",
    "def remove_punctuation(words):\n",
    "    words = [re.sub(r'[^\\w\\s]', '', word) for word in words if re.sub(r'[^\\w\\s]', '', word) not in '']    \n",
    "    return words\n",
    "# Removing numbers from data since they aren't useful in this context.\n",
    "def replace_numbers(words):\n",
    "    words = [re.sub(r'[^\\w\\s]', '', word) for word in words]\n",
    "    return words\n",
    "def remove_stopwords(words):\n",
    "    words = [word for word in words if word not in stopwords.words('english')]\n",
    "    return words"
   ]
  },
  {
   "cell_type": "code",
   "execution_count": 20,
   "metadata": {
    "ExecuteTime": {
     "end_time": "2019-02-01T18:41:47.809675Z",
     "start_time": "2019-02-01T18:41:47.699885Z"
    }
   },
   "outputs": [],
   "source": [
    "def normalize(words):\n",
    "    words = remove_non_ascii(words)\n",
    "    words = to_lowercase(words)\n",
    "    words = remove_punctuation(words)\n",
    "    words = replace_numbers(words)\n",
    "    words = remove_stopwords(words)\n",
    "    return words"
   ]
  },
  {
   "cell_type": "code",
   "execution_count": 21,
   "metadata": {
    "ExecuteTime": {
     "end_time": "2019-02-01T18:42:49.201610Z",
     "start_time": "2019-02-01T18:41:47.814168Z"
    }
   },
   "outputs": [],
   "source": [
    "data['tokenized_Content'] = data['Content'].apply(word_tokenize)\n",
    "data['tokenized_Headline'] = data['Headline'].apply(word_tokenize)\n",
    "data['tokenized_Content'] = data['tokenized_Content'].apply(normalize)\n",
    "data['tokenized_Headline'] = data['tokenized_Headline'].apply(normalize)"
   ]
  },
  {
   "cell_type": "code",
   "execution_count": 22,
   "metadata": {
    "ExecuteTime": {
     "end_time": "2019-02-01T18:42:49.219577Z",
     "start_time": "2019-02-01T18:42:49.208099Z"
    }
   },
   "outputs": [],
   "source": [
    "# data['tokenized_Keywords'] = data['Keywords'].apply(word_tokenize)\n",
    "# data['tokenized_Keywords'] = data['tokenized_Keywords'].apply(normalize)"
   ]
  },
  {
   "cell_type": "code",
   "execution_count": 23,
   "metadata": {
    "ExecuteTime": {
     "end_time": "2019-02-01T18:42:49.416702Z",
     "start_time": "2019-02-01T18:42:49.227063Z"
    }
   },
   "outputs": [
    {
     "data": {
      "text/plain": [
       "['profile', 'pakistan', 'next', 'chief', 'justice', 'asif', 'saeed', 'khosa']"
      ]
     },
     "execution_count": 23,
     "metadata": {},
     "output_type": "execute_result"
    }
   ],
   "source": [
    "data['tokenized_Headline'][5]"
   ]
  },
  {
   "cell_type": "code",
   "execution_count": 24,
   "metadata": {
    "ExecuteTime": {
     "end_time": "2019-02-01T18:42:49.652752Z",
     "start_time": "2019-02-01T18:42:49.420195Z"
    }
   },
   "outputs": [
    {
     "data": {
      "text/html": [
       "<div>\n",
       "<style scoped>\n",
       "    .dataframe tbody tr th:only-of-type {\n",
       "        vertical-align: middle;\n",
       "    }\n",
       "\n",
       "    .dataframe tbody tr th {\n",
       "        vertical-align: top;\n",
       "    }\n",
       "\n",
       "    .dataframe thead th {\n",
       "        text-align: right;\n",
       "    }\n",
       "</style>\n",
       "<table border=\"1\" class=\"dataframe\">\n",
       "  <thead>\n",
       "    <tr style=\"text-align: right;\">\n",
       "      <th></th>\n",
       "      <th>News ID</th>\n",
       "      <th>URL</th>\n",
       "      <th>Headline</th>\n",
       "      <th>Date</th>\n",
       "      <th>Content</th>\n",
       "      <th>Author</th>\n",
       "      <th>Publisher</th>\n",
       "      <th>News Category</th>\n",
       "      <th>Keywords</th>\n",
       "      <th>Label</th>\n",
       "      <th>tokenized_Content</th>\n",
       "      <th>tokenized_Headline</th>\n",
       "    </tr>\n",
       "  </thead>\n",
       "  <tbody>\n",
       "    <tr>\n",
       "      <th>0</th>\n",
       "      <td>0</td>\n",
       "      <td>https://www.dawn.com/news/1458127/mbbs-student...</td>\n",
       "      <td>MBBS student found dead in hostel room at Jams...</td>\n",
       "      <td>2019-01-17</td>\n",
       "      <td>A third-year MBBS student was found shot dead ...</td>\n",
       "      <td>Mohammad Hussain Khan</td>\n",
       "      <td>Dawn</td>\n",
       "      <td>Mental health</td>\n",
       "      <td>Jamshoro, youth, suicide, mental health</td>\n",
       "      <td>1</td>\n",
       "      <td>[thirdyear, mbbs, student, found, shot, dead, ...</td>\n",
       "      <td>[mbbs, student, found, dead, hostel, room, jam...</td>\n",
       "    </tr>\n",
       "    <tr>\n",
       "      <th>1</th>\n",
       "      <td>1</td>\n",
       "      <td>https://www.dawn.com/news/1458129/govt-decides...</td>\n",
       "      <td>Govt decides to remove names of Bilawal, Murad...</td>\n",
       "      <td>2019-01-17</td>\n",
       "      <td>The federal cabinet has decided to remove the ...</td>\n",
       "      <td>Sanaullah Khan | Javed Hussain</td>\n",
       "      <td>Dawn</td>\n",
       "      <td>Politics</td>\n",
       "      <td>Islamabad, Sindh, PPP, ECL</td>\n",
       "      <td>1</td>\n",
       "      <td>[federal, cabinet, decided, remove, names, ppp...</td>\n",
       "      <td>[govt, decides, remove, names, bilawal, murad,...</td>\n",
       "    </tr>\n",
       "    <tr>\n",
       "      <th>2</th>\n",
       "      <td>2</td>\n",
       "      <td>https://www.dawn.com/news/1458125/afghan-presi...</td>\n",
       "      <td>Afghan president thanks PM Khan for Pakistan's...</td>\n",
       "      <td>2019-01-17</td>\n",
       "      <td>Afghan President Ashraf Ghani on Thursday tele...</td>\n",
       "      <td>Sanaullah Khan</td>\n",
       "      <td>Dawn</td>\n",
       "      <td>Foreign Affairs</td>\n",
       "      <td>Afghanistan, foreign affairs, Imran Khan, Ashr...</td>\n",
       "      <td>1</td>\n",
       "      <td>[afghan, president, ashraf, ghani, thursday, t...</td>\n",
       "      <td>[afghan, president, thanks, pm, khan, pakistan...</td>\n",
       "    </tr>\n",
       "    <tr>\n",
       "      <th>3</th>\n",
       "      <td>3</td>\n",
       "      <td>https://www.dawn.com/news/1458123/mehwish-haya...</td>\n",
       "      <td>Mehwish Hayat acts out her musical dreams in n...</td>\n",
       "      <td>2019-01-17</td>\n",
       "      <td>Director and script writer Wajahat Rauf unveil...</td>\n",
       "      <td>dawn</td>\n",
       "      <td>Dawn</td>\n",
       "      <td>Entertainment</td>\n",
       "      <td>Mehwish Hayat, Enaaya, Azfar Rehman, Wajahat Rauf</td>\n",
       "      <td>-1</td>\n",
       "      <td>[director, script, writer, wajahat, rauf, unve...</td>\n",
       "      <td>[mehwish, hayat, acts, musical, dreams, new, w...</td>\n",
       "    </tr>\n",
       "    <tr>\n",
       "      <th>4</th>\n",
       "      <td>4</td>\n",
       "      <td>https://www.dawn.com/news/1458118/complete-tex...</td>\n",
       "      <td>Complete text of address by Justice Asif Saeed...</td>\n",
       "      <td>2019-01-17</td>\n",
       "      <td>Complete address by Justice Asif Saeed Khosa o...</td>\n",
       "      <td>dawn</td>\n",
       "      <td>Dawn</td>\n",
       "      <td>Judiciary</td>\n",
       "      <td>Islamabad, Asif Khosa, Supreme Court, Saqib Nisar</td>\n",
       "      <td>1</td>\n",
       "      <td>[complete, address, justice, asif, saeed, khos...</td>\n",
       "      <td>[complete, text, address, justice, asif, saeed...</td>\n",
       "    </tr>\n",
       "  </tbody>\n",
       "</table>\n",
       "</div>"
      ],
      "text/plain": [
       "   News ID                                                URL  \\\n",
       "0        0  https://www.dawn.com/news/1458127/mbbs-student...   \n",
       "1        1  https://www.dawn.com/news/1458129/govt-decides...   \n",
       "2        2  https://www.dawn.com/news/1458125/afghan-presi...   \n",
       "3        3  https://www.dawn.com/news/1458123/mehwish-haya...   \n",
       "4        4  https://www.dawn.com/news/1458118/complete-tex...   \n",
       "\n",
       "                                            Headline        Date  \\\n",
       "0  MBBS student found dead in hostel room at Jams...  2019-01-17   \n",
       "1  Govt decides to remove names of Bilawal, Murad...  2019-01-17   \n",
       "2  Afghan president thanks PM Khan for Pakistan's...  2019-01-17   \n",
       "3  Mehwish Hayat acts out her musical dreams in n...  2019-01-17   \n",
       "4  Complete text of address by Justice Asif Saeed...  2019-01-17   \n",
       "\n",
       "                                             Content  \\\n",
       "0  A third-year MBBS student was found shot dead ...   \n",
       "1  The federal cabinet has decided to remove the ...   \n",
       "2  Afghan President Ashraf Ghani on Thursday tele...   \n",
       "3  Director and script writer Wajahat Rauf unveil...   \n",
       "4  Complete address by Justice Asif Saeed Khosa o...   \n",
       "\n",
       "                           Author Publisher    News Category  \\\n",
       "0           Mohammad Hussain Khan      Dawn    Mental health   \n",
       "1  Sanaullah Khan | Javed Hussain      Dawn         Politics   \n",
       "2                  Sanaullah Khan      Dawn  Foreign Affairs   \n",
       "3                            dawn      Dawn    Entertainment   \n",
       "4                            dawn      Dawn        Judiciary   \n",
       "\n",
       "                                            Keywords  Label  \\\n",
       "0            Jamshoro, youth, suicide, mental health      1   \n",
       "1                         Islamabad, Sindh, PPP, ECL      1   \n",
       "2  Afghanistan, foreign affairs, Imran Khan, Ashr...      1   \n",
       "3  Mehwish Hayat, Enaaya, Azfar Rehman, Wajahat Rauf     -1   \n",
       "4  Islamabad, Asif Khosa, Supreme Court, Saqib Nisar      1   \n",
       "\n",
       "                                   tokenized_Content  \\\n",
       "0  [thirdyear, mbbs, student, found, shot, dead, ...   \n",
       "1  [federal, cabinet, decided, remove, names, ppp...   \n",
       "2  [afghan, president, ashraf, ghani, thursday, t...   \n",
       "3  [director, script, writer, wajahat, rauf, unve...   \n",
       "4  [complete, address, justice, asif, saeed, khos...   \n",
       "\n",
       "                                  tokenized_Headline  \n",
       "0  [mbbs, student, found, dead, hostel, room, jam...  \n",
       "1  [govt, decides, remove, names, bilawal, murad,...  \n",
       "2  [afghan, president, thanks, pm, khan, pakistan...  \n",
       "3  [mehwish, hayat, acts, musical, dreams, new, w...  \n",
       "4  [complete, text, address, justice, asif, saeed...  "
      ]
     },
     "execution_count": 24,
     "metadata": {},
     "output_type": "execute_result"
    }
   ],
   "source": [
    "data.head()"
   ]
  },
  {
   "cell_type": "code",
   "execution_count": 25,
   "metadata": {
    "ExecuteTime": {
     "end_time": "2019-02-01T18:42:49.913756Z",
     "start_time": "2019-02-01T18:42:49.659742Z"
    }
   },
   "outputs": [],
   "source": [
    "# Saving the clean data to a csv file\n",
    "data.to_csv(\"preprocessed.csv\",index=False)"
   ]
  },
  {
   "cell_type": "code",
   "execution_count": 3,
   "metadata": {
    "ExecuteTime": {
     "end_time": "2019-02-02T12:46:20.889600Z",
     "start_time": "2019-02-02T12:46:20.198687Z"
    }
   },
   "outputs": [
    {
     "data": {
      "text/html": [
       "<div>\n",
       "<style scoped>\n",
       "    .dataframe tbody tr th:only-of-type {\n",
       "        vertical-align: middle;\n",
       "    }\n",
       "\n",
       "    .dataframe tbody tr th {\n",
       "        vertical-align: top;\n",
       "    }\n",
       "\n",
       "    .dataframe thead th {\n",
       "        text-align: right;\n",
       "    }\n",
       "</style>\n",
       "<table border=\"1\" class=\"dataframe\">\n",
       "  <thead>\n",
       "    <tr style=\"text-align: right;\">\n",
       "      <th></th>\n",
       "      <th>News ID</th>\n",
       "      <th>URL</th>\n",
       "      <th>Headline</th>\n",
       "      <th>Date</th>\n",
       "      <th>Content</th>\n",
       "      <th>Author</th>\n",
       "      <th>Publisher</th>\n",
       "      <th>News Category</th>\n",
       "      <th>Keywords</th>\n",
       "      <th>Label</th>\n",
       "      <th>tokenized_Content</th>\n",
       "      <th>tokenized_Headline</th>\n",
       "    </tr>\n",
       "  </thead>\n",
       "  <tbody>\n",
       "    <tr>\n",
       "      <th>0</th>\n",
       "      <td>0</td>\n",
       "      <td>https://www.dawn.com/news/1458127/mbbs-student...</td>\n",
       "      <td>MBBS student found dead in hostel room at Jams...</td>\n",
       "      <td>2019-01-17</td>\n",
       "      <td>A third-year MBBS student was found shot dead ...</td>\n",
       "      <td>Mohammad Hussain Khan</td>\n",
       "      <td>Dawn</td>\n",
       "      <td>Mental health</td>\n",
       "      <td>Jamshoro, youth, suicide, mental health</td>\n",
       "      <td>1</td>\n",
       "      <td>['thirdyear', 'mbbs', 'student', 'found', 'sho...</td>\n",
       "      <td>['mbbs', 'student', 'found', 'dead', 'hostel',...</td>\n",
       "    </tr>\n",
       "    <tr>\n",
       "      <th>1</th>\n",
       "      <td>1</td>\n",
       "      <td>https://www.dawn.com/news/1458129/govt-decides...</td>\n",
       "      <td>Govt decides to remove names of Bilawal, Murad...</td>\n",
       "      <td>2019-01-17</td>\n",
       "      <td>The federal cabinet has decided to remove the ...</td>\n",
       "      <td>Sanaullah Khan | Javed Hussain</td>\n",
       "      <td>Dawn</td>\n",
       "      <td>Politics</td>\n",
       "      <td>Islamabad, Sindh, PPP, ECL</td>\n",
       "      <td>1</td>\n",
       "      <td>['federal', 'cabinet', 'decided', 'remove', 'n...</td>\n",
       "      <td>['govt', 'decides', 'remove', 'names', 'bilawa...</td>\n",
       "    </tr>\n",
       "    <tr>\n",
       "      <th>2</th>\n",
       "      <td>2</td>\n",
       "      <td>https://www.dawn.com/news/1458125/afghan-presi...</td>\n",
       "      <td>Afghan president thanks PM Khan for Pakistan's...</td>\n",
       "      <td>2019-01-17</td>\n",
       "      <td>Afghan President Ashraf Ghani on Thursday tele...</td>\n",
       "      <td>Sanaullah Khan</td>\n",
       "      <td>Dawn</td>\n",
       "      <td>Foreign Affairs</td>\n",
       "      <td>Afghanistan, foreign affairs, Imran Khan, Ashr...</td>\n",
       "      <td>1</td>\n",
       "      <td>['afghan', 'president', 'ashraf', 'ghani', 'th...</td>\n",
       "      <td>['afghan', 'president', 'thanks', 'pm', 'khan'...</td>\n",
       "    </tr>\n",
       "    <tr>\n",
       "      <th>3</th>\n",
       "      <td>3</td>\n",
       "      <td>https://www.dawn.com/news/1458123/mehwish-haya...</td>\n",
       "      <td>Mehwish Hayat acts out her musical dreams in n...</td>\n",
       "      <td>2019-01-17</td>\n",
       "      <td>Director and script writer Wajahat Rauf unveil...</td>\n",
       "      <td>dawn</td>\n",
       "      <td>Dawn</td>\n",
       "      <td>Entertainment</td>\n",
       "      <td>Mehwish Hayat, Enaaya, Azfar Rehman, Wajahat Rauf</td>\n",
       "      <td>-1</td>\n",
       "      <td>['director', 'script', 'writer', 'wajahat', 'r...</td>\n",
       "      <td>['mehwish', 'hayat', 'acts', 'musical', 'dream...</td>\n",
       "    </tr>\n",
       "    <tr>\n",
       "      <th>4</th>\n",
       "      <td>4</td>\n",
       "      <td>https://www.dawn.com/news/1458118/complete-tex...</td>\n",
       "      <td>Complete text of address by Justice Asif Saeed...</td>\n",
       "      <td>2019-01-17</td>\n",
       "      <td>Complete address by Justice Asif Saeed Khosa o...</td>\n",
       "      <td>dawn</td>\n",
       "      <td>Dawn</td>\n",
       "      <td>Judiciary</td>\n",
       "      <td>Islamabad, Asif Khosa, Supreme Court, Saqib Nisar</td>\n",
       "      <td>1</td>\n",
       "      <td>['complete', 'address', 'justice', 'asif', 'sa...</td>\n",
       "      <td>['complete', 'text', 'address', 'justice', 'as...</td>\n",
       "    </tr>\n",
       "  </tbody>\n",
       "</table>\n",
       "</div>"
      ],
      "text/plain": [
       "   News ID                                                URL  \\\n",
       "0        0  https://www.dawn.com/news/1458127/mbbs-student...   \n",
       "1        1  https://www.dawn.com/news/1458129/govt-decides...   \n",
       "2        2  https://www.dawn.com/news/1458125/afghan-presi...   \n",
       "3        3  https://www.dawn.com/news/1458123/mehwish-haya...   \n",
       "4        4  https://www.dawn.com/news/1458118/complete-tex...   \n",
       "\n",
       "                                            Headline        Date  \\\n",
       "0  MBBS student found dead in hostel room at Jams...  2019-01-17   \n",
       "1  Govt decides to remove names of Bilawal, Murad...  2019-01-17   \n",
       "2  Afghan president thanks PM Khan for Pakistan's...  2019-01-17   \n",
       "3  Mehwish Hayat acts out her musical dreams in n...  2019-01-17   \n",
       "4  Complete text of address by Justice Asif Saeed...  2019-01-17   \n",
       "\n",
       "                                             Content  \\\n",
       "0  A third-year MBBS student was found shot dead ...   \n",
       "1  The federal cabinet has decided to remove the ...   \n",
       "2  Afghan President Ashraf Ghani on Thursday tele...   \n",
       "3  Director and script writer Wajahat Rauf unveil...   \n",
       "4  Complete address by Justice Asif Saeed Khosa o...   \n",
       "\n",
       "                           Author Publisher    News Category  \\\n",
       "0           Mohammad Hussain Khan      Dawn    Mental health   \n",
       "1  Sanaullah Khan | Javed Hussain      Dawn         Politics   \n",
       "2                  Sanaullah Khan      Dawn  Foreign Affairs   \n",
       "3                            dawn      Dawn    Entertainment   \n",
       "4                            dawn      Dawn        Judiciary   \n",
       "\n",
       "                                            Keywords  Label  \\\n",
       "0            Jamshoro, youth, suicide, mental health      1   \n",
       "1                         Islamabad, Sindh, PPP, ECL      1   \n",
       "2  Afghanistan, foreign affairs, Imran Khan, Ashr...      1   \n",
       "3  Mehwish Hayat, Enaaya, Azfar Rehman, Wajahat Rauf     -1   \n",
       "4  Islamabad, Asif Khosa, Supreme Court, Saqib Nisar      1   \n",
       "\n",
       "                                   tokenized_Content  \\\n",
       "0  ['thirdyear', 'mbbs', 'student', 'found', 'sho...   \n",
       "1  ['federal', 'cabinet', 'decided', 'remove', 'n...   \n",
       "2  ['afghan', 'president', 'ashraf', 'ghani', 'th...   \n",
       "3  ['director', 'script', 'writer', 'wajahat', 'r...   \n",
       "4  ['complete', 'address', 'justice', 'asif', 'sa...   \n",
       "\n",
       "                                  tokenized_Headline  \n",
       "0  ['mbbs', 'student', 'found', 'dead', 'hostel',...  \n",
       "1  ['govt', 'decides', 'remove', 'names', 'bilawa...  \n",
       "2  ['afghan', 'president', 'thanks', 'pm', 'khan'...  \n",
       "3  ['mehwish', 'hayat', 'acts', 'musical', 'dream...  \n",
       "4  ['complete', 'text', 'address', 'justice', 'as...  "
      ]
     },
     "execution_count": 3,
     "metadata": {},
     "output_type": "execute_result"
    }
   ],
   "source": [
    "data = pd.read_csv('preprocessed.csv')\n",
    "data.head()"
   ]
  },
  {
   "cell_type": "markdown",
   "metadata": {},
   "source": [
    "TF: How frequently a term occurs in a document. Since every document is different in length, it is possible that a term would appear much more times in long documents than shorter ones. Thus, the term frequency is often divided by the document length (the total number of terms in the document) as a way of normalization: \n",
    "\n",
    "TF(t) = (Number of times term t appears in a document) / (Total number of terms in the document).\n",
    "\n",
    "IDF: Measures how important a term is. While computing TF, all terms are considered equally important. However it is known that certain terms, such as \"is\", \"of\", and \"that\", may appear a lot of times but have little importance. Thus we need to weigh down the frequent terms while scale up the rare ones, by computing the following: \n",
    "\n",
    "IDF(t) = log_e(Total number of documents / Number of documents with term t in it).\n",
    "\n",
    "- TFIDF = TF x TDF\n",
    "- Does not consider word ordering and context. \n",
    "- It is possible for two articles that are similar in their word counts to be totally different in their meaning."
   ]
  },
  {
   "cell_type": "code",
   "execution_count": 27,
   "metadata": {
    "ExecuteTime": {
     "end_time": "2019-02-01T18:42:51.241735Z",
     "start_time": "2019-02-01T18:42:50.137830Z"
    }
   },
   "outputs": [],
   "source": [
    "tdf = TfidfVectorizer(stop_words='english',ngram_range=(1,2))\n",
    "vectorizer = tdf.fit(data.tokenized_Content)\n",
    "transformed_text = vectorizer.transform(data.tokenized_Content)"
   ]
  },
  {
   "cell_type": "code",
   "execution_count": 28,
   "metadata": {
    "ExecuteTime": {
     "end_time": "2019-02-01T18:42:51.255206Z",
     "start_time": "2019-02-01T18:42:51.246221Z"
    }
   },
   "outputs": [
    {
     "data": {
      "text/plain": [
       "<162x46230 sparse matrix of type '<class 'numpy.float64'>'\n",
       "\twith 71166 stored elements in Compressed Sparse Row format>"
      ]
     },
     "execution_count": 28,
     "metadata": {},
     "output_type": "execute_result"
    }
   ],
   "source": [
    "transformed_text"
   ]
  },
  {
   "cell_type": "code",
   "execution_count": 31,
   "metadata": {
    "ExecuteTime": {
     "end_time": "2019-02-01T18:42:51.730801Z",
     "start_time": "2019-02-01T18:42:51.542659Z"
    }
   },
   "outputs": [
    {
     "data": {
      "text/plain": [
       "46230"
      ]
     },
     "execution_count": 31,
     "metadata": {},
     "output_type": "execute_result"
    }
   ],
   "source": [
    "# features created by TFIDF\n",
    "feature_names = tdf.get_feature_names()\n",
    "len(feature_names)"
   ]
  },
  {
   "cell_type": "code",
   "execution_count": 32,
   "metadata": {
    "ExecuteTime": {
     "end_time": "2019-02-01T18:42:51.844585Z",
     "start_time": "2019-02-01T18:42:51.736789Z"
    }
   },
   "outputs": [],
   "source": [
    "def tfidf_scores(feature_names):\n",
    "    \"Returns dictionary with term names and total tfidf scores for all terms in corpus\"\n",
    "# We take transpose so that for each word we can see the tfidf score acorss each row.\n",
    "#For total tfidf of one word we add all the values of that word across all the documents.\n",
    "#array is of size 398(number of rows in data)\n",
    "# For each term we are adding its 398 matrix\n",
    "    term_dict = {}\n",
    "    for i,term in enumerate(feature_names):\n",
    "        term_name = feature_names[i]\n",
    "        term_dict[term_name] = np.sum(transformed_text.T[i].toarray())   \n",
    "    return term_dict"
   ]
  },
  {
   "cell_type": "code",
   "execution_count": 33,
   "metadata": {
    "ExecuteTime": {
     "end_time": "2019-02-01T18:43:43.851679Z",
     "start_time": "2019-02-01T18:42:51.848576Z"
    }
   },
   "outputs": [],
   "source": [
    "term_dict = tfidf_scores(feature_names)"
   ]
  },
  {
   "cell_type": "code",
   "execution_count": 34,
   "metadata": {
    "ExecuteTime": {
     "end_time": "2019-02-01T18:43:43.878128Z",
     "start_time": "2019-02-01T18:43:43.855671Z"
    }
   },
   "outputs": [
    {
     "name": "stdout",
     "output_type": "stream",
     "text": [
      "Number of terms/keys are:  46230\n"
     ]
    }
   ],
   "source": [
    "print ('Number of terms/keys are: ',len(term_dict.keys()))"
   ]
  },
  {
   "cell_type": "code",
   "execution_count": 35,
   "metadata": {
    "ExecuteTime": {
     "end_time": "2019-02-01T18:43:44.034333Z",
     "start_time": "2019-02-01T18:43:43.889607Z"
    }
   },
   "outputs": [],
   "source": [
    "def sorted_tfidf_scores(term_dict):\n",
    "# [::-1] Gives the index in descending order.  \n",
    "    sort_index = np.argsort(list(term_dict.values()))[::-1]\n",
    "    terms = np.array(list(term_dict.keys()))\n",
    "    scores = np.array(list(term_dict.values()))\n",
    "    terms = terms[sort_index]\n",
    "    scores = scores[sort_index]\n",
    "    return terms, scores"
   ]
  },
  {
   "cell_type": "code",
   "execution_count": 36,
   "metadata": {
    "ExecuteTime": {
     "end_time": "2019-02-01T18:43:44.214489Z",
     "start_time": "2019-02-01T18:43:44.037325Z"
    }
   },
   "outputs": [],
   "source": [
    "terms, scores = sorted_tfidf_scores(term_dict)"
   ]
  },
  {
   "cell_type": "code",
   "execution_count": 37,
   "metadata": {
    "ExecuteTime": {
     "end_time": "2019-02-01T18:43:44.276869Z",
     "start_time": "2019-02-01T18:43:44.217483Z"
    }
   },
   "outputs": [],
   "source": [
    "\"Returns plot accordng to importance of top N terms/words\"\n",
    "def plot(scores,terms, words = 30):\n",
    "    fig = plt.figure(figsize = (20, 20))\n",
    "    override = {'fontsize': 'large'}\n",
    "    sb.barplot(x = scores[:words], y = terms[:words]);\n",
    "    plt.title(\"Importance of Top {0} Terms\".format(words),fontsize = 40)\n",
    "    plt.xlabel(\"TFIDF Score\",fontsize = 30)"
   ]
  },
  {
   "cell_type": "code",
   "execution_count": 38,
   "metadata": {
    "ExecuteTime": {
     "end_time": "2019-02-01T18:43:47.116968Z",
     "start_time": "2019-02-01T18:43:44.282859Z"
    }
   },
   "outputs": [
    {
     "data": {
      "image/png": "[encoded data removed]",
      "text/plain": [
       "<Figure size 1440x1440 with 1 Axes>"
      ]
     },
     "metadata": {
      "image/png": {
       "height": 1188,
       "width": 1212
      },
      "needs_background": "light"
     },
     "output_type": "display_data"
    }
   ],
   "source": [
    "plot(scores, terms, words = 30)"
   ]
  },
  {
   "cell_type": "markdown",
   "metadata": {},
   "source": [
    "We can see from the above plot that the most common news in the scope of our data is related to goverment,justice, police which comes under the category of politics."
   ]
  },
  {
   "cell_type": "code",
   "execution_count": 39,
   "metadata": {
    "ExecuteTime": {
     "end_time": "2019-02-01T18:43:47.174861Z",
     "start_time": "2019-02-01T18:43:47.121959Z"
    }
   },
   "outputs": [
    {
     "data": {
      "text/html": [
       "<div>\n",
       "<style scoped>\n",
       "    .dataframe tbody tr th:only-of-type {\n",
       "        vertical-align: middle;\n",
       "    }\n",
       "\n",
       "    .dataframe tbody tr th {\n",
       "        vertical-align: top;\n",
       "    }\n",
       "\n",
       "    .dataframe thead th {\n",
       "        text-align: right;\n",
       "    }\n",
       "</style>\n",
       "<table border=\"1\" class=\"dataframe\">\n",
       "  <thead>\n",
       "    <tr style=\"text-align: right;\">\n",
       "      <th></th>\n",
       "      <th>News ID</th>\n",
       "      <th>URL</th>\n",
       "      <th>Headline</th>\n",
       "      <th>Date</th>\n",
       "      <th>Content</th>\n",
       "      <th>Author</th>\n",
       "      <th>Publisher</th>\n",
       "      <th>News Category</th>\n",
       "      <th>Keywords</th>\n",
       "      <th>Label</th>\n",
       "      <th>tokenized_Content</th>\n",
       "      <th>tokenized_Headline</th>\n",
       "      <th>Length</th>\n",
       "    </tr>\n",
       "  </thead>\n",
       "  <tbody>\n",
       "    <tr>\n",
       "      <th>0</th>\n",
       "      <td>0</td>\n",
       "      <td>https://www.dawn.com/news/1458127/mbbs-student...</td>\n",
       "      <td>MBBS student found dead in hostel room at Jams...</td>\n",
       "      <td>2019-01-17</td>\n",
       "      <td>A third-year MBBS student was found shot dead ...</td>\n",
       "      <td>Mohammad Hussain Khan</td>\n",
       "      <td>Dawn</td>\n",
       "      <td>Mental health</td>\n",
       "      <td>Jamshoro, youth, suicide, mental health</td>\n",
       "      <td>1</td>\n",
       "      <td>['thirdyear', 'mbbs', 'student', 'found', 'sho...</td>\n",
       "      <td>['mbbs', 'student', 'found', 'dead', 'hostel',...</td>\n",
       "      <td>73</td>\n",
       "    </tr>\n",
       "    <tr>\n",
       "      <th>1</th>\n",
       "      <td>1</td>\n",
       "      <td>https://www.dawn.com/news/1458129/govt-decides...</td>\n",
       "      <td>Govt decides to remove names of Bilawal, Murad...</td>\n",
       "      <td>2019-01-17</td>\n",
       "      <td>The federal cabinet has decided to remove the ...</td>\n",
       "      <td>Sanaullah Khan | Javed Hussain</td>\n",
       "      <td>Dawn</td>\n",
       "      <td>Politics</td>\n",
       "      <td>Islamabad, Sindh, PPP, ECL</td>\n",
       "      <td>1</td>\n",
       "      <td>['federal', 'cabinet', 'decided', 'remove', 'n...</td>\n",
       "      <td>['govt', 'decides', 'remove', 'names', 'bilawa...</td>\n",
       "      <td>59</td>\n",
       "    </tr>\n",
       "    <tr>\n",
       "      <th>2</th>\n",
       "      <td>2</td>\n",
       "      <td>https://www.dawn.com/news/1458125/afghan-presi...</td>\n",
       "      <td>Afghan president thanks PM Khan for Pakistan's...</td>\n",
       "      <td>2019-01-17</td>\n",
       "      <td>Afghan President Ashraf Ghani on Thursday tele...</td>\n",
       "      <td>Sanaullah Khan</td>\n",
       "      <td>Dawn</td>\n",
       "      <td>Foreign Affairs</td>\n",
       "      <td>Afghanistan, foreign affairs, Imran Khan, Ashr...</td>\n",
       "      <td>1</td>\n",
       "      <td>['afghan', 'president', 'ashraf', 'ghani', 'th...</td>\n",
       "      <td>['afghan', 'president', 'thanks', 'pm', 'khan'...</td>\n",
       "      <td>90</td>\n",
       "    </tr>\n",
       "    <tr>\n",
       "      <th>3</th>\n",
       "      <td>3</td>\n",
       "      <td>https://www.dawn.com/news/1458123/mehwish-haya...</td>\n",
       "      <td>Mehwish Hayat acts out her musical dreams in n...</td>\n",
       "      <td>2019-01-17</td>\n",
       "      <td>Director and script writer Wajahat Rauf unveil...</td>\n",
       "      <td>dawn</td>\n",
       "      <td>Dawn</td>\n",
       "      <td>Entertainment</td>\n",
       "      <td>Mehwish Hayat, Enaaya, Azfar Rehman, Wajahat Rauf</td>\n",
       "      <td>-1</td>\n",
       "      <td>['director', 'script', 'writer', 'wajahat', 'r...</td>\n",
       "      <td>['mehwish', 'hayat', 'acts', 'musical', 'dream...</td>\n",
       "      <td>71</td>\n",
       "    </tr>\n",
       "    <tr>\n",
       "      <th>4</th>\n",
       "      <td>4</td>\n",
       "      <td>https://www.dawn.com/news/1458118/complete-tex...</td>\n",
       "      <td>Complete text of address by Justice Asif Saeed...</td>\n",
       "      <td>2019-01-17</td>\n",
       "      <td>Complete address by Justice Asif Saeed Khosa o...</td>\n",
       "      <td>dawn</td>\n",
       "      <td>Dawn</td>\n",
       "      <td>Judiciary</td>\n",
       "      <td>Islamabad, Asif Khosa, Supreme Court, Saqib Nisar</td>\n",
       "      <td>1</td>\n",
       "      <td>['complete', 'address', 'justice', 'asif', 'sa...</td>\n",
       "      <td>['complete', 'text', 'address', 'justice', 'as...</td>\n",
       "      <td>94</td>\n",
       "    </tr>\n",
       "  </tbody>\n",
       "</table>\n",
       "</div>"
      ],
      "text/plain": [
       "   News ID                                                URL  \\\n",
       "0        0  https://www.dawn.com/news/1458127/mbbs-student...   \n",
       "1        1  https://www.dawn.com/news/1458129/govt-decides...   \n",
       "2        2  https://www.dawn.com/news/1458125/afghan-presi...   \n",
       "3        3  https://www.dawn.com/news/1458123/mehwish-haya...   \n",
       "4        4  https://www.dawn.com/news/1458118/complete-tex...   \n",
       "\n",
       "                                            Headline        Date  \\\n",
       "0  MBBS student found dead in hostel room at Jams...  2019-01-17   \n",
       "1  Govt decides to remove names of Bilawal, Murad...  2019-01-17   \n",
       "2  Afghan president thanks PM Khan for Pakistan's...  2019-01-17   \n",
       "3  Mehwish Hayat acts out her musical dreams in n...  2019-01-17   \n",
       "4  Complete text of address by Justice Asif Saeed...  2019-01-17   \n",
       "\n",
       "                                             Content  \\\n",
       "0  A third-year MBBS student was found shot dead ...   \n",
       "1  The federal cabinet has decided to remove the ...   \n",
       "2  Afghan President Ashraf Ghani on Thursday tele...   \n",
       "3  Director and script writer Wajahat Rauf unveil...   \n",
       "4  Complete address by Justice Asif Saeed Khosa o...   \n",
       "\n",
       "                           Author Publisher    News Category  \\\n",
       "0           Mohammad Hussain Khan      Dawn    Mental health   \n",
       "1  Sanaullah Khan | Javed Hussain      Dawn         Politics   \n",
       "2                  Sanaullah Khan      Dawn  Foreign Affairs   \n",
       "3                            dawn      Dawn    Entertainment   \n",
       "4                            dawn      Dawn        Judiciary   \n",
       "\n",
       "                                            Keywords  Label  \\\n",
       "0            Jamshoro, youth, suicide, mental health      1   \n",
       "1                         Islamabad, Sindh, PPP, ECL      1   \n",
       "2  Afghanistan, foreign affairs, Imran Khan, Ashr...      1   \n",
       "3  Mehwish Hayat, Enaaya, Azfar Rehman, Wajahat Rauf     -1   \n",
       "4  Islamabad, Asif Khosa, Supreme Court, Saqib Nisar      1   \n",
       "\n",
       "                                   tokenized_Content  \\\n",
       "0  ['thirdyear', 'mbbs', 'student', 'found', 'sho...   \n",
       "1  ['federal', 'cabinet', 'decided', 'remove', 'n...   \n",
       "2  ['afghan', 'president', 'ashraf', 'ghani', 'th...   \n",
       "3  ['director', 'script', 'writer', 'wajahat', 'r...   \n",
       "4  ['complete', 'address', 'justice', 'asif', 'sa...   \n",
       "\n",
       "                                  tokenized_Headline  Length  \n",
       "0  ['mbbs', 'student', 'found', 'dead', 'hostel',...      73  \n",
       "1  ['govt', 'decides', 'remove', 'names', 'bilawa...      59  \n",
       "2  ['afghan', 'president', 'thanks', 'pm', 'khan'...      90  \n",
       "3  ['mehwish', 'hayat', 'acts', 'musical', 'dream...      71  \n",
       "4  ['complete', 'text', 'address', 'justice', 'as...      94  "
      ]
     },
     "execution_count": 39,
     "metadata": {},
     "output_type": "execute_result"
    }
   ],
   "source": [
    "data['Length'] = [len(headline) for headline in data['Headline']]\n",
    "data.head()"
   ]
  },
  {
   "cell_type": "markdown",
   "metadata": {},
   "source": [
    "- From now onwards we will try to find the best model and features according to our data using exhaustive research."
   ]
  },
  {
   "cell_type": "markdown",
   "metadata": {},
   "source": [
    "### Grid Search \n",
    "- We perform grid search for all the models and features to find the best combination of model, features and hyperparameters."
   ]
  },
  {
   "cell_type": "markdown",
   "metadata": {},
   "source": [
    "#### Logistic Regression with TFIDF"
   ]
  },
  {
   "cell_type": "code",
   "execution_count": 4,
   "metadata": {
    "ExecuteTime": {
     "end_time": "2019-02-02T12:46:45.122071Z",
     "start_time": "2019-02-02T12:46:45.078657Z"
    }
   },
   "outputs": [
    {
     "name": "stdout",
     "output_type": "stream",
     "text": [
      "X_train (129,)\n",
      "X_test (33,)\n",
      "y_train (129,)\n",
      "y_test (33,)\n"
     ]
    }
   ],
   "source": [
    "X = data.tokenized_Content\n",
    "y = data['Label']\n",
    "X_train, X_test, y_train, y_test = train_test_split(X,y, test_size = 0.2, random_state=1234)\n",
    "print('X_train',X_train.shape)\n",
    "print('X_test',X_test.shape)\n",
    "print('y_train',y_train.shape)\n",
    "print('y_test',y_test.shape)"
   ]
  },
  {
   "cell_type": "code",
   "execution_count": 5,
   "metadata": {
    "ExecuteTime": {
     "end_time": "2019-02-02T12:46:49.357558Z",
     "start_time": "2019-02-02T12:46:49.346576Z"
    }
   },
   "outputs": [],
   "source": [
    "# max_df is used for removing terms that appear too frequently\n",
    "# max_df = 0.50 means \"ignore terms that appear in more than 50% of the documents\"\n",
    "# min_df is used for removing terms that appear too infrequently\n",
    "# min_df = 0.01 means \"ignore terms that appear in less than 1% of the documents\"\n",
    "parameters = {'lr__penalty': ('l1','l2'),'tfidf__ngram_range': [(1,1),(1,2),(1,3)],'tfidf__max_df': [0.65,0.75,0.85,0.90],\n",
    "             'tfidf__min_df': [0.001,0.01],'tfidf__stop_words': [ENGLISH_STOP_WORDS]}"
   ]
  },
  {
   "cell_type": "code",
   "execution_count": 6,
   "metadata": {
    "ExecuteTime": {
     "end_time": "2019-02-02T12:46:51.311759Z",
     "start_time": "2019-02-02T12:46:51.296279Z"
    }
   },
   "outputs": [],
   "source": [
    "text_clf = Pipeline([('tfidf', TfidfVectorizer()),('lr', LogisticRegression())])"
   ]
  },
  {
   "cell_type": "code",
   "execution_count": 7,
   "metadata": {
    "ExecuteTime": {
     "end_time": "2019-02-02T12:46:52.163077Z",
     "start_time": "2019-02-02T12:46:52.150101Z"
    }
   },
   "outputs": [
    {
     "data": {
      "text/plain": [
       "dict_keys(['memory', 'steps', 'tfidf', 'lr', 'tfidf__analyzer', 'tfidf__binary', 'tfidf__decode_error', 'tfidf__dtype', 'tfidf__encoding', 'tfidf__input', 'tfidf__lowercase', 'tfidf__max_df', 'tfidf__max_features', 'tfidf__min_df', 'tfidf__ngram_range', 'tfidf__norm', 'tfidf__preprocessor', 'tfidf__smooth_idf', 'tfidf__stop_words', 'tfidf__strip_accents', 'tfidf__sublinear_tf', 'tfidf__token_pattern', 'tfidf__tokenizer', 'tfidf__use_idf', 'tfidf__vocabulary', 'lr__C', 'lr__class_weight', 'lr__dual', 'lr__fit_intercept', 'lr__intercept_scaling', 'lr__max_iter', 'lr__multi_class', 'lr__n_jobs', 'lr__penalty', 'lr__random_state', 'lr__solver', 'lr__tol', 'lr__verbose', 'lr__warm_start'])"
      ]
     },
     "execution_count": 7,
     "metadata": {},
     "output_type": "execute_result"
    }
   ],
   "source": [
    "# These are the parameters we can put in the list for the model and features.\n",
    "text_clf.get_params().keys()"
   ]
  },
  {
   "cell_type": "code",
   "execution_count": 9,
   "metadata": {
    "ExecuteTime": {
     "end_time": "2019-02-02T12:49:12.925713Z",
     "start_time": "2019-02-02T12:48:20.305753Z"
    }
   },
   "outputs": [
    {
     "name": "stderr",
     "output_type": "stream",
     "text": [
      "C:\\Users\\tooba\\Anaconda3\\lib\\site-packages\\sklearn\\model_selection\\_split.py:626: Warning: The least populated class in y has only 3 members, which is too few. The minimum number of members in any class cannot be less than n_splits=5.\n",
      "  % (min_groups, self.n_splits)), Warning)\n",
      "C:\\Users\\tooba\\Anaconda3\\lib\\site-packages\\sklearn\\linear_model\\logistic.py:432: FutureWarning: Default solver will be changed to 'lbfgs' in 0.22. Specify a solver to silence this warning.\n",
      "  FutureWarning)\n",
      "C:\\Users\\tooba\\Anaconda3\\lib\\site-packages\\sklearn\\linear_model\\logistic.py:459: FutureWarning: Default multi_class will be changed to 'auto' in 0.22. Specify the multi_class option to silence this warning.\n",
      "  \"this warning.\", FutureWarning)\n"
     ]
    }
   ],
   "source": [
    "gs_lr = GridSearchCV(text_clf, parameters, cv=5, iid=False, n_jobs=-1)\n",
    "gs_lr = gs_lr.fit(X_train, y_train)\n",
    "predicted = gs_lr.predict(X_test)"
   ]
  },
  {
   "cell_type": "code",
   "execution_count": 21,
   "metadata": {
    "ExecuteTime": {
     "end_time": "2019-02-02T13:09:17.021284Z",
     "start_time": "2019-02-02T13:09:17.012306Z"
    }
   },
   "outputs": [],
   "source": [
    "from sklearn.metrics import precision_recall_fscore_support"
   ]
  },
  {
   "cell_type": "code",
   "execution_count": 27,
   "metadata": {
    "ExecuteTime": {
     "end_time": "2019-02-02T13:11:58.205365Z",
     "start_time": "2019-02-02T13:11:58.177420Z"
    }
   },
   "outputs": [
    {
     "name": "stdout",
     "output_type": "stream",
     "text": [
      "Logistig Regression: \n",
      "\n"
     ]
    },
    {
     "name": "stderr",
     "output_type": "stream",
     "text": [
      "C:\\Users\\tooba\\Anaconda3\\lib\\site-packages\\sklearn\\metrics\\classification.py:1143: UndefinedMetricWarning: F-score is ill-defined and being set to 0.0 in labels with no predicted samples.\n",
      "  'precision', 'predicted', average, warn_for)\n"
     ]
    },
    {
     "name": "stdout",
     "output_type": "stream",
     "text": [
      "F1 score 28.74%\n",
      "Accuracy score 75.76%\n",
      "\n",
      "\n",
      "MSE 0.3333333333333333\n"
     ]
    }
   ],
   "source": [
    "print (\"Logistig Regression: \\n\")\n",
    "print ( \"F1 score {:.4}%\".format(f1_score(y_test, predicted, average='macro')*100 ) )\n",
    "print ( \"Accuracy score {:.4}%\\n\\n\".format(accuracy_score(y_test, predicted)*100) )\n",
    "error = mean_squared_error(y_test, predicted)\n",
    "print('MSE',error)"
   ]
  },
  {
   "cell_type": "code",
   "execution_count": 36,
   "metadata": {
    "ExecuteTime": {
     "end_time": "2019-02-02T13:17:01.982452Z",
     "start_time": "2019-02-02T13:17:01.968475Z"
    }
   },
   "outputs": [
    {
     "name": "stdout",
     "output_type": "stream",
     "text": [
      "Counter({1: 25, 0: 7, -1: 1})\n",
      "Counter({1: 89, 0: 37, -1: 3})\n"
     ]
    }
   ],
   "source": [
    "# Class misrepresentation is extremely unbalanced in the train and test set\n",
    "print(Counter(y_test))\n",
    "print(Counter(y_train))"
   ]
  },
  {
   "cell_type": "code",
   "execution_count": 34,
   "metadata": {
    "ExecuteTime": {
     "end_time": "2019-02-02T13:15:59.815004Z",
     "start_time": "2019-02-02T13:15:59.810512Z"
    }
   },
   "outputs": [],
   "source": [
    "# confusion_matrix = cm(y_test, predicted)\n",
    "# fig, ax = plt.subplots(figsize=(10,5))\n",
    "# sb.heatmap(confusion_matrix, annot=True, fmt='d')\n",
    "# plt.ylabel('Actual')\n",
    "# plt.xlabel('Predicted')\n",
    "# plt.show()"
   ]
  },
  {
   "cell_type": "code",
   "execution_count": 201,
   "metadata": {
    "ExecuteTime": {
     "end_time": "2019-02-02T10:00:13.682434Z",
     "start_time": "2019-02-02T10:00:13.652490Z"
    }
   },
   "outputs": [
    {
     "name": "stderr",
     "output_type": "stream",
     "text": [
      "C:\\Users\\tooba\\Anaconda3\\lib\\site-packages\\sklearn\\metrics\\classification.py:1143: UndefinedMetricWarning: Precision and F-score are ill-defined and being set to 0.0 in labels with no predicted samples.\n",
      "  'precision', 'predicted', average, warn_for)\n",
      "C:\\Users\\tooba\\Anaconda3\\lib\\site-packages\\sklearn\\metrics\\classification.py:1143: UndefinedMetricWarning: Precision and F-score are ill-defined and being set to 0.0 in labels with no predicted samples.\n",
      "  'precision', 'predicted', average, warn_for)\n",
      "C:\\Users\\tooba\\Anaconda3\\lib\\site-packages\\sklearn\\metrics\\classification.py:1143: UndefinedMetricWarning: Precision and F-score are ill-defined and being set to 0.0 in labels with no predicted samples.\n",
      "  'precision', 'predicted', average, warn_for)\n"
     ]
    },
    {
     "name": "stdout",
     "output_type": "stream",
     "text": [
      "              precision    recall  f1-score   support\n",
      "\n",
      "        Fake       0.00      0.00      0.00         1\n",
      "  Unverified       0.00      0.00      0.00         7\n",
      "        Real       0.76      1.00      0.86        25\n",
      "\n",
      "   micro avg       0.76      0.76      0.76        33\n",
      "   macro avg       0.25      0.33      0.29        33\n",
      "weighted avg       0.57      0.76      0.65        33\n",
      "\n"
     ]
    }
   ],
   "source": [
    "print(metrics.classification_report(y_test, predicted,target_names=['Fake','Unverified','Real']))"
   ]
  },
  {
   "cell_type": "code",
   "execution_count": 37,
   "metadata": {
    "ExecuteTime": {
     "end_time": "2019-02-02T13:17:36.486814Z",
     "start_time": "2019-02-02T13:17:36.462361Z"
    }
   },
   "outputs": [
    {
     "name": "stdout",
     "output_type": "stream",
     "text": [
      "lr__penalty: 'l1'\n",
      "tfidf__max_df: 0.65\n",
      "tfidf__min_df: 0.001\n",
      "tfidf__ngram_range: (1, 1)\n",
      "tfidf__stop_words: frozenset({'former', 'him', 'seemed', 'inc', 'before', 'latter', 'least', 'someone', 'eg', 'am', 'see', 'such', 'than', 'other', 'twenty', 'anyone', 'once', 'ten', 'they', 'under', 'through', 'anyhow', 'been', 'whereafter', 'somewhere', 'their', 'latterly', 'many', 'are', 'since', 'neither', 'sincere', 'namely', 'get', 'per', 'couldnt', 'please', 'it', 'so', 'ourselves', 'show', 'thin', 'too', 'whom', 'co', 'might', 'without', 'though', 'if', 'always', 'hundred', 'have', 'indeed', 'another', 'may', 'together', 'were', 'within', 'everywhere', 'already', 'still', 'when', 'of', 'found', 'these', 'her', 'thick', 'also', 'beyond', 'beside', 'by', 'noone', 'nine', 'seem', 'because', 'five', 'formerly', 'much', 'on', 'seems', 'top', 'become', 'more', 'nothing', 'herself', 'interest', 'whose', 'would', 'in', 'same', 'therefore', 'first', 'i', 'made', 'do', 'above', 'me', 'becoming', 'less', 'fifty', 'nevertheless', 'not', 'themselves', 'whereas', 'while', 'rather', 'across', 'itself', 'his', 'with', 'afterwards', 'cannot', 'due', 'now', 'those', 'whole', 'few', 'how', 'throughout', 'your', 'mine', 'whatever', 'put', 'to', 'very', 'behind', 'or', 'last', 'otherwise', 'anyway', 'somehow', 'up', 'ours', 'out', 'well', 'four', 'etc', 'ltd', 'yourselves', 'towards', 'between', 'wherein', 'eight', 'alone', 'done', 'empty', 'along', 'whereupon', 'besides', 'move', 'why', 'find', 'con', 'further', 'around', 'an', 'cant', 'yet', 'almost', 'over', 'our', 'whether', 'where', 'several', 'beforehand', 'that', 'moreover', 'everyone', 'mill', 'thereupon', 'anything', 'seeming', 'although', 'fire', 'nor', 're', 'himself', 'until', 'my', 'this', 'who', 'upon', 'back', 'two', 'ie', 'wherever', 'bottom', 'elsewhere', 'forty', 'everything', 'side', 'system', 'yourself', 'after', 'was', 'you', 'meanwhile', 'thence', 'anywhere', 'but', 'against', 'ever', 'sometime', 'mostly', 'thereby', 'via', 'fifteen', 'hence', 'hereby', 'hereupon', 'must', 'nobody', 'go', 'next', 'being', 'he', 'whither', 'even', 'as', 'amoungst', 'became', 'cry', 'both', 'except', 'hasnt', 'them', 'there', 'whenever', 'then', 'perhaps', 'only', 'nowhere', 'for', 'which', 'sixty', 'below', 'down', 'could', 'has', 'bill', 'often', 'six', 'call', 'twelve', 'front', 'sometimes', 'off', 'de', 'fill', 'take', 'describe', 'will', 'name', 'among', 'else', 'others', 'again', 'own', 'thereafter', 'should', 'becomes', 'give', 'whence', 'what', 'onto', 'whoever', 'none', 'serious', 'its', 'hers', 'during', 'had', 'amount', 'can', 'keep', 'enough', 'never', 'part', 'most', 'something', 'three', 'us', 'a', 'any', 'at', 'however', 'she', 'un', 'be', 'thru', 'all', 'therein', 'into', 'one', 'the', 'amongst', 'hereafter', 'is', 'here', 'about', 'and', 'some', 'toward', 'herein', 'thus', 'we', 'detail', 'no', 'yours', 'every', 'each', 'from', 'myself', 'third', 'whereby', 'either', 'eleven', 'full'})\n"
     ]
    }
   ],
   "source": [
    "# mean score\n",
    "# print(gs_lr.best_score_)\n",
    "for param_name in sorted(parameters.keys()):\n",
    "    print(\"%s: %r\" % (param_name, gs_lr.best_params_[param_name]))"
   ]
  },
  {
   "cell_type": "markdown",
   "metadata": {},
   "source": [
    "####  SVM with TFIDF"
   ]
  },
  {
   "cell_type": "code",
   "execution_count": 95,
   "metadata": {
    "ExecuteTime": {
     "end_time": "2019-02-02T13:40:18.354276Z",
     "start_time": "2019-02-02T13:40:18.323338Z"
    }
   },
   "outputs": [
    {
     "name": "stdout",
     "output_type": "stream",
     "text": [
      "X_train (129,)\n",
      "X_test (33,)\n",
      "y_train (129,)\n",
      "y_test (33,)\n"
     ]
    }
   ],
   "source": [
    "X = data.tokenized_Content\n",
    "y = data['Label']\n",
    "X_train, X_test, y_train, y_test = train_test_split(X,y, test_size = 0.2, random_state=1234)\n",
    "print('X_train',X_train.shape)\n",
    "print('X_test',X_test.shape)\n",
    "print('y_train',y_train.shape)\n",
    "print('y_test',y_test.shape)"
   ]
  },
  {
   "cell_type": "code",
   "execution_count": 96,
   "metadata": {
    "ExecuteTime": {
     "end_time": "2019-02-02T13:40:22.551485Z",
     "start_time": "2019-02-02T13:40:22.544999Z"
    }
   },
   "outputs": [],
   "source": [
    "text_clf = Pipeline([('tfidf', TfidfVectorizer()),('svm', SGDClassifier())])"
   ]
  },
  {
   "cell_type": "code",
   "execution_count": 97,
   "metadata": {
    "ExecuteTime": {
     "end_time": "2019-02-02T13:40:23.276802Z",
     "start_time": "2019-02-02T13:40:23.269315Z"
    }
   },
   "outputs": [],
   "source": [
    "parameters = {'svm__penalty': ('l1','l2'),'svm__alpha': (1e-2, 1e-3),\n",
    "              'svm__loss': ('hinge','squared_hinge'),'tfidf__ngram_range': [(1,1),(1,2),(1,3),(1,4)],\n",
    "             'tfidf__max_df': [0.65,0.75,0.85,0.90],'tfidf__min_df': [0.001,0.01],'tfidf__stop_words': [ENGLISH_STOP_WORDS]}"
   ]
  },
  {
   "cell_type": "code",
   "execution_count": 98,
   "metadata": {
    "ExecuteTime": {
     "end_time": "2019-02-02T13:46:30.859201Z",
     "start_time": "2019-02-02T13:40:27.658126Z"
    }
   },
   "outputs": [
    {
     "name": "stderr",
     "output_type": "stream",
     "text": [
      "C:\\Users\\tooba\\Anaconda3\\lib\\site-packages\\sklearn\\model_selection\\_split.py:626: Warning: The least populated class in y has only 3 members, which is too few. The minimum number of members in any class cannot be less than n_splits=5.\n",
      "  % (min_groups, self.n_splits)), Warning)\n",
      "C:\\Users\\tooba\\Anaconda3\\lib\\site-packages\\sklearn\\linear_model\\stochastic_gradient.py:144: FutureWarning: max_iter and tol parameters have been added in SGDClassifier in 0.19. If both are left unset, they default to max_iter=5 and tol=None. If tol is not None, max_iter defaults to max_iter=1000. From 0.21, default max_iter will be 1000, and default tol will be 1e-3.\n",
      "  FutureWarning)\n"
     ]
    },
    {
     "name": "stdout",
     "output_type": "stream",
     "text": [
      "Accuracy score 63.64%\n"
     ]
    }
   ],
   "source": [
    "# Using cross validation\n",
    "gs_svm = GridSearchCV(text_clf, parameters, cv=5, iid=False, n_jobs=-1)\n",
    "gs_svm = gs_svm.fit(X_train, y_train)\n",
    "predicted = gs_svm.predict(X_test)\n",
    "print ( \"Accuracy score {:.4}%\".format(accuracy_score(y_test, predicted)*100) )"
   ]
  },
  {
   "cell_type": "code",
   "execution_count": 99,
   "metadata": {
    "ExecuteTime": {
     "end_time": "2019-02-02T13:46:30.899624Z",
     "start_time": "2019-02-02T13:46:30.865688Z"
    }
   },
   "outputs": [
    {
     "name": "stderr",
     "output_type": "stream",
     "text": [
      "C:\\Users\\tooba\\Anaconda3\\lib\\site-packages\\sklearn\\metrics\\classification.py:1143: UndefinedMetricWarning: Precision and F-score are ill-defined and being set to 0.0 in labels with no predicted samples.\n",
      "  'precision', 'predicted', average, warn_for)\n",
      "C:\\Users\\tooba\\Anaconda3\\lib\\site-packages\\sklearn\\metrics\\classification.py:1143: UndefinedMetricWarning: Precision and F-score are ill-defined and being set to 0.0 in labels with no predicted samples.\n",
      "  'precision', 'predicted', average, warn_for)\n",
      "C:\\Users\\tooba\\Anaconda3\\lib\\site-packages\\sklearn\\metrics\\classification.py:1143: UndefinedMetricWarning: Precision and F-score are ill-defined and being set to 0.0 in labels with no predicted samples.\n",
      "  'precision', 'predicted', average, warn_for)\n"
     ]
    },
    {
     "name": "stdout",
     "output_type": "stream",
     "text": [
      "              precision    recall  f1-score   support\n",
      "\n",
      "        Fake       0.00      0.00      0.00         1\n",
      "  Unverified       0.25      0.29      0.27         7\n",
      "        Real       0.76      0.76      0.76        25\n",
      "\n",
      "   micro avg       0.64      0.64      0.64        33\n",
      "   macro avg       0.34      0.35      0.34        33\n",
      "weighted avg       0.63      0.64      0.63        33\n",
      "\n"
     ]
    }
   ],
   "source": [
    "print(metrics.classification_report(y_test, predicted,target_names=['Fake','Unverified','Real']))"
   ]
  },
  {
   "cell_type": "code",
   "execution_count": 101,
   "metadata": {
    "ExecuteTime": {
     "end_time": "2019-02-02T13:46:49.732287Z",
     "start_time": "2019-02-02T13:46:49.708833Z"
    }
   },
   "outputs": [
    {
     "name": "stdout",
     "output_type": "stream",
     "text": [
      "svm__alpha: 0.001\n",
      "svm__loss: 'hinge'\n",
      "svm__penalty: 'l2'\n",
      "tfidf__max_df: 0.9\n",
      "tfidf__min_df: 0.01\n",
      "tfidf__ngram_range: (1, 2)\n",
      "tfidf__stop_words: frozenset({'former', 'him', 'seemed', 'inc', 'before', 'latter', 'least', 'someone', 'eg', 'am', 'see', 'such', 'than', 'other', 'twenty', 'anyone', 'once', 'ten', 'they', 'under', 'through', 'anyhow', 'been', 'whereafter', 'somewhere', 'their', 'latterly', 'many', 'are', 'since', 'neither', 'sincere', 'namely', 'get', 'per', 'couldnt', 'please', 'it', 'so', 'ourselves', 'show', 'thin', 'too', 'whom', 'co', 'might', 'without', 'though', 'if', 'always', 'hundred', 'have', 'indeed', 'another', 'may', 'together', 'were', 'within', 'everywhere', 'already', 'still', 'when', 'of', 'found', 'these', 'her', 'thick', 'also', 'beyond', 'beside', 'by', 'noone', 'nine', 'seem', 'because', 'five', 'formerly', 'much', 'on', 'seems', 'top', 'become', 'more', 'nothing', 'herself', 'interest', 'whose', 'would', 'in', 'same', 'therefore', 'first', 'i', 'made', 'do', 'above', 'me', 'becoming', 'less', 'fifty', 'nevertheless', 'not', 'themselves', 'whereas', 'while', 'rather', 'across', 'itself', 'his', 'with', 'afterwards', 'cannot', 'due', 'now', 'those', 'whole', 'few', 'how', 'throughout', 'your', 'mine', 'whatever', 'put', 'to', 'very', 'behind', 'or', 'last', 'otherwise', 'anyway', 'somehow', 'up', 'ours', 'out', 'well', 'four', 'etc', 'ltd', 'yourselves', 'towards', 'between', 'wherein', 'eight', 'alone', 'done', 'empty', 'along', 'whereupon', 'besides', 'move', 'why', 'find', 'con', 'further', 'around', 'an', 'cant', 'yet', 'almost', 'over', 'our', 'whether', 'where', 'several', 'beforehand', 'that', 'moreover', 'everyone', 'mill', 'thereupon', 'anything', 'seeming', 'although', 'fire', 'nor', 're', 'himself', 'until', 'my', 'this', 'who', 'upon', 'back', 'two', 'ie', 'wherever', 'bottom', 'elsewhere', 'forty', 'everything', 'side', 'system', 'yourself', 'after', 'was', 'you', 'meanwhile', 'thence', 'anywhere', 'but', 'against', 'ever', 'sometime', 'mostly', 'thereby', 'via', 'fifteen', 'hence', 'hereby', 'hereupon', 'must', 'nobody', 'go', 'next', 'being', 'he', 'whither', 'even', 'as', 'amoungst', 'became', 'cry', 'both', 'except', 'hasnt', 'them', 'there', 'whenever', 'then', 'perhaps', 'only', 'nowhere', 'for', 'which', 'sixty', 'below', 'down', 'could', 'has', 'bill', 'often', 'six', 'call', 'twelve', 'front', 'sometimes', 'off', 'de', 'fill', 'take', 'describe', 'will', 'name', 'among', 'else', 'others', 'again', 'own', 'thereafter', 'should', 'becomes', 'give', 'whence', 'what', 'onto', 'whoever', 'none', 'serious', 'its', 'hers', 'during', 'had', 'amount', 'can', 'keep', 'enough', 'never', 'part', 'most', 'something', 'three', 'us', 'a', 'any', 'at', 'however', 'she', 'un', 'be', 'thru', 'all', 'therein', 'into', 'one', 'the', 'amongst', 'hereafter', 'is', 'here', 'about', 'and', 'some', 'toward', 'herein', 'thus', 'we', 'detail', 'no', 'yours', 'every', 'each', 'from', 'myself', 'third', 'whereby', 'either', 'eleven', 'full'})\n"
     ]
    }
   ],
   "source": [
    "#best mean score\n",
    "# print(gs_svm.best_score_)\n",
    "for param_name in sorted(parameters.keys()):\n",
    "    print(\"%s: %r\" % (param_name, gs_svm.best_params_[param_name]))"
   ]
  },
  {
   "cell_type": "markdown",
   "metadata": {},
   "source": [
    "#### Experiment 1 : Best model for Logistic Regression with TFIDF\n",
    "- Text to Features: TFIDF using the article content (Try different n grams)\n",
    "- Classification Model: Logistic Regression (Different penalties)\n",
    "- Check different metrics and ROC curve. Confusion matrix.\n"
   ]
  },
  {
   "cell_type": "code",
   "execution_count": 40,
   "metadata": {
    "ExecuteTime": {
     "end_time": "2019-02-02T13:20:07.166164Z",
     "start_time": "2019-02-02T13:20:07.159171Z"
    }
   },
   "outputs": [],
   "source": [
    "X = data.tokenized_Content\n",
    "y = data['Label']"
   ]
  },
  {
   "cell_type": "code",
   "execution_count": 42,
   "metadata": {
    "ExecuteTime": {
     "end_time": "2019-02-02T13:20:19.984507Z",
     "start_time": "2019-02-02T13:20:19.704037Z"
    }
   },
   "outputs": [],
   "source": [
    "tdf = TfidfVectorizer(stop_words=ENGLISH_STOP_WORDS,ngram_range=(1,1),max_df =0.65,min_df=0.001)\n",
    "vectorizer = tdf.fit(X)\n",
    "transformed_text = vectorizer.transform(X)"
   ]
  },
  {
   "cell_type": "code",
   "execution_count": 43,
   "metadata": {
    "ExecuteTime": {
     "end_time": "2019-02-02T13:20:22.776833Z",
     "start_time": "2019-02-02T13:20:22.743393Z"
    }
   },
   "outputs": [
    {
     "name": "stdout",
     "output_type": "stream",
     "text": [
      "X_train (129, 9154)\n",
      "X_test (33, 9154)\n",
      "y_train (129,)\n",
      "y_test (33,)\n"
     ]
    }
   ],
   "source": [
    "X_train, X_test, y_train, y_test = train_test_split(transformed_text,y, test_size = 0.2, random_state=1234)\n",
    "print('X_train',X_train.shape)\n",
    "print('X_test',X_test.shape)\n",
    "print('y_train',y_train.shape)\n",
    "print('y_test',y_test.shape)"
   ]
  },
  {
   "cell_type": "code",
   "execution_count": 44,
   "metadata": {
    "ExecuteTime": {
     "end_time": "2019-02-02T13:20:29.348344Z",
     "start_time": "2019-02-02T13:20:29.343353Z"
    }
   },
   "outputs": [],
   "source": [
    "lr = LogisticRegression(penalty='l1')"
   ]
  },
  {
   "cell_type": "code",
   "execution_count": 45,
   "metadata": {
    "ExecuteTime": {
     "end_time": "2019-02-02T13:20:34.854717Z",
     "start_time": "2019-02-02T13:20:34.821284Z"
    }
   },
   "outputs": [
    {
     "name": "stderr",
     "output_type": "stream",
     "text": [
      "C:\\Users\\tooba\\Anaconda3\\lib\\site-packages\\sklearn\\linear_model\\logistic.py:432: FutureWarning: Default solver will be changed to 'lbfgs' in 0.22. Specify a solver to silence this warning.\n",
      "  FutureWarning)\n",
      "C:\\Users\\tooba\\Anaconda3\\lib\\site-packages\\sklearn\\linear_model\\logistic.py:459: FutureWarning: Default multi_class will be changed to 'auto' in 0.22. Specify the multi_class option to silence this warning.\n",
      "  \"this warning.\", FutureWarning)\n"
     ]
    }
   ],
   "source": [
    "lr.fit(X_train, y_train)\n",
    "prediction = lr.predict(X_test)"
   ]
  },
  {
   "cell_type": "code",
   "execution_count": 46,
   "metadata": {
    "ExecuteTime": {
     "end_time": "2019-02-02T13:20:38.281496Z",
     "start_time": "2019-02-02T13:20:38.261534Z"
    }
   },
   "outputs": [
    {
     "name": "stdout",
     "output_type": "stream",
     "text": [
      "Logistig Regression F1 and Accuracy Scores : \n",
      "\n"
     ]
    },
    {
     "name": "stderr",
     "output_type": "stream",
     "text": [
      "C:\\Users\\tooba\\Anaconda3\\lib\\site-packages\\sklearn\\metrics\\classification.py:1143: UndefinedMetricWarning: F-score is ill-defined and being set to 0.0 in labels with no predicted samples.\n",
      "  'precision', 'predicted', average, warn_for)\n"
     ]
    },
    {
     "name": "stdout",
     "output_type": "stream",
     "text": [
      "F1 score 28.74%\n",
      "Accuracy score 75.76%\n"
     ]
    }
   ],
   "source": [
    "# print metrics\n",
    "print (\"Logistig Regression F1 and Accuracy Scores : \\n\")\n",
    "print ( \"F1 score {:.4}%\".format( f1_score(y_test, prediction , average='macro')*100 ) )\n",
    "print ( \"Accuracy score {:.4}%\".format(accuracy_score(y_test, prediction)*100) )"
   ]
  },
  {
   "cell_type": "markdown",
   "metadata": {},
   "source": [
    "#### Experiment 1 : Best model for SVM with TFIDF\n",
    "- Text to Features: TFIDF using the article content\n",
    "- Classification Model: SVM "
   ]
  },
  {
   "cell_type": "markdown",
   "metadata": {},
   "source": [
    "- Precision talks about how precise/accurate your model is out of those predicted positive, how many of them are actual positive. Should be the metric when there os a high cost associated with False Positive.\n",
    "- Recall actually calculates how many of the Actual Positives our model capture through labeling it as Positive (True Positive). Recall shall be the model metric we use to select our best model when there is a high cost associated with False Negative.\n",
    "- For our model both of them are equally important.\n",
    "- F1 Score is the weighted average of Precision and Recall. Therefore, this score takes both false positives and false negatives into account. F1 is more useful than accuracy especially if you have an uneven class distribution. Accuracy works best if false positives and false negatives have similar cost. If the cost of false positives and false negatives are very different, it’s better to look at both Precision and Recall. \n",
    "- F1 Score = 2*(Recall * Precision) / (Recall + Precision)"
   ]
  },
  {
   "cell_type": "code",
   "execution_count": 102,
   "metadata": {
    "ExecuteTime": {
     "end_time": "2019-02-02T13:47:29.165275Z",
     "start_time": "2019-02-02T13:47:29.160286Z"
    }
   },
   "outputs": [],
   "source": [
    "X = data.tokenized_Content\n",
    "y = data['Label']"
   ]
  },
  {
   "cell_type": "code",
   "execution_count": 103,
   "metadata": {
    "ExecuteTime": {
     "end_time": "2019-02-02T13:47:31.430415Z",
     "start_time": "2019-02-02T13:47:30.086461Z"
    }
   },
   "outputs": [],
   "source": [
    "tdf = TfidfVectorizer(stop_words=ENGLISH_STOP_WORDS,ngram_range=(1,4),max_df =0.85,min_df=0.01)\n",
    "vectorizer = tdf.fit(X)\n",
    "transformed_text = vectorizer.transform(X)"
   ]
  },
  {
   "cell_type": "code",
   "execution_count": 104,
   "metadata": {
    "ExecuteTime": {
     "end_time": "2019-02-02T13:47:31.863204Z",
     "start_time": "2019-02-02T13:47:31.828775Z"
    }
   },
   "outputs": [
    {
     "name": "stdout",
     "output_type": "stream",
     "text": [
      "X_train (129, 7718)\n",
      "X_test (33, 7718)\n",
      "y_train (129,)\n",
      "y_test (33,)\n"
     ]
    }
   ],
   "source": [
    "X_train, X_test, y_train, y_test = train_test_split(transformed_text,y, test_size = 0.2, random_state=1234)\n",
    "print('X_train',X_train.shape)\n",
    "print('X_test',X_test.shape)\n",
    "print('y_train',y_train.shape)\n",
    "print('y_test',y_test.shape)"
   ]
  },
  {
   "cell_type": "code",
   "execution_count": 105,
   "metadata": {
    "ExecuteTime": {
     "end_time": "2019-02-02T13:47:32.709153Z",
     "start_time": "2019-02-02T13:47:32.704162Z"
    }
   },
   "outputs": [],
   "source": [
    "svm = SGDClassifier(alpha= 0.001,loss ='hinge',penalty='l2')"
   ]
  },
  {
   "cell_type": "code",
   "execution_count": 106,
   "metadata": {
    "ExecuteTime": {
     "end_time": "2019-02-02T13:47:40.474157Z",
     "start_time": "2019-02-02T13:47:40.460183Z"
    }
   },
   "outputs": [],
   "source": [
    "svm.fit(X_train, y_train)\n",
    "prediction = svm.predict(X_test)"
   ]
  },
  {
   "cell_type": "code",
   "execution_count": 110,
   "metadata": {
    "ExecuteTime": {
     "end_time": "2019-02-02T13:52:40.846890Z",
     "start_time": "2019-02-02T13:52:40.819945Z"
    }
   },
   "outputs": [
    {
     "name": "stdout",
     "output_type": "stream",
     "text": [
      "Logistig Regression F1 and Accuracy Scores : \n",
      "\n"
     ]
    },
    {
     "name": "stderr",
     "output_type": "stream",
     "text": [
      "C:\\Users\\tooba\\Anaconda3\\lib\\site-packages\\sklearn\\metrics\\classification.py:1143: UndefinedMetricWarning: F-score is ill-defined and being set to 0.0 in labels with no predicted samples.\n",
      "  'precision', 'predicted', average, warn_for)\n"
     ]
    },
    {
     "name": "stdout",
     "output_type": "stream",
     "text": [
      "F1 score 41.74%\n",
      "Accuracy score 72.73%\n",
      "MSE 0.45454545454545453\n"
     ]
    }
   ],
   "source": [
    "# print metrics\n",
    "print (\"Logistig Regression F1 and Accuracy Scores : \\n\")\n",
    "print ( \"F1 score {:.4}%\".format( f1_score(y_test, prediction , average='macro')*100 ) )\n",
    "print ( \"Accuracy score {:.4}%\".format(accuracy_score(y_test, prediction)*100) )\n",
    "error = mean_squared_error(y_test, predicted)\n",
    "print('MSE',error)"
   ]
  },
  {
   "cell_type": "code",
   "execution_count": 108,
   "metadata": {
    "ExecuteTime": {
     "end_time": "2019-02-02T13:48:13.386932Z",
     "start_time": "2019-02-02T13:48:13.362975Z"
    }
   },
   "outputs": [
    {
     "name": "stderr",
     "output_type": "stream",
     "text": [
      "C:\\Users\\tooba\\Anaconda3\\lib\\site-packages\\sklearn\\metrics\\classification.py:1143: UndefinedMetricWarning: Precision and F-score are ill-defined and being set to 0.0 in labels with no predicted samples.\n",
      "  'precision', 'predicted', average, warn_for)\n",
      "C:\\Users\\tooba\\Anaconda3\\lib\\site-packages\\sklearn\\metrics\\classification.py:1143: UndefinedMetricWarning: Precision and F-score are ill-defined and being set to 0.0 in labels with no predicted samples.\n",
      "  'precision', 'predicted', average, warn_for)\n",
      "C:\\Users\\tooba\\Anaconda3\\lib\\site-packages\\sklearn\\metrics\\classification.py:1143: UndefinedMetricWarning: Precision and F-score are ill-defined and being set to 0.0 in labels with no predicted samples.\n",
      "  'precision', 'predicted', average, warn_for)\n"
     ]
    },
    {
     "name": "stdout",
     "output_type": "stream",
     "text": [
      "              precision    recall  f1-score   support\n",
      "\n",
      "        Fake       0.00      0.00      0.00         1\n",
      "  Unverified       0.43      0.43      0.43         7\n",
      "        Real       0.81      0.84      0.82        25\n",
      "\n",
      "   micro avg       0.73      0.73      0.73        33\n",
      "   macro avg       0.41      0.42      0.42        33\n",
      "weighted avg       0.70      0.73      0.71        33\n",
      "\n"
     ]
    }
   ],
   "source": [
    "print(metrics.classification_report(y_test, prediction,target_names=['Fake','Unverified','Real']))"
   ]
  },
  {
   "cell_type": "code",
   "execution_count": null,
   "metadata": {},
   "outputs": [],
   "source": []
  },
  {
   "cell_type": "code",
   "execution_count": null,
   "metadata": {},
   "outputs": [],
   "source": []
  },
  {
   "cell_type": "code",
   "execution_count": null,
   "metadata": {},
   "outputs": [],
   "source": []
  },
  {
   "cell_type": "code",
   "execution_count": 94,
   "metadata": {
    "ExecuteTime": {
     "end_time": "2019-02-02T13:39:54.423959Z",
     "start_time": "2019-02-02T13:39:54.404495Z"
    }
   },
   "outputs": [],
   "source": [
    "# Function from scikit-learn\n",
    "def plot_learning_curve(estimator, title, X, y, ylim, cv,\n",
    "                        n_jobs, train_sizes=(50,70,100)):\n",
    "    \"\"\"\n",
    "    Generate a simple plot of the test and training learning curve.\n",
    "\n",
    "    Parameters\n",
    "    ----------\n",
    "    estimator : object type that implements the \"fit\" and \"predict\" methods\n",
    "        An object of that type which is cloned for each validation.\n",
    "\n",
    "    title : string\n",
    "        Title for the chart.\n",
    "\n",
    "    X : array-like, shape (n_samples, n_features)\n",
    "        Training vector, where n_samples is the number of samples and\n",
    "        n_features is the number of features.\n",
    "\n",
    "    y : array-like, shape (n_samples) or (n_samples, n_features), optional\n",
    "        Target relative to X for classification or regression;\n",
    "        None for unsupervised learning.\n",
    "\n",
    "    ylim : tuple, shape (ymin, ymax), optional\n",
    "        Defines minimum and maximum yvalues plotted.\n",
    "\n",
    "    cv : int, cross-validation generator or an iterable, optional\n",
    "        Determines the cross-validation splitting strategy.\n",
    "        Possible inputs for cv are:\n",
    "          - None, to use the default 3-fold cross-validation,\n",
    "          - integer, to specify the number of folds.\n",
    "          - :term:`CV splitter`,\n",
    "          - An iterable yielding (train, test) splits as arrays of indices.\n",
    "\n",
    "        For integer/None inputs, if ``y`` is binary or multiclass,\n",
    "        :class:`StratifiedKFold` used. If the estimator is not a classifier\n",
    "        or if ``y`` is neither binary nor multiclass, :class:`KFold` is used.\n",
    "\n",
    "        Refer :ref:`User Guide <cross_validation>` for the various\n",
    "        cross-validators that can be used here.\n",
    "\n",
    "    n_jobs : int or None, optional (default=None)\n",
    "        Number of jobs to run in parallel.\n",
    "        ``None`` means 1 unless in a :obj:`joblib.parallel_backend` context.\n",
    "        ``-1`` means using all processors. See :term:`Glossary <n_jobs>`\n",
    "        for more details.\n",
    "\n",
    "    train_sizes : array-like, shape (n_ticks,), dtype float or int\n",
    "        Relative or absolute numbers of training examples that will be used to\n",
    "        generate the learning curve. If the dtype is float, it is regarded as a\n",
    "        fraction of the maximum size of the training set (that is determined\n",
    "        by the selected validation method), i.e. it has to be within (0, 1].\n",
    "        Otherwise it is interpreted as absolute sizes of the training sets.\n",
    "        Note that for classification the number of samples usually have to\n",
    "        be big enough to contain at least one sample from each class.\n",
    "        (default: np.linspace(0.1, 1.0, 5))\n",
    "    \"\"\"\n",
    "    plt.figure()\n",
    "    plt.title(title)\n",
    "    if ylim is not None:\n",
    "        plt.ylim(*ylim)\n",
    "    plt.xlabel(\"Training examples\")\n",
    "    plt.ylabel(\"Score\")\n",
    "    train_sizes, train_scores, test_scores = learning_curve(\n",
    "        estimator, X, y, cv=cv, n_jobs=n_jobs, train_sizes=train_sizes)\n",
    "    train_scores_mean = np.mean(train_scores, axis=1)\n",
    "    train_scores_std = np.std(train_scores, axis=1)\n",
    "    test_scores_mean = np.mean(test_scores, axis=1)\n",
    "    test_scores_std = np.std(test_scores, axis=1)\n",
    "    plt.grid()\n",
    "\n",
    "    plt.fill_between(train_sizes, train_scores_mean - train_scores_std,\n",
    "                     train_scores_mean + train_scores_std, alpha=0.1,\n",
    "                     color=\"r\")\n",
    "    plt.fill_between(train_sizes, test_scores_mean - test_scores_std,\n",
    "                     test_scores_mean + test_scores_std, alpha=0.1, color=\"g\")\n",
    "    plt.plot(train_sizes, train_scores_mean, 'o-', color=\"r\",\n",
    "             label=\"Training score\")\n",
    "    plt.plot(train_sizes, test_scores_mean, 'o-', color=\"g\",\n",
    "             label=\"Cross-validation score\")\n",
    "    plt.legend(loc=\"best\")\n",
    "    return plt"
   ]
  },
  {
   "cell_type": "code",
   "execution_count": 109,
   "metadata": {
    "ExecuteTime": {
     "end_time": "2019-02-02T13:48:52.959979Z",
     "start_time": "2019-02-02T13:48:43.272028Z"
    }
   },
   "outputs": [
    {
     "data": {
      "image/png": "[encoded data removed]",
      "text/plain": [
       "<Figure size 432x288 with 1 Axes>"
      ]
     },
     "metadata": {
      "image/png": {
       "height": 277,
       "width": 393
      },
      "needs_background": "light"
     },
     "output_type": "display_data"
    }
   ],
   "source": [
    "title = \"Learning Curves (Logistic Regression)\"\n",
    "# Cross validation with 100 iterations to get smoother mean test and train\n",
    "# score curves, each time with 20% data randomly selected as a validation set.\n",
    "cv = ShuffleSplit(n_splits=100, test_size=0.2, random_state=0)\n",
    "plot_learning_curve(svm, title, X_train, y_train, ylim=(0.7, 1.01), cv=cv, n_jobs=-1)\n",
    "plt.show()"
   ]
  },
  {
   "cell_type": "code",
   "execution_count": null,
   "metadata": {},
   "outputs": [],
   "source": []
  }
 ],
 "metadata": {
  "kernelspec": {
   "display_name": "Python 3",
   "language": "python",
   "name": "python3"
  },
  "language_info": {
   "codemirror_mode": {
    "name": "ipython",
    "version": 3
   },
   "file_extension": ".py",
   "mimetype": "text/x-python",
   "name": "python",
   "nbconvert_exporter": "python",
   "pygments_lexer": "ipython3",
   "version": "3.6.6"
  }
 },
 "nbformat": 4,
 "nbformat_minor": 2
}
