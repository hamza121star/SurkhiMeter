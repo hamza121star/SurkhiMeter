{
 "cells": [
  {
   "cell_type": "markdown",
   "metadata": {},
   "source": [
    "#### Experiments with Article  Content ONLY"
   ]
  },
  {
   "cell_type": "markdown",
   "metadata": {},
   "source": [
    "### Libraries"
   ]
  },
  {
   "cell_type": "code",
   "execution_count": 1,
   "metadata": {
    "ExecuteTime": {
     "end_time": "2019-03-22T20:26:17.265341Z",
     "start_time": "2019-03-22T20:26:17.120284Z"
    }
   },
   "outputs": [
    {
     "name": "stderr",
     "output_type": "stream",
     "text": [
      "C:\\Users\\tooba\\Anaconda3\\lib\\site-packages\\gensim\\utils.py:1212: UserWarning: detected Windows; aliasing chunkize to chunkize_serial\n",
      "  warnings.warn(\"detected Windows; aliasing chunkize to chunkize_serial\")\n"
     ]
    }
   ],
   "source": [
    "from util import *\n",
    "import pickle"
   ]
  },
  {
   "cell_type": "code",
   "execution_count": 2,
   "metadata": {},
   "outputs": [],
   "source": [
    "url = 'A third-year MBBS student was found shot dead in his hostel room at the Liaquat University of Medical and Health Sciences (LUMHS) in Sindh\\'s Jamshoro district, officials said on Thursday.\\r\\n\\r\\nThe body of the 20-year-old student was found with a gunshot wound on his temple and a pistol in his right hand; it was subsequently shifted to Liaquat University Hospital\\'s city branch for a post-mortem examination.\\r\\n\\r\\nLUMHS Vice-Chancellor Dr Bikha Ram said the deceased student was alone in his room in the Ibn-e-Sina hostel. When his roommate â\\x80\\x94 who had gone out to attend some programme â\\x80\\x94 returned to the dorm, he found the room\\'s door locked. He broke it open to find his roommate\\'s body lying on the bed, the VC added.\\r\\n\\r\\nPolice reached the site of the incident and seized the weapon found at the scene.\\r\\n\\r\\nDr Ram said he has formed an inquiry committee comprising the hostel provost, director of student affairs, warden and the campus director to determine the circumstances that led to the student\\'s death.\\r\\n\\r\\nHe said the incident was an \"apparent suicide\", but the cause of the death was yet to be determined.\\r\\n\\r\\nAccording to the VC, the committee will also investigate how the deceased student had apparently managed to bring the gun to the hostel room. The incident has highlighted the need for some preventative measures to be taken by the hostel administration, Dr Ram said.\\r\\n\\r\\nJamshoro Senior Superintendent of Police (SSP) Tauqir Naeem said the death appeared to be a suicide \"on the face of it\", but added that the incident would be probed.\\r\\n\\r\\nHe said they had learnt that a brother of the deceased was battling cancer while another brother had previously died of the same disease.\\r\\n\\r\\nDr Ram also quoted the student\\'s friends as saying that he (the deceased) remained depressed allegedly due to his brother\\'s illness.\\r\\n\\r\\nAccording to the VC, the young man had reportedly sent a text message to his roommate saying \"Aaj ki raat bari yadgar hogi (Tonight will be very memorable)\", but the roommate had not understood the meaning of the message at the time.'"
   ]
  },
  {
   "cell_type": "markdown",
   "metadata": {},
   "source": [
    "### Preprocessing"
   ]
  },
  {
   "cell_type": "code",
   "execution_count": 3,
   "metadata": {
    "ExecuteTime": {
     "end_time": "2019-03-22T21:48:48.395857Z",
     "start_time": "2019-03-22T21:48:48.376868Z"
    }
   },
   "outputs": [],
   "source": [
    "def remove_non_ascii(words):\n",
    "    words = [unicodedata.normalize('NFKD', word).encode('ascii', 'ignore').decode('utf-8', 'ignore') for word in words]\n",
    "    return words\n",
    "# The first pre-processing step which we will do is transform our tweets into lower case.\n",
    "# This avoids having multiple copies of the same words\n",
    "def to_lowercase(words):\n",
    "    words = [word.lower() for word in words]\n",
    "    return words\n",
    "# Removing punctuation to reduce the amount of the training data\n",
    "def remove_punctuation(words):\n",
    "    words = [re.sub(r'[^\\w\\s]', '', word) for word in words if re.sub(r'[^\\w\\s]', '', word) not in '']    \n",
    "    return words\n",
    "# Removing numbers from data since they aren't useful in this context.\n",
    "def replace_numbers(words):\n",
    "    words = [re.sub(r'[^\\w\\s]', '', word) for word in words]\n",
    "    return words\n",
    "def remove_stopwords(words):\n",
    "    words = [word for word in words if word not in stopwords.words('english')]\n",
    "    return words"
   ]
  },
  {
   "cell_type": "code",
   "execution_count": 4,
   "metadata": {
    "ExecuteTime": {
     "end_time": "2019-03-22T21:48:48.917224Z",
     "start_time": "2019-03-22T21:48:48.910231Z"
    }
   },
   "outputs": [],
   "source": [
    "def normalize(words):\n",
    "    words = remove_non_ascii(words)\n",
    "    words = to_lowercase(words)\n",
    "    words = remove_punctuation(words)\n",
    "    words = replace_numbers(words)\n",
    "    words = remove_stopwords(words)\n",
    "    return words"
   ]
  },
  {
   "cell_type": "code",
   "execution_count": 5,
   "metadata": {
    "ExecuteTime": {
     "end_time": "2019-03-22T21:48:49.766474Z",
     "start_time": "2019-03-22T21:48:49.762475Z"
    }
   },
   "outputs": [],
   "source": [
    "tokens = word_tokenize(url)\n",
    "tokens = normalize(tokens)"
   ]
  },
  {
   "cell_type": "markdown",
   "metadata": {},
   "source": [
    "#### Logistic Regression with TFIDF"
   ]
  },
  {
   "cell_type": "markdown",
   "metadata": {},
   "source": [
    "#### Loading Trained Model"
   ]
  },
  {
   "cell_type": "code",
   "execution_count": 6,
   "metadata": {},
   "outputs": [],
   "source": [
    "#converting to string\n",
    "tokens = str(tokens)\n",
    "#converting to a list (or an iterable) containing a single element (which is nothing but the String itself).\n",
    "tokens = [tokens]"
   ]
  },
  {
   "cell_type": "code",
   "execution_count": 7,
   "metadata": {
    "ExecuteTime": {
     "end_time": "2019-03-22T21:52:44.375644Z",
     "start_time": "2019-03-22T21:52:44.279703Z"
    }
   },
   "outputs": [],
   "source": [
    "tfidf = pickle.load(open(\"tfidf.pickle\", 'rb'))\n",
    "url_transformed = tfidf.transform(tokens)"
   ]
  },
  {
   "cell_type": "code",
   "execution_count": 19,
   "metadata": {
    "ExecuteTime": {
     "end_time": "2019-03-22T21:38:31.702819Z",
     "start_time": "2019-03-22T21:38:31.660843Z"
    }
   },
   "outputs": [
    {
     "name": "stdout",
     "output_type": "stream",
     "text": [
      "1\n"
     ]
    }
   ],
   "source": [
    "# load the model from disk\n",
    "filename = 'logistic_regression_TFIDF.sav'\n",
    "model = pickle.load(open(filename, 'rb'))\n",
    "# predict takes(n_samples, n_features)\n",
    "label = model.predict(url_transformed)\n",
    "print(label[0])"
   ]
  },
  {
   "cell_type": "code",
   "execution_count": 17,
   "metadata": {},
   "outputs": [],
   "source": [
    "#order of class probabilities\n",
    "# model.classes_"
   ]
  },
  {
   "cell_type": "markdown",
   "metadata": {},
   "source": [
    "### Meter value"
   ]
  },
  {
   "cell_type": "markdown",
   "metadata": {},
   "source": [
    "0-20 is fakest <br/>\n",
    "21-40 partially fake<br/>\n",
    "41-60 is palusible<br/>\n",
    "61-80 is partially true<br/>\n",
    "81-100 is completely true<br/>"
   ]
  },
  {
   "cell_type": "code",
   "execution_count": 14,
   "metadata": {
    "ExecuteTime": {
     "end_time": "2019-03-22T19:25:20.550386Z",
     "start_time": "2019-03-22T19:25:20.542388Z"
    }
   },
   "outputs": [],
   "source": [
    "probabilities = model.predict_proba(url_transformed)[0]"
   ]
  },
  {
   "cell_type": "code",
   "execution_count": 15,
   "metadata": {},
   "outputs": [],
   "source": [
    "fake = probabilities[0]\n",
    "neutral = probabilities[1]\n",
    "real = probabilities[2]"
   ]
  },
  {
   "cell_type": "code",
   "execution_count": 16,
   "metadata": {},
   "outputs": [
    {
     "name": "stdout",
     "output_type": "stream",
     "text": [
      "0.050617918176382684\n",
      "0.25018916181545503\n",
      "0.6991929200081624\n"
     ]
    }
   ],
   "source": [
    "print(fake)\n",
    "print(neutral)\n",
    "print(real)"
   ]
  },
  {
   "cell_type": "code",
   "execution_count": null,
   "metadata": {},
   "outputs": [],
   "source": [
    "score = "
   ]
  },
  {
   "cell_type": "markdown",
   "metadata": {},
   "source": [
    "#### Model Statistics\n",
    "- Uncomment to see the model performance"
   ]
  },
  {
   "cell_type": "code",
   "execution_count": 31,
   "metadata": {
    "ExecuteTime": {
     "end_time": "2019-03-22T18:43:19.242243Z",
     "start_time": "2019-03-22T18:43:19.238244Z"
    }
   },
   "outputs": [],
   "source": [
    "# # Score only on the test set. NO CV\n",
    "# print (\"Logistig Regression: \\n\")\n",
    "# print ( \"F1 score {:.4}%\".format(f1_score(y_test, predicted, average='macro')*100 ) )\n",
    "# print ( \"Accuracy score {:.4}%\\n\\n\".format(accuracy_score(y_test, predicted)*100) )\n",
    "# error = mean_squared_error(y_test, predicted)\n",
    "# print('MSE',error)\n",
    "# print(metrics.classification_report(y_test, predicted,target_names=['Fake','Unverified','Real']))"
   ]
  },
  {
   "cell_type": "code",
   "execution_count": null,
   "metadata": {},
   "outputs": [],
   "source": []
  }
 ],
 "metadata": {
  "kernelspec": {
   "display_name": "Python 3",
   "language": "python",
   "name": "python3"
  },
  "language_info": {
   "codemirror_mode": {
    "name": "ipython",
    "version": 3
   },
   "file_extension": ".py",
   "mimetype": "text/x-python",
   "name": "python",
   "nbconvert_exporter": "python",
   "pygments_lexer": "ipython3",
   "version": "3.6.6"
  }
 },
 "nbformat": 4,
 "nbformat_minor": 2
}
