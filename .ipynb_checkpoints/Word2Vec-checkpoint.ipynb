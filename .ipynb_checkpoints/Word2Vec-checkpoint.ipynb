{
 "cells": [
  {
   "cell_type": "code",
   "execution_count": 1,
   "metadata": {
    "ExecuteTime": {
     "end_time": "2019-01-26T15:42:07.435686Z",
     "start_time": "2019-01-26T15:42:01.803397Z"
    }
   },
   "outputs": [
    {
     "name": "stderr",
     "output_type": "stream",
     "text": [
      "C:\\Users\\tooba\\Anaconda3\\lib\\site-packages\\gensim\\utils.py:1212: UserWarning: detected Windows; aliasing chunkize to chunkize_serial\n",
      "  warnings.warn(\"detected Windows; aliasing chunkize to chunkize_serial\")\n"
     ]
    }
   ],
   "source": [
    "import pandas as pd\n",
    "import numpy as np\n",
    "import matplotlib.pyplot as plt\n",
    "import re\n",
    "import os\n",
    "import seaborn as sns\n",
    "from collections import Counter\n",
    "import tqdm\n",
    "from nltk import word_tokenize, sent_tokenize\n",
    "from nltk.corpus import stopwords\n",
    "import unicodedata\n",
    "from sklearn.feature_extraction.text import TfidfVectorizer\n",
    "import nltk\n",
    "from wordcloud import WordCloud, STOPWORDS\n",
    "from gensim.models.word2vec import Word2Vec\n",
    "from gensim.models import KeyedVectors\n",
    "from sklearn.cluster import AffinityPropagation\n",
    "from IPython.display import display\n",
    "from matplotlib import pyplot\n",
    "from sklearn.decomposition import PCA\n",
    "%matplotlib inline"
   ]
  },
  {
   "cell_type": "code",
   "execution_count": 2,
   "metadata": {
    "ExecuteTime": {
     "end_time": "2019-01-26T15:42:07.582908Z",
     "start_time": "2019-01-26T15:42:07.443670Z"
    },
    "slideshow": {
     "slide_type": "-"
    }
   },
   "outputs": [
    {
     "data": {
      "text/html": [
       "<div>\n",
       "<style scoped>\n",
       "    .dataframe tbody tr th:only-of-type {\n",
       "        vertical-align: middle;\n",
       "    }\n",
       "\n",
       "    .dataframe tbody tr th {\n",
       "        vertical-align: top;\n",
       "    }\n",
       "\n",
       "    .dataframe thead th {\n",
       "        text-align: right;\n",
       "    }\n",
       "</style>\n",
       "<table border=\"1\" class=\"dataframe\">\n",
       "  <thead>\n",
       "    <tr style=\"text-align: right;\">\n",
       "      <th></th>\n",
       "      <th>index</th>\n",
       "      <th>URL</th>\n",
       "      <th>Headline</th>\n",
       "      <th>Date</th>\n",
       "      <th>Content</th>\n",
       "      <th>Author</th>\n",
       "    </tr>\n",
       "  </thead>\n",
       "  <tbody>\n",
       "    <tr>\n",
       "      <th>0</th>\n",
       "      <td>0</td>\n",
       "      <td>https://www.dawn.com/news/1458127/mbbs-student...</td>\n",
       "      <td>MBBS student found dead in hostel room at Jams...</td>\n",
       "      <td>2019-01-17</td>\n",
       "      <td>A third-year MBBS student was found shot dead ...</td>\n",
       "      <td>Mohammad Hussain Khan</td>\n",
       "    </tr>\n",
       "    <tr>\n",
       "      <th>1</th>\n",
       "      <td>1</td>\n",
       "      <td>https://www.dawn.com/news/1458129/govt-decides...</td>\n",
       "      <td>Govt decides to remove names of Bilawal, Murad...</td>\n",
       "      <td>2019-01-17</td>\n",
       "      <td>The federal cabinet has decided to remove the ...</td>\n",
       "      <td>Sanaullah Khan | Javed Hussain</td>\n",
       "    </tr>\n",
       "    <tr>\n",
       "      <th>2</th>\n",
       "      <td>2</td>\n",
       "      <td>https://www.dawn.com/news/1458125/afghan-presi...</td>\n",
       "      <td>Afghan president thanks PM Khan for Pakistan's...</td>\n",
       "      <td>2019-01-17</td>\n",
       "      <td>Afghan President Ashraf Ghani on Thursday tele...</td>\n",
       "      <td>Sanaullah Khan</td>\n",
       "    </tr>\n",
       "    <tr>\n",
       "      <th>3</th>\n",
       "      <td>3</td>\n",
       "      <td>https://www.dawn.com/news/1458123/mehwish-haya...</td>\n",
       "      <td>Mehwish Hayat acts out her musical dreams in n...</td>\n",
       "      <td>2019-01-17</td>\n",
       "      <td>Director and script writer Wajahat Rauf unveil...</td>\n",
       "      <td>dawn</td>\n",
       "    </tr>\n",
       "    <tr>\n",
       "      <th>4</th>\n",
       "      <td>4</td>\n",
       "      <td>https://www.dawn.com/news/1458118/complete-tex...</td>\n",
       "      <td>Complete text of address by Justice Asif Saeed...</td>\n",
       "      <td>2019-01-17</td>\n",
       "      <td>Complete address by Justice Asif Saeed Khosa o...</td>\n",
       "      <td>dawn</td>\n",
       "    </tr>\n",
       "  </tbody>\n",
       "</table>\n",
       "</div>"
      ],
      "text/plain": [
       "   index                                                URL  \\\n",
       "0      0  https://www.dawn.com/news/1458127/mbbs-student...   \n",
       "1      1  https://www.dawn.com/news/1458129/govt-decides...   \n",
       "2      2  https://www.dawn.com/news/1458125/afghan-presi...   \n",
       "3      3  https://www.dawn.com/news/1458123/mehwish-haya...   \n",
       "4      4  https://www.dawn.com/news/1458118/complete-tex...   \n",
       "\n",
       "                                            Headline        Date  \\\n",
       "0  MBBS student found dead in hostel room at Jams...  2019-01-17   \n",
       "1  Govt decides to remove names of Bilawal, Murad...  2019-01-17   \n",
       "2  Afghan president thanks PM Khan for Pakistan's...  2019-01-17   \n",
       "3  Mehwish Hayat acts out her musical dreams in n...  2019-01-17   \n",
       "4  Complete text of address by Justice Asif Saeed...  2019-01-17   \n",
       "\n",
       "                                             Content  \\\n",
       "0  A third-year MBBS student was found shot dead ...   \n",
       "1  The federal cabinet has decided to remove the ...   \n",
       "2  Afghan President Ashraf Ghani on Thursday tele...   \n",
       "3  Director and script writer Wajahat Rauf unveil...   \n",
       "4  Complete address by Justice Asif Saeed Khosa o...   \n",
       "\n",
       "                           Author  \n",
       "0           Mohammad Hussain Khan  \n",
       "1  Sanaullah Khan | Javed Hussain  \n",
       "2                  Sanaullah Khan  \n",
       "3                            dawn  \n",
       "4                            dawn  "
      ]
     },
     "execution_count": 2,
     "metadata": {},
     "output_type": "execute_result"
    }
   ],
   "source": [
    "data = pd.read_csv('articles.csv')\n",
    "data.head()"
   ]
  },
  {
   "cell_type": "markdown",
   "metadata": {},
   "source": [
    "#### Preprocessing"
   ]
  },
  {
   "cell_type": "markdown",
   "metadata": {},
   "source": [
    " - Let's see the distribution of words in the articles\n",
    " - Once we get the labels we can compare the length of the fake vs real articles"
   ]
  },
  {
   "cell_type": "code",
   "execution_count": 3,
   "metadata": {
    "ExecuteTime": {
     "end_time": "2019-01-26T15:42:07.742938Z",
     "start_time": "2019-01-26T15:42:07.586401Z"
    }
   },
   "outputs": [
    {
     "name": "stdout",
     "output_type": "stream",
     "text": [
      "Average number of words in an article is: 487.5427135678392.\n",
      "Minimum number of words in an article is: 75.\n",
      "Maximum number of words in an article is: 3308.\n"
     ]
    }
   ],
   "source": [
    "length = np.array(list(map(len, data['Content'].str.split(' '))))\n",
    "print(\"Average number of words in an article is: {}.\".format(np.mean(length)))\n",
    "print(\"Minimum number of words in an article is: {}.\".format(min(length)))\n",
    "print(\"Maximum number of words in an article is: {}.\".format(max(length)))"
   ]
  },
  {
   "cell_type": "code",
   "execution_count": 4,
   "metadata": {
    "ExecuteTime": {
     "end_time": "2019-01-26T15:42:08.578367Z",
     "start_time": "2019-01-26T15:42:07.751920Z"
    }
   },
   "outputs": [
    {
     "name": "stderr",
     "output_type": "stream",
     "text": [
      "C:\\Users\\tooba\\Anaconda3\\lib\\site-packages\\scipy\\stats\\stats.py:1713: FutureWarning: Using a non-tuple sequence for multidimensional indexing is deprecated; use `arr[tuple(seq)]` instead of `arr[seq]`. In the future this will be interpreted as an array index, `arr[np.array(seq)]`, which will result either in an error or a different result.\n",
      "  return np.add.reduce(sorted[indexer] * weights, axis=axis) / sumval\n"
     ]
    },
    {
     "data": {
      "image/png": "[encoded data removed]",
      "text/plain": [
       "<Figure size 1080x360 with 1 Axes>"
      ]
     },
     "metadata": {
      "needs_background": "light"
     },
     "output_type": "display_data"
    }
   ],
   "source": [
    "fig, a = plt.subplots(figsize=(15,5))\n",
    "a.set_title(\"Distribution of number of words\", fontsize=15)\n",
    "a.set_xlabel(\"Number of words\")\n",
    "sns.distplot(length, bins=60, ax=a);"
   ]
  },
  {
   "cell_type": "code",
   "execution_count": 5,
   "metadata": {
    "ExecuteTime": {
     "end_time": "2019-01-26T15:42:08.600821Z",
     "start_time": "2019-01-26T15:42:08.585351Z"
    }
   },
   "outputs": [
    {
     "name": "stdout",
     "output_type": "stream",
     "text": [
      "There are 20 articles with greater than 1000 words.\n"
     ]
    }
   ],
   "source": [
    "print(\"There are {} articles with greater than 1000 words.\".format(sum(length > 1000)))"
   ]
  },
  {
   "cell_type": "markdown",
   "metadata": {},
   "source": [
    " - We will only tokenize and remove some punctuation for the Word2Vec model since the model can determine by itself what words are important and what needs to be discarded. That's why for now we aren't removing the stopwords.\n",
    " - Can fine-tune the preprocessing of Word2Vec based on how the model performs"
   ]
  },
  {
   "cell_type": "code",
   "execution_count": 6,
   "metadata": {
    "ExecuteTime": {
     "end_time": "2019-01-26T15:42:08.844282Z",
     "start_time": "2019-01-26T15:42:08.606311Z"
    }
   },
   "outputs": [],
   "source": [
    "def tokens(sentence):\n",
    "    replace = list(map(lambda x: re.sub('[^0-9A-Za-z!?]+', '', x), sentence))\n",
    "    remove = list(filter(lambda x: x, replace))\n",
    "    return remove"
   ]
  },
  {
   "cell_type": "code",
   "execution_count": 7,
   "metadata": {
    "ExecuteTime": {
     "end_time": "2019-01-26T15:42:14.308005Z",
     "start_time": "2019-01-26T15:42:08.858757Z"
    }
   },
   "outputs": [],
   "source": [
    "def preprocessing(data):\n",
    "    data['tokenized'] = data['Content'].str.lower() #lower\n",
    "    data['tokenized'] = data['tokenized'].str.split('.')  #sentences\n",
    "    data['tokenized'] = list(map(lambda x: list(map(nltk.word_tokenize, x)), data['tokenized'])) \n",
    "    data['tokenized'] = list(map(lambda x: list(map(tokens, x)), data['tokenized']))  # remove unwanted chars\n",
    "    data['tokenized'] = list(map(lambda x: list(filter(lambda lst: lst, x)), data['tokenized']))  # remove empty lists\n",
    "\n",
    "preprocessing(data)"
   ]
  },
  {
   "cell_type": "code",
   "execution_count": 8,
   "metadata": {
    "ExecuteTime": {
     "end_time": "2019-01-26T15:42:14.331443Z",
     "start_time": "2019-01-26T15:42:14.310486Z"
    }
   },
   "outputs": [
    {
     "name": "stdout",
     "output_type": "stream",
     "text": [
      "Total number of sentences in all the articles: 8409.\n",
      "Total articles: 398.\n"
     ]
    }
   ],
   "source": [
    "s = []\n",
    "for i in data['tokenized']:\n",
    "    s.extend(i)\n",
    "print(\"Total number of sentences in all the articles: {}.\".format(len(s)))\n",
    "print(\"Total articles: {}.\".format(len(data)))"
   ]
  },
  {
   "cell_type": "markdown",
   "metadata": {},
   "source": [
    "#### Word2Vec\n",
    "The following approaches can be tested\n",
    " - Use Google pre-trained model and create features based on that for the current dataset\n",
    " - Finetune the google pre-trained model for our dataset\n",
    " - Training from scratch (Won't really work because the neural network needs alot of data to learn the weights)\n",
    " - For parameters we can finetune the model based on both Continous bag of words and skip grams."
   ]
  },
  {
   "cell_type": "code",
   "execution_count": 9,
   "metadata": {
    "ExecuteTime": {
     "end_time": "2019-01-26T15:40:45.193360Z",
     "start_time": "2019-01-26T15:40:45.013376Z"
    }
   },
   "outputs": [],
   "source": [
    "os.chdir('E:\\Courses\\Projects\\Surkhi Material')"
   ]
  },
  {
   "cell_type": "code",
   "execution_count": 10,
   "metadata": {
    "ExecuteTime": {
     "end_time": "2019-01-26T09:50:03.821036Z",
     "start_time": "2019-01-26T09:50:03.661081Z"
    }
   },
   "outputs": [
    {
     "data": {
      "text/plain": [
       "'E:\\\\Courses\\\\Projects\\\\Surkhi Material'"
      ]
     },
     "execution_count": 10,
     "metadata": {},
     "output_type": "execute_result"
    }
   ],
   "source": [
    "os.getcwd()"
   ]
  },
  {
   "cell_type": "markdown",
   "metadata": {},
   "source": [
    "#### Google Word2Vec"
   ]
  },
  {
   "cell_type": "code",
   "execution_count": 11,
   "metadata": {
    "ExecuteTime": {
     "end_time": "2019-01-26T09:55:13.133436Z",
     "start_time": "2019-01-26T09:50:09.602112Z"
    }
   },
   "outputs": [],
   "source": [
    "# Load Google's pre-trained Word2Vec model.\n",
    "model = KeyedVectors.load_word2vec_format('GoogleNews-vectors-negative300.bin.gz', binary=True) \n",
    "# model.vector_size"
   ]
  },
  {
   "cell_type": "code",
   "execution_count": 14,
   "metadata": {
    "ExecuteTime": {
     "end_time": "2019-01-26T10:00:34.271616Z",
     "start_time": "2019-01-26T09:58:49.324869Z"
    }
   },
   "outputs": [],
   "source": [
    "# model.save(\"google_model\")"
   ]
  },
  {
   "cell_type": "code",
   "execution_count": 12,
   "metadata": {
    "ExecuteTime": {
     "end_time": "2019-01-26T09:55:13.189419Z",
     "start_time": "2019-01-26T09:55:13.137436Z"
    }
   },
   "outputs": [
    {
     "name": "stderr",
     "output_type": "stream",
     "text": [
      "C:\\Users\\tooba\\Anaconda3\\lib\\site-packages\\ipykernel_launcher.py:1: DeprecationWarning: Call to deprecated `wv` (Attribute will be removed in 4.0.0, use self instead).\n",
      "  \"\"\"Entry point for launching an IPython kernel.\n",
      "C:\\Users\\tooba\\Anaconda3\\lib\\site-packages\\gensim\\matutils.py:737: FutureWarning: Conversion of the second argument of issubdtype from `int` to `np.signedinteger` is deprecated. In future, it will be treated as `np.int32 == np.dtype(int).type`.\n",
      "  if np.issubdtype(vec.dtype, np.int):\n"
     ]
    },
    {
     "name": "stdout",
     "output_type": "stream",
     "text": [
      "0.41703448\n"
     ]
    },
    {
     "name": "stderr",
     "output_type": "stream",
     "text": [
      "C:\\Users\\tooba\\Anaconda3\\lib\\site-packages\\ipykernel_launcher.py:2: DeprecationWarning: Call to deprecated `wv` (Attribute will be removed in 4.0.0, use self instead).\n",
      "  \n"
     ]
    },
    {
     "name": "stdout",
     "output_type": "stream",
     "text": [
      "0.07247438\n"
     ]
    },
    {
     "name": "stderr",
     "output_type": "stream",
     "text": [
      "C:\\Users\\tooba\\Anaconda3\\lib\\site-packages\\ipykernel_launcher.py:3: DeprecationWarning: Call to deprecated `wv` (Attribute will be removed in 4.0.0, use self instead).\n",
      "  This is separate from the ipykernel package so we can avoid doing imports until\n"
     ]
    },
    {
     "name": "stdout",
     "output_type": "stream",
     "text": [
      "0.20080201\n"
     ]
    },
    {
     "name": "stderr",
     "output_type": "stream",
     "text": [
      "C:\\Users\\tooba\\Anaconda3\\lib\\site-packages\\ipykernel_launcher.py:4: DeprecationWarning: Call to deprecated `wv` (Attribute will be removed in 4.0.0, use self instead).\n",
      "  after removing the cwd from sys.path.\n"
     ]
    },
    {
     "name": "stdout",
     "output_type": "stream",
     "text": [
      "0.012489323\n"
     ]
    },
    {
     "name": "stderr",
     "output_type": "stream",
     "text": [
      "C:\\Users\\tooba\\Anaconda3\\lib\\site-packages\\ipykernel_launcher.py:5: DeprecationWarning: Call to deprecated `wv` (Attribute will be removed in 4.0.0, use self instead).\n",
      "  \"\"\"\n"
     ]
    },
    {
     "name": "stdout",
     "output_type": "stream",
     "text": [
      "0.008988038\n"
     ]
    }
   ],
   "source": [
    "print(model.wv.similarity(w1=\"politics\",w2=\"election\"))\n",
    "print(model.wv.similarity(w1=\"express\",w2=\"news\"))\n",
    "print(model.wv.similarity(w1=\"dawn\",w2=\"news\"))\n",
    "print(model.wv.similarity(w1=\"dawn\",w2=\"express\"))\n",
    "print(model.wv.similarity(w1=\"pti\",w2=\"election\"))"
   ]
  },
  {
   "cell_type": "markdown",
   "metadata": {},
   "source": [
    "- We can see from the above similarity score that we need to fine tune the model for our data since the context for the news here is different."
   ]
  },
  {
   "cell_type": "markdown",
   "metadata": {},
   "source": [
    "#### Fine-tune "
   ]
  },
  {
   "cell_type": "code",
   "execution_count": null,
   "metadata": {
    "ExecuteTime": {
     "start_time": "2019-01-26T10:02:27.424Z"
    }
   },
   "outputs": [],
   "source": [
    "# Cannot run on this machine\n",
    "model = Word2Vec.load(\"google_model\")\n",
    "model.train(documents =s,total_examples = len(s), epochs = self.iter)"
   ]
  },
  {
   "cell_type": "markdown",
   "metadata": {},
   "source": [
    "#### Train from Scratch"
   ]
  },
  {
   "cell_type": "markdown",
   "metadata": {},
   "source": [
    "#### Observations\n",
    " - If we use sg = 1 (skip-gram model) for word2vec then the model perfoms worse. The model performs better with sg = 0 (Continous Bag of words) since skip-gram performs better in the case of a large corpus which isn't the case for our dataset.\n",
    " - We are using hs = 0 (hierarchial sampling) instead of hs = 1 (negative sampling) because the latter is typically preferred for large corpus.\n",
    " - Window size: As we reduce the window size the similarity score between the same context words is imporving.\n",
    " -Downsampling : Since the neural network has 1 hidden layers and 1 output layer so the total number of weights (matrix) for each layer are going to be 200 x 6426 (features x vocabulary) which is alot.We will need a huge amount of training data in order to tune these weights and avoid over-fitting.Hence we subsample frequent words to decrease the number of training examples."
   ]
  },
  {
   "cell_type": "code",
   "execution_count": 12,
   "metadata": {
    "ExecuteTime": {
     "end_time": "2019-01-26T15:45:09.175317Z",
     "start_time": "2019-01-26T15:45:01.298598Z"
    }
   },
   "outputs": [],
   "source": [
    "# Train on the current dataset\n",
    "num_features = 200    \n",
    "count = 3    \n",
    "context = 2           \n",
    "downsampling = 1e-3   # threshold for configuring which higher-frequency words are randomly downsampled\n",
    "model = Word2Vec(sentences=s,sg=0,hs=0,size=num_features,min_count=count,window=context,sample=downsampling,\n",
    "                 iter=20,compute_loss = True)"
   ]
  },
  {
   "cell_type": "code",
   "execution_count": 17,
   "metadata": {
    "ExecuteTime": {
     "end_time": "2019-01-26T15:47:02.861696Z",
     "start_time": "2019-01-26T15:47:02.851712Z"
    }
   },
   "outputs": [
    {
     "data": {
      "text/plain": [
       "2320115.0"
      ]
     },
     "execution_count": 17,
     "metadata": {},
     "output_type": "execute_result"
    }
   ],
   "source": [
    "model.get_latest_training_loss()"
   ]
  },
  {
   "cell_type": "code",
   "execution_count": 21,
   "metadata": {
    "ExecuteTime": {
     "end_time": "2019-01-26T15:49:13.741545Z",
     "start_time": "2019-01-26T15:49:13.724078Z"
    }
   },
   "outputs": [
    {
     "name": "stderr",
     "output_type": "stream",
     "text": [
      "C:\\Users\\tooba\\Anaconda3\\lib\\site-packages\\ipykernel_launcher.py:1: DeprecationWarning: Call to deprecated `most_similar` (Method will be removed in 4.0.0, use self.wv.most_similar() instead).\n",
      "  \"\"\"Entry point for launching an IPython kernel.\n"
     ]
    },
    {
     "data": {
      "text/plain": [
       "[('ppp', 0.8918001055717468),\n",
       " ('pmln', 0.8917306661605835),\n",
       " ('opposition', 0.8003404140472412),\n",
       " ('leadership', 0.7986245155334473),\n",
       " ('alliance', 0.7851901650428772),\n",
       " ('sindh', 0.7809574007987976),\n",
       " ('mqm', 0.7788859605789185),\n",
       " ('federal', 0.7682009935379028),\n",
       " ('gda', 0.7676957249641418),\n",
       " ('provincial', 0.7639607191085815)]"
      ]
     },
     "execution_count": 21,
     "metadata": {},
     "output_type": "execute_result"
    }
   ],
   "source": [
    "model.most_similar([\"pti\"],topn=10)"
   ]
  },
  {
   "cell_type": "markdown",
   "metadata": {},
   "source": [
    "- From the above similarity we can see that the model is generalizing according to the Pakistani news context. "
   ]
  },
  {
   "cell_type": "code",
   "execution_count": 10,
   "metadata": {
    "ExecuteTime": {
     "end_time": "2019-01-26T15:42:46.736400Z",
     "start_time": "2019-01-26T15:42:46.704956Z"
    }
   },
   "outputs": [
    {
     "name": "stderr",
     "output_type": "stream",
     "text": [
      "C:\\Users\\tooba\\Anaconda3\\lib\\site-packages\\gensim\\matutils.py:737: FutureWarning: Conversion of the second argument of issubdtype from `int` to `np.signedinteger` is deprecated. In future, it will be treated as `np.int32 == np.dtype(int).type`.\n",
      "  if np.issubdtype(vec.dtype, np.int):\n"
     ]
    },
    {
     "name": "stdout",
     "output_type": "stream",
     "text": [
      "0.5110972\n",
      "0.68454623\n",
      "0.68404645\n",
      "0.7938115\n",
      "0.64978504\n"
     ]
    }
   ],
   "source": [
    "print(model.wv.similarity(w1=\"politics\",w2=\"election\"))\n",
    "print(model.wv.similarity(w1=\"express\",w2=\"news\"))\n",
    "print(model.wv.similarity(w1=\"dawn\",w2=\"news\"))\n",
    "print(model.wv.similarity(w1=\"dawn\",w2=\"express\"))\n",
    "print(model.wv.similarity(w1=\"pti\",w2=\"election\"))\n"
   ]
  },
  {
   "cell_type": "markdown",
   "metadata": {},
   "source": [
    "- We can see from the above similarity score that if we train the model for our data then it works better."
   ]
  },
  {
   "cell_type": "code",
   "execution_count": 11,
   "metadata": {
    "ExecuteTime": {
     "end_time": "2019-01-26T15:43:40.290932Z",
     "start_time": "2019-01-26T15:43:40.279455Z"
    }
   },
   "outputs": [
    {
     "data": {
      "text/plain": [
       "6426"
      ]
     },
     "execution_count": 11,
     "metadata": {},
     "output_type": "execute_result"
    }
   ],
   "source": [
    "len(model.wv.vocab.keys())"
   ]
  },
  {
   "cell_type": "markdown",
   "metadata": {},
   "source": [
    " - To find the article level embeddings we can average out the word embeddings for each word in the article. As a result we get features for each individual article.\n",
    " - The averaging is also used because we only care about the context of the surrounding words and not their order so to ensure that we take the average.\n",
    "\n"
   ]
  },
  {
   "cell_type": "code",
   "execution_count": null,
   "metadata": {},
   "outputs": [],
   "source": [
    "# Creating features using the pre-trained model\n",
    "def features(model, sentence_list):\n",
    "#concatenates all the words in the sentences for an article    \n",
    "    words = np.concatenate(sentence_list)  \n",
    "    model_words = set(model.wv.vocab.keys())\n",
    "    feature_size = model.vector_size\n",
    "    features = np.zeros(feature_size,dtype=\"float32\")\n",
    "    total_words = 0\n",
    "#  if the article word is in the model's vocabulary then add its feature vector to the total\n",
    "    for word in words:\n",
    "        if word in model_words:\n",
    "            features = np.add(features, model[word])\n",
    "            total_words+= 1\n",
    "\n",
    "    # Divide the result by the number of words to get the average\n",
    "    if total_words > 0:\n",
    "        features = np.divide(features, total_words)\n",
    "    return features\n",
    "\n",
    "data['w2v_features'] = list(map(lambda sentence_list: features(model,sentence_list), data['tokenized']))"
   ]
  },
  {
   "cell_type": "code",
   "execution_count": null,
   "metadata": {},
   "outputs": [],
   "source": []
  }
 ],
 "metadata": {
  "kernelspec": {
   "display_name": "Python 3",
   "language": "python",
   "name": "python3"
  },
  "language_info": {
   "codemirror_mode": {
    "name": "ipython",
    "version": 3
   },
   "file_extension": ".py",
   "mimetype": "text/x-python",
   "name": "python",
   "nbconvert_exporter": "python",
   "pygments_lexer": "ipython3",
   "version": "3.6.6"
  }
 },
 "nbformat": 4,
 "nbformat_minor": 2
}
