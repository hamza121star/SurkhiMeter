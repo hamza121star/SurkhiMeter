{
 "cells": [
  {
   "cell_type": "markdown",
   "metadata": {},
   "source": [
    "#### Experiments with Article Headlines ONLY"
   ]
  },
  {
   "cell_type": "markdown",
   "metadata": {},
   "source": [
    "- In this notebook we will repeat all the preprocessing steps for ONLY the labelled data. Later on we will use the data to build our classification model.\n",
    "- We will use the headlines ONLY as input to out model in this notebook. "
   ]
  },
  {
   "cell_type": "markdown",
   "metadata": {},
   "source": [
    "### Libraries"
   ]
  },
  {
   "cell_type": "code",
   "execution_count": 1,
   "metadata": {
    "ExecuteTime": {
     "end_time": "2019-02-10T10:13:57.831708Z",
     "start_time": "2019-02-10T10:13:46.161799Z"
    }
   },
   "outputs": [
    {
     "name": "stderr",
     "output_type": "stream",
     "text": [
      "C:\\Users\\tooba\\Anaconda3\\lib\\site-packages\\gensim\\utils.py:1212: UserWarning: detected Windows; aliasing chunkize to chunkize_serial\n",
      "  warnings.warn(\"detected Windows; aliasing chunkize to chunkize_serial\")\n"
     ]
    }
   ],
   "source": [
    "import pandas as pd\n",
    "import numpy as np\n",
    "import matplotlib.pyplot as plt\n",
    "import re\n",
    "import seaborn as sb\n",
    "from collections import Counter\n",
    "import tqdm\n",
    "from nltk import word_tokenize, sent_tokenize\n",
    "from nltk.corpus import stopwords\n",
    "import unicodedata\n",
    "from sklearn.feature_extraction.text import TfidfVectorizer\n",
    "import nltk\n",
    "from wordcloud import WordCloud, STOPWORDS\n",
    "import gensim\n",
    "from sklearn.metrics import confusion_matrix as cm\n",
    "from sklearn.metrics import precision_recall_fscore_support\n",
    "import plotly.plotly as py\n",
    "import plotly.graph_objs as go\n",
    "from plotly import tools\n",
    "from sklearn.linear_model import SGDClassifier\n",
    "from sklearn.pipeline import Pipeline\n",
    "from sklearn.model_selection import GridSearchCV\n",
    "from sklearn import metrics\n",
    "from sklearn.feature_extraction.text import TfidfTransformer\n",
    "from sklearn.utils import shuffle\n",
    "from sklearn.linear_model import LogisticRegression\n",
    "from sklearn.model_selection import cross_val_score\n",
    "from sklearn.model_selection import train_test_split\n",
    "from sklearn.feature_extraction.stop_words import ENGLISH_STOP_WORDS\n",
    "from sklearn.metrics import f1_score, accuracy_score , recall_score , precision_score\n",
    "from sklearn.model_selection import learning_curve\n",
    "from sklearn.metrics import mean_squared_error\n",
    "from sklearn.model_selection import ShuffleSplit\n",
    "from sklearn.model_selection import cross_validate\n",
    "from sklearn.model_selection import cross_val_score\n",
    "%matplotlib inline\n",
    "%config InlineBackend.figure_format = 'retina'"
   ]
  },
  {
   "cell_type": "code",
   "execution_count": 2,
   "metadata": {
    "ExecuteTime": {
     "end_time": "2019-02-10T10:13:57.969436Z",
     "start_time": "2019-02-10T10:13:57.836691Z"
    }
   },
   "outputs": [
    {
     "data": {
      "text/html": [
       "<div>\n",
       "<style scoped>\n",
       "    .dataframe tbody tr th:only-of-type {\n",
       "        vertical-align: middle;\n",
       "    }\n",
       "\n",
       "    .dataframe tbody tr th {\n",
       "        vertical-align: top;\n",
       "    }\n",
       "\n",
       "    .dataframe thead th {\n",
       "        text-align: right;\n",
       "    }\n",
       "</style>\n",
       "<table border=\"1\" class=\"dataframe\">\n",
       "  <thead>\n",
       "    <tr style=\"text-align: right;\">\n",
       "      <th></th>\n",
       "      <th>News ID</th>\n",
       "      <th>URL</th>\n",
       "      <th>Headline</th>\n",
       "      <th>Date</th>\n",
       "      <th>Content</th>\n",
       "      <th>Author</th>\n",
       "      <th>Publisher</th>\n",
       "      <th>News Category</th>\n",
       "      <th>Keywords</th>\n",
       "      <th>Label</th>\n",
       "      <th>tokenized_Content</th>\n",
       "      <th>tokenized_Headline</th>\n",
       "    </tr>\n",
       "  </thead>\n",
       "  <tbody>\n",
       "    <tr>\n",
       "      <th>0</th>\n",
       "      <td>0</td>\n",
       "      <td>https://www.dawn.com/news/1458127/mbbs-student...</td>\n",
       "      <td>MBBS student found dead in hostel room at Jams...</td>\n",
       "      <td>2019-01-17</td>\n",
       "      <td>A third-year MBBS student was found shot dead ...</td>\n",
       "      <td>Mohammad Hussain Khan</td>\n",
       "      <td>Dawn</td>\n",
       "      <td>Mental health</td>\n",
       "      <td>Jamshoro, youth, suicide, mental health</td>\n",
       "      <td>1</td>\n",
       "      <td>['thirdyear', 'mbbs', 'student', 'found', 'sho...</td>\n",
       "      <td>['mbbs', 'student', 'found', 'dead', 'hostel',...</td>\n",
       "    </tr>\n",
       "    <tr>\n",
       "      <th>1</th>\n",
       "      <td>1</td>\n",
       "      <td>https://www.dawn.com/news/1458129/govt-decides...</td>\n",
       "      <td>Govt decides to remove names of Bilawal, Murad...</td>\n",
       "      <td>2019-01-17</td>\n",
       "      <td>The federal cabinet has decided to remove the ...</td>\n",
       "      <td>Sanaullah Khan | Javed Hussain</td>\n",
       "      <td>Dawn</td>\n",
       "      <td>Politics</td>\n",
       "      <td>Islamabad, Sindh, PPP, ECL</td>\n",
       "      <td>1</td>\n",
       "      <td>['federal', 'cabinet', 'decided', 'remove', 'n...</td>\n",
       "      <td>['govt', 'decides', 'remove', 'names', 'bilawa...</td>\n",
       "    </tr>\n",
       "    <tr>\n",
       "      <th>2</th>\n",
       "      <td>2</td>\n",
       "      <td>https://www.dawn.com/news/1458125/afghan-presi...</td>\n",
       "      <td>Afghan president thanks PM Khan for Pakistan's...</td>\n",
       "      <td>2019-01-17</td>\n",
       "      <td>Afghan President Ashraf Ghani on Thursday tele...</td>\n",
       "      <td>Sanaullah Khan</td>\n",
       "      <td>Dawn</td>\n",
       "      <td>Foreign Affairs</td>\n",
       "      <td>Afghanistan, foreign affairs, Imran Khan, Ashr...</td>\n",
       "      <td>1</td>\n",
       "      <td>['afghan', 'president', 'ashraf', 'ghani', 'th...</td>\n",
       "      <td>['afghan', 'president', 'thanks', 'pm', 'khan'...</td>\n",
       "    </tr>\n",
       "    <tr>\n",
       "      <th>3</th>\n",
       "      <td>3</td>\n",
       "      <td>https://www.dawn.com/news/1458123/mehwish-haya...</td>\n",
       "      <td>Mehwish Hayat acts out her musical dreams in n...</td>\n",
       "      <td>2019-01-17</td>\n",
       "      <td>Director and script writer Wajahat Rauf unveil...</td>\n",
       "      <td>dawn</td>\n",
       "      <td>Dawn</td>\n",
       "      <td>Entertainment</td>\n",
       "      <td>Mehwish Hayat, Enaaya, Azfar Rehman, Wajahat Rauf</td>\n",
       "      <td>-1</td>\n",
       "      <td>['director', 'script', 'writer', 'wajahat', 'r...</td>\n",
       "      <td>['mehwish', 'hayat', 'acts', 'musical', 'dream...</td>\n",
       "    </tr>\n",
       "    <tr>\n",
       "      <th>4</th>\n",
       "      <td>4</td>\n",
       "      <td>https://www.dawn.com/news/1458118/complete-tex...</td>\n",
       "      <td>Complete text of address by Justice Asif Saeed...</td>\n",
       "      <td>2019-01-17</td>\n",
       "      <td>Complete address by Justice Asif Saeed Khosa o...</td>\n",
       "      <td>dawn</td>\n",
       "      <td>Dawn</td>\n",
       "      <td>Judiciary</td>\n",
       "      <td>Islamabad, Asif Khosa, Supreme Court, Saqib Nisar</td>\n",
       "      <td>1</td>\n",
       "      <td>['complete', 'address', 'justice', 'asif', 'sa...</td>\n",
       "      <td>['complete', 'text', 'address', 'justice', 'as...</td>\n",
       "    </tr>\n",
       "  </tbody>\n",
       "</table>\n",
       "</div>"
      ],
      "text/plain": [
       "   News ID                                                URL  \\\n",
       "0        0  https://www.dawn.com/news/1458127/mbbs-student...   \n",
       "1        1  https://www.dawn.com/news/1458129/govt-decides...   \n",
       "2        2  https://www.dawn.com/news/1458125/afghan-presi...   \n",
       "3        3  https://www.dawn.com/news/1458123/mehwish-haya...   \n",
       "4        4  https://www.dawn.com/news/1458118/complete-tex...   \n",
       "\n",
       "                                            Headline        Date  \\\n",
       "0  MBBS student found dead in hostel room at Jams...  2019-01-17   \n",
       "1  Govt decides to remove names of Bilawal, Murad...  2019-01-17   \n",
       "2  Afghan president thanks PM Khan for Pakistan's...  2019-01-17   \n",
       "3  Mehwish Hayat acts out her musical dreams in n...  2019-01-17   \n",
       "4  Complete text of address by Justice Asif Saeed...  2019-01-17   \n",
       "\n",
       "                                             Content  \\\n",
       "0  A third-year MBBS student was found shot dead ...   \n",
       "1  The federal cabinet has decided to remove the ...   \n",
       "2  Afghan President Ashraf Ghani on Thursday tele...   \n",
       "3  Director and script writer Wajahat Rauf unveil...   \n",
       "4  Complete address by Justice Asif Saeed Khosa o...   \n",
       "\n",
       "                           Author Publisher    News Category  \\\n",
       "0           Mohammad Hussain Khan      Dawn    Mental health   \n",
       "1  Sanaullah Khan | Javed Hussain      Dawn         Politics   \n",
       "2                  Sanaullah Khan      Dawn  Foreign Affairs   \n",
       "3                            dawn      Dawn    Entertainment   \n",
       "4                            dawn      Dawn        Judiciary   \n",
       "\n",
       "                                            Keywords  Label  \\\n",
       "0            Jamshoro, youth, suicide, mental health      1   \n",
       "1                         Islamabad, Sindh, PPP, ECL      1   \n",
       "2  Afghanistan, foreign affairs, Imran Khan, Ashr...      1   \n",
       "3  Mehwish Hayat, Enaaya, Azfar Rehman, Wajahat Rauf     -1   \n",
       "4  Islamabad, Asif Khosa, Supreme Court, Saqib Nisar      1   \n",
       "\n",
       "                                   tokenized_Content  \\\n",
       "0  ['thirdyear', 'mbbs', 'student', 'found', 'sho...   \n",
       "1  ['federal', 'cabinet', 'decided', 'remove', 'n...   \n",
       "2  ['afghan', 'president', 'ashraf', 'ghani', 'th...   \n",
       "3  ['director', 'script', 'writer', 'wajahat', 'r...   \n",
       "4  ['complete', 'address', 'justice', 'asif', 'sa...   \n",
       "\n",
       "                                  tokenized_Headline  \n",
       "0  ['mbbs', 'student', 'found', 'dead', 'hostel',...  \n",
       "1  ['govt', 'decides', 'remove', 'names', 'bilawa...  \n",
       "2  ['afghan', 'president', 'thanks', 'pm', 'khan'...  \n",
       "3  ['mehwish', 'hayat', 'acts', 'musical', 'dream...  \n",
       "4  ['complete', 'text', 'address', 'justice', 'as...  "
      ]
     },
     "execution_count": 2,
     "metadata": {},
     "output_type": "execute_result"
    }
   ],
   "source": [
    "data = pd.read_csv('Cleaned-Data/preprocessed.csv')\n",
    "data.head()"
   ]
  },
  {
   "cell_type": "markdown",
   "metadata": {},
   "source": [
    "- From now onwards we will try to find the best model and features according to our data using exhaustive research."
   ]
  },
  {
   "cell_type": "markdown",
   "metadata": {},
   "source": [
    "### Grid Search \n",
    "- We perform grid search for all the models and features to find the best combination of model, features and hyperparameters."
   ]
  },
  {
   "cell_type": "markdown",
   "metadata": {},
   "source": [
    "#### Logistic Regression with TFIDF"
   ]
  },
  {
   "cell_type": "code",
   "execution_count": 3,
   "metadata": {
    "ExecuteTime": {
     "end_time": "2019-02-10T10:14:01.746235Z",
     "start_time": "2019-02-10T10:14:01.712799Z"
    }
   },
   "outputs": [
    {
     "name": "stdout",
     "output_type": "stream",
     "text": [
      "X_train (179,)\n",
      "X_test (45,)\n",
      "y_train (179,)\n",
      "y_test (45,)\n"
     ]
    }
   ],
   "source": [
    "X = data.tokenized_Headline\n",
    "y = data['Label']\n",
    "X_train, X_test, y_train, y_test = train_test_split(X,y, test_size = 0.2, random_state=1234)\n",
    "print('X_train',X_train.shape)\n",
    "print('X_test',X_test.shape)\n",
    "print('y_train',y_train.shape)\n",
    "print('y_test',y_test.shape)"
   ]
  },
  {
   "cell_type": "code",
   "execution_count": 4,
   "metadata": {
    "ExecuteTime": {
     "end_time": "2019-02-10T10:14:02.237632Z",
     "start_time": "2019-02-10T10:14:02.229642Z"
    }
   },
   "outputs": [],
   "source": [
    "# max_df is used for removing terms that appear too frequently\n",
    "# max_df = 0.50 means \"ignore terms that appear in more than 50% of the documents\"\n",
    "# min_df is used for removing terms that appear too infrequently\n",
    "# min_df = 0.01 means \"ignore terms that appear in less than 1% of the documents\"\n",
    "parameters = {'lr__penalty': ('l1','l2'),'tfidf__ngram_range': [(1,1),(1,2),(1,3)],'tfidf__max_df': [0.65,0.75,0.85,0.90],\n",
    "             'tfidf__min_df': [0.001,0.01],'tfidf__stop_words': [ENGLISH_STOP_WORDS]}"
   ]
  },
  {
   "cell_type": "code",
   "execution_count": 5,
   "metadata": {
    "ExecuteTime": {
     "end_time": "2019-02-10T10:14:02.688158Z",
     "start_time": "2019-02-10T10:14:02.680671Z"
    }
   },
   "outputs": [],
   "source": [
    "text_clf = Pipeline([('tfidf', TfidfVectorizer()),('lr', LogisticRegression())])"
   ]
  },
  {
   "cell_type": "code",
   "execution_count": 6,
   "metadata": {
    "ExecuteTime": {
     "end_time": "2019-02-10T10:14:03.294954Z",
     "start_time": "2019-02-10T10:14:03.286968Z"
    }
   },
   "outputs": [
    {
     "data": {
      "text/plain": [
       "dict_keys(['memory', 'steps', 'tfidf', 'lr', 'tfidf__analyzer', 'tfidf__binary', 'tfidf__decode_error', 'tfidf__dtype', 'tfidf__encoding', 'tfidf__input', 'tfidf__lowercase', 'tfidf__max_df', 'tfidf__max_features', 'tfidf__min_df', 'tfidf__ngram_range', 'tfidf__norm', 'tfidf__preprocessor', 'tfidf__smooth_idf', 'tfidf__stop_words', 'tfidf__strip_accents', 'tfidf__sublinear_tf', 'tfidf__token_pattern', 'tfidf__tokenizer', 'tfidf__use_idf', 'tfidf__vocabulary', 'lr__C', 'lr__class_weight', 'lr__dual', 'lr__fit_intercept', 'lr__intercept_scaling', 'lr__max_iter', 'lr__multi_class', 'lr__n_jobs', 'lr__penalty', 'lr__random_state', 'lr__solver', 'lr__tol', 'lr__verbose', 'lr__warm_start'])"
      ]
     },
     "execution_count": 6,
     "metadata": {},
     "output_type": "execute_result"
    }
   ],
   "source": [
    "# These are the parameters we can put in the list for the model and features.\n",
    "text_clf.get_params().keys()"
   ]
  },
  {
   "cell_type": "code",
   "execution_count": 7,
   "metadata": {
    "ExecuteTime": {
     "end_time": "2019-02-10T10:14:13.194539Z",
     "start_time": "2019-02-10T10:14:04.315858Z"
    }
   },
   "outputs": [
    {
     "name": "stderr",
     "output_type": "stream",
     "text": [
      "C:\\Users\\tooba\\Anaconda3\\lib\\site-packages\\sklearn\\linear_model\\logistic.py:432: FutureWarning:\n",
      "\n",
      "Default solver will be changed to 'lbfgs' in 0.22. Specify a solver to silence this warning.\n",
      "\n",
      "C:\\Users\\tooba\\Anaconda3\\lib\\site-packages\\sklearn\\linear_model\\logistic.py:459: FutureWarning:\n",
      "\n",
      "Default multi_class will be changed to 'auto' in 0.22. Specify the multi_class option to silence this warning.\n",
      "\n"
     ]
    }
   ],
   "source": [
    "gs_lr = GridSearchCV(text_clf, parameters, cv=3, iid=False, n_jobs=-1)\n",
    "gs_lr = gs_lr.fit(X_train, y_train)\n",
    "predicted = gs_lr.predict(X_test)"
   ]
  },
  {
   "cell_type": "code",
   "execution_count": 8,
   "metadata": {
    "ExecuteTime": {
     "end_time": "2019-02-10T10:14:13.235960Z",
     "start_time": "2019-02-10T10:14:13.201526Z"
    }
   },
   "outputs": [
    {
     "name": "stdout",
     "output_type": "stream",
     "text": [
      "Logistig Regression: \n",
      "\n"
     ]
    },
    {
     "name": "stderr",
     "output_type": "stream",
     "text": [
      "C:\\Users\\tooba\\Anaconda3\\lib\\site-packages\\sklearn\\metrics\\classification.py:1143: UndefinedMetricWarning:\n",
      "\n",
      "F-score is ill-defined and being set to 0.0 in labels with no predicted samples.\n",
      "\n"
     ]
    },
    {
     "name": "stdout",
     "output_type": "stream",
     "text": [
      "F1 score 28.21%\n",
      "Accuracy score 73.33%\n",
      "\n",
      "\n",
      "MSE 0.4666666666666667\n"
     ]
    }
   ],
   "source": [
    "# Score only on the test set. NO CV\n",
    "print (\"Logistig Regression: \\n\")\n",
    "print ( \"F1 score {:.4}%\".format(f1_score(y_test, predicted, average='macro')*100 ) )\n",
    "print ( \"Accuracy score {:.4}%\\n\\n\".format(accuracy_score(y_test, predicted)*100) )\n",
    "error = mean_squared_error(y_test, predicted)\n",
    "print('MSE',error)"
   ]
  },
  {
   "cell_type": "code",
   "execution_count": 9,
   "metadata": {
    "ExecuteTime": {
     "end_time": "2019-02-10T10:14:13.352739Z",
     "start_time": "2019-02-10T10:14:13.239455Z"
    }
   },
   "outputs": [
    {
     "name": "stderr",
     "output_type": "stream",
     "text": [
      "C:\\Users\\tooba\\Anaconda3\\lib\\site-packages\\sklearn\\metrics\\classification.py:1143: UndefinedMetricWarning:\n",
      "\n",
      "Precision and F-score are ill-defined and being set to 0.0 in labels with no predicted samples.\n",
      "\n",
      "C:\\Users\\tooba\\Anaconda3\\lib\\site-packages\\sklearn\\metrics\\classification.py:1143: UndefinedMetricWarning:\n",
      "\n",
      "Precision and F-score are ill-defined and being set to 0.0 in labels with no predicted samples.\n",
      "\n",
      "C:\\Users\\tooba\\Anaconda3\\lib\\site-packages\\sklearn\\metrics\\classification.py:1143: UndefinedMetricWarning:\n",
      "\n",
      "Precision and F-score are ill-defined and being set to 0.0 in labels with no predicted samples.\n",
      "\n"
     ]
    },
    {
     "name": "stdout",
     "output_type": "stream",
     "text": [
      "              precision    recall  f1-score   support\n",
      "\n",
      "        Fake       0.00      0.00      0.00         3\n",
      "  Unverified       0.00      0.00      0.00         9\n",
      "        Real       0.73      1.00      0.85        33\n",
      "\n",
      "   micro avg       0.73      0.73      0.73        45\n",
      "   macro avg       0.24      0.33      0.28        45\n",
      "weighted avg       0.54      0.73      0.62        45\n",
      "\n"
     ]
    }
   ],
   "source": [
    "print(metrics.classification_report(y_test, predicted,target_names=['Fake','Unverified','Real']))"
   ]
  },
  {
   "cell_type": "code",
   "execution_count": 10,
   "metadata": {
    "ExecuteTime": {
     "end_time": "2019-02-10T10:14:13.453547Z",
     "start_time": "2019-02-10T10:14:13.360223Z"
    }
   },
   "outputs": [
    {
     "name": "stdout",
     "output_type": "stream",
     "text": [
      "Best score of LR on Cross validated:  0.7207156308851225\n",
      "lr__penalty: 'l1'\n",
      "tfidf__max_df: 0.65\n",
      "tfidf__min_df: 0.001\n",
      "tfidf__ngram_range: (1, 1)\n",
      "tfidf__stop_words: frozenset({'thin', 'mostly', 'through', 'also', 'whole', 'made', 'cannot', 'i', 'became', 'done', 'alone', 'eg', 'himself', 'please', 'sixty', 're', 'serious', 'the', 'else', 'hundred', 'yet', 'four', 'was', 'except', 'whereupon', 'themselves', 'whence', 'too', 'yourselves', 'whatever', 'nothing', 'move', 'to', 'would', 'whoever', 'him', 'down', 'part', 'afterwards', 'each', 'therefore', 'such', 'on', 'sometime', 'out', 'fill', 'until', 'mine', 'another', 'first', 'several', 'them', 'those', 'why', 'more', 'whither', 'being', 'eleven', 'something', 'nowhere', 'beyond', 'though', 'throughout', 'go', 'seems', 'and', 'twenty', 'fifty', 'whereby', 'about', 'yours', 'moreover', 'at', 'nobody', 'between', 'empty', 'anything', 'former', 'might', 'formerly', 'con', 'thick', 'only', 'this', 'both', 'anyway', 'becoming', 'de', 'hers', 'ever', 'in', 'still', 'herself', 'around', 'every', 'three', 'us', 'who', 'ten', 'within', 'interest', 'other', 'they', 'seemed', 'forty', 'anyone', 'show', 'six', 'while', 'hereafter', 'meanwhile', 'mill', 'she', 'five', 'his', 'our', 'since', 'etc', 'back', 'detail', 'find', 'latter', 'can', 'same', 'fifteen', 'put', 'name', 'either', 'thereby', 'beforehand', 'bill', 'how', 'eight', 'hasnt', 'somewhere', 'someone', 'thereupon', 'twelve', 'found', 'even', 'somehow', 'wherein', 'bottom', 'perhaps', 'under', 'always', 'above', 'yourself', 'although', 'these', 'across', 'from', 'again', 'become', 'further', 'not', 'ltd', 'because', 'it', 'anywhere', 'everywhere', 'am', 'myself', 'must', 'or', 'couldnt', 'may', 'no', 'otherwise', 'their', 'thus', 'third', 'your', 'seem', 'during', 'has', 'besides', 'per', 'indeed', 'for', 'own', 'namely', 'which', 'will', 'others', 'keep', 'whom', 'ourselves', 'call', 'up', 'then', 'onto', 'of', 'via', 'been', 'without', 'as', 'everything', 'beside', 'her', 'if', 'much', 'but', 'nine', 'any', 'its', 'be', 'everyone', 'neither', 'what', 'when', 'some', 'had', 'however', 'almost', 'a', 'amoungst', 'hereby', 'inc', 'my', 'most', 'towards', 'itself', 'cant', 'few', 'get', 'with', 'very', 'see', 'full', 'toward', 'amount', 'least', 'after', 'last', 'amongst', 'rather', 'co', 'have', 'an', 'cry', 'becomes', 'one', 'whenever', 'elsewhere', 'already', 'that', 'seeming', 'thereafter', 'he', 'whereas', 'front', 'hence', 'ours', 'there', 'thence', 'so', 'enough', 'were', 'are', 'take', 'by', 'sometimes', 'sincere', 'hereupon', 'upon', 'herein', 'often', 'anyhow', 'than', 'could', 'due', 'fire', 'ie', 'do', 'less', 'nor', 'into', 'wherever', 'before', 'describe', 'once', 'whose', 'whereafter', 'side', 'here', 'many', 'should', 'you', 'whether', 'is', 'give', 'along', 'below', 'over', 'me', 'system', 'all', 'against', 'together', 'un', 'we', 'off', 'noone', 'two', 'top', 'among', 'never', 'nevertheless', 'none', 'thru', 'latterly', 'next', 'now', 'where', 'behind', 'therein', 'well'})\n"
     ]
    }
   ],
   "source": [
    "# print(gs_svm.score(X_test, y_test))\n",
    "# Mean score  on CV\n",
    "print('Best score of LR on Cross validated: ',gs_lr.best_score_)\n",
    "for param_name in sorted(parameters.keys()):\n",
    "    print(\"%s: %r\" % (param_name, gs_lr.best_params_[param_name]))"
   ]
  },
  {
   "cell_type": "markdown",
   "metadata": {},
   "source": [
    "- The best accuracy score we can get using Logistic regression for the cross validated data set is 72%"
   ]
  },
  {
   "cell_type": "markdown",
   "metadata": {},
   "source": [
    "####  SVM with TFIDF"
   ]
  },
  {
   "cell_type": "code",
   "execution_count": 11,
   "metadata": {
    "ExecuteTime": {
     "end_time": "2019-02-10T10:14:22.886050Z",
     "start_time": "2019-02-10T10:14:22.852616Z"
    }
   },
   "outputs": [
    {
     "name": "stdout",
     "output_type": "stream",
     "text": [
      "X_train (179,)\n",
      "X_test (45,)\n",
      "y_train (179,)\n",
      "y_test (45,)\n"
     ]
    }
   ],
   "source": [
    "X = data.tokenized_Headline\n",
    "y = data['Label']\n",
    "X_train, X_test, y_train, y_test = train_test_split(X,y, test_size = 0.2, random_state=1234)\n",
    "print('X_train',X_train.shape)\n",
    "print('X_test',X_test.shape)\n",
    "print('y_train',y_train.shape)\n",
    "print('y_test',y_test.shape)"
   ]
  },
  {
   "cell_type": "code",
   "execution_count": 12,
   "metadata": {
    "ExecuteTime": {
     "end_time": "2019-02-10T10:14:23.680110Z",
     "start_time": "2019-02-10T10:14:23.673124Z"
    }
   },
   "outputs": [],
   "source": [
    "text_clf = Pipeline([('tfidf', TfidfVectorizer()),('svm', SGDClassifier())])"
   ]
  },
  {
   "cell_type": "code",
   "execution_count": 13,
   "metadata": {
    "ExecuteTime": {
     "end_time": "2019-02-10T10:14:24.385961Z",
     "start_time": "2019-02-10T10:14:24.375480Z"
    }
   },
   "outputs": [],
   "source": [
    "parameters = {'svm__penalty': ('l1','l2'),'svm__alpha': (1e-2, 1e-3),\n",
    "              'svm__loss': ('hinge','squared_hinge'),'tfidf__ngram_range': [(1,1),(1,2),(1,3)],\n",
    "             'tfidf__max_df': [0.65,0.75,0.85,0.90],'tfidf__min_df': [0.001,0.01],'tfidf__stop_words': [ENGLISH_STOP_WORDS]}"
   ]
  },
  {
   "cell_type": "code",
   "execution_count": 14,
   "metadata": {
    "ExecuteTime": {
     "end_time": "2019-02-10T10:14:48.733033Z",
     "start_time": "2019-02-10T10:14:24.798455Z"
    }
   },
   "outputs": [
    {
     "name": "stderr",
     "output_type": "stream",
     "text": [
      "C:\\Users\\tooba\\Anaconda3\\lib\\site-packages\\sklearn\\linear_model\\stochastic_gradient.py:144: FutureWarning:\n",
      "\n",
      "max_iter and tol parameters have been added in SGDClassifier in 0.19. If both are left unset, they default to max_iter=5 and tol=None. If tol is not None, max_iter defaults to max_iter=1000. From 0.21, default max_iter will be 1000, and default tol will be 1e-3.\n",
      "\n"
     ]
    }
   ],
   "source": [
    "# Using cross validation\n",
    "# refit = True, that takes the model with the best performance based on cross-validation and retrains it in the whole dataset\n",
    "gs_svm = GridSearchCV(text_clf, parameters, cv=3, iid=False, n_jobs=-1)\n",
    "gs_svm = gs_svm.fit(X_train, y_train)\n",
    "predicted = gs_svm.predict(X_test)"
   ]
  },
  {
   "cell_type": "code",
   "execution_count": 15,
   "metadata": {
    "ExecuteTime": {
     "end_time": "2019-02-10T10:14:48.774455Z",
     "start_time": "2019-02-10T10:14:48.739519Z"
    }
   },
   "outputs": [
    {
     "name": "stdout",
     "output_type": "stream",
     "text": [
      "LINEAR SVM: \n",
      "\n"
     ]
    },
    {
     "name": "stderr",
     "output_type": "stream",
     "text": [
      "C:\\Users\\tooba\\Anaconda3\\lib\\site-packages\\sklearn\\metrics\\classification.py:1143: UndefinedMetricWarning:\n",
      "\n",
      "F-score is ill-defined and being set to 0.0 in labels with no predicted samples.\n",
      "\n"
     ]
    },
    {
     "name": "stdout",
     "output_type": "stream",
     "text": [
      "F1 score 38.18%\n",
      "Accuracy score 73.33%\n",
      "\n",
      "\n",
      "MSE 0.4666666666666667\n"
     ]
    }
   ],
   "source": [
    "# ONLY ON TEST SET\n",
    "print (\"LINEAR SVM: \\n\")\n",
    "print ( \"F1 score {:.4}%\".format(f1_score(y_test, predicted, average='macro')*100 ) )\n",
    "print ( \"Accuracy score {:.4}%\\n\\n\".format(accuracy_score(y_test, predicted)*100) )\n",
    "error = mean_squared_error(y_test, predicted)\n",
    "print('MSE',error)"
   ]
  },
  {
   "cell_type": "code",
   "execution_count": 16,
   "metadata": {
    "ExecuteTime": {
     "end_time": "2019-02-10T10:14:48.931794Z",
     "start_time": "2019-02-10T10:14:48.778944Z"
    }
   },
   "outputs": [
    {
     "name": "stderr",
     "output_type": "stream",
     "text": [
      "C:\\Users\\tooba\\Anaconda3\\lib\\site-packages\\sklearn\\metrics\\classification.py:1143: UndefinedMetricWarning:\n",
      "\n",
      "Precision and F-score are ill-defined and being set to 0.0 in labels with no predicted samples.\n",
      "\n",
      "C:\\Users\\tooba\\Anaconda3\\lib\\site-packages\\sklearn\\metrics\\classification.py:1143: UndefinedMetricWarning:\n",
      "\n",
      "Precision and F-score are ill-defined and being set to 0.0 in labels with no predicted samples.\n",
      "\n",
      "C:\\Users\\tooba\\Anaconda3\\lib\\site-packages\\sklearn\\metrics\\classification.py:1143: UndefinedMetricWarning:\n",
      "\n",
      "Precision and F-score are ill-defined and being set to 0.0 in labels with no predicted samples.\n",
      "\n"
     ]
    },
    {
     "name": "stdout",
     "output_type": "stream",
     "text": [
      "              precision    recall  f1-score   support\n",
      "\n",
      "        Fake       0.00      0.00      0.00         3\n",
      "  Unverified       0.50      0.22      0.31         9\n",
      "        Real       0.76      0.94      0.84        33\n",
      "\n",
      "   micro avg       0.73      0.73      0.73        45\n",
      "   macro avg       0.42      0.39      0.38        45\n",
      "weighted avg       0.65      0.73      0.68        45\n",
      "\n"
     ]
    }
   ],
   "source": [
    "print(metrics.classification_report(y_test, predicted,target_names=['Fake','Unverified','Real']))"
   ]
  },
  {
   "cell_type": "code",
   "execution_count": 17,
   "metadata": {
    "ExecuteTime": {
     "end_time": "2019-02-10T10:14:49.059551Z",
     "start_time": "2019-02-10T10:14:48.941775Z"
    }
   },
   "outputs": [
    {
     "name": "stdout",
     "output_type": "stream",
     "text": [
      "Best Accuracy score for Linear SVM for CV 0.7264595103578154\n",
      "svm__alpha: 0.001\n",
      "svm__loss: 'squared_hinge'\n",
      "svm__penalty: 'l2'\n",
      "tfidf__max_df: 0.85\n",
      "tfidf__min_df: 0.001\n",
      "tfidf__ngram_range: (1, 1)\n",
      "tfidf__stop_words: frozenset({'thin', 'mostly', 'through', 'also', 'whole', 'made', 'cannot', 'i', 'became', 'done', 'alone', 'eg', 'himself', 'please', 'sixty', 're', 'serious', 'the', 'else', 'hundred', 'yet', 'four', 'was', 'except', 'whereupon', 'themselves', 'whence', 'too', 'yourselves', 'whatever', 'nothing', 'move', 'to', 'would', 'whoever', 'him', 'down', 'part', 'afterwards', 'each', 'therefore', 'such', 'on', 'sometime', 'out', 'fill', 'until', 'mine', 'another', 'first', 'several', 'them', 'those', 'why', 'more', 'whither', 'being', 'eleven', 'something', 'nowhere', 'beyond', 'though', 'throughout', 'go', 'seems', 'and', 'twenty', 'fifty', 'whereby', 'about', 'yours', 'moreover', 'at', 'nobody', 'between', 'empty', 'anything', 'former', 'might', 'formerly', 'con', 'thick', 'only', 'this', 'both', 'anyway', 'becoming', 'de', 'hers', 'ever', 'in', 'still', 'herself', 'around', 'every', 'three', 'us', 'who', 'ten', 'within', 'interest', 'other', 'they', 'seemed', 'forty', 'anyone', 'show', 'six', 'while', 'hereafter', 'meanwhile', 'mill', 'she', 'five', 'his', 'our', 'since', 'etc', 'back', 'detail', 'find', 'latter', 'can', 'same', 'fifteen', 'put', 'name', 'either', 'thereby', 'beforehand', 'bill', 'how', 'eight', 'hasnt', 'somewhere', 'someone', 'thereupon', 'twelve', 'found', 'even', 'somehow', 'wherein', 'bottom', 'perhaps', 'under', 'always', 'above', 'yourself', 'although', 'these', 'across', 'from', 'again', 'become', 'further', 'not', 'ltd', 'because', 'it', 'anywhere', 'everywhere', 'am', 'myself', 'must', 'or', 'couldnt', 'may', 'no', 'otherwise', 'their', 'thus', 'third', 'your', 'seem', 'during', 'has', 'besides', 'per', 'indeed', 'for', 'own', 'namely', 'which', 'will', 'others', 'keep', 'whom', 'ourselves', 'call', 'up', 'then', 'onto', 'of', 'via', 'been', 'without', 'as', 'everything', 'beside', 'her', 'if', 'much', 'but', 'nine', 'any', 'its', 'be', 'everyone', 'neither', 'what', 'when', 'some', 'had', 'however', 'almost', 'a', 'amoungst', 'hereby', 'inc', 'my', 'most', 'towards', 'itself', 'cant', 'few', 'get', 'with', 'very', 'see', 'full', 'toward', 'amount', 'least', 'after', 'last', 'amongst', 'rather', 'co', 'have', 'an', 'cry', 'becomes', 'one', 'whenever', 'elsewhere', 'already', 'that', 'seeming', 'thereafter', 'he', 'whereas', 'front', 'hence', 'ours', 'there', 'thence', 'so', 'enough', 'were', 'are', 'take', 'by', 'sometimes', 'sincere', 'hereupon', 'upon', 'herein', 'often', 'anyhow', 'than', 'could', 'due', 'fire', 'ie', 'do', 'less', 'nor', 'into', 'wherever', 'before', 'describe', 'once', 'whose', 'whereafter', 'side', 'here', 'many', 'should', 'you', 'whether', 'is', 'give', 'along', 'below', 'over', 'me', 'system', 'all', 'against', 'together', 'un', 'we', 'off', 'noone', 'two', 'top', 'among', 'never', 'nevertheless', 'none', 'thru', 'latterly', 'next', 'now', 'where', 'behind', 'therein', 'well'})\n"
     ]
    }
   ],
   "source": [
    "# Mean cross-validated score of the best_estimator\n",
    "#best mean score\n",
    "print('Best Accuracy score for Linear SVM for CV',gs_svm.best_score_)\n",
    "for param_name in sorted(parameters.keys()):\n",
    "    print(\"%s: %r\" % (param_name, gs_svm.best_params_[param_name]))"
   ]
  },
  {
   "cell_type": "markdown",
   "metadata": {},
   "source": [
    "- The best accuracy score we can get using Linear SVM for the cross validated data set is 72.6%"
   ]
  },
  {
   "cell_type": "markdown",
   "metadata": {},
   "source": [
    "#### Comparison between Logistic Regression and Linear SVM Grid Search\n",
    "- The best accuracy score for LR is 72% and 72.6% for Linear SVM on the cross validation data-sets.\n",
    "- The accuracy score on the test data set(20% data) is 73.3% for both of them"
   ]
  },
  {
   "cell_type": "markdown",
   "metadata": {},
   "source": [
    "#### Experiment 1 : Best model for Logistic Regression with TFIDF\n",
    "- Text to Features: TFIDF using the article content (Try different n grams)\n",
    "- Classification Model: Logistic Regression (Different penalties)\n"
   ]
  },
  {
   "cell_type": "code",
   "execution_count": 18,
   "metadata": {
    "ExecuteTime": {
     "end_time": "2019-02-10T10:14:56.405302Z",
     "start_time": "2019-02-10T10:14:56.400311Z"
    }
   },
   "outputs": [],
   "source": [
    "X = data.tokenized_Content\n",
    "y = data['Label']"
   ]
  },
  {
   "cell_type": "code",
   "execution_count": 19,
   "metadata": {
    "ExecuteTime": {
     "end_time": "2019-02-10T10:14:59.062927Z",
     "start_time": "2019-02-10T10:14:58.678161Z"
    }
   },
   "outputs": [],
   "source": [
    "tdf = TfidfVectorizer(stop_words=ENGLISH_STOP_WORDS,ngram_range=(1,1),max_df =0.65,min_df=0.001)\n",
    "vectorizer = tdf.fit(X)\n",
    "transformed_text = vectorizer.transform(X)"
   ]
  },
  {
   "cell_type": "code",
   "execution_count": 20,
   "metadata": {
    "ExecuteTime": {
     "end_time": "2019-02-10T10:15:02.147952Z",
     "start_time": "2019-02-10T10:15:02.116514Z"
    }
   },
   "outputs": [
    {
     "name": "stdout",
     "output_type": "stream",
     "text": [
      "X_train (179, 12193)\n",
      "X_test (45, 12193)\n",
      "y_train (179,)\n",
      "y_test (45,)\n"
     ]
    }
   ],
   "source": [
    "X_train, X_test, y_train, y_test = train_test_split(transformed_text,y, test_size = 0.2, random_state=1234)\n",
    "print('X_train',X_train.shape)\n",
    "print('X_test',X_test.shape)\n",
    "print('y_train',y_train.shape)\n",
    "print('y_test',y_test.shape)"
   ]
  },
  {
   "cell_type": "code",
   "execution_count": 21,
   "metadata": {
    "ExecuteTime": {
     "end_time": "2019-02-10T10:15:02.728698Z",
     "start_time": "2019-02-10T10:15:02.722713Z"
    }
   },
   "outputs": [],
   "source": [
    "lr = LogisticRegression(penalty='l1')"
   ]
  },
  {
   "cell_type": "code",
   "execution_count": 22,
   "metadata": {
    "ExecuteTime": {
     "end_time": "2019-02-10T10:15:03.387876Z",
     "start_time": "2019-02-10T10:15:03.348452Z"
    }
   },
   "outputs": [
    {
     "name": "stderr",
     "output_type": "stream",
     "text": [
      "C:\\Users\\tooba\\Anaconda3\\lib\\site-packages\\sklearn\\linear_model\\logistic.py:432: FutureWarning:\n",
      "\n",
      "Default solver will be changed to 'lbfgs' in 0.22. Specify a solver to silence this warning.\n",
      "\n",
      "C:\\Users\\tooba\\Anaconda3\\lib\\site-packages\\sklearn\\linear_model\\logistic.py:459: FutureWarning:\n",
      "\n",
      "Default multi_class will be changed to 'auto' in 0.22. Specify the multi_class option to silence this warning.\n",
      "\n"
     ]
    }
   ],
   "source": [
    "lr.fit(X_train, y_train)\n",
    "prediction = lr.predict(X_test)"
   ]
  },
  {
   "cell_type": "code",
   "execution_count": 23,
   "metadata": {
    "ExecuteTime": {
     "end_time": "2019-02-10T10:15:04.131149Z",
     "start_time": "2019-02-10T10:15:04.026847Z"
    }
   },
   "outputs": [
    {
     "name": "stderr",
     "output_type": "stream",
     "text": [
      "C:\\Users\\tooba\\Anaconda3\\lib\\site-packages\\sklearn\\linear_model\\logistic.py:432: FutureWarning:\n",
      "\n",
      "Default solver will be changed to 'lbfgs' in 0.22. Specify a solver to silence this warning.\n",
      "\n",
      "C:\\Users\\tooba\\Anaconda3\\lib\\site-packages\\sklearn\\linear_model\\logistic.py:459: FutureWarning:\n",
      "\n",
      "Default multi_class will be changed to 'auto' in 0.22. Specify the multi_class option to silence this warning.\n",
      "\n"
     ]
    },
    {
     "name": "stdout",
     "output_type": "stream",
     "text": [
      "[0.72       0.72       0.72972973]\n"
     ]
    }
   ],
   "source": [
    "# 3 cross validation scores\n",
    "print(cross_val_score(lr, transformed_text, y, cv=3)) "
   ]
  },
  {
   "cell_type": "code",
   "execution_count": 24,
   "metadata": {
    "ExecuteTime": {
     "end_time": "2019-02-10T10:15:05.146894Z",
     "start_time": "2019-02-10T10:15:05.125937Z"
    }
   },
   "outputs": [
    {
     "name": "stdout",
     "output_type": "stream",
     "text": [
      "Logistig Regression F1 and Accuracy Scores : \n",
      "\n"
     ]
    },
    {
     "name": "stderr",
     "output_type": "stream",
     "text": [
      "C:\\Users\\tooba\\Anaconda3\\lib\\site-packages\\sklearn\\metrics\\classification.py:1143: UndefinedMetricWarning:\n",
      "\n",
      "F-score is ill-defined and being set to 0.0 in labels with no predicted samples.\n",
      "\n"
     ]
    },
    {
     "name": "stdout",
     "output_type": "stream",
     "text": [
      "F1 score 28.21%\n",
      "Accuracy score 73.33%\n"
     ]
    }
   ],
   "source": [
    "# print metrics\n",
    "print (\"Logistig Regression F1 and Accuracy Scores : \\n\")\n",
    "print ( \"F1 score {:.4}%\".format( f1_score(y_test, prediction , average='macro')*100 ) )\n",
    "print ( \"Accuracy score {:.4}%\".format(accuracy_score(y_test, prediction)*100) )"
   ]
  },
  {
   "cell_type": "code",
   "execution_count": 25,
   "metadata": {
    "ExecuteTime": {
     "end_time": "2019-02-10T10:15:06.430935Z",
     "start_time": "2019-02-10T10:15:05.848542Z"
    }
   },
   "outputs": [
    {
     "data": {
      "image/png": "[encoded data removed]",
      "text/plain": [
       "<Figure size 432x288 with 1 Axes>"
      ]
     },
     "metadata": {
      "image/png": {
       "height": 279,
       "width": 422
      },
      "needs_background": "light"
     },
     "output_type": "display_data"
    }
   ],
   "source": [
    "# TAKEN FROM SKLEARN\n",
    "# Create CV training and test scores for various training set sizes\n",
    "train_sizes, train_scores, test_scores = learning_curve(lr, \n",
    "                                                        transformed_text, \n",
    "                                                        y,\n",
    "                                                        # Number of folds in cross-validation\n",
    "                                                        cv=3,\n",
    "                                                        # Evaluation metric\n",
    "                                                        scoring='accuracy',\n",
    "                                                        # Use all computer cores\n",
    "                                                        n_jobs=-1, \n",
    "                                                        # 50 different sizes of the training set\n",
    "                                                        train_sizes=(50,70,100))\n",
    "\n",
    "# Create means and standard deviations of training set scores\n",
    "train_mean = np.mean(train_scores, axis=1)\n",
    "train_std = np.std(train_scores, axis=1)\n",
    "\n",
    "# Create means and standard deviations of test set scores\n",
    "test_mean = np.mean(test_scores, axis=1)\n",
    "test_std = np.std(test_scores, axis=1)\n",
    "\n",
    "# Draw lines\n",
    "plt.plot(train_sizes, train_mean, '--', color=\"#111111\",  label=\"Training score\")\n",
    "plt.plot(train_sizes, test_mean, color=\"#111111\", label=\"Cross-validation score\")\n",
    "\n",
    "# Draw bands\n",
    "plt.fill_between(train_sizes, train_mean - train_std, train_mean + train_std, color=\"#DDDDDD\")\n",
    "plt.fill_between(train_sizes, test_mean - test_std, test_mean + test_std, color=\"#DDDDDD\")\n",
    "\n",
    "# Create plot\n",
    "plt.title(\"Learning Curve for Logistic Regression\")\n",
    "plt.xlabel(\"Training Set Size\"), plt.ylabel(\"Accuracy Score\"), plt.legend(loc=\"best\")\n",
    "plt.tight_layout()\n",
    "plt.show()\n"
   ]
  },
  {
   "cell_type": "markdown",
   "metadata": {},
   "source": [
    "#### Experiment 1 : Best model for SVM with TFIDF\n",
    "- Text to Features: TFIDF using the article content\n",
    "- Classification Model: SVM "
   ]
  },
  {
   "cell_type": "markdown",
   "metadata": {},
   "source": [
    "- Precision talks about how precise/accurate your model is out of those predicted positive, how many of them are actual positive. Should be the metric when there os a high cost associated with False Positive.\n",
    "- Recall actually calculates how many of the Actual Positives our model capture through labeling it as Positive (True Positive). Recall shall be the model metric we use to select our best model when there is a high cost associated with False Negative.\n",
    "- For our model both of them are equally important.\n",
    "- F1 Score is the weighted average of Precision and Recall. Therefore, this score takes both false positives and false negatives into account. F1 is more useful than accuracy especially if you have an uneven class distribution. Accuracy works best if false positives and false negatives have similar cost. If the cost of false positives and false negatives are very different, it’s better to look at both Precision and Recall. \n",
    "- F1 Score = 2*(Recall * Precision) / (Recall + Precision)"
   ]
  },
  {
   "cell_type": "code",
   "execution_count": 26,
   "metadata": {
    "ExecuteTime": {
     "end_time": "2019-02-10T10:15:08.048059Z",
     "start_time": "2019-02-10T10:15:08.042074Z"
    }
   },
   "outputs": [],
   "source": [
    "X = data.tokenized_Headline\n",
    "y = data['Label']"
   ]
  },
  {
   "cell_type": "code",
   "execution_count": 27,
   "metadata": {
    "ExecuteTime": {
     "end_time": "2019-02-10T10:15:11.253956Z",
     "start_time": "2019-02-10T10:15:11.188081Z"
    }
   },
   "outputs": [],
   "source": [
    "tdf = TfidfVectorizer(stop_words=ENGLISH_STOP_WORDS,ngram_range=(1,3),max_df =0.65,min_df=0.001)\n",
    "vectorizer = tdf.fit(X)\n",
    "transformed_text = vectorizer.transform(X)"
   ]
  },
  {
   "cell_type": "code",
   "execution_count": 28,
   "metadata": {
    "ExecuteTime": {
     "end_time": "2019-02-10T10:15:11.892413Z",
     "start_time": "2019-02-10T10:15:11.857481Z"
    }
   },
   "outputs": [
    {
     "name": "stdout",
     "output_type": "stream",
     "text": [
      "X_train (179, 3639)\n",
      "X_test (45, 3639)\n",
      "y_train (179,)\n",
      "y_test (45,)\n"
     ]
    }
   ],
   "source": [
    "X_train, X_test, y_train, y_test = train_test_split(transformed_text,y, test_size = 0.2, random_state=1234)\n",
    "print('X_train',X_train.shape)\n",
    "print('X_test',X_test.shape)\n",
    "print('y_train',y_train.shape)\n",
    "print('y_test',y_test.shape)"
   ]
  },
  {
   "cell_type": "code",
   "execution_count": 29,
   "metadata": {
    "ExecuteTime": {
     "end_time": "2019-02-10T10:15:12.579681Z",
     "start_time": "2019-02-10T10:15:12.574191Z"
    }
   },
   "outputs": [],
   "source": [
    "svm = SGDClassifier(alpha= 0.01,loss ='squared_hinge',penalty='l2')"
   ]
  },
  {
   "cell_type": "code",
   "execution_count": 30,
   "metadata": {
    "ExecuteTime": {
     "end_time": "2019-02-10T10:15:13.338387Z",
     "start_time": "2019-02-10T10:15:13.325408Z"
    }
   },
   "outputs": [
    {
     "name": "stderr",
     "output_type": "stream",
     "text": [
      "C:\\Users\\tooba\\Anaconda3\\lib\\site-packages\\sklearn\\linear_model\\stochastic_gradient.py:144: FutureWarning:\n",
      "\n",
      "max_iter and tol parameters have been added in SGDClassifier in 0.19. If both are left unset, they default to max_iter=5 and tol=None. If tol is not None, max_iter defaults to max_iter=1000. From 0.21, default max_iter will be 1000, and default tol will be 1e-3.\n",
      "\n"
     ]
    }
   ],
   "source": [
    "svm.fit(X_train, y_train)\n",
    "prediction = svm.predict(X_test)"
   ]
  },
  {
   "cell_type": "code",
   "execution_count": 31,
   "metadata": {
    "ExecuteTime": {
     "end_time": "2019-02-10T10:15:17.808638Z",
     "start_time": "2019-02-10T10:15:17.771706Z"
    }
   },
   "outputs": [
    {
     "name": "stderr",
     "output_type": "stream",
     "text": [
      "C:\\Users\\tooba\\Anaconda3\\lib\\site-packages\\sklearn\\linear_model\\stochastic_gradient.py:144: FutureWarning:\n",
      "\n",
      "max_iter and tol parameters have been added in SGDClassifier in 0.19. If both are left unset, they default to max_iter=5 and tol=None. If tol is not None, max_iter defaults to max_iter=1000. From 0.21, default max_iter will be 1000, and default tol will be 1e-3.\n",
      "\n"
     ]
    },
    {
     "name": "stdout",
     "output_type": "stream",
     "text": [
      "[0.72       0.72       0.72972973]\n"
     ]
    }
   ],
   "source": [
    "# 3 cross validation scores\n",
    "print(cross_val_score(svm, transformed_text, y, cv=3)) "
   ]
  },
  {
   "cell_type": "code",
   "execution_count": 32,
   "metadata": {
    "ExecuteTime": {
     "end_time": "2019-02-10T10:15:20.346383Z",
     "start_time": "2019-02-10T10:15:20.319435Z"
    }
   },
   "outputs": [
    {
     "name": "stdout",
     "output_type": "stream",
     "text": [
      "SVM F1 and Accuracy Scores : \n",
      "\n"
     ]
    },
    {
     "name": "stderr",
     "output_type": "stream",
     "text": [
      "C:\\Users\\tooba\\Anaconda3\\lib\\site-packages\\sklearn\\metrics\\classification.py:1143: UndefinedMetricWarning:\n",
      "\n",
      "F-score is ill-defined and being set to 0.0 in labels with no predicted samples.\n",
      "\n"
     ]
    },
    {
     "name": "stdout",
     "output_type": "stream",
     "text": [
      "F1 score 28.21%\n",
      "Accuracy score 73.33%\n",
      "MSE 0.4666666666666667\n"
     ]
    }
   ],
   "source": [
    "# print metrics\n",
    "print (\"SVM F1 and Accuracy Scores : \\n\")\n",
    "print ( \"F1 score {:.4}%\".format( f1_score(y_test, prediction , average='macro')*100 ) )\n",
    "print ( \"Accuracy score {:.4}%\".format(accuracy_score(y_test, prediction)*100) )\n",
    "error = mean_squared_error(y_test, prediction)\n",
    "print('MSE',error)"
   ]
  },
  {
   "cell_type": "markdown",
   "metadata": {},
   "source": [
    "- The value of the accuracy score and F1 score fluctuates alot for this even after Gridsearch. The maximum observed accuracy for the test data is around 73.3% and F1 score is around 28.21%. The best idea would be to go with the cross validated scores."
   ]
  },
  {
   "cell_type": "code",
   "execution_count": 33,
   "metadata": {
    "ExecuteTime": {
     "end_time": "2019-02-10T10:15:21.847179Z",
     "start_time": "2019-02-10T10:15:21.821730Z"
    }
   },
   "outputs": [
    {
     "name": "stderr",
     "output_type": "stream",
     "text": [
      "C:\\Users\\tooba\\Anaconda3\\lib\\site-packages\\sklearn\\metrics\\classification.py:1143: UndefinedMetricWarning:\n",
      "\n",
      "Precision and F-score are ill-defined and being set to 0.0 in labels with no predicted samples.\n",
      "\n",
      "C:\\Users\\tooba\\Anaconda3\\lib\\site-packages\\sklearn\\metrics\\classification.py:1143: UndefinedMetricWarning:\n",
      "\n",
      "Precision and F-score are ill-defined and being set to 0.0 in labels with no predicted samples.\n",
      "\n",
      "C:\\Users\\tooba\\Anaconda3\\lib\\site-packages\\sklearn\\metrics\\classification.py:1143: UndefinedMetricWarning:\n",
      "\n",
      "Precision and F-score are ill-defined and being set to 0.0 in labels with no predicted samples.\n",
      "\n"
     ]
    },
    {
     "name": "stdout",
     "output_type": "stream",
     "text": [
      "              precision    recall  f1-score   support\n",
      "\n",
      "        Fake       0.00      0.00      0.00         3\n",
      "  Unverified       0.00      0.00      0.00         9\n",
      "        Real       0.73      1.00      0.85        33\n",
      "\n",
      "   micro avg       0.73      0.73      0.73        45\n",
      "   macro avg       0.24      0.33      0.28        45\n",
      "weighted avg       0.54      0.73      0.62        45\n",
      "\n"
     ]
    }
   ],
   "source": [
    "print(metrics.classification_report(y_test, prediction,target_names=['Fake','Unverified','Real']))"
   ]
  },
  {
   "cell_type": "markdown",
   "metadata": {},
   "source": [
    " - We plot a learning curve to show the relationship of the training score vs the cross validated test score for an estimator with a varying number of training samples."
   ]
  },
  {
   "cell_type": "code",
   "execution_count": 34,
   "metadata": {
    "ExecuteTime": {
     "end_time": "2019-02-10T10:15:26.905687Z",
     "start_time": "2019-02-10T10:15:26.200614Z"
    }
   },
   "outputs": [
    {
     "data": {
      "image/png": "[encoded data removed]",
      "text/plain": [
       "<Figure size 432x288 with 1 Axes>"
      ]
     },
     "metadata": {
      "image/png": {
       "height": 279,
       "width": 422
      },
      "needs_background": "light"
     },
     "output_type": "display_data"
    }
   ],
   "source": [
    "# TAKEN FROM SKLEARN\n",
    "# Create CV training and test scores for various training set sizes\n",
    "train_sizes, train_scores, test_scores = learning_curve(svm, \n",
    "                                                        transformed_text, \n",
    "                                                        y,\n",
    "                                                        # Number of folds in cross-validation\n",
    "                                                        cv=3,\n",
    "                                                        # Evaluation metric\n",
    "                                                        scoring='accuracy',\n",
    "                                                        # Use all computer cores\n",
    "                                                        n_jobs=-1, \n",
    "                                                        # 50 different sizes of the training set\n",
    "                                                        train_sizes=(50,70,100))\n",
    "\n",
    "# Create means and standard deviations of training set scores\n",
    "train_mean = np.mean(train_scores, axis=1)\n",
    "train_std = np.std(train_scores, axis=1)\n",
    "\n",
    "# Create means and standard deviations of test set scores\n",
    "test_mean = np.mean(test_scores, axis=1)\n",
    "test_std = np.std(test_scores, axis=1)\n",
    "\n",
    "# Draw lines\n",
    "plt.plot(train_sizes, train_mean, '--', color=\"#111111\",  label=\"Training score\")\n",
    "plt.plot(train_sizes, test_mean, color=\"#111111\", label=\"Cross-validation score\")\n",
    "\n",
    "# Draw bands\n",
    "plt.fill_between(train_sizes, train_mean - train_std, train_mean + train_std, color=\"#DDDDDD\")\n",
    "plt.fill_between(train_sizes, test_mean - test_std, test_mean + test_std, color=\"#DDDDDD\")\n",
    "\n",
    "# Create plot\n",
    "plt.title(\"Learning Curve for Linear SVM\")\n",
    "plt.xlabel(\"Training Set Size\"), plt.ylabel(\"Accuracy Score\"), plt.legend(loc=\"best\")\n",
    "plt.tight_layout()\n",
    "plt.show()\n"
   ]
  },
  {
   "cell_type": "markdown",
   "metadata": {},
   "source": [
    "#### Comparison between final LR and Linear SVM model\n",
    "- The range for the best accuracy score for both the models on the cross validation data-sets is around 72%. \n",
    "- The accuracy score on the test data set(20% data) for both the models is 73.3%.\n",
    "- Comparing thr scores for thr cross validation and LR, SVM performs much better for our dataset."
   ]
  },
  {
   "cell_type": "markdown",
   "metadata": {},
   "source": [
    "#### Observations"
   ]
  },
  {
   "cell_type": "markdown",
   "metadata": {},
   "source": [
    "- The training score is much greater than the validation score which means that the model probably requires more training examples in order to generalize more effectively.\n",
    "- The curves are plotted with the mean scores, however variability during cross-validation is shown with the shaded areas that represent a standard deviation above and below the mean for all cross-validations. If the model suffers from error due to bias, then there will likely be more variability around the training score curve. If the model suffers from error due to variance, then there will be more variability around the cross validated score which is the case with our data.\n",
    "- The variability for the logistic regression model is much greater as compared to the svm model."
   ]
  },
  {
   "cell_type": "code",
   "execution_count": 35,
   "metadata": {
    "ExecuteTime": {
     "end_time": "2019-02-10T10:17:06.182613Z",
     "start_time": "2019-02-10T10:17:06.148178Z"
    }
   },
   "outputs": [
    {
     "name": "stdout",
     "output_type": "stream",
     "text": [
      "percentage of unverified 22.767857142857142\n",
      "percentage of real 72.32142857142857\n",
      "percentage of fake 4.910714285714286\n"
     ]
    }
   ],
   "source": [
    "unverified = len(data[data['Label']==0])\n",
    "real = len(data[data['Label']==1])\n",
    "fake = len(data[data['Label']==-1])\n",
    "pct_of_unverified = unverified /(unverified+real+fake)\n",
    "print(\"percentage of unverified\", pct_of_unverified*100)\n",
    "pct_of_real = real /(unverified+real+fake)\n",
    "print(\"percentage of real\", pct_of_real*100)\n",
    "pct_of_fake = fake /(unverified+real+fake)\n",
    "print(\"percentage of fake\", pct_of_fake*100)"
   ]
  },
  {
   "cell_type": "markdown",
   "metadata": {},
   "source": [
    "- (Observation from learning curve when CV=10. Now we reduced it to CV =3)As we increase the value of cv while performing gridsearch with our models and features, the accuracy score across the hold out dataset decreases. The possible reason for this could be the class imbalance. From the above calculation we can see that the amout of data with fake news is extremely small so it is possible that these examples doesn't come in the training set during cv and the model sees this unexpected class in the test set resulting in a false positive.\n",
    "- The best results for our data comes with CV = 3 "
   ]
  },
  {
   "cell_type": "code",
   "execution_count": null,
   "metadata": {},
   "outputs": [],
   "source": []
  }
 ],
 "metadata": {
  "kernelspec": {
   "display_name": "Python 3",
   "language": "python",
   "name": "python3"
  },
  "language_info": {
   "codemirror_mode": {
    "name": "ipython",
    "version": 3
   },
   "file_extension": ".py",
   "mimetype": "text/x-python",
   "name": "python",
   "nbconvert_exporter": "python",
   "pygments_lexer": "ipython3",
   "version": "3.6.6"
  }
 },
 "nbformat": 4,
 "nbformat_minor": 2
}
