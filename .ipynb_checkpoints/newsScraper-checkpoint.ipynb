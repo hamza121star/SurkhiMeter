{
 "cells": [
  {
   "cell_type": "code",
   "execution_count": 1,
   "metadata": {},
   "outputs": [],
   "source": [
    "from bs4 import BeautifulSoup\n",
    "from newspaper import Article\n",
    "import json\n",
    "from tqdm import tqdm\n",
    "import requests\n",
    "from datetime import datetime,timedelta"
   ]
  },
  {
   "cell_type": "code",
   "execution_count": 5,
   "metadata": {},
   "outputs": [],
   "source": [
    "urls = []\n",
    "title = []\n",
    "dates = []\n",
    "authors = []\n",
    "for i in range(0,10):      # Loop through first 5 pages and extract articles\n",
    "    date = str(datetime.today().date() - timedelta(days=i))\n",
    "    url = \"https://www.dawn.com/archive/\"+date\n",
    "    resp = requests.get(url)\n",
    "    soup = BeautifulSoup(resp.text, 'html.parser')\n",
    "    title_containers = soup.find_all('article', attrs={'class': 'box story border--bottom pb-2 mb-4'})\n",
    "    for article in title_containers:\n",
    "        cat = article.find('span', attrs={'class': 'badge size-three theme theme--pakistan'})\n",
    "        try:\n",
    "            if cat.text == \"Pakistan\":\n",
    "                print(\"working\")\n",
    "                #print (article.h2.text.strip())\n",
    "                #print(article.h2.a.attrs['href'].strip())\n",
    "                dates.append(date)\n",
    "                name = article.h2.text.strip()\n",
    "                url = article.h2.a.attrs['href'].strip()\n",
    "                title.append(name)\n",
    "                urls.append(article.h2.a.attrs['href'].strip())\n",
    "        except:\n",
    "            pass"
   ]
  },
  {
   "cell_type": "code",
   "execution_count": 4,
   "metadata": {},
   "outputs": [
    {
     "name": "stdout",
     "output_type": "stream",
     "text": [
      "[]\n"
     ]
    }
   ],
   "source": [
    "print(title)"
   ]
  },
  {
   "cell_type": "code",
   "execution_count": null,
   "metadata": {},
   "outputs": [],
   "source": [
    "content = []\n",
    "for i in tqdm(urls):\n",
    "    article = Article(i)\n",
    "    time.sleep(0.5) # \"import time\" \n",
    "    article.download()\n",
    "    resp1 = requests.get(i)\n",
    "    soup = BeautifulSoup(resp1.text, 'html.parser')\n",
    "    article.parse()\n",
    "    \n",
    "    onlyauthors = soup.find(['span','p'], attrs={'class': ['story__byline font--arial','story__authors__name uppercase size-four pl-2']})\n",
    "    print(onlyauthors.get(\"class\"))\n",
    "    if 'story__authors__name' in onlyauthors.get(\"class\"):\n",
    "        print(onlyauthors.a.text[1])\n",
    "    else:\n",
    "        print(onlyauthors.a.text)\n",
    "    #content.append(article.text)"
   ]
  }
 ],
 "metadata": {
  "kernelspec": {
   "display_name": "Python 3",
   "language": "python",
   "name": "python3"
  },
  "language_info": {
   "codemirror_mode": {
    "name": "ipython",
    "version": 3
   },
   "file_extension": ".py",
   "mimetype": "text/x-python",
   "name": "python",
   "nbconvert_exporter": "python",
   "pygments_lexer": "ipython3",
   "version": "3.6.6"
  }
 },
 "nbformat": 4,
 "nbformat_minor": 1
}
