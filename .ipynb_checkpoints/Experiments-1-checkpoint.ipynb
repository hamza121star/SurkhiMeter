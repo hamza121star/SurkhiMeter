{
 "cells": [
  {
   "cell_type": "markdown",
   "metadata": {},
   "source": [
    "#### Experiments with Article  Content ONLY"
   ]
  },
  {
   "cell_type": "markdown",
   "metadata": {},
   "source": [
    "- In this notebook we will repeat all the preprocessing steps for ONLY the labelled data. Later on we will use the data to build our classification model."
   ]
  },
  {
   "cell_type": "markdown",
   "metadata": {},
   "source": [
    "### Libraries"
   ]
  },
  {
   "cell_type": "code",
   "execution_count": 96,
   "metadata": {
    "ExecuteTime": {
     "end_time": "2019-02-10T10:42:40.438014Z",
     "start_time": "2019-02-10T10:42:40.395593Z"
    }
   },
   "outputs": [],
   "source": [
    "import util\n",
    "%matplotlib inline\n",
    "%config InlineBackend.figure_format = 'retina'"
   ]
  },
  {
   "cell_type": "markdown",
   "metadata": {},
   "source": [
    "To do:\n",
    "- TFIDF for both fake and real news\n",
    "-"
   ]
  },
  {
   "cell_type": "markdown",
   "metadata": {},
   "source": [
    "### Data Cleaning"
   ]
  },
  {
   "cell_type": "markdown",
   "metadata": {},
   "source": [
    "- We are loading the data frm both dawn and express tribune."
   ]
  },
  {
   "cell_type": "code",
   "execution_count": 97,
   "metadata": {
    "ExecuteTime": {
     "end_time": "2019-02-10T10:42:45.564944Z",
     "start_time": "2019-02-10T10:42:45.381792Z"
    },
    "scrolled": true
   },
   "outputs": [
    {
     "data": {
      "text/html": [
       "<div>\n",
       "<style scoped>\n",
       "    .dataframe tbody tr th:only-of-type {\n",
       "        vertical-align: middle;\n",
       "    }\n",
       "\n",
       "    .dataframe tbody tr th {\n",
       "        vertical-align: top;\n",
       "    }\n",
       "\n",
       "    .dataframe thead th {\n",
       "        text-align: right;\n",
       "    }\n",
       "</style>\n",
       "<table border=\"1\" class=\"dataframe\">\n",
       "  <thead>\n",
       "    <tr style=\"text-align: right;\">\n",
       "      <th></th>\n",
       "      <th>News ID</th>\n",
       "      <th>URL</th>\n",
       "      <th>Headline</th>\n",
       "      <th>Date</th>\n",
       "      <th>Content</th>\n",
       "      <th>Author</th>\n",
       "      <th>Publisher</th>\n",
       "      <th>News Category</th>\n",
       "      <th>Keywords</th>\n",
       "      <th>Label</th>\n",
       "    </tr>\n",
       "  </thead>\n",
       "  <tbody>\n",
       "    <tr>\n",
       "      <th>0</th>\n",
       "      <td>0</td>\n",
       "      <td>https://www.dawn.com/news/1458127/mbbs-student...</td>\n",
       "      <td>MBBS student found dead in hostel room at Jams...</td>\n",
       "      <td>1/17/2019</td>\n",
       "      <td>A third-year MBBS student was found shot dead ...</td>\n",
       "      <td>Mohammad Hussain Khan</td>\n",
       "      <td>Dawn</td>\n",
       "      <td>Mental health</td>\n",
       "      <td>Jamshoro, youth, suicide, mental health</td>\n",
       "      <td>1.0</td>\n",
       "    </tr>\n",
       "    <tr>\n",
       "      <th>1</th>\n",
       "      <td>1</td>\n",
       "      <td>https://www.dawn.com/news/1458129/govt-decides...</td>\n",
       "      <td>Govt decides to remove names of Bilawal, Murad...</td>\n",
       "      <td>1/17/2019</td>\n",
       "      <td>The federal cabinet has decided to remove the ...</td>\n",
       "      <td>Sanaullah Khan | Javed Hussain</td>\n",
       "      <td>Dawn</td>\n",
       "      <td>Politics</td>\n",
       "      <td>Islamabad, Sindh, PPP, ECL</td>\n",
       "      <td>1.0</td>\n",
       "    </tr>\n",
       "    <tr>\n",
       "      <th>2</th>\n",
       "      <td>2</td>\n",
       "      <td>https://www.dawn.com/news/1458125/afghan-presi...</td>\n",
       "      <td>Afghan president thanks PM Khan for Pakistan's...</td>\n",
       "      <td>1/17/2019</td>\n",
       "      <td>Afghan President Ashraf Ghani on Thursday tele...</td>\n",
       "      <td>Sanaullah Khan</td>\n",
       "      <td>Dawn</td>\n",
       "      <td>Foreign Affairs</td>\n",
       "      <td>Afghanistan, foreign affairs, Imran Khan, Ashr...</td>\n",
       "      <td>1.0</td>\n",
       "    </tr>\n",
       "    <tr>\n",
       "      <th>3</th>\n",
       "      <td>3</td>\n",
       "      <td>https://www.dawn.com/news/1458123/mehwish-haya...</td>\n",
       "      <td>Mehwish Hayat acts out her musical dreams in n...</td>\n",
       "      <td>1/17/2019</td>\n",
       "      <td>Director and script writer Wajahat Rauf unveil...</td>\n",
       "      <td>None</td>\n",
       "      <td>Dawn</td>\n",
       "      <td>Entertainment</td>\n",
       "      <td>Mehwish Hayat, Enaaya, Azfar Rehman, Wajahat Rauf</td>\n",
       "      <td>-1.0</td>\n",
       "    </tr>\n",
       "    <tr>\n",
       "      <th>4</th>\n",
       "      <td>4</td>\n",
       "      <td>https://www.dawn.com/news/1458118/complete-tex...</td>\n",
       "      <td>Complete text of address by Justice Asif Saeed...</td>\n",
       "      <td>1/17/2019</td>\n",
       "      <td>Complete address by Justice Asif Saeed Khosa o...</td>\n",
       "      <td>Dawn.com</td>\n",
       "      <td>Dawn</td>\n",
       "      <td>Judiciary</td>\n",
       "      <td>Islamabad, Asif Khosa, Supreme Court, Saqib Nisar</td>\n",
       "      <td>1.0</td>\n",
       "    </tr>\n",
       "  </tbody>\n",
       "</table>\n",
       "</div>"
      ],
      "text/plain": [
       "   News ID                                                URL  \\\n",
       "0        0  https://www.dawn.com/news/1458127/mbbs-student...   \n",
       "1        1  https://www.dawn.com/news/1458129/govt-decides...   \n",
       "2        2  https://www.dawn.com/news/1458125/afghan-presi...   \n",
       "3        3  https://www.dawn.com/news/1458123/mehwish-haya...   \n",
       "4        4  https://www.dawn.com/news/1458118/complete-tex...   \n",
       "\n",
       "                                            Headline       Date  \\\n",
       "0  MBBS student found dead in hostel room at Jams...  1/17/2019   \n",
       "1  Govt decides to remove names of Bilawal, Murad...  1/17/2019   \n",
       "2  Afghan president thanks PM Khan for Pakistan's...  1/17/2019   \n",
       "3  Mehwish Hayat acts out her musical dreams in n...  1/17/2019   \n",
       "4  Complete text of address by Justice Asif Saeed...  1/17/2019   \n",
       "\n",
       "                                             Content  \\\n",
       "0  A third-year MBBS student was found shot dead ...   \n",
       "1  The federal cabinet has decided to remove the ...   \n",
       "2  Afghan President Ashraf Ghani on Thursday tele...   \n",
       "3  Director and script writer Wajahat Rauf unveil...   \n",
       "4  Complete address by Justice Asif Saeed Khosa o...   \n",
       "\n",
       "                           Author Publisher    News Category  \\\n",
       "0           Mohammad Hussain Khan      Dawn    Mental health   \n",
       "1  Sanaullah Khan | Javed Hussain      Dawn         Politics   \n",
       "2                  Sanaullah Khan      Dawn  Foreign Affairs   \n",
       "3                            None      Dawn    Entertainment   \n",
       "4                        Dawn.com      Dawn        Judiciary   \n",
       "\n",
       "                                            Keywords  Label  \n",
       "0            Jamshoro, youth, suicide, mental health    1.0  \n",
       "1                         Islamabad, Sindh, PPP, ECL    1.0  \n",
       "2  Afghanistan, foreign affairs, Imran Khan, Ashr...    1.0  \n",
       "3  Mehwish Hayat, Enaaya, Azfar Rehman, Wajahat Rauf   -1.0  \n",
       "4  Islamabad, Asif Khosa, Supreme Court, Saqib Nisar    1.0  "
      ]
     },
     "execution_count": 97,
     "metadata": {},
     "output_type": "execute_result"
    }
   ],
   "source": [
    "articles = pd.read_csv('Uncleaned-Data/articles-annotated.csv',encoding = \"ISO-8859-1\")\n",
    "articles.head()"
   ]
  },
  {
   "cell_type": "code",
   "execution_count": 11,
   "metadata": {
    "ExecuteTime": {
     "end_time": "2019-02-10T09:04:37.829876Z",
     "start_time": "2019-02-10T09:04:37.814404Z"
    }
   },
   "outputs": [],
   "source": [
    "# drop rows where no label given\n",
    "articles = articles.dropna()"
   ]
  },
  {
   "cell_type": "code",
   "execution_count": 12,
   "metadata": {
    "ExecuteTime": {
     "end_time": "2019-02-10T09:04:57.943708Z",
     "start_time": "2019-02-10T09:04:57.642281Z"
    }
   },
   "outputs": [],
   "source": [
    "# Convert dates to datetime object\n",
    "articles['Date'] =  pd.to_datetime(articles['Date'])"
   ]
  },
  {
   "cell_type": "code",
   "execution_count": 13,
   "metadata": {
    "ExecuteTime": {
     "end_time": "2019-02-10T09:05:24.511033Z",
     "start_time": "2019-02-10T09:05:24.498558Z"
    }
   },
   "outputs": [],
   "source": [
    "# Replacing None and dawn.com with dawn since no author.\n",
    "articles['Author'] = articles['Author'].replace(to_replace=r'None', value='dawn', regex=True)\n",
    "articles['Author'] = articles['Author'].replace(to_replace=r'Dawn.com', value='dawn', regex=True)"
   ]
  },
  {
   "cell_type": "markdown",
   "metadata": {},
   "source": [
    "We have the following 5 categories with no author names so we will replace them with the name of the newspaper so that it is later easier to identify a source for these articles.\n",
    "  -  The Newspaper's Staff Reporter\n",
    "  - A Correspondent\n",
    "  - The Newspaper's Correspondent\n",
    "  - The Newspaper's Staff Correspondent\n",
    "  - Editorial"
   ]
  },
  {
   "cell_type": "code",
   "execution_count": 14,
   "metadata": {
    "ExecuteTime": {
     "end_time": "2019-02-10T09:05:34.025317Z",
     "start_time": "2019-02-10T09:05:34.005853Z"
    }
   },
   "outputs": [
    {
     "name": "stdout",
     "output_type": "stream",
     "text": [
      "['Mohammad Hussain Khan' 'Sanaullah Khan | Javed Hussain' 'Sanaullah Khan'\n",
      " 'dawn' 'dawn | Haseeb Bhatti' 'Rimmel Mohydin' 'Jamil Nagri'\n",
      " 'Bureau Report' 'Kashif Abbasi' 'Ikram Junaidi'\n",
      " \"The Newspaper's Staff Reporter\" 'Naeem Sahoutara' 'Habib Khan Ghori'\n",
      " 'Hasan Mansoor' 'Behram Baloch' 'Mohammad Asghar' 'Imran Ayub'\n",
      " 'Syed Ali Shah' 'Haseeb Bhatti' 'Ali Akbar | AP' 'Rana Bilal'\n",
      " 'Sara Malkani' 'Editorial' 'Munawer Azeem' 'A Correspondent'\n",
      " \"The Newspaper's Correspondent\" 'Zulfiqar Ali' 'Intikhab Hanif'\n",
      " 'Tahir Siddiqui' 'Ishaq Tanoli' 'Faiza Ilyas' 'Tariq Naqash' 'Imtiaz Ali'\n",
      " 'Tahir Naseer' 'Wajiha Khanain' 'Abdul Ghaffar' 'AP'\n",
      " 'Amir Wasim | Javed Hussain | Nadir Guramani' 'Jawaid Bokhari'\n",
      " 'Dr Niaz Murtaza' 'Amjad Iqbal' 'Hamid Asghar' 'APP'\n",
      " \"The Newspaper's Staff Correspondent\" 'Zulqernain Tahir'\n",
      " 'Ghulam Hussain Khawaja' 'Dawn Report' 'Syed Irfan Raza'\n",
      " 'Monitoring Desk' 'Malik Asad' 'Syed Ali Shah | APP' 'dawn | Amir Wasim'\n",
      " 'Javed Hussain' 'Shakeel Qarar' 'Umair Javed' 'Nadir Cheema' 'AFP'\n",
      " 'Shafi Baloch' 'Abdul Moiz Jaferii' 'Khaleeq Kiani' 'Ashfaq Yusufzai'\n",
      " 'Aamir Yasin' 'Majeed Gill' 'Waseem Shamsi' 'Afshan Subohi' 'Shafiq Butt'\n",
      " 'Amir Wasim' 'Mansoor Malik' 'dawn | Qazi Hassan' 'dawn | Sirajuddin'\n",
      " 'Aamir Shafaat Khan' 'Iftikhar A. Khan' 'Wajih Ahmad Sheikh'\n",
      " 'Nasir Iqbal' 'Talqeen Zubairi' 'Naveed Siddiqui' 'Abbas Nasir'\n",
      " 'Khalid Hasnain' 'Haneen Rafi' 'Kalbe Ali' 'Masood Haider'\n",
      " 'M Bilal Lakhani' 'AFP .' 'Rahul Aijaz' 'Niha Dagia' 'Reuters'\n",
      " 'News Desk' 'Shehzad Ghias' 'Khurram Siddiqui']\n",
      "Number of Categories 89\n"
     ]
    }
   ],
   "source": [
    "print(articles['Author'].unique())\n",
    "print('Number of Categories',len(articles['Author'].unique()))"
   ]
  },
  {
   "cell_type": "code",
   "execution_count": 15,
   "metadata": {
    "ExecuteTime": {
     "end_time": "2019-02-10T09:05:53.344801Z",
     "start_time": "2019-02-10T09:05:53.327334Z"
    }
   },
   "outputs": [],
   "source": [
    "articles['Author'] = articles['Author'].replace(to_replace=r'The Newspaper\\'s Staff Reporter', value='dawn', regex=True)\n",
    "articles['Author'] = articles['Author'].replace(to_replace=r'A Correspondent', value='dawn', regex=True)\n",
    "articles['Author'] = articles['Author'].replace(to_replace=r'The Newspaper\\'s Correspondent', value='dawn', regex=True)\n",
    "articles['Author'] = articles['Author'].replace(to_replace=r'Editorial', value='dawn', regex=True)\n",
    "articles['Author'] = articles['Author'].replace(to_replace=r'The Newspaper\\'s Staff Correspondent', value='dawn', regex=True)"
   ]
  },
  {
   "cell_type": "code",
   "execution_count": 16,
   "metadata": {
    "ExecuteTime": {
     "end_time": "2019-02-10T09:05:59.075044Z",
     "start_time": "2019-02-10T09:05:59.061068Z"
    }
   },
   "outputs": [
    {
     "name": "stdout",
     "output_type": "stream",
     "text": [
      "Number of Categories are: 84\n"
     ]
    }
   ],
   "source": [
    "print('Number of Categories are:',len(articles['Author'].unique()))"
   ]
  },
  {
   "cell_type": "code",
   "execution_count": 17,
   "metadata": {
    "ExecuteTime": {
     "end_time": "2019-02-10T09:06:08.126302Z",
     "start_time": "2019-02-10T09:06:08.092366Z"
    }
   },
   "outputs": [
    {
     "data": {
      "text/html": [
       "<div>\n",
       "<style scoped>\n",
       "    .dataframe tbody tr th:only-of-type {\n",
       "        vertical-align: middle;\n",
       "    }\n",
       "\n",
       "    .dataframe tbody tr th {\n",
       "        vertical-align: top;\n",
       "    }\n",
       "\n",
       "    .dataframe thead th {\n",
       "        text-align: right;\n",
       "    }\n",
       "</style>\n",
       "<table border=\"1\" class=\"dataframe\">\n",
       "  <thead>\n",
       "    <tr style=\"text-align: right;\">\n",
       "      <th></th>\n",
       "      <th>News ID</th>\n",
       "      <th>URL</th>\n",
       "      <th>Headline</th>\n",
       "      <th>Date</th>\n",
       "      <th>Content</th>\n",
       "      <th>Author</th>\n",
       "      <th>Publisher</th>\n",
       "      <th>News Category</th>\n",
       "      <th>Keywords</th>\n",
       "      <th>Label</th>\n",
       "    </tr>\n",
       "  </thead>\n",
       "  <tbody>\n",
       "    <tr>\n",
       "      <th>0</th>\n",
       "      <td>0</td>\n",
       "      <td>https://www.dawn.com/news/1458127/mbbs-student...</td>\n",
       "      <td>MBBS student found dead in hostel room at Jams...</td>\n",
       "      <td>2019-01-17</td>\n",
       "      <td>A third-year MBBS student was found shot dead ...</td>\n",
       "      <td>Mohammad Hussain Khan</td>\n",
       "      <td>Dawn</td>\n",
       "      <td>Mental health</td>\n",
       "      <td>Jamshoro, youth, suicide, mental health</td>\n",
       "      <td>1.0</td>\n",
       "    </tr>\n",
       "    <tr>\n",
       "      <th>1</th>\n",
       "      <td>1</td>\n",
       "      <td>https://www.dawn.com/news/1458129/govt-decides...</td>\n",
       "      <td>Govt decides to remove names of Bilawal, Murad...</td>\n",
       "      <td>2019-01-17</td>\n",
       "      <td>The federal cabinet has decided to remove the ...</td>\n",
       "      <td>Sanaullah Khan | Javed Hussain</td>\n",
       "      <td>Dawn</td>\n",
       "      <td>Politics</td>\n",
       "      <td>Islamabad, Sindh, PPP, ECL</td>\n",
       "      <td>1.0</td>\n",
       "    </tr>\n",
       "    <tr>\n",
       "      <th>2</th>\n",
       "      <td>2</td>\n",
       "      <td>https://www.dawn.com/news/1458125/afghan-presi...</td>\n",
       "      <td>Afghan president thanks PM Khan for Pakistan's...</td>\n",
       "      <td>2019-01-17</td>\n",
       "      <td>Afghan President Ashraf Ghani on Thursday tele...</td>\n",
       "      <td>Sanaullah Khan</td>\n",
       "      <td>Dawn</td>\n",
       "      <td>Foreign Affairs</td>\n",
       "      <td>Afghanistan, foreign affairs, Imran Khan, Ashr...</td>\n",
       "      <td>1.0</td>\n",
       "    </tr>\n",
       "    <tr>\n",
       "      <th>3</th>\n",
       "      <td>3</td>\n",
       "      <td>https://www.dawn.com/news/1458123/mehwish-haya...</td>\n",
       "      <td>Mehwish Hayat acts out her musical dreams in n...</td>\n",
       "      <td>2019-01-17</td>\n",
       "      <td>Director and script writer Wajahat Rauf unveil...</td>\n",
       "      <td>dawn</td>\n",
       "      <td>Dawn</td>\n",
       "      <td>Entertainment</td>\n",
       "      <td>Mehwish Hayat, Enaaya, Azfar Rehman, Wajahat Rauf</td>\n",
       "      <td>-1.0</td>\n",
       "    </tr>\n",
       "    <tr>\n",
       "      <th>4</th>\n",
       "      <td>4</td>\n",
       "      <td>https://www.dawn.com/news/1458118/complete-tex...</td>\n",
       "      <td>Complete text of address by Justice Asif Saeed...</td>\n",
       "      <td>2019-01-17</td>\n",
       "      <td>Complete address by Justice Asif Saeed Khosa o...</td>\n",
       "      <td>dawn</td>\n",
       "      <td>Dawn</td>\n",
       "      <td>Judiciary</td>\n",
       "      <td>Islamabad, Asif Khosa, Supreme Court, Saqib Nisar</td>\n",
       "      <td>1.0</td>\n",
       "    </tr>\n",
       "  </tbody>\n",
       "</table>\n",
       "</div>"
      ],
      "text/plain": [
       "   News ID                                                URL  \\\n",
       "0        0  https://www.dawn.com/news/1458127/mbbs-student...   \n",
       "1        1  https://www.dawn.com/news/1458129/govt-decides...   \n",
       "2        2  https://www.dawn.com/news/1458125/afghan-presi...   \n",
       "3        3  https://www.dawn.com/news/1458123/mehwish-haya...   \n",
       "4        4  https://www.dawn.com/news/1458118/complete-tex...   \n",
       "\n",
       "                                            Headline       Date  \\\n",
       "0  MBBS student found dead in hostel room at Jams... 2019-01-17   \n",
       "1  Govt decides to remove names of Bilawal, Murad... 2019-01-17   \n",
       "2  Afghan president thanks PM Khan for Pakistan's... 2019-01-17   \n",
       "3  Mehwish Hayat acts out her musical dreams in n... 2019-01-17   \n",
       "4  Complete text of address by Justice Asif Saeed... 2019-01-17   \n",
       "\n",
       "                                             Content  \\\n",
       "0  A third-year MBBS student was found shot dead ...   \n",
       "1  The federal cabinet has decided to remove the ...   \n",
       "2  Afghan President Ashraf Ghani on Thursday tele...   \n",
       "3  Director and script writer Wajahat Rauf unveil...   \n",
       "4  Complete address by Justice Asif Saeed Khosa o...   \n",
       "\n",
       "                           Author Publisher    News Category  \\\n",
       "0           Mohammad Hussain Khan      Dawn    Mental health   \n",
       "1  Sanaullah Khan | Javed Hussain      Dawn         Politics   \n",
       "2                  Sanaullah Khan      Dawn  Foreign Affairs   \n",
       "3                            dawn      Dawn    Entertainment   \n",
       "4                            dawn      Dawn        Judiciary   \n",
       "\n",
       "                                            Keywords  Label  \n",
       "0            Jamshoro, youth, suicide, mental health    1.0  \n",
       "1                         Islamabad, Sindh, PPP, ECL    1.0  \n",
       "2  Afghanistan, foreign affairs, Imran Khan, Ashr...    1.0  \n",
       "3  Mehwish Hayat, Enaaya, Azfar Rehman, Wajahat Rauf   -1.0  \n",
       "4  Islamabad, Asif Khosa, Supreme Court, Saqib Nisar    1.0  "
      ]
     },
     "execution_count": 17,
     "metadata": {},
     "output_type": "execute_result"
    }
   ],
   "source": [
    "data = articles.copy()\n",
    "data.head()"
   ]
  },
  {
   "cell_type": "code",
   "execution_count": 18,
   "metadata": {
    "ExecuteTime": {
     "end_time": "2019-02-10T09:06:19.798537Z",
     "start_time": "2019-02-10T09:06:19.790056Z"
    }
   },
   "outputs": [],
   "source": [
    "# Keeping only the date part of the datetime object for consistency.\n",
    "data['Date'] = data['Date'].dt.date"
   ]
  },
  {
   "cell_type": "code",
   "execution_count": 19,
   "metadata": {
    "ExecuteTime": {
     "end_time": "2019-02-10T09:06:21.761720Z",
     "start_time": "2019-02-10T09:06:21.752231Z"
    }
   },
   "outputs": [],
   "source": [
    "# Converting label from floats to int\n",
    "data['Label'] = data['Label'].astype(int)"
   ]
  },
  {
   "cell_type": "code",
   "execution_count": 20,
   "metadata": {
    "ExecuteTime": {
     "end_time": "2019-02-10T09:07:01.938792Z",
     "start_time": "2019-02-10T09:07:01.625390Z"
    }
   },
   "outputs": [],
   "source": [
    "# Saving cleaned data\n",
    "data.to_csv('Cleaned-Data/cleaned-data.csv',index=False)"
   ]
  },
  {
   "cell_type": "code",
   "execution_count": 22,
   "metadata": {
    "ExecuteTime": {
     "end_time": "2019-02-10T09:07:33.678830Z",
     "start_time": "2019-02-10T09:07:33.609961Z"
    }
   },
   "outputs": [
    {
     "data": {
      "text/html": [
       "<div>\n",
       "<style scoped>\n",
       "    .dataframe tbody tr th:only-of-type {\n",
       "        vertical-align: middle;\n",
       "    }\n",
       "\n",
       "    .dataframe tbody tr th {\n",
       "        vertical-align: top;\n",
       "    }\n",
       "\n",
       "    .dataframe thead th {\n",
       "        text-align: right;\n",
       "    }\n",
       "</style>\n",
       "<table border=\"1\" class=\"dataframe\">\n",
       "  <thead>\n",
       "    <tr style=\"text-align: right;\">\n",
       "      <th></th>\n",
       "      <th>News ID</th>\n",
       "      <th>URL</th>\n",
       "      <th>Headline</th>\n",
       "      <th>Date</th>\n",
       "      <th>Content</th>\n",
       "      <th>Author</th>\n",
       "      <th>Publisher</th>\n",
       "      <th>News Category</th>\n",
       "      <th>Keywords</th>\n",
       "      <th>Label</th>\n",
       "    </tr>\n",
       "  </thead>\n",
       "  <tbody>\n",
       "    <tr>\n",
       "      <th>0</th>\n",
       "      <td>0</td>\n",
       "      <td>https://www.dawn.com/news/1458127/mbbs-student...</td>\n",
       "      <td>MBBS student found dead in hostel room at Jams...</td>\n",
       "      <td>2019-01-17</td>\n",
       "      <td>A third-year MBBS student was found shot dead ...</td>\n",
       "      <td>Mohammad Hussain Khan</td>\n",
       "      <td>Dawn</td>\n",
       "      <td>Mental health</td>\n",
       "      <td>Jamshoro, youth, suicide, mental health</td>\n",
       "      <td>1</td>\n",
       "    </tr>\n",
       "    <tr>\n",
       "      <th>1</th>\n",
       "      <td>1</td>\n",
       "      <td>https://www.dawn.com/news/1458129/govt-decides...</td>\n",
       "      <td>Govt decides to remove names of Bilawal, Murad...</td>\n",
       "      <td>2019-01-17</td>\n",
       "      <td>The federal cabinet has decided to remove the ...</td>\n",
       "      <td>Sanaullah Khan | Javed Hussain</td>\n",
       "      <td>Dawn</td>\n",
       "      <td>Politics</td>\n",
       "      <td>Islamabad, Sindh, PPP, ECL</td>\n",
       "      <td>1</td>\n",
       "    </tr>\n",
       "    <tr>\n",
       "      <th>2</th>\n",
       "      <td>2</td>\n",
       "      <td>https://www.dawn.com/news/1458125/afghan-presi...</td>\n",
       "      <td>Afghan president thanks PM Khan for Pakistan's...</td>\n",
       "      <td>2019-01-17</td>\n",
       "      <td>Afghan President Ashraf Ghani on Thursday tele...</td>\n",
       "      <td>Sanaullah Khan</td>\n",
       "      <td>Dawn</td>\n",
       "      <td>Foreign Affairs</td>\n",
       "      <td>Afghanistan, foreign affairs, Imran Khan, Ashr...</td>\n",
       "      <td>1</td>\n",
       "    </tr>\n",
       "    <tr>\n",
       "      <th>3</th>\n",
       "      <td>3</td>\n",
       "      <td>https://www.dawn.com/news/1458123/mehwish-haya...</td>\n",
       "      <td>Mehwish Hayat acts out her musical dreams in n...</td>\n",
       "      <td>2019-01-17</td>\n",
       "      <td>Director and script writer Wajahat Rauf unveil...</td>\n",
       "      <td>dawn</td>\n",
       "      <td>Dawn</td>\n",
       "      <td>Entertainment</td>\n",
       "      <td>Mehwish Hayat, Enaaya, Azfar Rehman, Wajahat Rauf</td>\n",
       "      <td>-1</td>\n",
       "    </tr>\n",
       "    <tr>\n",
       "      <th>4</th>\n",
       "      <td>4</td>\n",
       "      <td>https://www.dawn.com/news/1458118/complete-tex...</td>\n",
       "      <td>Complete text of address by Justice Asif Saeed...</td>\n",
       "      <td>2019-01-17</td>\n",
       "      <td>Complete address by Justice Asif Saeed Khosa o...</td>\n",
       "      <td>dawn</td>\n",
       "      <td>Dawn</td>\n",
       "      <td>Judiciary</td>\n",
       "      <td>Islamabad, Asif Khosa, Supreme Court, Saqib Nisar</td>\n",
       "      <td>1</td>\n",
       "    </tr>\n",
       "  </tbody>\n",
       "</table>\n",
       "</div>"
      ],
      "text/plain": [
       "   News ID                                                URL  \\\n",
       "0        0  https://www.dawn.com/news/1458127/mbbs-student...   \n",
       "1        1  https://www.dawn.com/news/1458129/govt-decides...   \n",
       "2        2  https://www.dawn.com/news/1458125/afghan-presi...   \n",
       "3        3  https://www.dawn.com/news/1458123/mehwish-haya...   \n",
       "4        4  https://www.dawn.com/news/1458118/complete-tex...   \n",
       "\n",
       "                                            Headline        Date  \\\n",
       "0  MBBS student found dead in hostel room at Jams...  2019-01-17   \n",
       "1  Govt decides to remove names of Bilawal, Murad...  2019-01-17   \n",
       "2  Afghan president thanks PM Khan for Pakistan's...  2019-01-17   \n",
       "3  Mehwish Hayat acts out her musical dreams in n...  2019-01-17   \n",
       "4  Complete text of address by Justice Asif Saeed...  2019-01-17   \n",
       "\n",
       "                                             Content  \\\n",
       "0  A third-year MBBS student was found shot dead ...   \n",
       "1  The federal cabinet has decided to remove the ...   \n",
       "2  Afghan President Ashraf Ghani on Thursday tele...   \n",
       "3  Director and script writer Wajahat Rauf unveil...   \n",
       "4  Complete address by Justice Asif Saeed Khosa o...   \n",
       "\n",
       "                           Author Publisher    News Category  \\\n",
       "0           Mohammad Hussain Khan      Dawn    Mental health   \n",
       "1  Sanaullah Khan | Javed Hussain      Dawn         Politics   \n",
       "2                  Sanaullah Khan      Dawn  Foreign Affairs   \n",
       "3                            dawn      Dawn    Entertainment   \n",
       "4                            dawn      Dawn        Judiciary   \n",
       "\n",
       "                                            Keywords  Label  \n",
       "0            Jamshoro, youth, suicide, mental health      1  \n",
       "1                         Islamabad, Sindh, PPP, ECL      1  \n",
       "2  Afghanistan, foreign affairs, Imran Khan, Ashr...      1  \n",
       "3  Mehwish Hayat, Enaaya, Azfar Rehman, Wajahat Rauf     -1  \n",
       "4  Islamabad, Asif Khosa, Supreme Court, Saqib Nisar      1  "
      ]
     },
     "execution_count": 22,
     "metadata": {},
     "output_type": "execute_result"
    }
   ],
   "source": [
    "data = pd.read_csv('Cleaned-Data/cleaned-data.csv')\n",
    "data.head()"
   ]
  },
  {
   "cell_type": "code",
   "execution_count": 23,
   "metadata": {
    "ExecuteTime": {
     "end_time": "2019-02-10T09:07:40.633695Z",
     "start_time": "2019-02-10T09:07:40.617724Z"
    },
    "collapsed": true
   },
   "outputs": [
    {
     "data": {
      "text/plain": [
       "Counter({'Mohammad Hussain Khan': 3,\n",
       "         'Sanaullah Khan | Javed Hussain': 1,\n",
       "         'Sanaullah Khan': 3,\n",
       "         'dawn': 93,\n",
       "         'dawn | Haseeb Bhatti': 1,\n",
       "         'Rimmel Mohydin': 1,\n",
       "         'Jamil Nagri': 2,\n",
       "         'Bureau Report': 5,\n",
       "         'Kashif Abbasi': 3,\n",
       "         'Ikram Junaidi': 4,\n",
       "         'Naeem Sahoutara': 3,\n",
       "         'Habib Khan Ghori': 1,\n",
       "         'Hasan Mansoor': 3,\n",
       "         'Behram Baloch': 1,\n",
       "         'Mohammad Asghar': 2,\n",
       "         'Imran Ayub': 2,\n",
       "         'Syed Ali Shah': 1,\n",
       "         'Haseeb Bhatti': 9,\n",
       "         'Ali Akbar | AP': 1,\n",
       "         'Rana Bilal': 7,\n",
       "         'Sara Malkani': 1,\n",
       "         'Munawer Azeem': 1,\n",
       "         'Zulfiqar Ali': 2,\n",
       "         'Intikhab Hanif': 1,\n",
       "         'Tahir Siddiqui': 2,\n",
       "         'Ishaq Tanoli': 1,\n",
       "         'Faiza Ilyas': 1,\n",
       "         'Tariq Naqash': 1,\n",
       "         'Imtiaz Ali': 3,\n",
       "         'Tahir Naseer': 1,\n",
       "         'Wajiha Khanain': 1,\n",
       "         'Abdul Ghaffar': 1,\n",
       "         'AP': 1,\n",
       "         'Amir Wasim | Javed Hussain | Nadir Guramani': 1,\n",
       "         'Jawaid Bokhari': 1,\n",
       "         'Dr Niaz Murtaza': 1,\n",
       "         'Amjad Iqbal': 1,\n",
       "         'Hamid Asghar': 1,\n",
       "         'APP': 2,\n",
       "         'Zulqernain Tahir': 1,\n",
       "         'Ghulam Hussain Khawaja': 1,\n",
       "         'Dawn Report': 1,\n",
       "         'Syed Irfan Raza': 1,\n",
       "         'Monitoring Desk': 1,\n",
       "         'Malik Asad': 3,\n",
       "         'Syed Ali Shah | APP': 1,\n",
       "         'dawn | Amir Wasim': 1,\n",
       "         'Javed Hussain': 1,\n",
       "         'Shakeel Qarar': 1,\n",
       "         'Umair Javed': 1,\n",
       "         'Nadir Cheema': 1,\n",
       "         'AFP': 3,\n",
       "         'Shafi Baloch': 1,\n",
       "         'Abdul Moiz Jaferii': 1,\n",
       "         'Khaleeq Kiani': 1,\n",
       "         'Ashfaq Yusufzai': 1,\n",
       "         'Aamir Yasin': 1,\n",
       "         'Majeed Gill': 1,\n",
       "         'Waseem Shamsi': 1,\n",
       "         'Afshan Subohi': 1,\n",
       "         'Shafiq Butt': 1,\n",
       "         'Amir Wasim': 1,\n",
       "         'Mansoor Malik': 1,\n",
       "         'dawn | Qazi Hassan': 1,\n",
       "         'dawn | Sirajuddin': 1,\n",
       "         'Aamir Shafaat Khan': 1,\n",
       "         'Iftikhar A. Khan': 1,\n",
       "         'Wajih Ahmad Sheikh': 1,\n",
       "         'Nasir Iqbal': 1,\n",
       "         'Talqeen Zubairi': 1,\n",
       "         'Naveed Siddiqui': 1,\n",
       "         'Abbas Nasir': 1,\n",
       "         'Khalid Hasnain': 1,\n",
       "         'Haneen Rafi': 1,\n",
       "         'Kalbe Ali': 1,\n",
       "         'Masood Haider': 1,\n",
       "         'M Bilal Lakhani': 1,\n",
       "         'AFP .': 1,\n",
       "         'Rahul Aijaz': 2,\n",
       "         'Niha Dagia': 1,\n",
       "         'Reuters': 1,\n",
       "         'News Desk': 1,\n",
       "         'Shehzad Ghias': 5,\n",
       "         'Khurram Siddiqui': 1})"
      ]
     },
     "execution_count": 23,
     "metadata": {},
     "output_type": "execute_result"
    }
   ],
   "source": [
    "# Number of articles for each author\n",
    "Counter(data.Author)"
   ]
  },
  {
   "cell_type": "code",
   "execution_count": 24,
   "metadata": {
    "ExecuteTime": {
     "end_time": "2019-02-10T09:07:57.491872Z",
     "start_time": "2019-02-10T09:07:57.479894Z"
    }
   },
   "outputs": [
    {
     "name": "stdout",
     "output_type": "stream",
     "text": [
      "Total size of dataset is : (224, 10)\n"
     ]
    }
   ],
   "source": [
    "print('Total size of dataset is :',data.shape)"
   ]
  },
  {
   "cell_type": "code",
   "execution_count": 25,
   "metadata": {
    "ExecuteTime": {
     "end_time": "2019-02-10T09:08:02.792493Z",
     "start_time": "2019-02-10T09:08:02.771532Z"
    }
   },
   "outputs": [
    {
     "name": "stdout",
     "output_type": "stream",
     "text": [
      "<class 'pandas.core.frame.DataFrame'>\n",
      "RangeIndex: 224 entries, 0 to 223\n",
      "Data columns (total 10 columns):\n",
      "News ID          224 non-null int64\n",
      "URL              224 non-null object\n",
      "Headline         224 non-null object\n",
      "Date             224 non-null object\n",
      "Content          224 non-null object\n",
      "Author           224 non-null object\n",
      "Publisher        224 non-null object\n",
      "News Category    224 non-null object\n",
      "Keywords         224 non-null object\n",
      "Label            224 non-null int64\n",
      "dtypes: int64(2), object(8)\n",
      "memory usage: 17.6+ KB\n"
     ]
    }
   ],
   "source": [
    "data.info()"
   ]
  },
  {
   "cell_type": "code",
   "execution_count": 26,
   "metadata": {
    "ExecuteTime": {
     "end_time": "2019-02-10T09:08:08.112654Z",
     "start_time": "2019-02-10T09:08:08.037796Z"
    }
   },
   "outputs": [
    {
     "name": "stdout",
     "output_type": "stream",
     "text": [
      "Range of the published articles is 2017-02-23 - 2019-01-17\n"
     ]
    }
   ],
   "source": [
    "print('Range of the published articles is',data.Date.min(),'-',data.Date.max())"
   ]
  },
  {
   "cell_type": "markdown",
   "metadata": {},
   "source": [
    " - Find importance of words using headlines and content seperately"
   ]
  },
  {
   "cell_type": "markdown",
   "metadata": {},
   "source": [
    "### Preprocessing"
   ]
  },
  {
   "cell_type": "code",
   "execution_count": 27,
   "metadata": {
    "ExecuteTime": {
     "end_time": "2019-02-10T09:08:14.272304Z",
     "start_time": "2019-02-10T09:08:14.248350Z"
    }
   },
   "outputs": [],
   "source": [
    "def remove_non_ascii(words):\n",
    "    words = [unicodedata.normalize('NFKD', word).encode('ascii', 'ignore').decode('utf-8', 'ignore') for word in words]\n",
    "    return words\n",
    "# The first pre-processing step which we will do is transform our tweets into lower case.\n",
    "# This avoids having multiple copies of the same words\n",
    "def to_lowercase(words):\n",
    "    words = [word.lower() for word in words]\n",
    "    return words\n",
    "# Removing punctuation to reduce the amount of the training data\n",
    "def remove_punctuation(words):\n",
    "    words = [re.sub(r'[^\\w\\s]', '', word) for word in words if re.sub(r'[^\\w\\s]', '', word) not in '']    \n",
    "    return words\n",
    "# Removing numbers from data since they aren't useful in this context.\n",
    "def replace_numbers(words):\n",
    "    words = [re.sub(r'[^\\w\\s]', '', word) for word in words]\n",
    "    return words\n",
    "def remove_stopwords(words):\n",
    "    words = [word for word in words if word not in stopwords.words('english')]\n",
    "    return words"
   ]
  },
  {
   "cell_type": "code",
   "execution_count": 28,
   "metadata": {
    "ExecuteTime": {
     "end_time": "2019-02-10T09:08:15.487932Z",
     "start_time": "2019-02-10T09:08:15.474957Z"
    }
   },
   "outputs": [],
   "source": [
    "def normalize(words):\n",
    "    words = remove_non_ascii(words)\n",
    "    words = to_lowercase(words)\n",
    "    words = remove_punctuation(words)\n",
    "    words = replace_numbers(words)\n",
    "    words = remove_stopwords(words)\n",
    "    return words"
   ]
  },
  {
   "cell_type": "code",
   "execution_count": 29,
   "metadata": {
    "ExecuteTime": {
     "end_time": "2019-02-10T09:09:45.107880Z",
     "start_time": "2019-02-10T09:08:17.237679Z"
    }
   },
   "outputs": [],
   "source": [
    "data['tokenized_Content'] = data['Content'].apply(word_tokenize)\n",
    "data['tokenized_Headline'] = data['Headline'].apply(word_tokenize)\n",
    "data['tokenized_Content'] = data['tokenized_Content'].apply(normalize)\n",
    "data['tokenized_Headline'] = data['tokenized_Headline'].apply(normalize)"
   ]
  },
  {
   "cell_type": "code",
   "execution_count": 22,
   "metadata": {
    "ExecuteTime": {
     "end_time": "2019-02-01T18:42:49.219577Z",
     "start_time": "2019-02-01T18:42:49.208099Z"
    }
   },
   "outputs": [],
   "source": [
    "# data['tokenized_Keywords'] = data['Keywords'].apply(word_tokenize)\n",
    "# data['tokenized_Keywords'] = data['tokenized_Keywords'].apply(normalize)"
   ]
  },
  {
   "cell_type": "code",
   "execution_count": 30,
   "metadata": {
    "ExecuteTime": {
     "end_time": "2019-02-10T09:10:12.101432Z",
     "start_time": "2019-02-10T09:10:12.091952Z"
    }
   },
   "outputs": [
    {
     "data": {
      "text/plain": [
       "['profile', 'pakistan', 'next', 'chief', 'justice', 'asif', 'saeed', 'khosa']"
      ]
     },
     "execution_count": 30,
     "metadata": {},
     "output_type": "execute_result"
    }
   ],
   "source": [
    "data['tokenized_Headline'][5]"
   ]
  },
  {
   "cell_type": "code",
   "execution_count": 31,
   "metadata": {
    "ExecuteTime": {
     "end_time": "2019-02-10T09:10:15.310247Z",
     "start_time": "2019-02-10T09:10:15.257847Z"
    }
   },
   "outputs": [
    {
     "data": {
      "text/html": [
       "<div>\n",
       "<style scoped>\n",
       "    .dataframe tbody tr th:only-of-type {\n",
       "        vertical-align: middle;\n",
       "    }\n",
       "\n",
       "    .dataframe tbody tr th {\n",
       "        vertical-align: top;\n",
       "    }\n",
       "\n",
       "    .dataframe thead th {\n",
       "        text-align: right;\n",
       "    }\n",
       "</style>\n",
       "<table border=\"1\" class=\"dataframe\">\n",
       "  <thead>\n",
       "    <tr style=\"text-align: right;\">\n",
       "      <th></th>\n",
       "      <th>News ID</th>\n",
       "      <th>URL</th>\n",
       "      <th>Headline</th>\n",
       "      <th>Date</th>\n",
       "      <th>Content</th>\n",
       "      <th>Author</th>\n",
       "      <th>Publisher</th>\n",
       "      <th>News Category</th>\n",
       "      <th>Keywords</th>\n",
       "      <th>Label</th>\n",
       "      <th>tokenized_Content</th>\n",
       "      <th>tokenized_Headline</th>\n",
       "    </tr>\n",
       "  </thead>\n",
       "  <tbody>\n",
       "    <tr>\n",
       "      <th>0</th>\n",
       "      <td>0</td>\n",
       "      <td>https://www.dawn.com/news/1458127/mbbs-student...</td>\n",
       "      <td>MBBS student found dead in hostel room at Jams...</td>\n",
       "      <td>2019-01-17</td>\n",
       "      <td>A third-year MBBS student was found shot dead ...</td>\n",
       "      <td>Mohammad Hussain Khan</td>\n",
       "      <td>Dawn</td>\n",
       "      <td>Mental health</td>\n",
       "      <td>Jamshoro, youth, suicide, mental health</td>\n",
       "      <td>1</td>\n",
       "      <td>[thirdyear, mbbs, student, found, shot, dead, ...</td>\n",
       "      <td>[mbbs, student, found, dead, hostel, room, jam...</td>\n",
       "    </tr>\n",
       "    <tr>\n",
       "      <th>1</th>\n",
       "      <td>1</td>\n",
       "      <td>https://www.dawn.com/news/1458129/govt-decides...</td>\n",
       "      <td>Govt decides to remove names of Bilawal, Murad...</td>\n",
       "      <td>2019-01-17</td>\n",
       "      <td>The federal cabinet has decided to remove the ...</td>\n",
       "      <td>Sanaullah Khan | Javed Hussain</td>\n",
       "      <td>Dawn</td>\n",
       "      <td>Politics</td>\n",
       "      <td>Islamabad, Sindh, PPP, ECL</td>\n",
       "      <td>1</td>\n",
       "      <td>[federal, cabinet, decided, remove, names, ppp...</td>\n",
       "      <td>[govt, decides, remove, names, bilawal, murad,...</td>\n",
       "    </tr>\n",
       "    <tr>\n",
       "      <th>2</th>\n",
       "      <td>2</td>\n",
       "      <td>https://www.dawn.com/news/1458125/afghan-presi...</td>\n",
       "      <td>Afghan president thanks PM Khan for Pakistan's...</td>\n",
       "      <td>2019-01-17</td>\n",
       "      <td>Afghan President Ashraf Ghani on Thursday tele...</td>\n",
       "      <td>Sanaullah Khan</td>\n",
       "      <td>Dawn</td>\n",
       "      <td>Foreign Affairs</td>\n",
       "      <td>Afghanistan, foreign affairs, Imran Khan, Ashr...</td>\n",
       "      <td>1</td>\n",
       "      <td>[afghan, president, ashraf, ghani, thursday, t...</td>\n",
       "      <td>[afghan, president, thanks, pm, khan, pakistan...</td>\n",
       "    </tr>\n",
       "    <tr>\n",
       "      <th>3</th>\n",
       "      <td>3</td>\n",
       "      <td>https://www.dawn.com/news/1458123/mehwish-haya...</td>\n",
       "      <td>Mehwish Hayat acts out her musical dreams in n...</td>\n",
       "      <td>2019-01-17</td>\n",
       "      <td>Director and script writer Wajahat Rauf unveil...</td>\n",
       "      <td>dawn</td>\n",
       "      <td>Dawn</td>\n",
       "      <td>Entertainment</td>\n",
       "      <td>Mehwish Hayat, Enaaya, Azfar Rehman, Wajahat Rauf</td>\n",
       "      <td>-1</td>\n",
       "      <td>[director, script, writer, wajahat, rauf, unve...</td>\n",
       "      <td>[mehwish, hayat, acts, musical, dreams, new, w...</td>\n",
       "    </tr>\n",
       "    <tr>\n",
       "      <th>4</th>\n",
       "      <td>4</td>\n",
       "      <td>https://www.dawn.com/news/1458118/complete-tex...</td>\n",
       "      <td>Complete text of address by Justice Asif Saeed...</td>\n",
       "      <td>2019-01-17</td>\n",
       "      <td>Complete address by Justice Asif Saeed Khosa o...</td>\n",
       "      <td>dawn</td>\n",
       "      <td>Dawn</td>\n",
       "      <td>Judiciary</td>\n",
       "      <td>Islamabad, Asif Khosa, Supreme Court, Saqib Nisar</td>\n",
       "      <td>1</td>\n",
       "      <td>[complete, address, justice, asif, saeed, khos...</td>\n",
       "      <td>[complete, text, address, justice, asif, saeed...</td>\n",
       "    </tr>\n",
       "  </tbody>\n",
       "</table>\n",
       "</div>"
      ],
      "text/plain": [
       "   News ID                                                URL  \\\n",
       "0        0  https://www.dawn.com/news/1458127/mbbs-student...   \n",
       "1        1  https://www.dawn.com/news/1458129/govt-decides...   \n",
       "2        2  https://www.dawn.com/news/1458125/afghan-presi...   \n",
       "3        3  https://www.dawn.com/news/1458123/mehwish-haya...   \n",
       "4        4  https://www.dawn.com/news/1458118/complete-tex...   \n",
       "\n",
       "                                            Headline        Date  \\\n",
       "0  MBBS student found dead in hostel room at Jams...  2019-01-17   \n",
       "1  Govt decides to remove names of Bilawal, Murad...  2019-01-17   \n",
       "2  Afghan president thanks PM Khan for Pakistan's...  2019-01-17   \n",
       "3  Mehwish Hayat acts out her musical dreams in n...  2019-01-17   \n",
       "4  Complete text of address by Justice Asif Saeed...  2019-01-17   \n",
       "\n",
       "                                             Content  \\\n",
       "0  A third-year MBBS student was found shot dead ...   \n",
       "1  The federal cabinet has decided to remove the ...   \n",
       "2  Afghan President Ashraf Ghani on Thursday tele...   \n",
       "3  Director and script writer Wajahat Rauf unveil...   \n",
       "4  Complete address by Justice Asif Saeed Khosa o...   \n",
       "\n",
       "                           Author Publisher    News Category  \\\n",
       "0           Mohammad Hussain Khan      Dawn    Mental health   \n",
       "1  Sanaullah Khan | Javed Hussain      Dawn         Politics   \n",
       "2                  Sanaullah Khan      Dawn  Foreign Affairs   \n",
       "3                            dawn      Dawn    Entertainment   \n",
       "4                            dawn      Dawn        Judiciary   \n",
       "\n",
       "                                            Keywords  Label  \\\n",
       "0            Jamshoro, youth, suicide, mental health      1   \n",
       "1                         Islamabad, Sindh, PPP, ECL      1   \n",
       "2  Afghanistan, foreign affairs, Imran Khan, Ashr...      1   \n",
       "3  Mehwish Hayat, Enaaya, Azfar Rehman, Wajahat Rauf     -1   \n",
       "4  Islamabad, Asif Khosa, Supreme Court, Saqib Nisar      1   \n",
       "\n",
       "                                   tokenized_Content  \\\n",
       "0  [thirdyear, mbbs, student, found, shot, dead, ...   \n",
       "1  [federal, cabinet, decided, remove, names, ppp...   \n",
       "2  [afghan, president, ashraf, ghani, thursday, t...   \n",
       "3  [director, script, writer, wajahat, rauf, unve...   \n",
       "4  [complete, address, justice, asif, saeed, khos...   \n",
       "\n",
       "                                  tokenized_Headline  \n",
       "0  [mbbs, student, found, dead, hostel, room, jam...  \n",
       "1  [govt, decides, remove, names, bilawal, murad,...  \n",
       "2  [afghan, president, thanks, pm, khan, pakistan...  \n",
       "3  [mehwish, hayat, acts, musical, dreams, new, w...  \n",
       "4  [complete, text, address, justice, asif, saeed...  "
      ]
     },
     "execution_count": 31,
     "metadata": {},
     "output_type": "execute_result"
    }
   ],
   "source": [
    "data.head()"
   ]
  },
  {
   "cell_type": "code",
   "execution_count": 32,
   "metadata": {
    "ExecuteTime": {
     "end_time": "2019-02-10T09:10:32.384517Z",
     "start_time": "2019-02-10T09:10:32.255760Z"
    }
   },
   "outputs": [],
   "source": [
    "# Saving the clean data to a csv file\n",
    "data.to_csv(\"Cleaned-Data/preprocessed.csv\",index=False)"
   ]
  },
  {
   "cell_type": "code",
   "execution_count": 33,
   "metadata": {
    "ExecuteTime": {
     "end_time": "2019-02-10T09:10:35.420257Z",
     "start_time": "2019-02-10T09:10:35.286012Z"
    }
   },
   "outputs": [
    {
     "data": {
      "text/html": [
       "<div>\n",
       "<style scoped>\n",
       "    .dataframe tbody tr th:only-of-type {\n",
       "        vertical-align: middle;\n",
       "    }\n",
       "\n",
       "    .dataframe tbody tr th {\n",
       "        vertical-align: top;\n",
       "    }\n",
       "\n",
       "    .dataframe thead th {\n",
       "        text-align: right;\n",
       "    }\n",
       "</style>\n",
       "<table border=\"1\" class=\"dataframe\">\n",
       "  <thead>\n",
       "    <tr style=\"text-align: right;\">\n",
       "      <th></th>\n",
       "      <th>News ID</th>\n",
       "      <th>URL</th>\n",
       "      <th>Headline</th>\n",
       "      <th>Date</th>\n",
       "      <th>Content</th>\n",
       "      <th>Author</th>\n",
       "      <th>Publisher</th>\n",
       "      <th>News Category</th>\n",
       "      <th>Keywords</th>\n",
       "      <th>Label</th>\n",
       "      <th>tokenized_Content</th>\n",
       "      <th>tokenized_Headline</th>\n",
       "    </tr>\n",
       "  </thead>\n",
       "  <tbody>\n",
       "    <tr>\n",
       "      <th>0</th>\n",
       "      <td>0</td>\n",
       "      <td>https://www.dawn.com/news/1458127/mbbs-student...</td>\n",
       "      <td>MBBS student found dead in hostel room at Jams...</td>\n",
       "      <td>2019-01-17</td>\n",
       "      <td>A third-year MBBS student was found shot dead ...</td>\n",
       "      <td>Mohammad Hussain Khan</td>\n",
       "      <td>Dawn</td>\n",
       "      <td>Mental health</td>\n",
       "      <td>Jamshoro, youth, suicide, mental health</td>\n",
       "      <td>1</td>\n",
       "      <td>['thirdyear', 'mbbs', 'student', 'found', 'sho...</td>\n",
       "      <td>['mbbs', 'student', 'found', 'dead', 'hostel',...</td>\n",
       "    </tr>\n",
       "    <tr>\n",
       "      <th>1</th>\n",
       "      <td>1</td>\n",
       "      <td>https://www.dawn.com/news/1458129/govt-decides...</td>\n",
       "      <td>Govt decides to remove names of Bilawal, Murad...</td>\n",
       "      <td>2019-01-17</td>\n",
       "      <td>The federal cabinet has decided to remove the ...</td>\n",
       "      <td>Sanaullah Khan | Javed Hussain</td>\n",
       "      <td>Dawn</td>\n",
       "      <td>Politics</td>\n",
       "      <td>Islamabad, Sindh, PPP, ECL</td>\n",
       "      <td>1</td>\n",
       "      <td>['federal', 'cabinet', 'decided', 'remove', 'n...</td>\n",
       "      <td>['govt', 'decides', 'remove', 'names', 'bilawa...</td>\n",
       "    </tr>\n",
       "    <tr>\n",
       "      <th>2</th>\n",
       "      <td>2</td>\n",
       "      <td>https://www.dawn.com/news/1458125/afghan-presi...</td>\n",
       "      <td>Afghan president thanks PM Khan for Pakistan's...</td>\n",
       "      <td>2019-01-17</td>\n",
       "      <td>Afghan President Ashraf Ghani on Thursday tele...</td>\n",
       "      <td>Sanaullah Khan</td>\n",
       "      <td>Dawn</td>\n",
       "      <td>Foreign Affairs</td>\n",
       "      <td>Afghanistan, foreign affairs, Imran Khan, Ashr...</td>\n",
       "      <td>1</td>\n",
       "      <td>['afghan', 'president', 'ashraf', 'ghani', 'th...</td>\n",
       "      <td>['afghan', 'president', 'thanks', 'pm', 'khan'...</td>\n",
       "    </tr>\n",
       "    <tr>\n",
       "      <th>3</th>\n",
       "      <td>3</td>\n",
       "      <td>https://www.dawn.com/news/1458123/mehwish-haya...</td>\n",
       "      <td>Mehwish Hayat acts out her musical dreams in n...</td>\n",
       "      <td>2019-01-17</td>\n",
       "      <td>Director and script writer Wajahat Rauf unveil...</td>\n",
       "      <td>dawn</td>\n",
       "      <td>Dawn</td>\n",
       "      <td>Entertainment</td>\n",
       "      <td>Mehwish Hayat, Enaaya, Azfar Rehman, Wajahat Rauf</td>\n",
       "      <td>-1</td>\n",
       "      <td>['director', 'script', 'writer', 'wajahat', 'r...</td>\n",
       "      <td>['mehwish', 'hayat', 'acts', 'musical', 'dream...</td>\n",
       "    </tr>\n",
       "    <tr>\n",
       "      <th>4</th>\n",
       "      <td>4</td>\n",
       "      <td>https://www.dawn.com/news/1458118/complete-tex...</td>\n",
       "      <td>Complete text of address by Justice Asif Saeed...</td>\n",
       "      <td>2019-01-17</td>\n",
       "      <td>Complete address by Justice Asif Saeed Khosa o...</td>\n",
       "      <td>dawn</td>\n",
       "      <td>Dawn</td>\n",
       "      <td>Judiciary</td>\n",
       "      <td>Islamabad, Asif Khosa, Supreme Court, Saqib Nisar</td>\n",
       "      <td>1</td>\n",
       "      <td>['complete', 'address', 'justice', 'asif', 'sa...</td>\n",
       "      <td>['complete', 'text', 'address', 'justice', 'as...</td>\n",
       "    </tr>\n",
       "  </tbody>\n",
       "</table>\n",
       "</div>"
      ],
      "text/plain": [
       "   News ID                                                URL  \\\n",
       "0        0  https://www.dawn.com/news/1458127/mbbs-student...   \n",
       "1        1  https://www.dawn.com/news/1458129/govt-decides...   \n",
       "2        2  https://www.dawn.com/news/1458125/afghan-presi...   \n",
       "3        3  https://www.dawn.com/news/1458123/mehwish-haya...   \n",
       "4        4  https://www.dawn.com/news/1458118/complete-tex...   \n",
       "\n",
       "                                            Headline        Date  \\\n",
       "0  MBBS student found dead in hostel room at Jams...  2019-01-17   \n",
       "1  Govt decides to remove names of Bilawal, Murad...  2019-01-17   \n",
       "2  Afghan president thanks PM Khan for Pakistan's...  2019-01-17   \n",
       "3  Mehwish Hayat acts out her musical dreams in n...  2019-01-17   \n",
       "4  Complete text of address by Justice Asif Saeed...  2019-01-17   \n",
       "\n",
       "                                             Content  \\\n",
       "0  A third-year MBBS student was found shot dead ...   \n",
       "1  The federal cabinet has decided to remove the ...   \n",
       "2  Afghan President Ashraf Ghani on Thursday tele...   \n",
       "3  Director and script writer Wajahat Rauf unveil...   \n",
       "4  Complete address by Justice Asif Saeed Khosa o...   \n",
       "\n",
       "                           Author Publisher    News Category  \\\n",
       "0           Mohammad Hussain Khan      Dawn    Mental health   \n",
       "1  Sanaullah Khan | Javed Hussain      Dawn         Politics   \n",
       "2                  Sanaullah Khan      Dawn  Foreign Affairs   \n",
       "3                            dawn      Dawn    Entertainment   \n",
       "4                            dawn      Dawn        Judiciary   \n",
       "\n",
       "                                            Keywords  Label  \\\n",
       "0            Jamshoro, youth, suicide, mental health      1   \n",
       "1                         Islamabad, Sindh, PPP, ECL      1   \n",
       "2  Afghanistan, foreign affairs, Imran Khan, Ashr...      1   \n",
       "3  Mehwish Hayat, Enaaya, Azfar Rehman, Wajahat Rauf     -1   \n",
       "4  Islamabad, Asif Khosa, Supreme Court, Saqib Nisar      1   \n",
       "\n",
       "                                   tokenized_Content  \\\n",
       "0  ['thirdyear', 'mbbs', 'student', 'found', 'sho...   \n",
       "1  ['federal', 'cabinet', 'decided', 'remove', 'n...   \n",
       "2  ['afghan', 'president', 'ashraf', 'ghani', 'th...   \n",
       "3  ['director', 'script', 'writer', 'wajahat', 'r...   \n",
       "4  ['complete', 'address', 'justice', 'asif', 'sa...   \n",
       "\n",
       "                                  tokenized_Headline  \n",
       "0  ['mbbs', 'student', 'found', 'dead', 'hostel',...  \n",
       "1  ['govt', 'decides', 'remove', 'names', 'bilawa...  \n",
       "2  ['afghan', 'president', 'thanks', 'pm', 'khan'...  \n",
       "3  ['mehwish', 'hayat', 'acts', 'musical', 'dream...  \n",
       "4  ['complete', 'text', 'address', 'justice', 'as...  "
      ]
     },
     "execution_count": 33,
     "metadata": {},
     "output_type": "execute_result"
    }
   ],
   "source": [
    "data = pd.read_csv('Cleaned-Data/preprocessed.csv')\n",
    "data.head()"
   ]
  },
  {
   "cell_type": "markdown",
   "metadata": {},
   "source": [
    "TF: How frequently a term occurs in a document. Since every document is different in length, it is possible that a term would appear much more times in long documents than shorter ones. Thus, the term frequency is often divided by the document length (the total number of terms in the document) as a way of normalization: \n",
    "\n",
    "TF(t) = (Number of times term t appears in a document) / (Total number of terms in the document).\n",
    "\n",
    "IDF: Measures how important a term is. While computing TF, all terms are considered equally important. However it is known that certain terms, such as \"is\", \"of\", and \"that\", may appear a lot of times but have little importance. Thus we need to weigh down the frequent terms while scale up the rare ones, by computing the following: \n",
    "\n",
    "IDF(t) = log_e(Total number of documents / Number of documents with term t in it).\n",
    "\n",
    "- TFIDF = TF x TDF\n",
    "- Does not consider word ordering and context. \n",
    "- It is possible for two articles that are similar in their word counts to be totally different in their meaning."
   ]
  },
  {
   "cell_type": "code",
   "execution_count": 35,
   "metadata": {
    "ExecuteTime": {
     "end_time": "2019-02-10T09:11:09.778455Z",
     "start_time": "2019-02-10T09:11:08.644818Z"
    }
   },
   "outputs": [],
   "source": [
    "tdf = TfidfVectorizer(stop_words='english',ngram_range=(1,2))\n",
    "vectorizer = tdf.fit(data.tokenized_Content)\n",
    "transformed_text = vectorizer.transform(data.tokenized_Content)"
   ]
  },
  {
   "cell_type": "code",
   "execution_count": 36,
   "metadata": {
    "ExecuteTime": {
     "end_time": "2019-02-10T09:11:09.794423Z",
     "start_time": "2019-02-10T09:11:09.783943Z"
    }
   },
   "outputs": [
    {
     "data": {
      "text/plain": [
       "<224x63551 sparse matrix of type '<class 'numpy.float64'>'\n",
       "\twith 99917 stored elements in Compressed Sparse Row format>"
      ]
     },
     "execution_count": 36,
     "metadata": {},
     "output_type": "execute_result"
    }
   ],
   "source": [
    "transformed_text"
   ]
  },
  {
   "cell_type": "code",
   "execution_count": 37,
   "metadata": {
    "ExecuteTime": {
     "end_time": "2019-02-10T09:11:10.875601Z",
     "start_time": "2019-02-10T09:11:10.744353Z"
    }
   },
   "outputs": [
    {
     "data": {
      "text/plain": [
       "63551"
      ]
     },
     "execution_count": 37,
     "metadata": {},
     "output_type": "execute_result"
    }
   ],
   "source": [
    "# features created by TFIDF\n",
    "feature_names = tdf.get_feature_names()\n",
    "len(feature_names)"
   ]
  },
  {
   "cell_type": "code",
   "execution_count": 38,
   "metadata": {
    "ExecuteTime": {
     "end_time": "2019-02-10T09:11:12.077578Z",
     "start_time": "2019-02-10T09:11:12.070088Z"
    }
   },
   "outputs": [],
   "source": [
    "def tfidf_scores(feature_names):\n",
    "    \"Returns dictionary with term names and total tfidf scores for all terms in corpus\"\n",
    "# We take transpose so that for each word we can see the tfidf score acorss each row.\n",
    "#For total tfidf of one word we add all the values of that word across all the documents.\n",
    "#array is of size 398(number of rows in data)\n",
    "# For each term we are adding its 398 matrix\n",
    "    term_dict = {}\n",
    "    for i,term in enumerate(feature_names):\n",
    "        term_name = feature_names[i]\n",
    "        term_dict[term_name] = np.sum(transformed_text.T[i].toarray())   \n",
    "    return term_dict"
   ]
  },
  {
   "cell_type": "code",
   "execution_count": 39,
   "metadata": {
    "ExecuteTime": {
     "end_time": "2019-02-10T09:12:23.651712Z",
     "start_time": "2019-02-10T09:11:13.858422Z"
    }
   },
   "outputs": [],
   "source": [
    "term_dict = tfidf_scores(feature_names)"
   ]
  },
  {
   "cell_type": "code",
   "execution_count": 40,
   "metadata": {
    "ExecuteTime": {
     "end_time": "2019-02-10T09:12:23.675153Z",
     "start_time": "2019-02-10T09:12:23.656683Z"
    }
   },
   "outputs": [
    {
     "name": "stdout",
     "output_type": "stream",
     "text": [
      "Number of terms/keys are:  63551\n"
     ]
    }
   ],
   "source": [
    "print ('Number of terms/keys are: ',len(term_dict.keys()))"
   ]
  },
  {
   "cell_type": "code",
   "execution_count": 41,
   "metadata": {
    "ExecuteTime": {
     "end_time": "2019-02-10T09:12:23.908889Z",
     "start_time": "2019-02-10T09:12:23.679639Z"
    }
   },
   "outputs": [],
   "source": [
    "def sorted_tfidf_scores(term_dict):\n",
    "# [::-1] Gives the index in descending order.  \n",
    "    sort_index = np.argsort(list(term_dict.values()))[::-1]\n",
    "    terms = np.array(list(term_dict.keys()))\n",
    "    scores = np.array(list(term_dict.values()))\n",
    "    terms = terms[sort_index]\n",
    "    scores = scores[sort_index]\n",
    "    return terms, scores"
   ]
  },
  {
   "cell_type": "code",
   "execution_count": 42,
   "metadata": {
    "ExecuteTime": {
     "end_time": "2019-02-10T09:12:24.191996Z",
     "start_time": "2019-02-10T09:12:23.920367Z"
    }
   },
   "outputs": [],
   "source": [
    "terms, scores = sorted_tfidf_scores(term_dict)"
   ]
  },
  {
   "cell_type": "code",
   "execution_count": 43,
   "metadata": {
    "ExecuteTime": {
     "end_time": "2019-02-10T09:12:24.213455Z",
     "start_time": "2019-02-10T09:12:24.197985Z"
    }
   },
   "outputs": [],
   "source": [
    "\"Returns plot accordng to importance of top N terms/words\"\n",
    "def plot(scores,terms, words = 30):\n",
    "    fig = plt.figure(figsize = (20, 20))\n",
    "    override = {'fontsize': 'large'}\n",
    "    sb.barplot(x = scores[:words], y = terms[:words]);\n",
    "    plt.title(\"Importance of Top {0} Terms\".format(words),fontsize = 40)\n",
    "    plt.xlabel(\"TFIDF Score\",fontsize = 30)"
   ]
  },
  {
   "cell_type": "code",
   "execution_count": 44,
   "metadata": {
    "ExecuteTime": {
     "end_time": "2019-02-10T09:12:27.586299Z",
     "start_time": "2019-02-10T09:12:24.216948Z"
    }
   },
   "outputs": [
    {
     "data": {
      "image/png": "[encoded data removed]",
      "text/plain": [
       "<Figure size 1440x1440 with 1 Axes>"
      ]
     },
     "metadata": {
      "image/png": {
       "height": 1188,
       "width": 1212
      },
      "needs_background": "light"
     },
     "output_type": "display_data"
    }
   ],
   "source": [
    "plot(scores, terms, words = 30)"
   ]
  },
  {
   "cell_type": "markdown",
   "metadata": {},
   "source": [
    "We can see from the above plot that the most common news in the scope of our data is related to goverment,justice, police which comes under the category of politics."
   ]
  },
  {
   "cell_type": "markdown",
   "metadata": {},
   "source": [
    "- We can also use the headline length later as an input to the model for differentiating between the fake and real news. This can only be useful once we have enough data for all 3 classes which we dont' have yet.  "
   ]
  },
  {
   "cell_type": "code",
   "execution_count": 46,
   "metadata": {
    "ExecuteTime": {
     "end_time": "2019-02-10T09:14:37.759644Z",
     "start_time": "2019-02-10T09:14:37.706746Z"
    },
    "collapsed": true
   },
   "outputs": [
    {
     "data": {
      "text/html": [
       "<div>\n",
       "<style scoped>\n",
       "    .dataframe tbody tr th:only-of-type {\n",
       "        vertical-align: middle;\n",
       "    }\n",
       "\n",
       "    .dataframe tbody tr th {\n",
       "        vertical-align: top;\n",
       "    }\n",
       "\n",
       "    .dataframe thead th {\n",
       "        text-align: right;\n",
       "    }\n",
       "</style>\n",
       "<table border=\"1\" class=\"dataframe\">\n",
       "  <thead>\n",
       "    <tr style=\"text-align: right;\">\n",
       "      <th></th>\n",
       "      <th>News ID</th>\n",
       "      <th>URL</th>\n",
       "      <th>Headline</th>\n",
       "      <th>Date</th>\n",
       "      <th>Content</th>\n",
       "      <th>Author</th>\n",
       "      <th>Publisher</th>\n",
       "      <th>News Category</th>\n",
       "      <th>Keywords</th>\n",
       "      <th>Label</th>\n",
       "      <th>tokenized_Content</th>\n",
       "      <th>tokenized_Headline</th>\n",
       "      <th>Length</th>\n",
       "    </tr>\n",
       "  </thead>\n",
       "  <tbody>\n",
       "    <tr>\n",
       "      <th>0</th>\n",
       "      <td>0</td>\n",
       "      <td>https://www.dawn.com/news/1458127/mbbs-student...</td>\n",
       "      <td>MBBS student found dead in hostel room at Jams...</td>\n",
       "      <td>2019-01-17</td>\n",
       "      <td>A third-year MBBS student was found shot dead ...</td>\n",
       "      <td>Mohammad Hussain Khan</td>\n",
       "      <td>Dawn</td>\n",
       "      <td>Mental health</td>\n",
       "      <td>Jamshoro, youth, suicide, mental health</td>\n",
       "      <td>1</td>\n",
       "      <td>['thirdyear', 'mbbs', 'student', 'found', 'sho...</td>\n",
       "      <td>['mbbs', 'student', 'found', 'dead', 'hostel',...</td>\n",
       "      <td>73</td>\n",
       "    </tr>\n",
       "    <tr>\n",
       "      <th>1</th>\n",
       "      <td>1</td>\n",
       "      <td>https://www.dawn.com/news/1458129/govt-decides...</td>\n",
       "      <td>Govt decides to remove names of Bilawal, Murad...</td>\n",
       "      <td>2019-01-17</td>\n",
       "      <td>The federal cabinet has decided to remove the ...</td>\n",
       "      <td>Sanaullah Khan | Javed Hussain</td>\n",
       "      <td>Dawn</td>\n",
       "      <td>Politics</td>\n",
       "      <td>Islamabad, Sindh, PPP, ECL</td>\n",
       "      <td>1</td>\n",
       "      <td>['federal', 'cabinet', 'decided', 'remove', 'n...</td>\n",
       "      <td>['govt', 'decides', 'remove', 'names', 'bilawa...</td>\n",
       "      <td>59</td>\n",
       "    </tr>\n",
       "    <tr>\n",
       "      <th>2</th>\n",
       "      <td>2</td>\n",
       "      <td>https://www.dawn.com/news/1458125/afghan-presi...</td>\n",
       "      <td>Afghan president thanks PM Khan for Pakistan's...</td>\n",
       "      <td>2019-01-17</td>\n",
       "      <td>Afghan President Ashraf Ghani on Thursday tele...</td>\n",
       "      <td>Sanaullah Khan</td>\n",
       "      <td>Dawn</td>\n",
       "      <td>Foreign Affairs</td>\n",
       "      <td>Afghanistan, foreign affairs, Imran Khan, Ashr...</td>\n",
       "      <td>1</td>\n",
       "      <td>['afghan', 'president', 'ashraf', 'ghani', 'th...</td>\n",
       "      <td>['afghan', 'president', 'thanks', 'pm', 'khan'...</td>\n",
       "      <td>90</td>\n",
       "    </tr>\n",
       "    <tr>\n",
       "      <th>3</th>\n",
       "      <td>3</td>\n",
       "      <td>https://www.dawn.com/news/1458123/mehwish-haya...</td>\n",
       "      <td>Mehwish Hayat acts out her musical dreams in n...</td>\n",
       "      <td>2019-01-17</td>\n",
       "      <td>Director and script writer Wajahat Rauf unveil...</td>\n",
       "      <td>dawn</td>\n",
       "      <td>Dawn</td>\n",
       "      <td>Entertainment</td>\n",
       "      <td>Mehwish Hayat, Enaaya, Azfar Rehman, Wajahat Rauf</td>\n",
       "      <td>-1</td>\n",
       "      <td>['director', 'script', 'writer', 'wajahat', 'r...</td>\n",
       "      <td>['mehwish', 'hayat', 'acts', 'musical', 'dream...</td>\n",
       "      <td>71</td>\n",
       "    </tr>\n",
       "    <tr>\n",
       "      <th>4</th>\n",
       "      <td>4</td>\n",
       "      <td>https://www.dawn.com/news/1458118/complete-tex...</td>\n",
       "      <td>Complete text of address by Justice Asif Saeed...</td>\n",
       "      <td>2019-01-17</td>\n",
       "      <td>Complete address by Justice Asif Saeed Khosa o...</td>\n",
       "      <td>dawn</td>\n",
       "      <td>Dawn</td>\n",
       "      <td>Judiciary</td>\n",
       "      <td>Islamabad, Asif Khosa, Supreme Court, Saqib Nisar</td>\n",
       "      <td>1</td>\n",
       "      <td>['complete', 'address', 'justice', 'asif', 'sa...</td>\n",
       "      <td>['complete', 'text', 'address', 'justice', 'as...</td>\n",
       "      <td>94</td>\n",
       "    </tr>\n",
       "  </tbody>\n",
       "</table>\n",
       "</div>"
      ],
      "text/plain": [
       "   News ID                                                URL  \\\n",
       "0        0  https://www.dawn.com/news/1458127/mbbs-student...   \n",
       "1        1  https://www.dawn.com/news/1458129/govt-decides...   \n",
       "2        2  https://www.dawn.com/news/1458125/afghan-presi...   \n",
       "3        3  https://www.dawn.com/news/1458123/mehwish-haya...   \n",
       "4        4  https://www.dawn.com/news/1458118/complete-tex...   \n",
       "\n",
       "                                            Headline        Date  \\\n",
       "0  MBBS student found dead in hostel room at Jams...  2019-01-17   \n",
       "1  Govt decides to remove names of Bilawal, Murad...  2019-01-17   \n",
       "2  Afghan president thanks PM Khan for Pakistan's...  2019-01-17   \n",
       "3  Mehwish Hayat acts out her musical dreams in n...  2019-01-17   \n",
       "4  Complete text of address by Justice Asif Saeed...  2019-01-17   \n",
       "\n",
       "                                             Content  \\\n",
       "0  A third-year MBBS student was found shot dead ...   \n",
       "1  The federal cabinet has decided to remove the ...   \n",
       "2  Afghan President Ashraf Ghani on Thursday tele...   \n",
       "3  Director and script writer Wajahat Rauf unveil...   \n",
       "4  Complete address by Justice Asif Saeed Khosa o...   \n",
       "\n",
       "                           Author Publisher    News Category  \\\n",
       "0           Mohammad Hussain Khan      Dawn    Mental health   \n",
       "1  Sanaullah Khan | Javed Hussain      Dawn         Politics   \n",
       "2                  Sanaullah Khan      Dawn  Foreign Affairs   \n",
       "3                            dawn      Dawn    Entertainment   \n",
       "4                            dawn      Dawn        Judiciary   \n",
       "\n",
       "                                            Keywords  Label  \\\n",
       "0            Jamshoro, youth, suicide, mental health      1   \n",
       "1                         Islamabad, Sindh, PPP, ECL      1   \n",
       "2  Afghanistan, foreign affairs, Imran Khan, Ashr...      1   \n",
       "3  Mehwish Hayat, Enaaya, Azfar Rehman, Wajahat Rauf     -1   \n",
       "4  Islamabad, Asif Khosa, Supreme Court, Saqib Nisar      1   \n",
       "\n",
       "                                   tokenized_Content  \\\n",
       "0  ['thirdyear', 'mbbs', 'student', 'found', 'sho...   \n",
       "1  ['federal', 'cabinet', 'decided', 'remove', 'n...   \n",
       "2  ['afghan', 'president', 'ashraf', 'ghani', 'th...   \n",
       "3  ['director', 'script', 'writer', 'wajahat', 'r...   \n",
       "4  ['complete', 'address', 'justice', 'asif', 'sa...   \n",
       "\n",
       "                                  tokenized_Headline  Length  \n",
       "0  ['mbbs', 'student', 'found', 'dead', 'hostel',...      73  \n",
       "1  ['govt', 'decides', 'remove', 'names', 'bilawa...      59  \n",
       "2  ['afghan', 'president', 'thanks', 'pm', 'khan'...      90  \n",
       "3  ['mehwish', 'hayat', 'acts', 'musical', 'dream...      71  \n",
       "4  ['complete', 'text', 'address', 'justice', 'as...      94  "
      ]
     },
     "execution_count": 46,
     "metadata": {},
     "output_type": "execute_result"
    }
   ],
   "source": [
    "data['Length'] = [len(headline) for headline in data['Headline']]\n",
    "data.head()"
   ]
  },
  {
   "cell_type": "markdown",
   "metadata": {},
   "source": [
    "- From now onwards we will try to find the best model and features according to our data using exhaustive research."
   ]
  },
  {
   "cell_type": "markdown",
   "metadata": {},
   "source": [
    "### Grid Search \n",
    "- We perform grid search for all the models and features to find the best combination of model, features and hyperparameters."
   ]
  },
  {
   "cell_type": "markdown",
   "metadata": {},
   "source": [
    "#### Logistic Regression with TFIDF"
   ]
  },
  {
   "cell_type": "code",
   "execution_count": 47,
   "metadata": {
    "ExecuteTime": {
     "end_time": "2019-02-10T09:14:52.081841Z",
     "start_time": "2019-02-10T09:14:52.046909Z"
    }
   },
   "outputs": [
    {
     "name": "stdout",
     "output_type": "stream",
     "text": [
      "X_train (179,)\n",
      "X_test (45,)\n",
      "y_train (179,)\n",
      "y_test (45,)\n"
     ]
    }
   ],
   "source": [
    "X = data.tokenized_Content\n",
    "y = data['Label']\n",
    "X_train, X_test, y_train, y_test = train_test_split(X,y, test_size = 0.2, random_state=1234)\n",
    "print('X_train',X_train.shape)\n",
    "print('X_test',X_test.shape)\n",
    "print('y_train',y_train.shape)\n",
    "print('y_test',y_test.shape)"
   ]
  },
  {
   "cell_type": "code",
   "execution_count": 48,
   "metadata": {
    "ExecuteTime": {
     "end_time": "2019-02-10T09:15:00.605069Z",
     "start_time": "2019-02-10T09:15:00.596588Z"
    }
   },
   "outputs": [],
   "source": [
    "# max_df is used for removing terms that appear too frequently\n",
    "# max_df = 0.50 means \"ignore terms that appear in more than 50% of the documents\"\n",
    "# min_df is used for removing terms that appear too infrequently\n",
    "# min_df = 0.01 means \"ignore terms that appear in less than 1% of the documents\"\n",
    "parameters = {'lr__penalty': ('l1','l2'),'tfidf__ngram_range': [(1,1),(1,2),(1,3)],'tfidf__max_df': [0.65,0.75,0.85,0.90],\n",
    "             'tfidf__min_df': [0.001,0.01],'tfidf__stop_words': [ENGLISH_STOP_WORDS]}"
   ]
  },
  {
   "cell_type": "code",
   "execution_count": 49,
   "metadata": {
    "ExecuteTime": {
     "end_time": "2019-02-10T09:15:34.535479Z",
     "start_time": "2019-02-10T09:15:34.525996Z"
    }
   },
   "outputs": [],
   "source": [
    "text_clf = Pipeline([('tfidf', TfidfVectorizer()),('lr', LogisticRegression())])"
   ]
  },
  {
   "cell_type": "code",
   "execution_count": 50,
   "metadata": {
    "ExecuteTime": {
     "end_time": "2019-02-10T09:15:38.416062Z",
     "start_time": "2019-02-10T09:15:38.404083Z"
    }
   },
   "outputs": [
    {
     "data": {
      "text/plain": [
       "dict_keys(['memory', 'steps', 'tfidf', 'lr', 'tfidf__analyzer', 'tfidf__binary', 'tfidf__decode_error', 'tfidf__dtype', 'tfidf__encoding', 'tfidf__input', 'tfidf__lowercase', 'tfidf__max_df', 'tfidf__max_features', 'tfidf__min_df', 'tfidf__ngram_range', 'tfidf__norm', 'tfidf__preprocessor', 'tfidf__smooth_idf', 'tfidf__stop_words', 'tfidf__strip_accents', 'tfidf__sublinear_tf', 'tfidf__token_pattern', 'tfidf__tokenizer', 'tfidf__use_idf', 'tfidf__vocabulary', 'lr__C', 'lr__class_weight', 'lr__dual', 'lr__fit_intercept', 'lr__intercept_scaling', 'lr__max_iter', 'lr__multi_class', 'lr__n_jobs', 'lr__penalty', 'lr__random_state', 'lr__solver', 'lr__tol', 'lr__verbose', 'lr__warm_start'])"
      ]
     },
     "execution_count": 50,
     "metadata": {},
     "output_type": "execute_result"
    }
   ],
   "source": [
    "# These are the parameters we can put in the list for the model and features.\n",
    "text_clf.get_params().keys()"
   ]
  },
  {
   "cell_type": "code",
   "execution_count": 51,
   "metadata": {
    "ExecuteTime": {
     "end_time": "2019-02-10T09:16:27.364084Z",
     "start_time": "2019-02-10T09:15:41.185905Z"
    }
   },
   "outputs": [
    {
     "name": "stderr",
     "output_type": "stream",
     "text": [
      "C:\\Users\\tooba\\Anaconda3\\lib\\site-packages\\sklearn\\linear_model\\logistic.py:432: FutureWarning:\n",
      "\n",
      "Default solver will be changed to 'lbfgs' in 0.22. Specify a solver to silence this warning.\n",
      "\n",
      "C:\\Users\\tooba\\Anaconda3\\lib\\site-packages\\sklearn\\linear_model\\logistic.py:459: FutureWarning:\n",
      "\n",
      "Default multi_class will be changed to 'auto' in 0.22. Specify the multi_class option to silence this warning.\n",
      "\n"
     ]
    }
   ],
   "source": [
    "gs_lr = GridSearchCV(text_clf, parameters, cv=3, iid=False, n_jobs=-1)\n",
    "gs_lr = gs_lr.fit(X_train, y_train)\n",
    "predicted = gs_lr.predict(X_test)"
   ]
  },
  {
   "cell_type": "code",
   "execution_count": 52,
   "metadata": {
    "ExecuteTime": {
     "end_time": "2019-02-10T09:17:47.076165Z",
     "start_time": "2019-02-10T09:17:47.041231Z"
    }
   },
   "outputs": [
    {
     "name": "stdout",
     "output_type": "stream",
     "text": [
      "Logistig Regression: \n",
      "\n"
     ]
    },
    {
     "name": "stderr",
     "output_type": "stream",
     "text": [
      "C:\\Users\\tooba\\Anaconda3\\lib\\site-packages\\sklearn\\metrics\\classification.py:1143: UndefinedMetricWarning:\n",
      "\n",
      "F-score is ill-defined and being set to 0.0 in labels with no predicted samples.\n",
      "\n"
     ]
    },
    {
     "name": "stdout",
     "output_type": "stream",
     "text": [
      "F1 score 28.21%\n",
      "Accuracy score 73.33%\n",
      "\n",
      "\n",
      "MSE 0.4666666666666667\n"
     ]
    }
   ],
   "source": [
    "# Score only on the test set. NO CV\n",
    "print (\"Logistig Regression: \\n\")\n",
    "print ( \"F1 score {:.4}%\".format(f1_score(y_test, predicted, average='macro')*100 ) )\n",
    "print ( \"Accuracy score {:.4}%\\n\\n\".format(accuracy_score(y_test, predicted)*100) )\n",
    "error = mean_squared_error(y_test, predicted)\n",
    "print('MSE',error)"
   ]
  },
  {
   "cell_type": "code",
   "execution_count": 53,
   "metadata": {
    "ExecuteTime": {
     "end_time": "2019-02-10T09:18:08.462859Z",
     "start_time": "2019-02-10T09:18:08.437407Z"
    }
   },
   "outputs": [
    {
     "name": "stderr",
     "output_type": "stream",
     "text": [
      "C:\\Users\\tooba\\Anaconda3\\lib\\site-packages\\sklearn\\metrics\\classification.py:1143: UndefinedMetricWarning:\n",
      "\n",
      "Precision and F-score are ill-defined and being set to 0.0 in labels with no predicted samples.\n",
      "\n",
      "C:\\Users\\tooba\\Anaconda3\\lib\\site-packages\\sklearn\\metrics\\classification.py:1143: UndefinedMetricWarning:\n",
      "\n",
      "Precision and F-score are ill-defined and being set to 0.0 in labels with no predicted samples.\n",
      "\n",
      "C:\\Users\\tooba\\Anaconda3\\lib\\site-packages\\sklearn\\metrics\\classification.py:1143: UndefinedMetricWarning:\n",
      "\n",
      "Precision and F-score are ill-defined and being set to 0.0 in labels with no predicted samples.\n",
      "\n"
     ]
    },
    {
     "name": "stdout",
     "output_type": "stream",
     "text": [
      "              precision    recall  f1-score   support\n",
      "\n",
      "        Fake       0.00      0.00      0.00         3\n",
      "  Unverified       0.00      0.00      0.00         9\n",
      "        Real       0.73      1.00      0.85        33\n",
      "\n",
      "   micro avg       0.73      0.73      0.73        45\n",
      "   macro avg       0.24      0.33      0.28        45\n",
      "weighted avg       0.54      0.73      0.62        45\n",
      "\n"
     ]
    }
   ],
   "source": [
    "print(metrics.classification_report(y_test, predicted,target_names=['Fake','Unverified','Real']))"
   ]
  },
  {
   "cell_type": "code",
   "execution_count": 54,
   "metadata": {
    "ExecuteTime": {
     "end_time": "2019-02-10T09:18:22.598239Z",
     "start_time": "2019-02-10T09:18:22.569793Z"
    }
   },
   "outputs": [
    {
     "name": "stdout",
     "output_type": "stream",
     "text": [
      "Best score of LR on Cross Validation:  0.7207156308851225\n",
      "lr__penalty: 'l1'\n",
      "tfidf__max_df: 0.65\n",
      "tfidf__min_df: 0.001\n",
      "tfidf__ngram_range: (1, 1)\n",
      "tfidf__stop_words: frozenset({'too', 'though', 'anyway', 'becomes', 'everywhere', 'fifteen', 'much', 'noone', 'whatever', 'your', 'as', 'thence', 'himself', 'besides', 'been', 'itself', 'however', 'not', 'first', 'nothing', 'bottom', 'once', 'one', 'serious', 'amoungst', 'whereas', 'eg', 'should', 'so', 'throughout', 'for', 'former', 'than', 'top', 'cry', 'indeed', 'against', 'further', 'ours', 'above', 'find', 'part', 're', 'several', 'latter', 'show', 'third', 'if', 'seem', 'everyone', 'off', 'still', 'he', 'about', 'six', 'almost', 'whoever', 'with', 'across', 'most', 'behind', 'while', 'you', 'since', 'and', 'con', 'how', 'nobody', 'the', 'call', 'this', 'next', 'detail', 'nowhere', 'we', 'hence', 'which', 'she', 'thru', 'anything', 'that', 'his', 'per', 'side', 'among', 'anyone', 'myself', 'couldnt', 'each', 'upon', 'during', 'nevertheless', 'whether', 'except', 'until', 'an', 'keep', 'same', 'when', 'wherein', 'who', 'there', 'perhaps', 'became', 'before', 'therein', 'de', 'whenever', 'had', 'hasnt', 'other', 'thereafter', 'around', 'have', 'already', 'well', 'found', 'latterly', 'thereby', 'sometime', 'without', 'they', 'was', 'please', 'what', 'elsewhere', 'inc', 'might', 'hundred', 'mine', 'into', 'both', 'mill', 'on', 'somehow', 'everything', 'down', 'themselves', 'amount', 'un', 'of', 'only', 'some', 'eight', 'always', 'meanwhile', 'own', 'ten', 'get', 'nine', 'out', 'less', 'such', 'sixty', 'fill', 'is', 'full', 'ie', 'many', 'else', 'yet', 'below', 'along', 'least', 'any', 'another', 'made', 'may', 'none', 'few', 'seemed', 'sincere', 'then', 'onto', 'from', 'see', 'although', 'but', 'front', 'someone', 'system', 'rather', 'them', 'anywhere', 'do', 'etc', 'fifty', 'beyond', 'namely', 'describe', 'sometimes', 'empty', 'more', 'whence', 'due', 'every', 'very', 'wherever', 'to', 'me', 'because', 'name', 'would', 'yourself', 'forty', 'beforehand', 'cannot', 'whole', 'nor', 'mostly', 'yourselves', 'bill', 'enough', 'these', 'go', 'no', 'eleven', 'becoming', 'a', 'whereby', 'am', 'can', 'ourselves', 'herself', 'put', 'her', 'via', 'give', 'twenty', 'either', 'moreover', 'under', 'never', 'ltd', 'herein', 'over', 'interest', 'ever', 'also', 'in', 'us', 'others', 'by', 'their', 'could', 'anyhow', 'must', 'will', 'formerly', 'him', 'thin', 'something', 'toward', 'all', 'are', 'whom', 'where', 'often', 'four', 'whose', 'thereupon', 'between', 'two', 'back', 'were', 'amongst', 'five', 'be', 'thick', 'together', 'seeming', 'become', 'therefore', 'last', 'hereby', 'cant', 'whereupon', 'alone', 'co', 'up', 'yours', 'those', 'move', 'my', 'within', 'now', 'neither', 'here', 'our', 'its', 'otherwise', 'three', 'it', 'again', 'or', 'after', 'even', 'take', 'towards', 'at', 'hereupon', 'through', 'why', 'seems', 'whither', 'done', 'being', 'fire', 'hereafter', 'beside', 'thus', 'twelve', 'whereafter', 'has', 'i', 'hers', 'afterwards', 'somewhere'})\n"
     ]
    }
   ],
   "source": [
    "# print(gs_svm.score(X_test, y_test))\n",
    "# Mean score  on CV\n",
    "print('Best score of LR on Cross Validation: ',gs_lr.best_score_)\n",
    "for param_name in sorted(parameters.keys()):\n",
    "    print(\"%s: %r\" % (param_name, gs_lr.best_params_[param_name]))"
   ]
  },
  {
   "cell_type": "markdown",
   "metadata": {},
   "source": [
    "- The best accuracy score we can get using Logistic regression for the cross validated data set is 72%"
   ]
  },
  {
   "cell_type": "markdown",
   "metadata": {},
   "source": [
    "####  SVM with TFIDF"
   ]
  },
  {
   "cell_type": "code",
   "execution_count": 55,
   "metadata": {
    "ExecuteTime": {
     "end_time": "2019-02-10T09:20:47.041884Z",
     "start_time": "2019-02-10T09:20:47.009447Z"
    }
   },
   "outputs": [
    {
     "name": "stdout",
     "output_type": "stream",
     "text": [
      "X_train (179,)\n",
      "X_test (45,)\n",
      "y_train (179,)\n",
      "y_test (45,)\n"
     ]
    }
   ],
   "source": [
    "X = data.tokenized_Content\n",
    "y = data['Label']\n",
    "X_train, X_test, y_train, y_test = train_test_split(X,y, test_size = 0.2, random_state=1234)\n",
    "print('X_train',X_train.shape)\n",
    "print('X_test',X_test.shape)\n",
    "print('y_train',y_train.shape)\n",
    "print('y_test',y_test.shape)"
   ]
  },
  {
   "cell_type": "code",
   "execution_count": 56,
   "metadata": {
    "ExecuteTime": {
     "end_time": "2019-02-10T09:20:52.703932Z",
     "start_time": "2019-02-10T09:20:52.697446Z"
    }
   },
   "outputs": [],
   "source": [
    "text_clf = Pipeline([('tfidf', TfidfVectorizer()),('svm', SGDClassifier())])"
   ]
  },
  {
   "cell_type": "code",
   "execution_count": 57,
   "metadata": {
    "ExecuteTime": {
     "end_time": "2019-02-10T09:20:54.194921Z",
     "start_time": "2019-02-10T09:20:54.183943Z"
    }
   },
   "outputs": [],
   "source": [
    "parameters = {'svm__penalty': ('l1','l2'),'svm__alpha': (1e-2, 1e-3),\n",
    "              'svm__loss': ('hinge','squared_hinge'),'tfidf__ngram_range': [(1,1),(1,2),(1,3)],\n",
    "             'tfidf__max_df': [0.65,0.75,0.85,0.90],'tfidf__min_df': [0.001,0.01],'tfidf__stop_words': [ENGLISH_STOP_WORDS]}"
   ]
  },
  {
   "cell_type": "code",
   "execution_count": 58,
   "metadata": {
    "ExecuteTime": {
     "end_time": "2019-02-10T09:24:00.620559Z",
     "start_time": "2019-02-10T09:20:57.726882Z"
    }
   },
   "outputs": [
    {
     "name": "stderr",
     "output_type": "stream",
     "text": [
      "C:\\Users\\tooba\\Anaconda3\\lib\\site-packages\\sklearn\\linear_model\\stochastic_gradient.py:144: FutureWarning:\n",
      "\n",
      "max_iter and tol parameters have been added in SGDClassifier in 0.19. If both are left unset, they default to max_iter=5 and tol=None. If tol is not None, max_iter defaults to max_iter=1000. From 0.21, default max_iter will be 1000, and default tol will be 1e-3.\n",
      "\n"
     ]
    }
   ],
   "source": [
    "# Using cross validation\n",
    "# refit = True, that takes the model with the best performance based on cross-validation and retrains it in the whole dataset\n",
    "gs_svm = GridSearchCV(text_clf, parameters, cv=3, iid=False, n_jobs=-1)\n",
    "gs_svm = gs_svm.fit(X_train, y_train)\n",
    "predicted = gs_svm.predict(X_test)"
   ]
  },
  {
   "cell_type": "code",
   "execution_count": 59,
   "metadata": {
    "ExecuteTime": {
     "end_time": "2019-02-10T09:26:49.502212Z",
     "start_time": "2019-02-10T09:26:49.475766Z"
    }
   },
   "outputs": [
    {
     "name": "stdout",
     "output_type": "stream",
     "text": [
      "LINEAR SVM: \n",
      "\n",
      "F1 score 33.06%\n",
      "Accuracy score 60.0%\n",
      "\n",
      "\n",
      "MSE 0.6\n"
     ]
    }
   ],
   "source": [
    "# ONLY ON TEST SET\n",
    "print (\"LINEAR SVM: \\n\")\n",
    "print ( \"F1 score {:.4}%\".format(f1_score(y_test, predicted, average='macro')*100 ) )\n",
    "print ( \"Accuracy score {:.4}%\\n\\n\".format(accuracy_score(y_test, predicted)*100) )\n",
    "error = mean_squared_error(y_test, predicted)\n",
    "print('MSE',error)"
   ]
  },
  {
   "cell_type": "code",
   "execution_count": 60,
   "metadata": {
    "ExecuteTime": {
     "end_time": "2019-02-10T09:26:53.904482Z",
     "start_time": "2019-02-10T09:26:53.883025Z"
    }
   },
   "outputs": [
    {
     "name": "stdout",
     "output_type": "stream",
     "text": [
      "              precision    recall  f1-score   support\n",
      "\n",
      "        Fake       0.00      0.00      0.00         3\n",
      "  Unverified       0.20      0.22      0.21         9\n",
      "        Real       0.81      0.76      0.78        33\n",
      "\n",
      "   micro avg       0.60      0.60      0.60        45\n",
      "   macro avg       0.34      0.33      0.33        45\n",
      "weighted avg       0.63      0.60      0.62        45\n",
      "\n"
     ]
    }
   ],
   "source": [
    "print(metrics.classification_report(y_test, predicted,target_names=['Fake','Unverified','Real']))"
   ]
  },
  {
   "cell_type": "code",
   "execution_count": 61,
   "metadata": {
    "ExecuteTime": {
     "end_time": "2019-02-10T09:27:09.135585Z",
     "start_time": "2019-02-10T09:27:09.106138Z"
    }
   },
   "outputs": [
    {
     "name": "stdout",
     "output_type": "stream",
     "text": [
      "Best Accuracy score for Linear SVM on cross validated:  0.732015065913371\n",
      "svm__alpha: 0.001\n",
      "svm__loss: 'squared_hinge'\n",
      "svm__penalty: 'l1'\n",
      "tfidf__max_df: 0.9\n",
      "tfidf__min_df: 0.01\n",
      "tfidf__ngram_range: (1, 1)\n",
      "tfidf__stop_words: frozenset({'too', 'though', 'anyway', 'becomes', 'everywhere', 'fifteen', 'much', 'noone', 'whatever', 'your', 'as', 'thence', 'himself', 'besides', 'been', 'itself', 'however', 'not', 'first', 'nothing', 'bottom', 'once', 'one', 'serious', 'amoungst', 'whereas', 'eg', 'should', 'so', 'throughout', 'for', 'former', 'than', 'top', 'cry', 'indeed', 'against', 'further', 'ours', 'above', 'find', 'part', 're', 'several', 'latter', 'show', 'third', 'if', 'seem', 'everyone', 'off', 'still', 'he', 'about', 'six', 'almost', 'whoever', 'with', 'across', 'most', 'behind', 'while', 'you', 'since', 'and', 'con', 'how', 'nobody', 'the', 'call', 'this', 'next', 'detail', 'nowhere', 'we', 'hence', 'which', 'she', 'thru', 'anything', 'that', 'his', 'per', 'side', 'among', 'anyone', 'myself', 'couldnt', 'each', 'upon', 'during', 'nevertheless', 'whether', 'except', 'until', 'an', 'keep', 'same', 'when', 'wherein', 'who', 'there', 'perhaps', 'became', 'before', 'therein', 'de', 'whenever', 'had', 'hasnt', 'other', 'thereafter', 'around', 'have', 'already', 'well', 'found', 'latterly', 'thereby', 'sometime', 'without', 'they', 'was', 'please', 'what', 'elsewhere', 'inc', 'might', 'hundred', 'mine', 'into', 'both', 'mill', 'on', 'somehow', 'everything', 'down', 'themselves', 'amount', 'un', 'of', 'only', 'some', 'eight', 'always', 'meanwhile', 'own', 'ten', 'get', 'nine', 'out', 'less', 'such', 'sixty', 'fill', 'is', 'full', 'ie', 'many', 'else', 'yet', 'below', 'along', 'least', 'any', 'another', 'made', 'may', 'none', 'few', 'seemed', 'sincere', 'then', 'onto', 'from', 'see', 'although', 'but', 'front', 'someone', 'system', 'rather', 'them', 'anywhere', 'do', 'etc', 'fifty', 'beyond', 'namely', 'describe', 'sometimes', 'empty', 'more', 'whence', 'due', 'every', 'very', 'wherever', 'to', 'me', 'because', 'name', 'would', 'yourself', 'forty', 'beforehand', 'cannot', 'whole', 'nor', 'mostly', 'yourselves', 'bill', 'enough', 'these', 'go', 'no', 'eleven', 'becoming', 'a', 'whereby', 'am', 'can', 'ourselves', 'herself', 'put', 'her', 'via', 'give', 'twenty', 'either', 'moreover', 'under', 'never', 'ltd', 'herein', 'over', 'interest', 'ever', 'also', 'in', 'us', 'others', 'by', 'their', 'could', 'anyhow', 'must', 'will', 'formerly', 'him', 'thin', 'something', 'toward', 'all', 'are', 'whom', 'where', 'often', 'four', 'whose', 'thereupon', 'between', 'two', 'back', 'were', 'amongst', 'five', 'be', 'thick', 'together', 'seeming', 'become', 'therefore', 'last', 'hereby', 'cant', 'whereupon', 'alone', 'co', 'up', 'yours', 'those', 'move', 'my', 'within', 'now', 'neither', 'here', 'our', 'its', 'otherwise', 'three', 'it', 'again', 'or', 'after', 'even', 'take', 'towards', 'at', 'hereupon', 'through', 'why', 'seems', 'whither', 'done', 'being', 'fire', 'hereafter', 'beside', 'thus', 'twelve', 'whereafter', 'has', 'i', 'hers', 'afterwards', 'somewhere'})\n"
     ]
    }
   ],
   "source": [
    "# Mean cross-validated score of the best_estimator\n",
    "#best mean score\n",
    "print('Best Accuracy score for Linear SVM on cross validated: ',gs_svm.best_score_)\n",
    "for param_name in sorted(parameters.keys()):\n",
    "    print(\"%s: %r\" % (param_name, gs_svm.best_params_[param_name]))"
   ]
  },
  {
   "cell_type": "markdown",
   "metadata": {},
   "source": [
    "- The best accuracy score we can get using Linear SVM for the cross validated data set is 73.2%"
   ]
  },
  {
   "cell_type": "markdown",
   "metadata": {},
   "source": [
    "#### Comparison between Logistic Regression and Linear SVM Grid Search\n",
    "- The best accuracy score LR is 72% while for Linear SVM it is 73.2% on the cross validation data-sets.\n",
    "- The accuracy score on the test data set(20% data) is 73.3% for LR while it is 60% for SVM (fluctuates)\n",
    "- The f1 score for SVM(33.06)(flutates) is much better than LR(28.01). However, since both false positives and false negatives have the same cost for our problem so we are looking only at the improvement of the accuracy score."
   ]
  },
  {
   "cell_type": "markdown",
   "metadata": {},
   "source": [
    "#### Experiment 1 : Best model for Logistic Regression with TFIDF\n",
    "- Text to Features: TFIDF using the article content (Try different n grams)\n",
    "- Classification Model: Logistic Regression (Different penalties)\n",
    "- Check different metrics and ROC curve. Confusion matrix.\n"
   ]
  },
  {
   "cell_type": "code",
   "execution_count": 62,
   "metadata": {
    "ExecuteTime": {
     "end_time": "2019-02-10T09:30:15.363356Z",
     "start_time": "2019-02-10T09:30:15.354871Z"
    }
   },
   "outputs": [],
   "source": [
    "X = data.tokenized_Content\n",
    "y = data['Label']"
   ]
  },
  {
   "cell_type": "code",
   "execution_count": 71,
   "metadata": {
    "ExecuteTime": {
     "end_time": "2019-02-10T09:34:19.299665Z",
     "start_time": "2019-02-10T09:34:18.928370Z"
    }
   },
   "outputs": [],
   "source": [
    "tdf = TfidfVectorizer(stop_words=ENGLISH_STOP_WORDS,ngram_range=(1,1),max_df =0.65,min_df=0.001)\n",
    "vectorizer = tdf.fit(X)\n",
    "transformed_text = vectorizer.transform(X)"
   ]
  },
  {
   "cell_type": "code",
   "execution_count": 72,
   "metadata": {
    "ExecuteTime": {
     "end_time": "2019-02-10T09:34:21.480223Z",
     "start_time": "2019-02-10T09:34:21.444294Z"
    }
   },
   "outputs": [
    {
     "name": "stdout",
     "output_type": "stream",
     "text": [
      "X_train (179, 3530)\n",
      "X_test (45, 3530)\n",
      "y_train (179,)\n",
      "y_test (45,)\n"
     ]
    }
   ],
   "source": [
    "X_train, X_test, y_train, y_test = train_test_split(transformed_text,y, test_size = 0.2, random_state=1234)\n",
    "print('X_train',X_train.shape)\n",
    "print('X_test',X_test.shape)\n",
    "print('y_train',y_train.shape)\n",
    "print('y_test',y_test.shape)"
   ]
  },
  {
   "cell_type": "code",
   "execution_count": 65,
   "metadata": {
    "ExecuteTime": {
     "end_time": "2019-02-10T09:30:55.500292Z",
     "start_time": "2019-02-10T09:30:55.493806Z"
    }
   },
   "outputs": [],
   "source": [
    "lr = LogisticRegression(penalty='l1')"
   ]
  },
  {
   "cell_type": "code",
   "execution_count": 66,
   "metadata": {
    "ExecuteTime": {
     "end_time": "2019-02-10T09:30:56.563664Z",
     "start_time": "2019-02-10T09:30:56.525237Z"
    }
   },
   "outputs": [
    {
     "name": "stderr",
     "output_type": "stream",
     "text": [
      "C:\\Users\\tooba\\Anaconda3\\lib\\site-packages\\sklearn\\linear_model\\logistic.py:432: FutureWarning:\n",
      "\n",
      "Default solver will be changed to 'lbfgs' in 0.22. Specify a solver to silence this warning.\n",
      "\n",
      "C:\\Users\\tooba\\Anaconda3\\lib\\site-packages\\sklearn\\linear_model\\logistic.py:459: FutureWarning:\n",
      "\n",
      "Default multi_class will be changed to 'auto' in 0.22. Specify the multi_class option to silence this warning.\n",
      "\n"
     ]
    }
   ],
   "source": [
    "lr.fit(X_train, y_train)\n",
    "prediction = lr.predict(X_test)"
   ]
  },
  {
   "cell_type": "code",
   "execution_count": 67,
   "metadata": {
    "ExecuteTime": {
     "end_time": "2019-02-10T09:31:02.844241Z",
     "start_time": "2019-02-10T09:31:02.739440Z"
    }
   },
   "outputs": [
    {
     "name": "stderr",
     "output_type": "stream",
     "text": [
      "C:\\Users\\tooba\\Anaconda3\\lib\\site-packages\\sklearn\\linear_model\\logistic.py:432: FutureWarning:\n",
      "\n",
      "Default solver will be changed to 'lbfgs' in 0.22. Specify a solver to silence this warning.\n",
      "\n",
      "C:\\Users\\tooba\\Anaconda3\\lib\\site-packages\\sklearn\\linear_model\\logistic.py:459: FutureWarning:\n",
      "\n",
      "Default multi_class will be changed to 'auto' in 0.22. Specify the multi_class option to silence this warning.\n",
      "\n"
     ]
    },
    {
     "name": "stdout",
     "output_type": "stream",
     "text": [
      "[0.72       0.72       0.72972973]\n"
     ]
    }
   ],
   "source": [
    "# 3 cross validation scores\n",
    "print(cross_val_score(lr, transformed_text, y, cv=3)) "
   ]
  },
  {
   "cell_type": "code",
   "execution_count": 68,
   "metadata": {
    "ExecuteTime": {
     "end_time": "2019-02-10T09:31:13.225843Z",
     "start_time": "2019-02-10T09:31:13.199892Z"
    }
   },
   "outputs": [
    {
     "name": "stdout",
     "output_type": "stream",
     "text": [
      "Logistig Regression F1 and Accuracy Scores : \n",
      "\n"
     ]
    },
    {
     "name": "stderr",
     "output_type": "stream",
     "text": [
      "C:\\Users\\tooba\\Anaconda3\\lib\\site-packages\\sklearn\\metrics\\classification.py:1143: UndefinedMetricWarning:\n",
      "\n",
      "F-score is ill-defined and being set to 0.0 in labels with no predicted samples.\n",
      "\n"
     ]
    },
    {
     "name": "stdout",
     "output_type": "stream",
     "text": [
      "F1 score 28.21%\n",
      "Accuracy score 73.33%\n"
     ]
    }
   ],
   "source": [
    "# print metrics\n",
    "print (\"Logistig Regression F1 and Accuracy Scores : \\n\")\n",
    "print ( \"F1 score {:.4}%\".format( f1_score(y_test, prediction , average='macro')*100 ) )\n",
    "print ( \"Accuracy score {:.4}%\".format(accuracy_score(y_test, prediction)*100) )"
   ]
  },
  {
   "cell_type": "code",
   "execution_count": 69,
   "metadata": {
    "ExecuteTime": {
     "end_time": "2019-02-10T09:31:53.290403Z",
     "start_time": "2019-02-10T09:31:22.299773Z"
    }
   },
   "outputs": [
    {
     "data": {
      "image/png": "[encoded data removed]",
      "text/plain": [
       "<Figure size 432x288 with 1 Axes>"
      ]
     },
     "metadata": {
      "image/png": {
       "height": 279,
       "width": 422
      },
      "needs_background": "light"
     },
     "output_type": "display_data"
    }
   ],
   "source": [
    "# TAKEN FROM SKLEARN\n",
    "# Create CV training and test scores for various training set sizes\n",
    "train_sizes, train_scores, test_scores = learning_curve(lr, \n",
    "                                                        transformed_text, \n",
    "                                                        y,\n",
    "                                                        # Number of folds in cross-validation\n",
    "                                                        cv=3,\n",
    "                                                        # Evaluation metric\n",
    "                                                        scoring='accuracy',\n",
    "                                                        # Use all computer cores\n",
    "                                                        n_jobs=-1, \n",
    "                                                        # 50 different sizes of the training set\n",
    "                                                        train_sizes=(50,70,100))\n",
    "\n",
    "# Create means and standard deviations of training set scores\n",
    "train_mean = np.mean(train_scores, axis=1)\n",
    "train_std = np.std(train_scores, axis=1)\n",
    "\n",
    "# Create means and standard deviations of test set scores\n",
    "test_mean = np.mean(test_scores, axis=1)\n",
    "test_std = np.std(test_scores, axis=1)\n",
    "\n",
    "# Draw lines\n",
    "plt.plot(train_sizes, train_mean, '--', color=\"#111111\",  label=\"Training score\")\n",
    "plt.plot(train_sizes, test_mean, color=\"#111111\", label=\"Cross-validation score\")\n",
    "\n",
    "# Draw bands\n",
    "plt.fill_between(train_sizes, train_mean - train_std, train_mean + train_std, color=\"#DDDDDD\")\n",
    "plt.fill_between(train_sizes, test_mean - test_std, test_mean + test_std, color=\"#DDDDDD\")\n",
    "\n",
    "# Create plot\n",
    "plt.title(\"Learning Curve for Logistic Regression\")\n",
    "plt.xlabel(\"Training Set Size\"), plt.ylabel(\"Accuracy Score\"), plt.legend(loc=\"best\")\n",
    "plt.tight_layout()\n",
    "plt.show()\n"
   ]
  },
  {
   "cell_type": "markdown",
   "metadata": {},
   "source": [
    "#### Experiment 1 : Best model for SVM with TFIDF\n",
    "- Text to Features: TFIDF using the article content\n",
    "- Classification Model: SVM "
   ]
  },
  {
   "cell_type": "markdown",
   "metadata": {},
   "source": [
    "- Precision talks about how precise/accurate your model is out of those predicted positive, how many of them are actual positive. Should be the metric when there os a high cost associated with False Positive.\n",
    "- Recall actually calculates how many of the Actual Positives our model capture through labeling it as Positive (True Positive). Recall shall be the model metric we use to select our best model when there is a high cost associated with False Negative.\n",
    "- For our model both of them are equally important.\n",
    "- F1 Score is the weighted average of Precision and Recall. Therefore, this score takes both false positives and false negatives into account. F1 is more useful than accuracy especially if you have an uneven class distribution. Accuracy works best if false positives and false negatives have similar cost. If the cost of false positives and false negatives are very different, it’s better to look at both Precision and Recall. \n",
    "- F1 Score = 2*(Recall * Precision) / (Recall + Precision)"
   ]
  },
  {
   "cell_type": "code",
   "execution_count": 82,
   "metadata": {
    "ExecuteTime": {
     "end_time": "2019-02-10T09:37:42.415577Z",
     "start_time": "2019-02-10T09:37:42.409089Z"
    }
   },
   "outputs": [],
   "source": [
    "X = data.tokenized_Content\n",
    "y = data['Label']"
   ]
  },
  {
   "cell_type": "code",
   "execution_count": 83,
   "metadata": {
    "ExecuteTime": {
     "end_time": "2019-02-10T09:37:43.188063Z",
     "start_time": "2019-02-10T09:37:42.776347Z"
    }
   },
   "outputs": [],
   "source": [
    "tdf = TfidfVectorizer(stop_words=ENGLISH_STOP_WORDS,ngram_range=(1,1),max_df =0.9,min_df=0.01)\n",
    "vectorizer = tdf.fit(X)\n",
    "transformed_text = vectorizer.transform(X)"
   ]
  },
  {
   "cell_type": "code",
   "execution_count": 84,
   "metadata": {
    "ExecuteTime": {
     "end_time": "2019-02-10T09:37:43.231983Z",
     "start_time": "2019-02-10T09:37:43.194552Z"
    }
   },
   "outputs": [
    {
     "name": "stdout",
     "output_type": "stream",
     "text": [
      "X_train (179, 3530)\n",
      "X_test (45, 3530)\n",
      "y_train (179,)\n",
      "y_test (45,)\n"
     ]
    }
   ],
   "source": [
    "X_train, X_test, y_train, y_test = train_test_split(transformed_text,y, test_size = 0.2, random_state=1234)\n",
    "print('X_train',X_train.shape)\n",
    "print('X_test',X_test.shape)\n",
    "print('y_train',y_train.shape)\n",
    "print('y_test',y_test.shape)"
   ]
  },
  {
   "cell_type": "code",
   "execution_count": 85,
   "metadata": {
    "ExecuteTime": {
     "end_time": "2019-02-10T09:37:43.467400Z",
     "start_time": "2019-02-10T09:37:43.461914Z"
    }
   },
   "outputs": [],
   "source": [
    "svm = SGDClassifier(alpha= 0.001,loss ='squared_hinge',penalty='l1')"
   ]
  },
  {
   "cell_type": "code",
   "execution_count": 86,
   "metadata": {
    "ExecuteTime": {
     "end_time": "2019-02-10T09:37:43.937025Z",
     "start_time": "2019-02-10T09:37:43.915564Z"
    }
   },
   "outputs": [
    {
     "name": "stderr",
     "output_type": "stream",
     "text": [
      "C:\\Users\\tooba\\Anaconda3\\lib\\site-packages\\sklearn\\linear_model\\stochastic_gradient.py:144: FutureWarning:\n",
      "\n",
      "max_iter and tol parameters have been added in SGDClassifier in 0.19. If both are left unset, they default to max_iter=5 and tol=None. If tol is not None, max_iter defaults to max_iter=1000. From 0.21, default max_iter will be 1000, and default tol will be 1e-3.\n",
      "\n"
     ]
    }
   ],
   "source": [
    "svm.fit(X_train, y_train)\n",
    "prediction = svm.predict(X_test)"
   ]
  },
  {
   "cell_type": "code",
   "execution_count": 87,
   "metadata": {
    "ExecuteTime": {
     "end_time": "2019-02-10T09:37:44.486966Z",
     "start_time": "2019-02-10T09:37:44.433067Z"
    }
   },
   "outputs": [
    {
     "name": "stderr",
     "output_type": "stream",
     "text": [
      "C:\\Users\\tooba\\Anaconda3\\lib\\site-packages\\sklearn\\linear_model\\stochastic_gradient.py:144: FutureWarning:\n",
      "\n",
      "max_iter and tol parameters have been added in SGDClassifier in 0.19. If both are left unset, they default to max_iter=5 and tol=None. If tol is not None, max_iter defaults to max_iter=1000. From 0.21, default max_iter will be 1000, and default tol will be 1e-3.\n",
      "\n"
     ]
    },
    {
     "name": "stdout",
     "output_type": "stream",
     "text": [
      "[0.65333333 0.76       0.75675676]\n"
     ]
    }
   ],
   "source": [
    "# 3 cross validation scores\n",
    "print(cross_val_score(svm, transformed_text, y, cv=3)) "
   ]
  },
  {
   "cell_type": "code",
   "execution_count": 88,
   "metadata": {
    "ExecuteTime": {
     "end_time": "2019-02-10T09:37:45.234070Z",
     "start_time": "2019-02-10T09:37:45.204627Z"
    }
   },
   "outputs": [
    {
     "name": "stdout",
     "output_type": "stream",
     "text": [
      "SVM F1 and Accuracy Scores : \n",
      "\n",
      "F1 score 51.44%\n",
      "Accuracy score 66.67%\n",
      "MSE 0.8\n"
     ]
    }
   ],
   "source": [
    "# print metrics\n",
    "print (\"SVM F1 and Accuracy Scores : \\n\")\n",
    "print ( \"F1 score {:.4}%\".format( f1_score(y_test, prediction , average='macro')*100 ) )\n",
    "print ( \"Accuracy score {:.4}%\".format(accuracy_score(y_test, prediction)*100) )\n",
    "error = mean_squared_error(y_test, prediction)\n",
    "print('MSE',error)"
   ]
  },
  {
   "cell_type": "markdown",
   "metadata": {},
   "source": [
    "- The value of the accuracy score and F1 score fluctuates alot for this even after Gridsearch. The best idea would be to go with the cross validated scores."
   ]
  },
  {
   "cell_type": "code",
   "execution_count": 89,
   "metadata": {
    "ExecuteTime": {
     "end_time": "2019-02-10T09:37:50.138639Z",
     "start_time": "2019-02-10T09:37:50.115184Z"
    }
   },
   "outputs": [
    {
     "name": "stdout",
     "output_type": "stream",
     "text": [
      "              precision    recall  f1-score   support\n",
      "\n",
      "        Fake       0.22      0.67      0.33         3\n",
      "  Unverified       0.60      0.33      0.43         9\n",
      "        Real       0.81      0.76      0.78        33\n",
      "\n",
      "   micro avg       0.67      0.67      0.67        45\n",
      "   macro avg       0.54      0.59      0.51        45\n",
      "weighted avg       0.73      0.67      0.68        45\n",
      "\n"
     ]
    }
   ],
   "source": [
    "print(metrics.classification_report(y_test, prediction,target_names=['Fake','Unverified','Real']))"
   ]
  },
  {
   "cell_type": "markdown",
   "metadata": {},
   "source": [
    " - We plot a learning curve to show the relationship of the training score vs the cross validated test score for an estimator with a varying number of training samples."
   ]
  },
  {
   "cell_type": "code",
   "execution_count": 90,
   "metadata": {
    "ExecuteTime": {
     "end_time": "2019-02-10T09:37:59.944974Z",
     "start_time": "2019-02-10T09:37:51.869451Z"
    }
   },
   "outputs": [
    {
     "data": {
      "image/png": "[encoded data removed]",
      "text/plain": [
       "<Figure size 432x288 with 1 Axes>"
      ]
     },
     "metadata": {
      "image/png": {
       "height": 279,
       "width": 422
      },
      "needs_background": "light"
     },
     "output_type": "display_data"
    }
   ],
   "source": [
    "# TAKEN FROM SKLEARN\n",
    "# Create CV training and test scores for various training set sizes\n",
    "train_sizes, train_scores, test_scores = learning_curve(svm, \n",
    "                                                        transformed_text, \n",
    "                                                        y,\n",
    "                                                        # Number of folds in cross-validation\n",
    "                                                        cv=3,\n",
    "                                                        # Evaluation metric\n",
    "                                                        scoring='accuracy',\n",
    "                                                        # Use all computer cores\n",
    "                                                        n_jobs=-1, \n",
    "                                                        # 50 different sizes of the training set\n",
    "                                                        train_sizes=(50,70,100))\n",
    "\n",
    "# Create means and standard deviations of training set scores\n",
    "train_mean = np.mean(train_scores, axis=1)\n",
    "train_std = np.std(train_scores, axis=1)\n",
    "\n",
    "# Create means and standard deviations of test set scores\n",
    "test_mean = np.mean(test_scores, axis=1)\n",
    "test_std = np.std(test_scores, axis=1)\n",
    "\n",
    "# Draw lines\n",
    "plt.plot(train_sizes, train_mean, '--', color=\"#111111\",  label=\"Training score\")\n",
    "plt.plot(train_sizes, test_mean, color=\"#111111\", label=\"Cross-validation score\")\n",
    "\n",
    "# Draw bands\n",
    "plt.fill_between(train_sizes, train_mean - train_std, train_mean + train_std, color=\"#DDDDDD\")\n",
    "plt.fill_between(train_sizes, test_mean - test_std, test_mean + test_std, color=\"#DDDDDD\")\n",
    "\n",
    "# Create plot\n",
    "plt.title(\"Learning Curve for Linear SVM\")\n",
    "plt.xlabel(\"Training Set Size\"), plt.ylabel(\"Accuracy Score\"), plt.legend(loc=\"best\")\n",
    "plt.tight_layout()\n",
    "plt.show()\n"
   ]
  },
  {
   "cell_type": "markdown",
   "metadata": {},
   "source": [
    "#### Comparison between final LR and Linear SVM model\n",
    "- The range for the best accuracy score for both the models on the cross validation data-sets is as following:\n",
    "SVM (65-76%) LR(70-72%). The range for LR is very narrow as compared to SVM.\n",
    "- The accuracy score on the test data set(20% data) is 73.2% for LR while it is 66.6%(this score also fluctuates) for SVM \n",
    "- The f1 score for SVM(51.44) is much better than LR(28.21). However, since both false positives and false negatives have the same cost for our problem so we are looking only at the improvement of the accuracy score.\n",
    "- Comparing thr scores for thr cross validation and LR, LR performs much better for our dataset since the range for the cross validation scores is very narrow and doesn't fluctuate much. The results can however be very much different once we have balanced data."
   ]
  },
  {
   "cell_type": "markdown",
   "metadata": {},
   "source": [
    "#### Observations"
   ]
  },
  {
   "cell_type": "markdown",
   "metadata": {},
   "source": [
    "- The training score is much greater than the validation score which means that the model probably requires more training examples in order to generalize more effectively.\n",
    "- The curves are plotted with the mean scores, however variability during cross-validation is shown with the shaded areas that represent a standard deviation above and below the mean for all cross-validations. If the model suffers from error due to bias, then there will likely be more variability around the training score curve. If the model suffers from error due to variance, then there will be more variability around the cross validated score which is the case with our data as can be seen from both the learning graphs."
   ]
  },
  {
   "cell_type": "code",
   "execution_count": 91,
   "metadata": {
    "ExecuteTime": {
     "end_time": "2019-02-10T09:42:08.848789Z",
     "start_time": "2019-02-10T09:42:08.813355Z"
    }
   },
   "outputs": [
    {
     "name": "stdout",
     "output_type": "stream",
     "text": [
      "percentage of unverified 22.767857142857142\n",
      "percentage of real 72.32142857142857\n",
      "percentage of fake 4.910714285714286\n"
     ]
    }
   ],
   "source": [
    "unverified = len(data[data['Label']==0])\n",
    "real = len(data[data['Label']==1])\n",
    "fake = len(data[data['Label']==-1])\n",
    "pct_of_unverified = unverified /(unverified+real+fake)\n",
    "print(\"percentage of unverified\", pct_of_unverified*100)\n",
    "pct_of_real = real /(unverified+real+fake)\n",
    "print(\"percentage of real\", pct_of_real*100)\n",
    "pct_of_fake = fake /(unverified+real+fake)\n",
    "print(\"percentage of fake\", pct_of_fake*100)"
   ]
  },
  {
   "cell_type": "markdown",
   "metadata": {},
   "source": [
    "- (Observation from learning curve when CV=10. Now we reduced it to CV =3)As we increase the value of cv while performing gridsearch with our models and features, the accuracy score across the hold out dataset decreases. The possible reason for this could be the class imbalance. From the above calculation we can see that the amout of data with fake news is extremely small so it is possible that these examples doesn't come in the training set during cv and the model sees this unexpected class in the test set resulting in a false positive.\n",
    "- The best results for our data comes with CV = 3 "
   ]
  },
  {
   "cell_type": "code",
   "execution_count": null,
   "metadata": {},
   "outputs": [],
   "source": []
  }
 ],
 "metadata": {
  "kernelspec": {
   "display_name": "Python 3",
   "language": "python",
   "name": "python3"
  },
  "language_info": {
   "codemirror_mode": {
    "name": "ipython",
    "version": 3
   },
   "file_extension": ".py",
   "mimetype": "text/x-python",
   "name": "python",
   "nbconvert_exporter": "python",
   "pygments_lexer": "ipython3",
   "version": "3.6.6"
  }
 },
 "nbformat": 4,
 "nbformat_minor": 2
}
