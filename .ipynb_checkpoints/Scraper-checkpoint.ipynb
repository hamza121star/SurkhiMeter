{
 "cells": [
  {
   "cell_type": "code",
   "execution_count": 1,
   "metadata": {},
   "outputs": [],
   "source": [
    "from bs4 import BeautifulSoup\n",
    "from newspaper import Article\n",
    "import json\n",
    "from tqdm import tqdm\n",
    "import requests\n",
    "from datetime import datetime,timedelta\n",
    "import time\n",
    "import pandas as pd\n",
    "import re"
   ]
  },
  {
   "cell_type": "markdown",
   "metadata": {},
   "source": [
    "#### Scraping from DAWN"
   ]
  },
  {
   "cell_type": "code",
   "execution_count": 2,
   "metadata": {},
   "outputs": [],
   "source": [
    "# Scraping from DAWN\n",
    "urls = []\n",
    "dates = []\n",
    "headlines = []\n",
    "news_id = []\n",
    "for i in range(0,10):      # Loop through first 10 pages datewise in descending order\n",
    "    date = str(datetime.today().date() - timedelta(days=i))\n",
    "    url = \"https://www.dawn.com/archive/\"+date\n",
    "    resp = requests.get(url)\n",
    "    soup = BeautifulSoup(resp.text, 'html.parser')\n",
    "# returns a python list data-type\n",
    "    title_containers = soup.find_all('article', attrs={'class': 'box story border--bottom pb-2 mb-4'})\n",
    "    for article in title_containers:\n",
    "        cat = article.find(class_ = 'badge size-three theme theme--pakistan ')\n",
    "        try:\n",
    "            if cat.text == \"Pakistan\":\n",
    "                headline_list = article.find_all('a',class_ = 'story__link')\n",
    "                for h in headline_list:\n",
    "                    headlines.append(h.text)\n",
    "                dates.append(date)\n",
    "                url = article.h2.a.attrs['href'].strip()\n",
    "                urls.append(article.h2.a.attrs['href'].strip())\n",
    "        except:\n",
    "            pass"
   ]
  },
  {
   "cell_type": "code",
   "execution_count": 3,
   "metadata": {},
   "outputs": [
    {
     "name": "stdout",
     "output_type": "stream",
     "text": [
      "384\n",
      "384\n",
      "384\n"
     ]
    }
   ],
   "source": [
    "print(len(headlines))\n",
    "print(len(urls))\n",
    "print(len(dates))"
   ]
  },
  {
   "cell_type": "code",
   "execution_count": null,
   "metadata": {},
   "outputs": [],
   "source": [
    "content = []\n",
    "authors = []"
   ]
  },
  {
   "cell_type": "code",
   "execution_count": 335,
   "metadata": {},
   "outputs": [],
   "source": [
    "# Downloads articles from 10 urls at one time. Otherwise exception.\n",
    "url_chunk = urls[380:384]\n",
    "for i in url_chunk:\n",
    "    resp = requests.get(i)\n",
    "    soup = BeautifulSoup(resp.text, 'html.parser')\n",
    "    article = Article(i)\n",
    "    article.download()\n",
    "    article.parse()\n",
    "    content.append(article.text)\n",
    "#     If there is no author(raises exception of nonetype) then append none\n",
    "    try:\n",
    "        author = soup.find(class_ = 'story__byline font--arial ')\n",
    "        authors.append(author.text)\n",
    "    except:\n",
    "        authors.append(\"None\")\n",
    "        continue"
   ]
  },
  {
   "cell_type": "code",
   "execution_count": 336,
   "metadata": {},
   "outputs": [
    {
     "name": "stdout",
     "output_type": "stream",
     "text": [
      "384\n",
      "384\n"
     ]
    }
   ],
   "source": [
    "print(len(authors))\n",
    "print(len(content))"
   ]
  },
  {
   "cell_type": "code",
   "execution_count": 354,
   "metadata": {},
   "outputs": [
    {
     "name": "stdout",
     "output_type": "stream",
     "text": [
      "<class 'pandas.core.frame.DataFrame'>\n",
      "RangeIndex: 384 entries, 0 to 383\n",
      "Data columns (total 5 columns):\n",
      "URL         384 non-null object\n",
      "Headline    384 non-null object\n",
      "Date        384 non-null object\n",
      "Content     384 non-null object\n",
      "Author      384 non-null object\n",
      "dtypes: object(5)\n",
      "memory usage: 15.1+ KB\n",
      "None\n"
     ]
    }
   ],
   "source": [
    "information = {'URL':urls,\n",
    "        'Headline':headlines, \n",
    "        'Date':dates, \n",
    "        'Content':content,\n",
    "        'Author':authors}\n",
    "data = pd.DataFrame(data=information)\n",
    "print(data.info())"
   ]
  },
  {
   "cell_type": "code",
   "execution_count": 355,
   "metadata": {},
   "outputs": [
    {
     "data": {
      "text/html": [
       "<div>\n",
       "<style scoped>\n",
       "    .dataframe tbody tr th:only-of-type {\n",
       "        vertical-align: middle;\n",
       "    }\n",
       "\n",
       "    .dataframe tbody tr th {\n",
       "        vertical-align: top;\n",
       "    }\n",
       "\n",
       "    .dataframe thead th {\n",
       "        text-align: right;\n",
       "    }\n",
       "</style>\n",
       "<table border=\"1\" class=\"dataframe\">\n",
       "  <thead>\n",
       "    <tr style=\"text-align: right;\">\n",
       "      <th></th>\n",
       "      <th>URL</th>\n",
       "      <th>Headline</th>\n",
       "      <th>Date</th>\n",
       "      <th>Content</th>\n",
       "      <th>Author</th>\n",
       "    </tr>\n",
       "  </thead>\n",
       "  <tbody>\n",
       "    <tr>\n",
       "      <th>0</th>\n",
       "      <td>https://www.dawn.com/news/1458127/mbbs-student...</td>\n",
       "      <td>MBBS student found dead in hostel room at Jams...</td>\n",
       "      <td>2019-01-17</td>\n",
       "      <td>A third-year MBBS student was found shot dead ...</td>\n",
       "      <td>Mohammad Hussain Khan</td>\n",
       "    </tr>\n",
       "    <tr>\n",
       "      <th>1</th>\n",
       "      <td>https://www.dawn.com/news/1458129/govt-decides...</td>\n",
       "      <td>Govt decides to remove names of Bilawal, Murad...</td>\n",
       "      <td>2019-01-17</td>\n",
       "      <td>The federal cabinet has decided to remove the ...</td>\n",
       "      <td>Sanaullah Khan | Javed Hussain</td>\n",
       "    </tr>\n",
       "    <tr>\n",
       "      <th>2</th>\n",
       "      <td>https://www.dawn.com/news/1458125/afghan-presi...</td>\n",
       "      <td>Afghan president thanks PM Khan for Pakistan's...</td>\n",
       "      <td>2019-01-17</td>\n",
       "      <td>Afghan President Ashraf Ghani on Thursday tele...</td>\n",
       "      <td>Sanaullah Khan</td>\n",
       "    </tr>\n",
       "    <tr>\n",
       "      <th>3</th>\n",
       "      <td>https://www.dawn.com/news/1458123/mehwish-haya...</td>\n",
       "      <td>Mehwish Hayat acts out her musical dreams in n...</td>\n",
       "      <td>2019-01-17</td>\n",
       "      <td>Director and script writer Wajahat Rauf unveil...</td>\n",
       "      <td>None</td>\n",
       "    </tr>\n",
       "    <tr>\n",
       "      <th>4</th>\n",
       "      <td>https://www.dawn.com/news/1458118/complete-tex...</td>\n",
       "      <td>Complete text of address by Justice Asif Saeed...</td>\n",
       "      <td>2019-01-17</td>\n",
       "      <td>Complete address by Justice Asif Saeed Khosa o...</td>\n",
       "      <td>Dawn.com</td>\n",
       "    </tr>\n",
       "  </tbody>\n",
       "</table>\n",
       "</div>"
      ],
      "text/plain": [
       "                                                 URL  \\\n",
       "0  https://www.dawn.com/news/1458127/mbbs-student...   \n",
       "1  https://www.dawn.com/news/1458129/govt-decides...   \n",
       "2  https://www.dawn.com/news/1458125/afghan-presi...   \n",
       "3  https://www.dawn.com/news/1458123/mehwish-haya...   \n",
       "4  https://www.dawn.com/news/1458118/complete-tex...   \n",
       "\n",
       "                                            Headline        Date  \\\n",
       "0  MBBS student found dead in hostel room at Jams...  2019-01-17   \n",
       "1  Govt decides to remove names of Bilawal, Murad...  2019-01-17   \n",
       "2  Afghan president thanks PM Khan for Pakistan's...  2019-01-17   \n",
       "3  Mehwish Hayat acts out her musical dreams in n...  2019-01-17   \n",
       "4  Complete text of address by Justice Asif Saeed...  2019-01-17   \n",
       "\n",
       "                                             Content  \\\n",
       "0  A third-year MBBS student was found shot dead ...   \n",
       "1  The federal cabinet has decided to remove the ...   \n",
       "2  Afghan President Ashraf Ghani on Thursday tele...   \n",
       "3  Director and script writer Wajahat Rauf unveil...   \n",
       "4  Complete address by Justice Asif Saeed Khosa o...   \n",
       "\n",
       "                           Author  \n",
       "0           Mohammad Hussain Khan  \n",
       "1  Sanaullah Khan | Javed Hussain  \n",
       "2                  Sanaullah Khan  \n",
       "3                            None  \n",
       "4                        Dawn.com  "
      ]
     },
     "execution_count": 355,
     "metadata": {},
     "output_type": "execute_result"
    }
   ],
   "source": [
    "data.head()"
   ]
  },
  {
   "cell_type": "code",
   "execution_count": 358,
   "metadata": {},
   "outputs": [],
   "source": [
    "data.to_csv('data.csv',index=False)"
   ]
  },
  {
   "cell_type": "code",
   "execution_count": 359,
   "metadata": {},
   "outputs": [
    {
     "data": {
      "text/html": [
       "<div>\n",
       "<style scoped>\n",
       "    .dataframe tbody tr th:only-of-type {\n",
       "        vertical-align: middle;\n",
       "    }\n",
       "\n",
       "    .dataframe tbody tr th {\n",
       "        vertical-align: top;\n",
       "    }\n",
       "\n",
       "    .dataframe thead th {\n",
       "        text-align: right;\n",
       "    }\n",
       "</style>\n",
       "<table border=\"1\" class=\"dataframe\">\n",
       "  <thead>\n",
       "    <tr style=\"text-align: right;\">\n",
       "      <th></th>\n",
       "      <th>URL</th>\n",
       "      <th>Headline</th>\n",
       "      <th>Date</th>\n",
       "      <th>Content</th>\n",
       "      <th>Author</th>\n",
       "    </tr>\n",
       "  </thead>\n",
       "  <tbody>\n",
       "    <tr>\n",
       "      <th>0</th>\n",
       "      <td>https://www.dawn.com/news/1458127/mbbs-student...</td>\n",
       "      <td>MBBS student found dead in hostel room at Jams...</td>\n",
       "      <td>2019-01-17</td>\n",
       "      <td>A third-year MBBS student was found shot dead ...</td>\n",
       "      <td>Mohammad Hussain Khan</td>\n",
       "    </tr>\n",
       "    <tr>\n",
       "      <th>1</th>\n",
       "      <td>https://www.dawn.com/news/1458129/govt-decides...</td>\n",
       "      <td>Govt decides to remove names of Bilawal, Murad...</td>\n",
       "      <td>2019-01-17</td>\n",
       "      <td>The federal cabinet has decided to remove the ...</td>\n",
       "      <td>Sanaullah Khan | Javed Hussain</td>\n",
       "    </tr>\n",
       "    <tr>\n",
       "      <th>2</th>\n",
       "      <td>https://www.dawn.com/news/1458125/afghan-presi...</td>\n",
       "      <td>Afghan president thanks PM Khan for Pakistan's...</td>\n",
       "      <td>2019-01-17</td>\n",
       "      <td>Afghan President Ashraf Ghani on Thursday tele...</td>\n",
       "      <td>Sanaullah Khan</td>\n",
       "    </tr>\n",
       "    <tr>\n",
       "      <th>3</th>\n",
       "      <td>https://www.dawn.com/news/1458123/mehwish-haya...</td>\n",
       "      <td>Mehwish Hayat acts out her musical dreams in n...</td>\n",
       "      <td>2019-01-17</td>\n",
       "      <td>Director and script writer Wajahat Rauf unveil...</td>\n",
       "      <td>None</td>\n",
       "    </tr>\n",
       "    <tr>\n",
       "      <th>4</th>\n",
       "      <td>https://www.dawn.com/news/1458118/complete-tex...</td>\n",
       "      <td>Complete text of address by Justice Asif Saeed...</td>\n",
       "      <td>2019-01-17</td>\n",
       "      <td>Complete address by Justice Asif Saeed Khosa o...</td>\n",
       "      <td>Dawn.com</td>\n",
       "    </tr>\n",
       "  </tbody>\n",
       "</table>\n",
       "</div>"
      ],
      "text/plain": [
       "                                                 URL  \\\n",
       "0  https://www.dawn.com/news/1458127/mbbs-student...   \n",
       "1  https://www.dawn.com/news/1458129/govt-decides...   \n",
       "2  https://www.dawn.com/news/1458125/afghan-presi...   \n",
       "3  https://www.dawn.com/news/1458123/mehwish-haya...   \n",
       "4  https://www.dawn.com/news/1458118/complete-tex...   \n",
       "\n",
       "                                            Headline        Date  \\\n",
       "0  MBBS student found dead in hostel room at Jams...  2019-01-17   \n",
       "1  Govt decides to remove names of Bilawal, Murad...  2019-01-17   \n",
       "2  Afghan president thanks PM Khan for Pakistan's...  2019-01-17   \n",
       "3  Mehwish Hayat acts out her musical dreams in n...  2019-01-17   \n",
       "4  Complete text of address by Justice Asif Saeed...  2019-01-17   \n",
       "\n",
       "                                             Content  \\\n",
       "0  A third-year MBBS student was found shot dead ...   \n",
       "1  The federal cabinet has decided to remove the ...   \n",
       "2  Afghan President Ashraf Ghani on Thursday tele...   \n",
       "3  Director and script writer Wajahat Rauf unveil...   \n",
       "4  Complete address by Justice Asif Saeed Khosa o...   \n",
       "\n",
       "                           Author  \n",
       "0           Mohammad Hussain Khan  \n",
       "1  Sanaullah Khan | Javed Hussain  \n",
       "2                  Sanaullah Khan  \n",
       "3                            None  \n",
       "4                        Dawn.com  "
      ]
     },
     "execution_count": 359,
     "metadata": {},
     "output_type": "execute_result"
    }
   ],
   "source": [
    "new = pd.read_csv('data.csv')\n",
    "new.head()"
   ]
  },
  {
   "cell_type": "code",
   "execution_count": 360,
   "metadata": {},
   "outputs": [
    {
     "data": {
      "text/html": [
       "<div>\n",
       "<style scoped>\n",
       "    .dataframe tbody tr th:only-of-type {\n",
       "        vertical-align: middle;\n",
       "    }\n",
       "\n",
       "    .dataframe tbody tr th {\n",
       "        vertical-align: top;\n",
       "    }\n",
       "\n",
       "    .dataframe thead th {\n",
       "        text-align: right;\n",
       "    }\n",
       "</style>\n",
       "<table border=\"1\" class=\"dataframe\">\n",
       "  <thead>\n",
       "    <tr style=\"text-align: right;\">\n",
       "      <th></th>\n",
       "      <th>URL</th>\n",
       "      <th>Headline</th>\n",
       "      <th>Date</th>\n",
       "      <th>Content</th>\n",
       "      <th>Author</th>\n",
       "    </tr>\n",
       "  </thead>\n",
       "  <tbody>\n",
       "    <tr>\n",
       "      <th>379</th>\n",
       "      <td>https://www.dawn.com/news/1456083/sattar-comes...</td>\n",
       "      <td>Sattar comes up with new plan to unite all MQM...</td>\n",
       "      <td>2019-01-08</td>\n",
       "      <td>KARACHI: Disgruntled Muttahida Qaumi Movement-...</td>\n",
       "      <td>Azfar-ul-Ashfaque</td>\n",
       "    </tr>\n",
       "    <tr>\n",
       "      <th>380</th>\n",
       "      <td>https://www.dawn.com/news/1456208/free-economi...</td>\n",
       "      <td>Free economic zone with Pakistan to open soon:...</td>\n",
       "      <td>2019-01-08</td>\n",
       "      <td>QUETTA: Iranian Consul General Mohammad Rafiee...</td>\n",
       "      <td>The Newspaper's Staff Correspondent</td>\n",
       "    </tr>\n",
       "    <tr>\n",
       "      <th>381</th>\n",
       "      <td>https://www.dawn.com/news/1456215/smog-turns-g...</td>\n",
       "      <td>Smog turns ‘garden city’ into a polluted hub\\r\\n</td>\n",
       "      <td>2019-01-08</td>\n",
       "      <td>LAHORE: At his house on the busy Mall Road, en...</td>\n",
       "      <td>Reuters</td>\n",
       "    </tr>\n",
       "    <tr>\n",
       "      <th>382</th>\n",
       "      <td>https://www.dawn.com/news/1456216/cjp-directs-...</td>\n",
       "      <td>CJP directs commercialisation of research brea...</td>\n",
       "      <td>2019-01-08</td>\n",
       "      <td>ISLAMABAD: The Law and Justice Commission of P...</td>\n",
       "      <td>Ikram Junaidi</td>\n",
       "    </tr>\n",
       "    <tr>\n",
       "      <th>383</th>\n",
       "      <td>https://www.dawn.com/news/1456068/china-has-be...</td>\n",
       "      <td>China has been breath of fresh air amid the do...</td>\n",
       "      <td>2019-01-08</td>\n",
       "      <td>Prime Minister Imran Khan, in an interview air...</td>\n",
       "      <td>Dawn.com</td>\n",
       "    </tr>\n",
       "  </tbody>\n",
       "</table>\n",
       "</div>"
      ],
      "text/plain": [
       "                                                   URL  \\\n",
       "379  https://www.dawn.com/news/1456083/sattar-comes...   \n",
       "380  https://www.dawn.com/news/1456208/free-economi...   \n",
       "381  https://www.dawn.com/news/1456215/smog-turns-g...   \n",
       "382  https://www.dawn.com/news/1456216/cjp-directs-...   \n",
       "383  https://www.dawn.com/news/1456068/china-has-be...   \n",
       "\n",
       "                                              Headline        Date  \\\n",
       "379  Sattar comes up with new plan to unite all MQM...  2019-01-08   \n",
       "380  Free economic zone with Pakistan to open soon:...  2019-01-08   \n",
       "381   Smog turns ‘garden city’ into a polluted hub\\r\\n  2019-01-08   \n",
       "382  CJP directs commercialisation of research brea...  2019-01-08   \n",
       "383  China has been breath of fresh air amid the do...  2019-01-08   \n",
       "\n",
       "                                               Content  \\\n",
       "379  KARACHI: Disgruntled Muttahida Qaumi Movement-...   \n",
       "380  QUETTA: Iranian Consul General Mohammad Rafiee...   \n",
       "381  LAHORE: At his house on the busy Mall Road, en...   \n",
       "382  ISLAMABAD: The Law and Justice Commission of P...   \n",
       "383  Prime Minister Imran Khan, in an interview air...   \n",
       "\n",
       "                                  Author  \n",
       "379                    Azfar-ul-Ashfaque  \n",
       "380  The Newspaper's Staff Correspondent  \n",
       "381                              Reuters  \n",
       "382                        Ikram Junaidi  \n",
       "383                             Dawn.com  "
      ]
     },
     "execution_count": 360,
     "metadata": {},
     "output_type": "execute_result"
    }
   ],
   "source": [
    "new.tail()"
   ]
  },
  {
   "cell_type": "markdown",
   "metadata": {},
   "source": [
    "#### Scraping from Express Tribune Satire S"
   ]
  },
  {
   "cell_type": "code",
   "execution_count": 58,
   "metadata": {},
   "outputs": [],
   "source": [
    "urls = []\n",
    "headlines = []\n",
    "url = \"https://tribune.com.pk/satire/#\"\n",
    "resp = requests.get(url)\n",
    "soup = BeautifulSoup(resp.text, 'html.parser')\n",
    "title_containers = soup.find_all('h2', attrs={'class': 'title'})\n",
    "for title in title_containers:\n",
    "    url = title.a.attrs['href'].strip()\n",
    "    urls.append(url)\n",
    "    h = title.find('a')\n",
    "    headlines.append(h.text)\n",
    "    "
   ]
  },
  {
   "cell_type": "code",
   "execution_count": 60,
   "metadata": {},
   "outputs": [
    {
     "name": "stdout",
     "output_type": "stream",
     "text": [
      "14\n",
      "14\n"
     ]
    }
   ],
   "source": [
    "print(len(urls))\n",
    "print(len(headlines))"
   ]
  },
  {
   "cell_type": "code",
   "execution_count": 61,
   "metadata": {},
   "outputs": [],
   "source": [
    "content = []\n",
    "authors = []\n",
    "dates_format1 = []\n",
    "dates_format2 = []"
   ]
  },
  {
   "cell_type": "code",
   "execution_count": 62,
   "metadata": {},
   "outputs": [],
   "source": [
    "for i in urls:\n",
    "    resp = requests.get(i)\n",
    "    soup = BeautifulSoup(resp.text, 'html.parser')\n",
    "    article = Article(i)\n",
    "    article.download()\n",
    "    article.parse()\n",
    "    content.append(article.text)\n",
    "    date = soup.find(class_ = 'timestamp')\n",
    "    dates_format1.append(date.attrs['title'])\n",
    "    dates_format2.append(date.text)\n",
    "#     If there is no author(raises exception of nonetype) then append none\n",
    "    try:\n",
    "        author = soup.find(class_ = 'author')\n",
    "        author = author.find('a')\n",
    "        authors.append(author.text)\n",
    "    except:\n",
    "        authors.append(\"Express\")\n",
    "        continue"
   ]
  },
  {
   "cell_type": "code",
   "execution_count": 63,
   "metadata": {},
   "outputs": [
    {
     "name": "stdout",
     "output_type": "stream",
     "text": [
      "14\n",
      "14\n",
      "14\n",
      "14\n"
     ]
    }
   ],
   "source": [
    "print(len(authors))\n",
    "print(len(content))\n",
    "print(len(dates_format1))\n",
    "print(len(dates_format2))"
   ]
  },
  {
   "cell_type": "code",
   "execution_count": 64,
   "metadata": {},
   "outputs": [
    {
     "name": "stdout",
     "output_type": "stream",
     "text": [
      "<class 'pandas.core.frame.DataFrame'>\n",
      "RangeIndex: 14 entries, 0 to 13\n",
      "Data columns (total 6 columns):\n",
      "URL         14 non-null object\n",
      "Headline    14 non-null object\n",
      "Date1       14 non-null object\n",
      "Date2       14 non-null object\n",
      "Content     14 non-null object\n",
      "Author      14 non-null object\n",
      "dtypes: object(6)\n",
      "memory usage: 752.0+ bytes\n",
      "None\n"
     ]
    }
   ],
   "source": [
    "information = {'URL':urls,\n",
    "        'Headline':headlines, \n",
    "        'Date1':dates_format1,\n",
    "        'Date2':dates_format2,\n",
    "        'Content':content,\n",
    "        'Author':authors}\n",
    "data = pd.DataFrame(data=information)\n",
    "print(data.info())"
   ]
  },
  {
   "cell_type": "code",
   "execution_count": 65,
   "metadata": {},
   "outputs": [
    {
     "data": {
      "text/html": [
       "<div>\n",
       "<style scoped>\n",
       "    .dataframe tbody tr th:only-of-type {\n",
       "        vertical-align: middle;\n",
       "    }\n",
       "\n",
       "    .dataframe tbody tr th {\n",
       "        vertical-align: top;\n",
       "    }\n",
       "\n",
       "    .dataframe thead th {\n",
       "        text-align: right;\n",
       "    }\n",
       "</style>\n",
       "<table border=\"1\" class=\"dataframe\">\n",
       "  <thead>\n",
       "    <tr style=\"text-align: right;\">\n",
       "      <th></th>\n",
       "      <th>URL</th>\n",
       "      <th>Headline</th>\n",
       "      <th>Date1</th>\n",
       "      <th>Date2</th>\n",
       "      <th>Content</th>\n",
       "      <th>Author</th>\n",
       "    </tr>\n",
       "  </thead>\n",
       "  <tbody>\n",
       "    <tr>\n",
       "      <th>0</th>\n",
       "      <td>https://tribune.com.pk/story/1813087/6-asad-um...</td>\n",
       "      <td>Asad Umar checks Pakistan into a financial reh...</td>\n",
       "      <td>2018-09-28T03:58:09 GMT</td>\n",
       "      <td>Published: September 28, 2018</td>\n",
       "      <td>One cannot expect a drug addict to find a job ...</td>\n",
       "      <td>M Bilal Lakhani</td>\n",
       "    </tr>\n",
       "    <tr>\n",
       "      <th>1</th>\n",
       "      <td>https://tribune.com.pk/story/1755479/3-sarah-p...</td>\n",
       "      <td>Sarah Palin tears into 'sick' Baron Cohen over...</td>\n",
       "      <td>2018-07-11T18:37:45 GMT</td>\n",
       "      <td>Published: July 11, 2018</td>\n",
       "      <td>Ex-Alaska govern­or says she has fallen victim...</td>\n",
       "      <td>AFP .</td>\n",
       "    </tr>\n",
       "    <tr>\n",
       "      <th>2</th>\n",
       "      <td>https://tribune.com.pk/story/1693045/4-anwar-m...</td>\n",
       "      <td>Anwar Maqsood’s offensive satire on Sindhis ca...</td>\n",
       "      <td>2018-04-23T09:46:46 GMT</td>\n",
       "      <td>Published: April 23, 2018</td>\n",
       "      <td>‘Aik Sindhi Ka Interv­iew’ takes dig at their ...</td>\n",
       "      <td>Rahul Aijaz</td>\n",
       "    </tr>\n",
       "    <tr>\n",
       "      <th>3</th>\n",
       "      <td>https://tribune.com.pk/story/1632147/1-making-...</td>\n",
       "      <td>Making sense of the times: Is reality stranger...</td>\n",
       "      <td>2018-02-12T04:27:29 GMT</td>\n",
       "      <td>Published: February 12, 2018</td>\n",
       "      <td>In a world where realit­y compet­es with satir...</td>\n",
       "      <td>Niha Dagia</td>\n",
       "    </tr>\n",
       "    <tr>\n",
       "      <th>4</th>\n",
       "      <td>https://tribune.com.pk/story/1534757/russian-p...</td>\n",
       "      <td>Russian politicians fail to see funny side of ...</td>\n",
       "      <td>2017-10-18T11:59:59 GMT</td>\n",
       "      <td>Published: October 18, 2017</td>\n",
       "      <td>A commun­ist politi­can brande­d it 'abomin­ab...</td>\n",
       "      <td>Reuters</td>\n",
       "    </tr>\n",
       "  </tbody>\n",
       "</table>\n",
       "</div>"
      ],
      "text/plain": [
       "                                                 URL  \\\n",
       "0  https://tribune.com.pk/story/1813087/6-asad-um...   \n",
       "1  https://tribune.com.pk/story/1755479/3-sarah-p...   \n",
       "2  https://tribune.com.pk/story/1693045/4-anwar-m...   \n",
       "3  https://tribune.com.pk/story/1632147/1-making-...   \n",
       "4  https://tribune.com.pk/story/1534757/russian-p...   \n",
       "\n",
       "                                            Headline                    Date1  \\\n",
       "0  Asad Umar checks Pakistan into a financial reh...  2018-09-28T03:58:09 GMT   \n",
       "1  Sarah Palin tears into 'sick' Baron Cohen over...  2018-07-11T18:37:45 GMT   \n",
       "2  Anwar Maqsood’s offensive satire on Sindhis ca...  2018-04-23T09:46:46 GMT   \n",
       "3  Making sense of the times: Is reality stranger...  2018-02-12T04:27:29 GMT   \n",
       "4  Russian politicians fail to see funny side of ...  2017-10-18T11:59:59 GMT   \n",
       "\n",
       "                           Date2  \\\n",
       "0  Published: September 28, 2018   \n",
       "1       Published: July 11, 2018   \n",
       "2      Published: April 23, 2018   \n",
       "3   Published: February 12, 2018   \n",
       "4    Published: October 18, 2017   \n",
       "\n",
       "                                             Content           Author  \n",
       "0  One cannot expect a drug addict to find a job ...  M Bilal Lakhani  \n",
       "1  Ex-Alaska govern­or says she has fallen victim...            AFP .  \n",
       "2  ‘Aik Sindhi Ka Interv­iew’ takes dig at their ...      Rahul Aijaz  \n",
       "3  In a world where realit­y compet­es with satir...       Niha Dagia  \n",
       "4  A commun­ist politi­can brande­d it 'abomin­ab...         Reuters   "
      ]
     },
     "execution_count": 65,
     "metadata": {},
     "output_type": "execute_result"
    }
   ],
   "source": [
    "data.head()"
   ]
  },
  {
   "cell_type": "code",
   "execution_count": null,
   "metadata": {},
   "outputs": [],
   "source": [
    "data.to_csv('express.csv',index=False)"
   ]
  },
  {
   "cell_type": "code",
   "execution_count": null,
   "metadata": {},
   "outputs": [],
   "source": [
    "new = pd.read_csv('express.csv')\n",
    "new.head()"
   ]
  }
 ],
 "metadata": {
  "kernelspec": {
   "display_name": "Python 3",
   "language": "python",
   "name": "python3"
  },
  "language_info": {
   "codemirror_mode": {
    "name": "ipython",
    "version": 3
   },
   "file_extension": ".py",
   "mimetype": "text/x-python",
   "name": "python",
   "nbconvert_exporter": "python",
   "pygments_lexer": "ipython3",
   "version": "3.6.6"
  }
 },
 "nbformat": 4,
 "nbformat_minor": 2
}
